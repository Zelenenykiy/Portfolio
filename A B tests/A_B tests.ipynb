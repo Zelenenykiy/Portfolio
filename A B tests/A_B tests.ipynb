{
 "cells": [
  {
   "cell_type": "markdown",
   "metadata": {},
   "source": [
    "# Проект : Исследование поведения пользователей в мобильном приложении."
   ]
  },
  {
   "cell_type": "markdown",
   "metadata": {},
   "source": [
    "# Описание проекта\n",
    "\n",
    "- Вы работаете в стартапе, который продаёт продукты питания. Нужно разобраться, как ведут себя пользователи вашего мобильного приложения. \n",
    "- Изучите воронку продаж. Узнайте, как пользователи доходят до покупки. Сколько пользователей доходит до покупки, а сколько — «застревает» на предыдущих шагах? На каких именно?\n",
    "- После этого исследуйте результаты A/A/B-эксперимента. Дизайнеры захотели поменять шрифты во всём приложении, а менеджеры испугались, что пользователям будет непривычно. Договорились принять решение по результатам A/A/B-теста. Пользователей разбили на 3 группы: 2 контрольные со старыми шрифтами и одну экспериментальную — с новыми. Выясните, какой шрифт лучше.\n",
    "- Создание двух групп A вместо одной имеет определённые преимущества. Если две контрольные группы окажутся равны, вы можете быть уверены в точности проведенного тестирования. Если же между значениями A и A будут существенные различия, это поможет обнаружить факторы, которые привели к искажению результатов. Сравнение контрольных групп также помогает понять, сколько времени и данных потребуется для дальнейших тестов.\n",
    "- В случае общей аналитики и A/A/B-эксперимента работайте с одними и теми же данными. В реальных проектах всегда идут эксперименты. Аналитики исследуют качество работы приложения по общим данным, не учитывая принадлежность пользователей к экспериментам."
   ]
  },
  {
   "cell_type": "markdown",
   "metadata": {},
   "source": [
    "# Описание данных\n",
    "\n",
    "- **EventName** — название события;\n",
    "- **DeviceIDHash** — уникальный идентификатор пользователя;\n",
    "- **EventTimestamp** — время события;\n",
    "- **ExpId** — номер эксперимента: 246 и 247 — контрольные группы, а 248 — экспериментальная."
   ]
  },
  {
   "cell_type": "markdown",
   "metadata": {},
   "source": [
    "# Задачи исследования\n",
    "\n",
    "# Изучение общей информации\n",
    "- загрузить данные из файла в датафрейм\n",
    "- изучить общую информацию о полученном датафрейме\n",
    "\n",
    "# Предобработка данных\n",
    "\n",
    "**Замена названия столбцов**\n",
    "- определить, в каких столбцах есть необходимость заменить регистр и убрать пробелы\n",
    "- произвести замену\n",
    "\n",
    "**Изменение типов данных**\n",
    "- проанализировать столбцы с данными\n",
    "- преобразовать тип данных по необходимости\n",
    "\n",
    "**Удаление пропусков**\n",
    "- определить, в каких столбцах есть пропуски\n",
    "- избавиться от пропущенных значений\n",
    "\n",
    "**Обработка дубликатов**\n",
    "- проанализировать столбцы с данными\n",
    "- произвести устранение дубликатов\n",
    "\n",
    "**Добавляю отдельный столбец дат**\n",
    "- создаю дополнительный столбец\n",
    "\n",
    "# Изучить и проверить данные\n",
    "- Сколько всего событий в логе?\n",
    "- Сколько всего пользователей в логе?\n",
    "- Сколько в среднем событий приходится на пользователя?\n",
    "- Данными за какой период вы располагаете? Найдите максимальную и минимальную дату. Постройте гистограмму по дате и времени. Можно ли быть уверенным, что у вас одинаково полные данные за весь период? Технически в логи новых дней по некоторым пользователям могут «доезжать» события из прошлого — это может «перекашивать данные». Определите, с какого момента данные полные и отбросьте более старые. Данными за какой период времени вы располагаете на самом деле?\n",
    "- Много ли событий и пользователей вы потеряли, отбросив старые данные?\n",
    "- Проверьте, что у вас есть пользователи из всех трёх экспериментальных групп.\n",
    "\n",
    "# Изучить воронку событий\n",
    "- Посмотрите, какие события есть в логах, как часто они встречаются. Отсортируйте события по частоте.\n",
    "- Посчитайте, сколько пользователей совершали каждое из этих событий. Отсортируйте события по числу пользователей. Посчитайте долю пользователей, которые хоть раз совершали событие.\n",
    "- Предположите, в каком порядке происходят события. Все ли они выстраиваются в последовательную цепочку? Их не нужно учитывать при расчёте воронки.\n",
    "- По воронке событий посчитайте, какая доля пользователей проходит на следующий шаг воронки (от числа пользователей на предыдущем). То есть для последовательности событий A → B → C посчитайте отношение числа пользователей с событием B к количеству пользователей с событием A, а также отношение числа пользователей с событием C к количеству пользователей с событием B.\n",
    "- На каком шаге теряете больше всего пользователей?\n",
    "- Какая доля пользователей доходит от первого события до оплаты?\n",
    "\n",
    "# Изучить результаты эксперимента\n",
    "- Сколько пользователей в каждой экспериментальной группе?\n",
    "- Есть 2 контрольные группы для А/А-эксперимента, чтобы проверить корректность всех механизмов и расчётов. Проверьте, находят ли статистические критерии разницу между выборками 246 и 247.\n",
    "- Выберите самое популярное событие. Посчитайте число пользователей, совершивших это событие в каждой из контрольных групп. Посчитайте долю пользователей, совершивших это событие. Проверьте, будет ли отличие между группами статистически достоверным. Проделайте то же самое для всех других событий (удобно обернуть проверку в отдельную функцию). Можно ли сказать, что разбиение на группы работает корректно?\n",
    "- Аналогично поступите с группой с изменённым шрифтом. Сравните результаты с каждой из контрольных групп в отдельности по каждому событию. Сравните результаты с объединённой контрольной группой. Какие выводы из эксперимента можно сделать?\n",
    "- Какой уровень значимости вы выбрали при проверке статистических гипотез выше? Посчитайте, сколько проверок статистических гипотез вы сделали. При уровне значимости 0.1 каждый десятый раз можно получать ложный результат. Какой уровень значимости стоит применить? Если вы хотите изменить его, проделайте предыдущие пункты и проверьте свои выводы.\n",
    "\n",
    "# Выводы"
   ]
  },
  {
   "cell_type": "markdown",
   "metadata": {},
   "source": [
    "## Изучение общей информации"
   ]
  },
  {
   "cell_type": "markdown",
   "metadata": {},
   "source": [
    "Импортирую библиотеки. Считываю данные из csv-файла в датафрейм и сохраняю в переменную."
   ]
  },
  {
   "cell_type": "code",
   "execution_count": 80,
   "metadata": {},
   "outputs": [],
   "source": [
    "import pandas as pd\n",
    "import numpy as np\n",
    "import matplotlib.pyplot as plt\n",
    "%matplotlib inline\n",
    "import seaborn as sns\n",
    "import datetime as dt\n",
    "import scipy.stats as stats\n",
    "from datetime import datetime, timedelta\n",
    "import math as mth\n",
    "from plotly import graph_objects as go\n",
    "import plotly.express as px\n",
    "from plotly import graph_objects as go"
   ]
  },
  {
   "cell_type": "code",
   "execution_count": 81,
   "metadata": {},
   "outputs": [],
   "source": [
    "try:\n",
    "    logs = pd.read_csv('logs_exp.csv', sep='\\t')\n",
    "except:\n",
    "    logs = pd.read_csv('/datasets/logs_exp.csv', sep='\\t')"
   ]
  },
  {
   "cell_type": "markdown",
   "metadata": {},
   "source": [
    "Просматриваю информацию в датафрейме"
   ]
  },
  {
   "cell_type": "code",
   "execution_count": 82,
   "metadata": {},
   "outputs": [],
   "source": [
    "pd.set_option('display.max_columns', None)\n",
    "pd.set_option('display.max_colwidth', 120)"
   ]
  },
  {
   "cell_type": "code",
   "execution_count": 83,
   "metadata": {},
   "outputs": [
    {
     "data": {
      "text/html": [
       "<div>\n",
       "<style scoped>\n",
       "    .dataframe tbody tr th:only-of-type {\n",
       "        vertical-align: middle;\n",
       "    }\n",
       "\n",
       "    .dataframe tbody tr th {\n",
       "        vertical-align: top;\n",
       "    }\n",
       "\n",
       "    .dataframe thead th {\n",
       "        text-align: right;\n",
       "    }\n",
       "</style>\n",
       "<table border=\"1\" class=\"dataframe\">\n",
       "  <thead>\n",
       "    <tr style=\"text-align: right;\">\n",
       "      <th></th>\n",
       "      <th>EventName</th>\n",
       "      <th>DeviceIDHash</th>\n",
       "      <th>EventTimestamp</th>\n",
       "      <th>ExpId</th>\n",
       "    </tr>\n",
       "  </thead>\n",
       "  <tbody>\n",
       "    <tr>\n",
       "      <th>0</th>\n",
       "      <td>MainScreenAppear</td>\n",
       "      <td>4575588528974610257</td>\n",
       "      <td>1564029816</td>\n",
       "      <td>246</td>\n",
       "    </tr>\n",
       "    <tr>\n",
       "      <th>1</th>\n",
       "      <td>MainScreenAppear</td>\n",
       "      <td>7416695313311560658</td>\n",
       "      <td>1564053102</td>\n",
       "      <td>246</td>\n",
       "    </tr>\n",
       "    <tr>\n",
       "      <th>2</th>\n",
       "      <td>PaymentScreenSuccessful</td>\n",
       "      <td>3518123091307005509</td>\n",
       "      <td>1564054127</td>\n",
       "      <td>248</td>\n",
       "    </tr>\n",
       "    <tr>\n",
       "      <th>3</th>\n",
       "      <td>CartScreenAppear</td>\n",
       "      <td>3518123091307005509</td>\n",
       "      <td>1564054127</td>\n",
       "      <td>248</td>\n",
       "    </tr>\n",
       "    <tr>\n",
       "      <th>4</th>\n",
       "      <td>PaymentScreenSuccessful</td>\n",
       "      <td>6217807653094995999</td>\n",
       "      <td>1564055322</td>\n",
       "      <td>248</td>\n",
       "    </tr>\n",
       "    <tr>\n",
       "      <th>5</th>\n",
       "      <td>CartScreenAppear</td>\n",
       "      <td>6217807653094995999</td>\n",
       "      <td>1564055323</td>\n",
       "      <td>248</td>\n",
       "    </tr>\n",
       "    <tr>\n",
       "      <th>6</th>\n",
       "      <td>OffersScreenAppear</td>\n",
       "      <td>8351860793733343758</td>\n",
       "      <td>1564066242</td>\n",
       "      <td>246</td>\n",
       "    </tr>\n",
       "    <tr>\n",
       "      <th>7</th>\n",
       "      <td>MainScreenAppear</td>\n",
       "      <td>5682100281902512875</td>\n",
       "      <td>1564085677</td>\n",
       "      <td>246</td>\n",
       "    </tr>\n",
       "    <tr>\n",
       "      <th>8</th>\n",
       "      <td>MainScreenAppear</td>\n",
       "      <td>1850981295691852772</td>\n",
       "      <td>1564086702</td>\n",
       "      <td>247</td>\n",
       "    </tr>\n",
       "    <tr>\n",
       "      <th>9</th>\n",
       "      <td>MainScreenAppear</td>\n",
       "      <td>5407636962369102641</td>\n",
       "      <td>1564112112</td>\n",
       "      <td>246</td>\n",
       "    </tr>\n",
       "  </tbody>\n",
       "</table>\n",
       "</div>"
      ],
      "text/plain": [
       "                 EventName         DeviceIDHash  EventTimestamp  ExpId\n",
       "0         MainScreenAppear  4575588528974610257      1564029816    246\n",
       "1         MainScreenAppear  7416695313311560658      1564053102    246\n",
       "2  PaymentScreenSuccessful  3518123091307005509      1564054127    248\n",
       "3         CartScreenAppear  3518123091307005509      1564054127    248\n",
       "4  PaymentScreenSuccessful  6217807653094995999      1564055322    248\n",
       "5         CartScreenAppear  6217807653094995999      1564055323    248\n",
       "6       OffersScreenAppear  8351860793733343758      1564066242    246\n",
       "7         MainScreenAppear  5682100281902512875      1564085677    246\n",
       "8         MainScreenAppear  1850981295691852772      1564086702    247\n",
       "9         MainScreenAppear  5407636962369102641      1564112112    246"
      ]
     },
     "execution_count": 83,
     "metadata": {},
     "output_type": "execute_result"
    }
   ],
   "source": [
    "logs.head(10)"
   ]
  },
  {
   "cell_type": "markdown",
   "metadata": {},
   "source": [
    "Вывожу основную информацию о датафрейме с помощью метода info()"
   ]
  },
  {
   "cell_type": "code",
   "execution_count": 84,
   "metadata": {},
   "outputs": [
    {
     "name": "stdout",
     "output_type": "stream",
     "text": [
      "<class 'pandas.core.frame.DataFrame'>\n",
      "RangeIndex: 244126 entries, 0 to 244125\n",
      "Data columns (total 4 columns):\n",
      " #   Column          Non-Null Count   Dtype \n",
      "---  ------          --------------   ----- \n",
      " 0   EventName       244126 non-null  object\n",
      " 1   DeviceIDHash    244126 non-null  int64 \n",
      " 2   EventTimestamp  244126 non-null  int64 \n",
      " 3   ExpId           244126 non-null  int64 \n",
      "dtypes: int64(3), object(1)\n",
      "memory usage: 7.5+ MB\n"
     ]
    }
   ],
   "source": [
    "logs.info()"
   ]
  },
  {
   "cell_type": "markdown",
   "metadata": {},
   "source": [
    "После первичного осмотра, обнаружено следуещее:\n",
    "- необходимо поменять название и регистр столбцов\n",
    "- привести столбец с датами к нужному формату"
   ]
  },
  {
   "cell_type": "markdown",
   "metadata": {},
   "source": [
    "## Предобработка данных"
   ]
  },
  {
   "cell_type": "markdown",
   "metadata": {},
   "source": [
    "Перед предобработкой сохраню первоначальные данные"
   ]
  },
  {
   "cell_type": "code",
   "execution_count": 85,
   "metadata": {},
   "outputs": [],
   "source": [
    "old_logs = logs.copy()"
   ]
  },
  {
   "cell_type": "markdown",
   "metadata": {},
   "source": [
    "### Замена регистра и названий столбцов"
   ]
  },
  {
   "cell_type": "code",
   "execution_count": 86,
   "metadata": {},
   "outputs": [],
   "source": [
    "logs = logs.rename(columns ={'EventName':'event', 'DeviceIDHash':'id', 'EventTimestamp':'date', 'ExpId':'group'})"
   ]
  },
  {
   "cell_type": "code",
   "execution_count": 87,
   "metadata": {},
   "outputs": [
    {
     "data": {
      "text/html": [
       "<div>\n",
       "<style scoped>\n",
       "    .dataframe tbody tr th:only-of-type {\n",
       "        vertical-align: middle;\n",
       "    }\n",
       "\n",
       "    .dataframe tbody tr th {\n",
       "        vertical-align: top;\n",
       "    }\n",
       "\n",
       "    .dataframe thead th {\n",
       "        text-align: right;\n",
       "    }\n",
       "</style>\n",
       "<table border=\"1\" class=\"dataframe\">\n",
       "  <thead>\n",
       "    <tr style=\"text-align: right;\">\n",
       "      <th></th>\n",
       "      <th>event</th>\n",
       "      <th>id</th>\n",
       "      <th>date</th>\n",
       "      <th>group</th>\n",
       "    </tr>\n",
       "  </thead>\n",
       "  <tbody>\n",
       "    <tr>\n",
       "      <th>0</th>\n",
       "      <td>MainScreenAppear</td>\n",
       "      <td>4575588528974610257</td>\n",
       "      <td>1564029816</td>\n",
       "      <td>246</td>\n",
       "    </tr>\n",
       "    <tr>\n",
       "      <th>1</th>\n",
       "      <td>MainScreenAppear</td>\n",
       "      <td>7416695313311560658</td>\n",
       "      <td>1564053102</td>\n",
       "      <td>246</td>\n",
       "    </tr>\n",
       "    <tr>\n",
       "      <th>2</th>\n",
       "      <td>PaymentScreenSuccessful</td>\n",
       "      <td>3518123091307005509</td>\n",
       "      <td>1564054127</td>\n",
       "      <td>248</td>\n",
       "    </tr>\n",
       "    <tr>\n",
       "      <th>3</th>\n",
       "      <td>CartScreenAppear</td>\n",
       "      <td>3518123091307005509</td>\n",
       "      <td>1564054127</td>\n",
       "      <td>248</td>\n",
       "    </tr>\n",
       "    <tr>\n",
       "      <th>4</th>\n",
       "      <td>PaymentScreenSuccessful</td>\n",
       "      <td>6217807653094995999</td>\n",
       "      <td>1564055322</td>\n",
       "      <td>248</td>\n",
       "    </tr>\n",
       "  </tbody>\n",
       "</table>\n",
       "</div>"
      ],
      "text/plain": [
       "                     event                   id        date  group\n",
       "0         MainScreenAppear  4575588528974610257  1564029816    246\n",
       "1         MainScreenAppear  7416695313311560658  1564053102    246\n",
       "2  PaymentScreenSuccessful  3518123091307005509  1564054127    248\n",
       "3         CartScreenAppear  3518123091307005509  1564054127    248\n",
       "4  PaymentScreenSuccessful  6217807653094995999  1564055322    248"
      ]
     },
     "execution_count": 87,
     "metadata": {},
     "output_type": "execute_result"
    }
   ],
   "source": [
    "logs.head()"
   ]
  },
  {
   "cell_type": "markdown",
   "metadata": {},
   "source": [
    "### Обработка дубликатов"
   ]
  },
  {
   "cell_type": "markdown",
   "metadata": {},
   "source": [
    "Проверим на наличие дубликатов"
   ]
  },
  {
   "cell_type": "code",
   "execution_count": 88,
   "metadata": {},
   "outputs": [
    {
     "data": {
      "text/plain": [
       "413"
      ]
     },
     "execution_count": 88,
     "metadata": {},
     "output_type": "execute_result"
    }
   ],
   "source": [
    "logs.duplicated().sum()"
   ]
  },
  {
   "cell_type": "markdown",
   "metadata": {},
   "source": [
    "Избавляюсь от дубликатов"
   ]
  },
  {
   "cell_type": "code",
   "execution_count": 89,
   "metadata": {},
   "outputs": [],
   "source": [
    "logs = logs.drop_duplicates()"
   ]
  },
  {
   "cell_type": "code",
   "execution_count": 90,
   "metadata": {},
   "outputs": [
    {
     "data": {
      "text/plain": [
       "0"
      ]
     },
     "execution_count": 90,
     "metadata": {},
     "output_type": "execute_result"
    }
   ],
   "source": [
    "logs.duplicated().sum()"
   ]
  },
  {
   "cell_type": "markdown",
   "metadata": {},
   "source": [
    "Проверяем есть ли пользователи, которые попали в обе группы"
   ]
  },
  {
   "cell_type": "code",
   "execution_count": 91,
   "metadata": {},
   "outputs": [
    {
     "data": {
      "text/plain": [
       "group    0\n",
       "dtype: int64"
      ]
     },
     "execution_count": 91,
     "metadata": {},
     "output_type": "execute_result"
    }
   ],
   "source": [
    "logs.groupby('id').agg({'group' : 'nunique'}).query('group>1').count()"
   ]
  },
  {
   "cell_type": "markdown",
   "metadata": {},
   "source": [
    "Не обнаружено"
   ]
  },
  {
   "cell_type": "markdown",
   "metadata": {},
   "source": [
    "### Изменение типов данных"
   ]
  },
  {
   "cell_type": "code",
   "execution_count": 92,
   "metadata": {},
   "outputs": [],
   "source": [
    "logs['date'] = pd.to_datetime(logs['date'], unit='s')"
   ]
  },
  {
   "cell_type": "code",
   "execution_count": 93,
   "metadata": {},
   "outputs": [
    {
     "data": {
      "text/html": [
       "<div>\n",
       "<style scoped>\n",
       "    .dataframe tbody tr th:only-of-type {\n",
       "        vertical-align: middle;\n",
       "    }\n",
       "\n",
       "    .dataframe tbody tr th {\n",
       "        vertical-align: top;\n",
       "    }\n",
       "\n",
       "    .dataframe thead th {\n",
       "        text-align: right;\n",
       "    }\n",
       "</style>\n",
       "<table border=\"1\" class=\"dataframe\">\n",
       "  <thead>\n",
       "    <tr style=\"text-align: right;\">\n",
       "      <th></th>\n",
       "      <th>event</th>\n",
       "      <th>id</th>\n",
       "      <th>date</th>\n",
       "      <th>group</th>\n",
       "    </tr>\n",
       "  </thead>\n",
       "  <tbody>\n",
       "    <tr>\n",
       "      <th>0</th>\n",
       "      <td>MainScreenAppear</td>\n",
       "      <td>4575588528974610257</td>\n",
       "      <td>2019-07-25 04:43:36</td>\n",
       "      <td>246</td>\n",
       "    </tr>\n",
       "    <tr>\n",
       "      <th>1</th>\n",
       "      <td>MainScreenAppear</td>\n",
       "      <td>7416695313311560658</td>\n",
       "      <td>2019-07-25 11:11:42</td>\n",
       "      <td>246</td>\n",
       "    </tr>\n",
       "    <tr>\n",
       "      <th>2</th>\n",
       "      <td>PaymentScreenSuccessful</td>\n",
       "      <td>3518123091307005509</td>\n",
       "      <td>2019-07-25 11:28:47</td>\n",
       "      <td>248</td>\n",
       "    </tr>\n",
       "    <tr>\n",
       "      <th>3</th>\n",
       "      <td>CartScreenAppear</td>\n",
       "      <td>3518123091307005509</td>\n",
       "      <td>2019-07-25 11:28:47</td>\n",
       "      <td>248</td>\n",
       "    </tr>\n",
       "    <tr>\n",
       "      <th>4</th>\n",
       "      <td>PaymentScreenSuccessful</td>\n",
       "      <td>6217807653094995999</td>\n",
       "      <td>2019-07-25 11:48:42</td>\n",
       "      <td>248</td>\n",
       "    </tr>\n",
       "  </tbody>\n",
       "</table>\n",
       "</div>"
      ],
      "text/plain": [
       "                     event                   id                date  group\n",
       "0         MainScreenAppear  4575588528974610257 2019-07-25 04:43:36    246\n",
       "1         MainScreenAppear  7416695313311560658 2019-07-25 11:11:42    246\n",
       "2  PaymentScreenSuccessful  3518123091307005509 2019-07-25 11:28:47    248\n",
       "3         CartScreenAppear  3518123091307005509 2019-07-25 11:28:47    248\n",
       "4  PaymentScreenSuccessful  6217807653094995999 2019-07-25 11:48:42    248"
      ]
     },
     "execution_count": 93,
     "metadata": {},
     "output_type": "execute_result"
    }
   ],
   "source": [
    "logs.head()"
   ]
  },
  {
   "cell_type": "markdown",
   "metadata": {},
   "source": [
    "### Удаление пропусков"
   ]
  },
  {
   "cell_type": "code",
   "execution_count": 94,
   "metadata": {},
   "outputs": [
    {
     "data": {
      "text/plain": [
       "event    0\n",
       "id       0\n",
       "date     0\n",
       "group    0\n",
       "dtype: int64"
      ]
     },
     "execution_count": 94,
     "metadata": {},
     "output_type": "execute_result"
    }
   ],
   "source": [
    "logs.isna().sum().sort_values(ascending=False)"
   ]
  },
  {
   "cell_type": "markdown",
   "metadata": {},
   "source": [
    "Пропусков не обнаружено"
   ]
  },
  {
   "cell_type": "markdown",
   "metadata": {},
   "source": [
    "### Добавляю отдельный столбец дат"
   ]
  },
  {
   "cell_type": "code",
   "execution_count": 95,
   "metadata": {},
   "outputs": [],
   "source": [
    "logs['dt'] = logs['date'].dt.date"
   ]
  },
  {
   "cell_type": "code",
   "execution_count": 96,
   "metadata": {},
   "outputs": [
    {
     "data": {
      "text/html": [
       "<div>\n",
       "<style scoped>\n",
       "    .dataframe tbody tr th:only-of-type {\n",
       "        vertical-align: middle;\n",
       "    }\n",
       "\n",
       "    .dataframe tbody tr th {\n",
       "        vertical-align: top;\n",
       "    }\n",
       "\n",
       "    .dataframe thead th {\n",
       "        text-align: right;\n",
       "    }\n",
       "</style>\n",
       "<table border=\"1\" class=\"dataframe\">\n",
       "  <thead>\n",
       "    <tr style=\"text-align: right;\">\n",
       "      <th></th>\n",
       "      <th>event</th>\n",
       "      <th>id</th>\n",
       "      <th>date</th>\n",
       "      <th>group</th>\n",
       "      <th>dt</th>\n",
       "    </tr>\n",
       "  </thead>\n",
       "  <tbody>\n",
       "    <tr>\n",
       "      <th>0</th>\n",
       "      <td>MainScreenAppear</td>\n",
       "      <td>4575588528974610257</td>\n",
       "      <td>2019-07-25 04:43:36</td>\n",
       "      <td>246</td>\n",
       "      <td>2019-07-25</td>\n",
       "    </tr>\n",
       "    <tr>\n",
       "      <th>1</th>\n",
       "      <td>MainScreenAppear</td>\n",
       "      <td>7416695313311560658</td>\n",
       "      <td>2019-07-25 11:11:42</td>\n",
       "      <td>246</td>\n",
       "      <td>2019-07-25</td>\n",
       "    </tr>\n",
       "    <tr>\n",
       "      <th>2</th>\n",
       "      <td>PaymentScreenSuccessful</td>\n",
       "      <td>3518123091307005509</td>\n",
       "      <td>2019-07-25 11:28:47</td>\n",
       "      <td>248</td>\n",
       "      <td>2019-07-25</td>\n",
       "    </tr>\n",
       "    <tr>\n",
       "      <th>3</th>\n",
       "      <td>CartScreenAppear</td>\n",
       "      <td>3518123091307005509</td>\n",
       "      <td>2019-07-25 11:28:47</td>\n",
       "      <td>248</td>\n",
       "      <td>2019-07-25</td>\n",
       "    </tr>\n",
       "    <tr>\n",
       "      <th>4</th>\n",
       "      <td>PaymentScreenSuccessful</td>\n",
       "      <td>6217807653094995999</td>\n",
       "      <td>2019-07-25 11:48:42</td>\n",
       "      <td>248</td>\n",
       "      <td>2019-07-25</td>\n",
       "    </tr>\n",
       "  </tbody>\n",
       "</table>\n",
       "</div>"
      ],
      "text/plain": [
       "                     event                   id                date  group  \\\n",
       "0         MainScreenAppear  4575588528974610257 2019-07-25 04:43:36    246   \n",
       "1         MainScreenAppear  7416695313311560658 2019-07-25 11:11:42    246   \n",
       "2  PaymentScreenSuccessful  3518123091307005509 2019-07-25 11:28:47    248   \n",
       "3         CartScreenAppear  3518123091307005509 2019-07-25 11:28:47    248   \n",
       "4  PaymentScreenSuccessful  6217807653094995999 2019-07-25 11:48:42    248   \n",
       "\n",
       "           dt  \n",
       "0  2019-07-25  \n",
       "1  2019-07-25  \n",
       "2  2019-07-25  \n",
       "3  2019-07-25  \n",
       "4  2019-07-25  "
      ]
     },
     "execution_count": 96,
     "metadata": {},
     "output_type": "execute_result"
    }
   ],
   "source": [
    "logs.head()"
   ]
  },
  {
   "cell_type": "markdown",
   "metadata": {},
   "source": [
    "Проверим отброшенное кол-во данных"
   ]
  },
  {
   "cell_type": "code",
   "execution_count": 97,
   "metadata": {},
   "outputs": [
    {
     "data": {
      "text/plain": [
       "0.9983082506574474"
      ]
     },
     "execution_count": 97,
     "metadata": {},
     "output_type": "execute_result"
    }
   ],
   "source": [
    "logs.shape[0] / old_logs.shape[0]"
   ]
  },
  {
   "cell_type": "markdown",
   "metadata": {},
   "source": [
    "Меньше 1% - приемлемо."
   ]
  },
  {
   "cell_type": "markdown",
   "metadata": {},
   "source": [
    "В результате проведения предообработки, проведены следующие действия и получены результаты\n",
    "- заменены названия столбцов\n",
    "- проведена проверка и устранение дубликатов\n",
    "- были заменены типы данных в столбцах с датой и временем в датафрейме\n",
    "- проведена проверка на наличие пропусков, пропусков не обнаружено\n",
    "- добавлен отдельный столбец дат"
   ]
  },
  {
   "cell_type": "markdown",
   "metadata": {},
   "source": [
    "## Изучить и проверить данные"
   ]
  },
  {
   "cell_type": "markdown",
   "metadata": {},
   "source": [
    "### Сколько всего событий в логе?"
   ]
  },
  {
   "cell_type": "code",
   "execution_count": 98,
   "metadata": {
    "scrolled": true
   },
   "outputs": [
    {
     "data": {
      "text/plain": [
       "MainScreenAppear           119101\n",
       "OffersScreenAppear          46808\n",
       "CartScreenAppear            42668\n",
       "PaymentScreenSuccessful     34118\n",
       "Tutorial                     1018\n",
       "Name: event, dtype: int64"
      ]
     },
     "execution_count": 98,
     "metadata": {},
     "output_type": "execute_result"
    }
   ],
   "source": [
    "logs['event'].value_counts()"
   ]
  },
  {
   "cell_type": "code",
   "execution_count": 99,
   "metadata": {},
   "outputs": [
    {
     "data": {
      "text/plain": [
       "5"
      ]
     },
     "execution_count": 99,
     "metadata": {},
     "output_type": "execute_result"
    }
   ],
   "source": [
    "len(logs['event'].value_counts())"
   ]
  },
  {
   "cell_type": "code",
   "execution_count": 100,
   "metadata": {
    "scrolled": true
   },
   "outputs": [
    {
     "data": {
      "text/plain": [
       "243713"
      ]
     },
     "execution_count": 100,
     "metadata": {},
     "output_type": "execute_result"
    }
   ],
   "source": [
    "full_event_sum = len(logs['event'])\n",
    "full_event_sum"
   ]
  },
  {
   "cell_type": "code",
   "execution_count": 101,
   "metadata": {
    "scrolled": true
   },
   "outputs": [
    {
     "name": "stdout",
     "output_type": "stream",
     "text": [
      "Всего разных событий в логе 5\n",
      "Всего событий в логе 243713\n"
     ]
    }
   ],
   "source": [
    "print('Всего разных событий в логе', len(logs['event'].value_counts()))\n",
    "print('Всего событий в логе', full_event_sum)"
   ]
  },
  {
   "cell_type": "markdown",
   "metadata": {},
   "source": [
    "### Сколько всего пользователей в логе?"
   ]
  },
  {
   "cell_type": "code",
   "execution_count": 102,
   "metadata": {},
   "outputs": [
    {
     "data": {
      "text/plain": [
       "7551"
      ]
     },
     "execution_count": 102,
     "metadata": {},
     "output_type": "execute_result"
    }
   ],
   "source": [
    "full_id_sum = len(logs['id'].value_counts())\n",
    "full_id_sum"
   ]
  },
  {
   "cell_type": "code",
   "execution_count": 103,
   "metadata": {},
   "outputs": [
    {
     "name": "stdout",
     "output_type": "stream",
     "text": [
      "Всего в логе 7551 пользователь\n"
     ]
    }
   ],
   "source": [
    "print('Всего в логе', full_id_sum, 'пользователь')"
   ]
  },
  {
   "cell_type": "markdown",
   "metadata": {},
   "source": [
    "### Сколько в среднем событий приходится на пользователя?"
   ]
  },
  {
   "cell_type": "code",
   "execution_count": 104,
   "metadata": {},
   "outputs": [],
   "source": [
    "events = logs.pivot_table(index='id',values='event',aggfunc='count')"
   ]
  },
  {
   "cell_type": "code",
   "execution_count": 105,
   "metadata": {
    "scrolled": true
   },
   "outputs": [
    {
     "data": {
      "text/html": [
       "<div>\n",
       "<style scoped>\n",
       "    .dataframe tbody tr th:only-of-type {\n",
       "        vertical-align: middle;\n",
       "    }\n",
       "\n",
       "    .dataframe tbody tr th {\n",
       "        vertical-align: top;\n",
       "    }\n",
       "\n",
       "    .dataframe thead th {\n",
       "        text-align: right;\n",
       "    }\n",
       "</style>\n",
       "<table border=\"1\" class=\"dataframe\">\n",
       "  <thead>\n",
       "    <tr style=\"text-align: right;\">\n",
       "      <th></th>\n",
       "      <th>event</th>\n",
       "    </tr>\n",
       "    <tr>\n",
       "      <th>id</th>\n",
       "      <th></th>\n",
       "    </tr>\n",
       "  </thead>\n",
       "  <tbody>\n",
       "    <tr>\n",
       "      <th>6304868067479728361</th>\n",
       "      <td>2307</td>\n",
       "    </tr>\n",
       "    <tr>\n",
       "      <th>197027893265565660</th>\n",
       "      <td>1998</td>\n",
       "    </tr>\n",
       "    <tr>\n",
       "      <th>4623191541214045580</th>\n",
       "      <td>1768</td>\n",
       "    </tr>\n",
       "    <tr>\n",
       "      <th>6932517045703054087</th>\n",
       "      <td>1439</td>\n",
       "    </tr>\n",
       "    <tr>\n",
       "      <th>1754140665440434215</th>\n",
       "      <td>1221</td>\n",
       "    </tr>\n",
       "    <tr>\n",
       "      <th>3337471580007169353</th>\n",
       "      <td>1186</td>\n",
       "    </tr>\n",
       "    <tr>\n",
       "      <th>7738058666231999878</th>\n",
       "      <td>888</td>\n",
       "    </tr>\n",
       "    <tr>\n",
       "      <th>1055544042902443290</th>\n",
       "      <td>854</td>\n",
       "    </tr>\n",
       "    <tr>\n",
       "      <th>4713748699910253089</th>\n",
       "      <td>824</td>\n",
       "    </tr>\n",
       "    <tr>\n",
       "      <th>8118046800480174342</th>\n",
       "      <td>755</td>\n",
       "    </tr>\n",
       "  </tbody>\n",
       "</table>\n",
       "</div>"
      ],
      "text/plain": [
       "                     event\n",
       "id                        \n",
       "6304868067479728361   2307\n",
       "197027893265565660    1998\n",
       "4623191541214045580   1768\n",
       "6932517045703054087   1439\n",
       "1754140665440434215   1221\n",
       "3337471580007169353   1186\n",
       "7738058666231999878    888\n",
       "1055544042902443290    854\n",
       "4713748699910253089    824\n",
       "8118046800480174342    755"
      ]
     },
     "execution_count": 105,
     "metadata": {},
     "output_type": "execute_result"
    }
   ],
   "source": [
    "events.sort_values(by='event', ascending=False).head(10)"
   ]
  },
  {
   "cell_type": "code",
   "execution_count": 106,
   "metadata": {
    "scrolled": true
   },
   "outputs": [
    {
     "data": {
      "text/html": [
       "<div>\n",
       "<style scoped>\n",
       "    .dataframe tbody tr th:only-of-type {\n",
       "        vertical-align: middle;\n",
       "    }\n",
       "\n",
       "    .dataframe tbody tr th {\n",
       "        vertical-align: top;\n",
       "    }\n",
       "\n",
       "    .dataframe thead th {\n",
       "        text-align: right;\n",
       "    }\n",
       "</style>\n",
       "<table border=\"1\" class=\"dataframe\">\n",
       "  <thead>\n",
       "    <tr style=\"text-align: right;\">\n",
       "      <th></th>\n",
       "      <th>event</th>\n",
       "    </tr>\n",
       "    <tr>\n",
       "      <th>id</th>\n",
       "      <th></th>\n",
       "    </tr>\n",
       "  </thead>\n",
       "  <tbody>\n",
       "    <tr>\n",
       "      <th>6711676849811968731</th>\n",
       "      <td>1</td>\n",
       "    </tr>\n",
       "    <tr>\n",
       "      <th>442591501621146365</th>\n",
       "      <td>1</td>\n",
       "    </tr>\n",
       "    <tr>\n",
       "      <th>7425867810605704181</th>\n",
       "      <td>1</td>\n",
       "    </tr>\n",
       "    <tr>\n",
       "      <th>5229230634268921313</th>\n",
       "      <td>1</td>\n",
       "    </tr>\n",
       "    <tr>\n",
       "      <th>2141951348073372988</th>\n",
       "      <td>1</td>\n",
       "    </tr>\n",
       "    <tr>\n",
       "      <th>7399061063341528729</th>\n",
       "      <td>1</td>\n",
       "    </tr>\n",
       "    <tr>\n",
       "      <th>2968164493349205501</th>\n",
       "      <td>1</td>\n",
       "    </tr>\n",
       "    <tr>\n",
       "      <th>8071397669512236988</th>\n",
       "      <td>1</td>\n",
       "    </tr>\n",
       "    <tr>\n",
       "      <th>425817683219936619</th>\n",
       "      <td>1</td>\n",
       "    </tr>\n",
       "    <tr>\n",
       "      <th>6888746892508752</th>\n",
       "      <td>1</td>\n",
       "    </tr>\n",
       "  </tbody>\n",
       "</table>\n",
       "</div>"
      ],
      "text/plain": [
       "                     event\n",
       "id                        \n",
       "6711676849811968731      1\n",
       "442591501621146365       1\n",
       "7425867810605704181      1\n",
       "5229230634268921313      1\n",
       "2141951348073372988      1\n",
       "7399061063341528729      1\n",
       "2968164493349205501      1\n",
       "8071397669512236988      1\n",
       "425817683219936619       1\n",
       "6888746892508752         1"
      ]
     },
     "execution_count": 106,
     "metadata": {},
     "output_type": "execute_result"
    }
   ],
   "source": [
    "events.sort_values(by='event', ascending=False).tail(10)"
   ]
  },
  {
   "cell_type": "code",
   "execution_count": 107,
   "metadata": {},
   "outputs": [],
   "source": [
    "event_mean = events['event'].mean()"
   ]
  },
  {
   "cell_type": "code",
   "execution_count": 108,
   "metadata": {
    "scrolled": true
   },
   "outputs": [
    {
     "data": {
      "text/plain": [
       "32.27559263673685"
      ]
     },
     "execution_count": 108,
     "metadata": {},
     "output_type": "execute_result"
    }
   ],
   "source": [
    "event_mean"
   ]
  },
  {
   "cell_type": "code",
   "execution_count": 109,
   "metadata": {},
   "outputs": [
    {
     "name": "stdout",
     "output_type": "stream",
     "text": [
      "В среднем на пользователя приходится 32.28 событий\n"
     ]
    }
   ],
   "source": [
    "print('В среднем на пользователя приходится', round(event_mean, 2), 'событий')"
   ]
  },
  {
   "cell_type": "markdown",
   "metadata": {},
   "source": [
    "### Данными за какой период мы располагаем? Найдем максимальную и минимальную дату. Построим гистограмму по дате и времени. Можно ли быть уверенным, что у нас одинаково полные данные за весь период? Технически в логи новых дней по некоторым пользователям могут «доезжать» события из прошлого — это может «перекашивать данные». Определим, с какого момента данные полные и отбросим более старые. Данными за какой период времени мы располагаете на самом деле?"
   ]
  },
  {
   "cell_type": "code",
   "execution_count": 110,
   "metadata": {},
   "outputs": [
    {
     "name": "stdout",
     "output_type": "stream",
     "text": [
      "Минимальная дата: 2019-07-25\n",
      "Максимальная дата: 2019-08-07\n"
     ]
    }
   ],
   "source": [
    "print('Минимальная дата:', (logs['dt']).min())\n",
    "print('Максимальная дата:', (logs['dt']).max())"
   ]
  },
  {
   "cell_type": "code",
   "execution_count": 111,
   "metadata": {},
   "outputs": [
    {
     "data": {
      "image/png": "[encoded data removed]",
      "text/plain": [
       "<Figure size 1500x600 with 1 Axes>"
      ]
     },
     "metadata": {},
     "output_type": "display_data"
    }
   ],
   "source": [
    "plt.figure(figsize=(15,6))\n",
    "logs['dt'].hist(bins = 14)\n",
    "plt.title(\"Гистограмма по дате\")\n",
    "plt.xlabel(\"Дата\")\n",
    "plt.ylabel(\"Кол-во событий\")\n",
    "plt.show();"
   ]
  },
  {
   "cell_type": "markdown",
   "metadata": {},
   "source": [
    "<div class=\"alert alert-block alert-success\">\n",
    "\n",
    "**Комментарий ревьювера (все отлично)**\n",
    "    \n",
    "Визуализация на хорошем уровне. Здорово, что уделяешь внимание оформлению графиков.\n",
    "    \n",
    "Предлагаю изучить интересные методы по визуализации. Прикрепляю несколько интересных ссылок:\n",
    "\n",
    "https://coderlessons.com/tutorials/python-technologies/izuchai-siborna/siborn-kratkoe-rukovodstvo\n",
    "\n",
    "https://tproger.ru/translations/python-data-vizualization/\n",
    "</div>"
   ]
  },
  {
   "cell_type": "markdown",
   "metadata": {},
   "source": [
    "Судя по графику наиболее полные данные начинаются с 01.08.2019 и заканчиваются 07.08.2019, возьмем этот промежуток времени и посторим еще одну гистограмму."
   ]
  },
  {
   "cell_type": "code",
   "execution_count": 112,
   "metadata": {},
   "outputs": [],
   "source": [
    "logs['dt'] = pd.to_datetime(logs['dt'])\n",
    "logs_real_dt = logs.query('dt >= \"2019-08-01\"')"
   ]
  },
  {
   "cell_type": "markdown",
   "metadata": {},
   "source": [
    "<div class=\"alert alert-block alert-success\">\n",
    "\n",
    "**Комментарий ревьювера (все отлично)**\n",
    "    \n",
    "Верный выбор даты, с которой фильтруешь данные.\n",
    "\n",
    "</div>"
   ]
  },
  {
   "cell_type": "code",
   "execution_count": 113,
   "metadata": {},
   "outputs": [
    {
     "data": {
      "image/png": "[encoded data removed]",
      "text/plain": [
       "<Figure size 1500x600 with 1 Axes>"
      ]
     },
     "metadata": {},
     "output_type": "display_data"
    }
   ],
   "source": [
    "plt.figure(figsize=(15,6))\n",
    "logs_real_dt['dt'].hist(bins = 7)\n",
    "plt.title(\"Гистограмма по дате\")\n",
    "plt.xlabel(\"Дата\")\n",
    "plt.ylabel(\"Кол-во событий\")\n",
    "plt.show();"
   ]
  },
  {
   "cell_type": "markdown",
   "metadata": {},
   "source": [
    "Получается, что мы распологаем данными за 7 дней."
   ]
  },
  {
   "cell_type": "markdown",
   "metadata": {},
   "source": [
    "### Много ли событий и пользователей мы потеряли, отбросив старые данные?"
   ]
  },
  {
   "cell_type": "code",
   "execution_count": 114,
   "metadata": {
    "scrolled": true
   },
   "outputs": [
    {
     "data": {
      "text/plain": [
       "240887"
      ]
     },
     "execution_count": 114,
     "metadata": {},
     "output_type": "execute_result"
    }
   ],
   "source": [
    "new_event_sum = len(logs_real_dt['event'])\n",
    "new_event_sum"
   ]
  },
  {
   "cell_type": "code",
   "execution_count": 115,
   "metadata": {},
   "outputs": [
    {
     "data": {
      "text/plain": [
       "7534"
      ]
     },
     "execution_count": 115,
     "metadata": {},
     "output_type": "execute_result"
    }
   ],
   "source": [
    "new_id_sum = len(logs_real_dt['id'].value_counts())\n",
    "new_id_sum"
   ]
  },
  {
   "cell_type": "code",
   "execution_count": 116,
   "metadata": {},
   "outputs": [
    {
     "name": "stdout",
     "output_type": "stream",
     "text": [
      "Было утеряно событий: 2826\n",
      "Было утеряно пользователей: 17\n"
     ]
    }
   ],
   "source": [
    "print('Было утеряно событий:', full_event_sum - new_event_sum)\n",
    "print('Было утеряно пользователей:', full_id_sum - new_id_sum)"
   ]
  },
  {
   "cell_type": "code",
   "execution_count": 117,
   "metadata": {
    "scrolled": true
   },
   "outputs": [
    {
     "name": "stdout",
     "output_type": "stream",
     "text": [
      "Было утеряно событий: 1.2 %\n",
      "Было утеряно пользователей: 0.2 %\n"
     ]
    }
   ],
   "source": [
    "print('Было утеряно событий:',  round((1 - new_event_sum/full_event_sum), 3)*100, '%')\n",
    "print('Было утеряно пользователей:', round((1 - new_id_sum/full_id_sum), 3)*100, '%')"
   ]
  },
  {
   "cell_type": "markdown",
   "metadata": {},
   "source": [
    "### Проверим, что у нас есть пользователи из всех трёх экспериментальных групп."
   ]
  },
  {
   "cell_type": "code",
   "execution_count": 118,
   "metadata": {
    "scrolled": true
   },
   "outputs": [
    {
     "data": {
      "text/plain": [
       "group\n",
       "246    79302\n",
       "247    77022\n",
       "248    84563\n",
       "Name: id, dtype: int64"
      ]
     },
     "execution_count": 118,
     "metadata": {},
     "output_type": "execute_result"
    }
   ],
   "source": [
    "logs_real_dt.groupby('group')['id'].count()"
   ]
  },
  {
   "cell_type": "markdown",
   "metadata": {},
   "source": [
    "Порядка 80к событий приходится на каждую группу"
   ]
  },
  {
   "cell_type": "markdown",
   "metadata": {},
   "source": [
    "## Изучить воронку событий"
   ]
  },
  {
   "cell_type": "markdown",
   "metadata": {},
   "source": [
    "### Посмотрим, какие события есть в логах, как часто они встречаются. Отсортируем события по частоте."
   ]
  },
  {
   "cell_type": "code",
   "execution_count": 119,
   "metadata": {},
   "outputs": [
    {
     "data": {
      "text/plain": [
       "MainScreenAppear           117328\n",
       "OffersScreenAppear          46333\n",
       "CartScreenAppear            42303\n",
       "PaymentScreenSuccessful     33918\n",
       "Tutorial                     1005\n",
       "Name: event, dtype: int64"
      ]
     },
     "execution_count": 119,
     "metadata": {},
     "output_type": "execute_result"
    }
   ],
   "source": [
    "logs_real_dt['event'].value_counts()"
   ]
  },
  {
   "cell_type": "markdown",
   "metadata": {},
   "source": [
    "Из пяти событий чаще всего происходит событие MainScreenAppear, и реже всего Tutorial"
   ]
  },
  {
   "cell_type": "markdown",
   "metadata": {},
   "source": [
    "### Посчитаем, сколько пользователей совершали каждое из этих событий. Отсортируем события по числу пользователей. Посчитаем долю пользователей, которые хоть раз совершали событие."
   ]
  },
  {
   "cell_type": "code",
   "execution_count": 120,
   "metadata": {},
   "outputs": [
    {
     "data": {
      "text/html": [
       "<div>\n",
       "<style scoped>\n",
       "    .dataframe tbody tr th:only-of-type {\n",
       "        vertical-align: middle;\n",
       "    }\n",
       "\n",
       "    .dataframe tbody tr th {\n",
       "        vertical-align: top;\n",
       "    }\n",
       "\n",
       "    .dataframe thead th {\n",
       "        text-align: right;\n",
       "    }\n",
       "</style>\n",
       "<table border=\"1\" class=\"dataframe\">\n",
       "  <thead>\n",
       "    <tr style=\"text-align: right;\">\n",
       "      <th></th>\n",
       "      <th>id</th>\n",
       "    </tr>\n",
       "    <tr>\n",
       "      <th>event</th>\n",
       "      <th></th>\n",
       "    </tr>\n",
       "  </thead>\n",
       "  <tbody>\n",
       "    <tr>\n",
       "      <th>MainScreenAppear</th>\n",
       "      <td>7419</td>\n",
       "    </tr>\n",
       "    <tr>\n",
       "      <th>OffersScreenAppear</th>\n",
       "      <td>4593</td>\n",
       "    </tr>\n",
       "    <tr>\n",
       "      <th>CartScreenAppear</th>\n",
       "      <td>3734</td>\n",
       "    </tr>\n",
       "    <tr>\n",
       "      <th>PaymentScreenSuccessful</th>\n",
       "      <td>3539</td>\n",
       "    </tr>\n",
       "    <tr>\n",
       "      <th>Tutorial</th>\n",
       "      <td>840</td>\n",
       "    </tr>\n",
       "  </tbody>\n",
       "</table>\n",
       "</div>"
      ],
      "text/plain": [
       "                           id\n",
       "event                        \n",
       "MainScreenAppear         7419\n",
       "OffersScreenAppear       4593\n",
       "CartScreenAppear         3734\n",
       "PaymentScreenSuccessful  3539\n",
       "Tutorial                  840"
      ]
     },
     "execution_count": 120,
     "metadata": {},
     "output_type": "execute_result"
    }
   ],
   "source": [
    "event_id = logs_real_dt.pivot_table(index='event', values='id',aggfunc='nunique').sort_values(by='id', ascending=False)\n",
    "event_id"
   ]
  },
  {
   "cell_type": "code",
   "execution_count": 121,
   "metadata": {
    "scrolled": true
   },
   "outputs": [
    {
     "data": {
      "text/html": [
       "<div>\n",
       "<style scoped>\n",
       "    .dataframe tbody tr th:only-of-type {\n",
       "        vertical-align: middle;\n",
       "    }\n",
       "\n",
       "    .dataframe tbody tr th {\n",
       "        vertical-align: top;\n",
       "    }\n",
       "\n",
       "    .dataframe thead th {\n",
       "        text-align: right;\n",
       "    }\n",
       "</style>\n",
       "<table border=\"1\" class=\"dataframe\">\n",
       "  <thead>\n",
       "    <tr style=\"text-align: right;\">\n",
       "      <th></th>\n",
       "      <th>event</th>\n",
       "      <th>id</th>\n",
       "      <th>share %</th>\n",
       "    </tr>\n",
       "  </thead>\n",
       "  <tbody>\n",
       "    <tr>\n",
       "      <th>0</th>\n",
       "      <td>MainScreenAppear</td>\n",
       "      <td>7419</td>\n",
       "      <td>98.47</td>\n",
       "    </tr>\n",
       "    <tr>\n",
       "      <th>1</th>\n",
       "      <td>OffersScreenAppear</td>\n",
       "      <td>4593</td>\n",
       "      <td>60.96</td>\n",
       "    </tr>\n",
       "    <tr>\n",
       "      <th>2</th>\n",
       "      <td>CartScreenAppear</td>\n",
       "      <td>3734</td>\n",
       "      <td>49.56</td>\n",
       "    </tr>\n",
       "    <tr>\n",
       "      <th>3</th>\n",
       "      <td>PaymentScreenSuccessful</td>\n",
       "      <td>3539</td>\n",
       "      <td>46.97</td>\n",
       "    </tr>\n",
       "    <tr>\n",
       "      <th>4</th>\n",
       "      <td>Tutorial</td>\n",
       "      <td>840</td>\n",
       "      <td>11.15</td>\n",
       "    </tr>\n",
       "  </tbody>\n",
       "</table>\n",
       "</div>"
      ],
      "text/plain": [
       "                     event    id  share %\n",
       "0         MainScreenAppear  7419    98.47\n",
       "1       OffersScreenAppear  4593    60.96\n",
       "2         CartScreenAppear  3734    49.56\n",
       "3  PaymentScreenSuccessful  3539    46.97\n",
       "4                 Tutorial   840    11.15"
      ]
     },
     "execution_count": 121,
     "metadata": {},
     "output_type": "execute_result"
    }
   ],
   "source": [
    "event_id['share %'] = round(event_id['id']/logs_real_dt['id'].nunique(), 4)*100\n",
    "event_id = event_id.reset_index()\n",
    "event_id"
   ]
  },
  {
   "cell_type": "code",
   "execution_count": null,
   "metadata": {},
   "outputs": [],
   "source": []
  },
  {
   "cell_type": "markdown",
   "metadata": {},
   "source": [
    "### Предположим, в каком порядке происходят события. Все ли они выстраиваются в последовательную цепочку? Их не нужно учитывать при расчёте воронки."
   ]
  },
  {
   "cell_type": "markdown",
   "metadata": {},
   "source": [
    "Здесь складывается классическая воронка: \n",
    "- Главный экран  \n",
    "- Выбор предложения \n",
    "- Добавление в корзину \n",
    "- Оплата \n",
    "\n",
    "У Руководства (Tutorial) такой низкий показатель, потому как его мало кто читает. Его при расчете воронки не стоит учитывать."
   ]
  },
  {
   "cell_type": "code",
   "execution_count": 122,
   "metadata": {
    "scrolled": true
   },
   "outputs": [
    {
     "data": {
      "text/html": [
       "<div>\n",
       "<style scoped>\n",
       "    .dataframe tbody tr th:only-of-type {\n",
       "        vertical-align: middle;\n",
       "    }\n",
       "\n",
       "    .dataframe tbody tr th {\n",
       "        vertical-align: top;\n",
       "    }\n",
       "\n",
       "    .dataframe thead th {\n",
       "        text-align: right;\n",
       "    }\n",
       "</style>\n",
       "<table border=\"1\" class=\"dataframe\">\n",
       "  <thead>\n",
       "    <tr style=\"text-align: right;\">\n",
       "      <th></th>\n",
       "      <th>event</th>\n",
       "      <th>id</th>\n",
       "      <th>share %</th>\n",
       "    </tr>\n",
       "  </thead>\n",
       "  <tbody>\n",
       "    <tr>\n",
       "      <th>0</th>\n",
       "      <td>MainScreenAppear</td>\n",
       "      <td>7419</td>\n",
       "      <td>98.47</td>\n",
       "    </tr>\n",
       "    <tr>\n",
       "      <th>1</th>\n",
       "      <td>OffersScreenAppear</td>\n",
       "      <td>4593</td>\n",
       "      <td>60.96</td>\n",
       "    </tr>\n",
       "    <tr>\n",
       "      <th>2</th>\n",
       "      <td>CartScreenAppear</td>\n",
       "      <td>3734</td>\n",
       "      <td>49.56</td>\n",
       "    </tr>\n",
       "    <tr>\n",
       "      <th>3</th>\n",
       "      <td>PaymentScreenSuccessful</td>\n",
       "      <td>3539</td>\n",
       "      <td>46.97</td>\n",
       "    </tr>\n",
       "  </tbody>\n",
       "</table>\n",
       "</div>"
      ],
      "text/plain": [
       "                     event    id  share %\n",
       "0         MainScreenAppear  7419    98.47\n",
       "1       OffersScreenAppear  4593    60.96\n",
       "2         CartScreenAppear  3734    49.56\n",
       "3  PaymentScreenSuccessful  3539    46.97"
      ]
     },
     "execution_count": 122,
     "metadata": {},
     "output_type": "execute_result"
    }
   ],
   "source": [
    "event_id.drop([4], inplace=True)\n",
    "event_id"
   ]
  },
  {
   "cell_type": "markdown",
   "metadata": {},
   "source": [
    "Построим график воронки"
   ]
  },
  {
   "cell_type": "code",
   "execution_count": 148,
   "metadata": {},
   "outputs": [
    {
     "data": {
      "application/vnd.plotly.v1+json": {
       "config": {
        "plotlyServerURL": "https://plot.ly"
       },
       "data": [
        {
         "textinfo": "value+percent total",
         "textposition": "inside",
         "type": "funnel",
         "x": [
          7419,
          4593,
          3734,
          3539
         ],
         "y": [
          "MainScreenAppear",
          "OffersScreenAppear",
          "CartScreenAppear",
          "PaymentScreenSuccessful"
         ]
        }
       ],
       "layout": {
        "template": {
         "data": {
          "bar": [
           {
            "error_x": {
             "color": "#2a3f5f"
            },
            "error_y": {
             "color": "#2a3f5f"
            },
            "marker": {
             "line": {
              "color": "#E5ECF6",
              "width": 0.5
             },
             "pattern": {
              "fillmode": "overlay",
              "size": 10,
              "solidity": 0.2
             }
            },
            "type": "bar"
           }
          ],
          "barpolar": [
           {
            "marker": {
             "line": {
              "color": "#E5ECF6",
              "width": 0.5
             },
             "pattern": {
              "fillmode": "overlay",
              "size": 10,
              "solidity": 0.2
             }
            },
            "type": "barpolar"
           }
          ],
          "carpet": [
           {
            "aaxis": {
             "endlinecolor": "#2a3f5f",
             "gridcolor": "white",
             "linecolor": "white",
             "minorgridcolor": "white",
             "startlinecolor": "#2a3f5f"
            },
            "baxis": {
             "endlinecolor": "#2a3f5f",
             "gridcolor": "white",
             "linecolor": "white",
             "minorgridcolor": "white",
             "startlinecolor": "#2a3f5f"
            },
            "type": "carpet"
           }
          ],
          "choropleth": [
           {
            "colorbar": {
             "outlinewidth": 0,
             "ticks": ""
            },
            "type": "choropleth"
           }
          ],
          "contour": [
           {
            "colorbar": {
             "outlinewidth": 0,
             "ticks": ""
            },
            "colorscale": [
             [
              0,
              "#0d0887"
             ],
             [
              0.1111111111111111,
              "#46039f"
             ],
             [
              0.2222222222222222,
              "#7201a8"
             ],
             [
              0.3333333333333333,
              "#9c179e"
             ],
             [
              0.4444444444444444,
              "#bd3786"
             ],
             [
              0.5555555555555556,
              "#d8576b"
             ],
             [
              0.6666666666666666,
              "#ed7953"
             ],
             [
              0.7777777777777778,
              "#fb9f3a"
             ],
             [
              0.8888888888888888,
              "#fdca26"
             ],
             [
              1,
              "#f0f921"
             ]
            ],
            "type": "contour"
           }
          ],
          "contourcarpet": [
           {
            "colorbar": {
             "outlinewidth": 0,
             "ticks": ""
            },
            "type": "contourcarpet"
           }
          ],
          "heatmap": [
           {
            "colorbar": {
             "outlinewidth": 0,
             "ticks": ""
            },
            "colorscale": [
             [
              0,
              "#0d0887"
             ],
             [
              0.1111111111111111,
              "#46039f"
             ],
             [
              0.2222222222222222,
              "#7201a8"
             ],
             [
              0.3333333333333333,
              "#9c179e"
             ],
             [
              0.4444444444444444,
              "#bd3786"
             ],
             [
              0.5555555555555556,
              "#d8576b"
             ],
             [
              0.6666666666666666,
              "#ed7953"
             ],
             [
              0.7777777777777778,
              "#fb9f3a"
             ],
             [
              0.8888888888888888,
              "#fdca26"
             ],
             [
              1,
              "#f0f921"
             ]
            ],
            "type": "heatmap"
           }
          ],
          "heatmapgl": [
           {
            "colorbar": {
             "outlinewidth": 0,
             "ticks": ""
            },
            "colorscale": [
             [
              0,
              "#0d0887"
             ],
             [
              0.1111111111111111,
              "#46039f"
             ],
             [
              0.2222222222222222,
              "#7201a8"
             ],
             [
              0.3333333333333333,
              "#9c179e"
             ],
             [
              0.4444444444444444,
              "#bd3786"
             ],
             [
              0.5555555555555556,
              "#d8576b"
             ],
             [
              0.6666666666666666,
              "#ed7953"
             ],
             [
              0.7777777777777778,
              "#fb9f3a"
             ],
             [
              0.8888888888888888,
              "#fdca26"
             ],
             [
              1,
              "#f0f921"
             ]
            ],
            "type": "heatmapgl"
           }
          ],
          "histogram": [
           {
            "marker": {
             "pattern": {
              "fillmode": "overlay",
              "size": 10,
              "solidity": 0.2
             }
            },
            "type": "histogram"
           }
          ],
          "histogram2d": [
           {
            "colorbar": {
             "outlinewidth": 0,
             "ticks": ""
            },
            "colorscale": [
             [
              0,
              "#0d0887"
             ],
             [
              0.1111111111111111,
              "#46039f"
             ],
             [
              0.2222222222222222,
              "#7201a8"
             ],
             [
              0.3333333333333333,
              "#9c179e"
             ],
             [
              0.4444444444444444,
              "#bd3786"
             ],
             [
              0.5555555555555556,
              "#d8576b"
             ],
             [
              0.6666666666666666,
              "#ed7953"
             ],
             [
              0.7777777777777778,
              "#fb9f3a"
             ],
             [
              0.8888888888888888,
              "#fdca26"
             ],
             [
              1,
              "#f0f921"
             ]
            ],
            "type": "histogram2d"
           }
          ],
          "histogram2dcontour": [
           {
            "colorbar": {
             "outlinewidth": 0,
             "ticks": ""
            },
            "colorscale": [
             [
              0,
              "#0d0887"
             ],
             [
              0.1111111111111111,
              "#46039f"
             ],
             [
              0.2222222222222222,
              "#7201a8"
             ],
             [
              0.3333333333333333,
              "#9c179e"
             ],
             [
              0.4444444444444444,
              "#bd3786"
             ],
             [
              0.5555555555555556,
              "#d8576b"
             ],
             [
              0.6666666666666666,
              "#ed7953"
             ],
             [
              0.7777777777777778,
              "#fb9f3a"
             ],
             [
              0.8888888888888888,
              "#fdca26"
             ],
             [
              1,
              "#f0f921"
             ]
            ],
            "type": "histogram2dcontour"
           }
          ],
          "mesh3d": [
           {
            "colorbar": {
             "outlinewidth": 0,
             "ticks": ""
            },
            "type": "mesh3d"
           }
          ],
          "parcoords": [
           {
            "line": {
             "colorbar": {
              "outlinewidth": 0,
              "ticks": ""
             }
            },
            "type": "parcoords"
           }
          ],
          "pie": [
           {
            "automargin": true,
            "type": "pie"
           }
          ],
          "scatter": [
           {
            "marker": {
             "colorbar": {
              "outlinewidth": 0,
              "ticks": ""
             }
            },
            "type": "scatter"
           }
          ],
          "scatter3d": [
           {
            "line": {
             "colorbar": {
              "outlinewidth": 0,
              "ticks": ""
             }
            },
            "marker": {
             "colorbar": {
              "outlinewidth": 0,
              "ticks": ""
             }
            },
            "type": "scatter3d"
           }
          ],
          "scattercarpet": [
           {
            "marker": {
             "colorbar": {
              "outlinewidth": 0,
              "ticks": ""
             }
            },
            "type": "scattercarpet"
           }
          ],
          "scattergeo": [
           {
            "marker": {
             "colorbar": {
              "outlinewidth": 0,
              "ticks": ""
             }
            },
            "type": "scattergeo"
           }
          ],
          "scattergl": [
           {
            "marker": {
             "colorbar": {
              "outlinewidth": 0,
              "ticks": ""
             }
            },
            "type": "scattergl"
           }
          ],
          "scattermapbox": [
           {
            "marker": {
             "colorbar": {
              "outlinewidth": 0,
              "ticks": ""
             }
            },
            "type": "scattermapbox"
           }
          ],
          "scatterpolar": [
           {
            "marker": {
             "colorbar": {
              "outlinewidth": 0,
              "ticks": ""
             }
            },
            "type": "scatterpolar"
           }
          ],
          "scatterpolargl": [
           {
            "marker": {
             "colorbar": {
              "outlinewidth": 0,
              "ticks": ""
             }
            },
            "type": "scatterpolargl"
           }
          ],
          "scatterternary": [
           {
            "marker": {
             "colorbar": {
              "outlinewidth": 0,
              "ticks": ""
             }
            },
            "type": "scatterternary"
           }
          ],
          "surface": [
           {
            "colorbar": {
             "outlinewidth": 0,
             "ticks": ""
            },
            "colorscale": [
             [
              0,
              "#0d0887"
             ],
             [
              0.1111111111111111,
              "#46039f"
             ],
             [
              0.2222222222222222,
              "#7201a8"
             ],
             [
              0.3333333333333333,
              "#9c179e"
             ],
             [
              0.4444444444444444,
              "#bd3786"
             ],
             [
              0.5555555555555556,
              "#d8576b"
             ],
             [
              0.6666666666666666,
              "#ed7953"
             ],
             [
              0.7777777777777778,
              "#fb9f3a"
             ],
             [
              0.8888888888888888,
              "#fdca26"
             ],
             [
              1,
              "#f0f921"
             ]
            ],
            "type": "surface"
           }
          ],
          "table": [
           {
            "cells": {
             "fill": {
              "color": "#EBF0F8"
             },
             "line": {
              "color": "white"
             }
            },
            "header": {
             "fill": {
              "color": "#C8D4E3"
             },
             "line": {
              "color": "white"
             }
            },
            "type": "table"
           }
          ]
         },
         "layout": {
          "annotationdefaults": {
           "arrowcolor": "#2a3f5f",
           "arrowhead": 0,
           "arrowwidth": 1
          },
          "autotypenumbers": "strict",
          "coloraxis": {
           "colorbar": {
            "outlinewidth": 0,
            "ticks": ""
           }
          },
          "colorscale": {
           "diverging": [
            [
             0,
             "#8e0152"
            ],
            [
             0.1,
             "#c51b7d"
            ],
            [
             0.2,
             "#de77ae"
            ],
            [
             0.3,
             "#f1b6da"
            ],
            [
             0.4,
             "#fde0ef"
            ],
            [
             0.5,
             "#f7f7f7"
            ],
            [
             0.6,
             "#e6f5d0"
            ],
            [
             0.7,
             "#b8e186"
            ],
            [
             0.8,
             "#7fbc41"
            ],
            [
             0.9,
             "#4d9221"
            ],
            [
             1,
             "#276419"
            ]
           ],
           "sequential": [
            [
             0,
             "#0d0887"
            ],
            [
             0.1111111111111111,
             "#46039f"
            ],
            [
             0.2222222222222222,
             "#7201a8"
            ],
            [
             0.3333333333333333,
             "#9c179e"
            ],
            [
             0.4444444444444444,
             "#bd3786"
            ],
            [
             0.5555555555555556,
             "#d8576b"
            ],
            [
             0.6666666666666666,
             "#ed7953"
            ],
            [
             0.7777777777777778,
             "#fb9f3a"
            ],
            [
             0.8888888888888888,
             "#fdca26"
            ],
            [
             1,
             "#f0f921"
            ]
           ],
           "sequentialminus": [
            [
             0,
             "#0d0887"
            ],
            [
             0.1111111111111111,
             "#46039f"
            ],
            [
             0.2222222222222222,
             "#7201a8"
            ],
            [
             0.3333333333333333,
             "#9c179e"
            ],
            [
             0.4444444444444444,
             "#bd3786"
            ],
            [
             0.5555555555555556,
             "#d8576b"
            ],
            [
             0.6666666666666666,
             "#ed7953"
            ],
            [
             0.7777777777777778,
             "#fb9f3a"
            ],
            [
             0.8888888888888888,
             "#fdca26"
            ],
            [
             1,
             "#f0f921"
            ]
           ]
          },
          "colorway": [
           "#636efa",
           "#EF553B",
           "#00cc96",
           "#ab63fa",
           "#FFA15A",
           "#19d3f3",
           "#FF6692",
           "#B6E880",
           "#FF97FF",
           "#FECB52"
          ],
          "font": {
           "color": "#2a3f5f"
          },
          "geo": {
           "bgcolor": "white",
           "lakecolor": "white",
           "landcolor": "#E5ECF6",
           "showlakes": true,
           "showland": true,
           "subunitcolor": "white"
          },
          "hoverlabel": {
           "align": "left"
          },
          "hovermode": "closest",
          "mapbox": {
           "style": "light"
          },
          "paper_bgcolor": "white",
          "plot_bgcolor": "#E5ECF6",
          "polar": {
           "angularaxis": {
            "gridcolor": "white",
            "linecolor": "white",
            "ticks": ""
           },
           "bgcolor": "#E5ECF6",
           "radialaxis": {
            "gridcolor": "white",
            "linecolor": "white",
            "ticks": ""
           }
          },
          "scene": {
           "xaxis": {
            "backgroundcolor": "#E5ECF6",
            "gridcolor": "white",
            "gridwidth": 2,
            "linecolor": "white",
            "showbackground": true,
            "ticks": "",
            "zerolinecolor": "white"
           },
           "yaxis": {
            "backgroundcolor": "#E5ECF6",
            "gridcolor": "white",
            "gridwidth": 2,
            "linecolor": "white",
            "showbackground": true,
            "ticks": "",
            "zerolinecolor": "white"
           },
           "zaxis": {
            "backgroundcolor": "#E5ECF6",
            "gridcolor": "white",
            "gridwidth": 2,
            "linecolor": "white",
            "showbackground": true,
            "ticks": "",
            "zerolinecolor": "white"
           }
          },
          "shapedefaults": {
           "line": {
            "color": "#2a3f5f"
           }
          },
          "ternary": {
           "aaxis": {
            "gridcolor": "white",
            "linecolor": "white",
            "ticks": ""
           },
           "baxis": {
            "gridcolor": "white",
            "linecolor": "white",
            "ticks": ""
           },
           "bgcolor": "#E5ECF6",
           "caxis": {
            "gridcolor": "white",
            "linecolor": "white",
            "ticks": ""
           }
          },
          "title": {
           "x": 0.05
          },
          "xaxis": {
           "automargin": true,
           "gridcolor": "white",
           "linecolor": "white",
           "ticks": "",
           "title": {
            "standoff": 15
           },
           "zerolinecolor": "white",
           "zerolinewidth": 2
          },
          "yaxis": {
           "automargin": true,
           "gridcolor": "white",
           "linecolor": "white",
           "ticks": "",
           "title": {
            "standoff": 15
           },
           "zerolinecolor": "white",
           "zerolinewidth": 2
          }
         }
        }
       }
      },
      "text/html": [
       "<div>                            <div id=\"e7dec883-6309-4060-9401-01008b5508c1\" class=\"plotly-graph-div\" style=\"height:525px; width:100%;\"></div>            <script type=\"text/javascript\">                require([\"plotly\"], function(Plotly) {                    window.PLOTLYENV=window.PLOTLYENV || {};                                    if (document.getElementById(\"e7dec883-6309-4060-9401-01008b5508c1\")) {                    Plotly.newPlot(                        \"e7dec883-6309-4060-9401-01008b5508c1\",                        [{\"textinfo\":\"value+percent total\",\"textposition\":\"inside\",\"x\":[7419,4593,3734,3539],\"y\":[\"MainScreenAppear\",\"OffersScreenAppear\",\"CartScreenAppear\",\"PaymentScreenSuccessful\"],\"type\":\"funnel\"}],                        {\"template\":{\"data\":{\"bar\":[{\"error_x\":{\"color\":\"#2a3f5f\"},\"error_y\":{\"color\":\"#2a3f5f\"},\"marker\":{\"line\":{\"color\":\"#E5ECF6\",\"width\":0.5},\"pattern\":{\"fillmode\":\"overlay\",\"size\":10,\"solidity\":0.2}},\"type\":\"bar\"}],\"barpolar\":[{\"marker\":{\"line\":{\"color\":\"#E5ECF6\",\"width\":0.5},\"pattern\":{\"fillmode\":\"overlay\",\"size\":10,\"solidity\":0.2}},\"type\":\"barpolar\"}],\"carpet\":[{\"aaxis\":{\"endlinecolor\":\"#2a3f5f\",\"gridcolor\":\"white\",\"linecolor\":\"white\",\"minorgridcolor\":\"white\",\"startlinecolor\":\"#2a3f5f\"},\"baxis\":{\"endlinecolor\":\"#2a3f5f\",\"gridcolor\":\"white\",\"linecolor\":\"white\",\"minorgridcolor\":\"white\",\"startlinecolor\":\"#2a3f5f\"},\"type\":\"carpet\"}],\"choropleth\":[{\"colorbar\":{\"outlinewidth\":0,\"ticks\":\"\"},\"type\":\"choropleth\"}],\"contour\":[{\"colorbar\":{\"outlinewidth\":0,\"ticks\":\"\"},\"colorscale\":[[0.0,\"#0d0887\"],[0.1111111111111111,\"#46039f\"],[0.2222222222222222,\"#7201a8\"],[0.3333333333333333,\"#9c179e\"],[0.4444444444444444,\"#bd3786\"],[0.5555555555555556,\"#d8576b\"],[0.6666666666666666,\"#ed7953\"],[0.7777777777777778,\"#fb9f3a\"],[0.8888888888888888,\"#fdca26\"],[1.0,\"#f0f921\"]],\"type\":\"contour\"}],\"contourcarpet\":[{\"colorbar\":{\"outlinewidth\":0,\"ticks\":\"\"},\"type\":\"contourcarpet\"}],\"heatmap\":[{\"colorbar\":{\"outlinewidth\":0,\"ticks\":\"\"},\"colorscale\":[[0.0,\"#0d0887\"],[0.1111111111111111,\"#46039f\"],[0.2222222222222222,\"#7201a8\"],[0.3333333333333333,\"#9c179e\"],[0.4444444444444444,\"#bd3786\"],[0.5555555555555556,\"#d8576b\"],[0.6666666666666666,\"#ed7953\"],[0.7777777777777778,\"#fb9f3a\"],[0.8888888888888888,\"#fdca26\"],[1.0,\"#f0f921\"]],\"type\":\"heatmap\"}],\"heatmapgl\":[{\"colorbar\":{\"outlinewidth\":0,\"ticks\":\"\"},\"colorscale\":[[0.0,\"#0d0887\"],[0.1111111111111111,\"#46039f\"],[0.2222222222222222,\"#7201a8\"],[0.3333333333333333,\"#9c179e\"],[0.4444444444444444,\"#bd3786\"],[0.5555555555555556,\"#d8576b\"],[0.6666666666666666,\"#ed7953\"],[0.7777777777777778,\"#fb9f3a\"],[0.8888888888888888,\"#fdca26\"],[1.0,\"#f0f921\"]],\"type\":\"heatmapgl\"}],\"histogram\":[{\"marker\":{\"pattern\":{\"fillmode\":\"overlay\",\"size\":10,\"solidity\":0.2}},\"type\":\"histogram\"}],\"histogram2d\":[{\"colorbar\":{\"outlinewidth\":0,\"ticks\":\"\"},\"colorscale\":[[0.0,\"#0d0887\"],[0.1111111111111111,\"#46039f\"],[0.2222222222222222,\"#7201a8\"],[0.3333333333333333,\"#9c179e\"],[0.4444444444444444,\"#bd3786\"],[0.5555555555555556,\"#d8576b\"],[0.6666666666666666,\"#ed7953\"],[0.7777777777777778,\"#fb9f3a\"],[0.8888888888888888,\"#fdca26\"],[1.0,\"#f0f921\"]],\"type\":\"histogram2d\"}],\"histogram2dcontour\":[{\"colorbar\":{\"outlinewidth\":0,\"ticks\":\"\"},\"colorscale\":[[0.0,\"#0d0887\"],[0.1111111111111111,\"#46039f\"],[0.2222222222222222,\"#7201a8\"],[0.3333333333333333,\"#9c179e\"],[0.4444444444444444,\"#bd3786\"],[0.5555555555555556,\"#d8576b\"],[0.6666666666666666,\"#ed7953\"],[0.7777777777777778,\"#fb9f3a\"],[0.8888888888888888,\"#fdca26\"],[1.0,\"#f0f921\"]],\"type\":\"histogram2dcontour\"}],\"mesh3d\":[{\"colorbar\":{\"outlinewidth\":0,\"ticks\":\"\"},\"type\":\"mesh3d\"}],\"parcoords\":[{\"line\":{\"colorbar\":{\"outlinewidth\":0,\"ticks\":\"\"}},\"type\":\"parcoords\"}],\"pie\":[{\"automargin\":true,\"type\":\"pie\"}],\"scatter\":[{\"marker\":{\"colorbar\":{\"outlinewidth\":0,\"ticks\":\"\"}},\"type\":\"scatter\"}],\"scatter3d\":[{\"line\":{\"colorbar\":{\"outlinewidth\":0,\"ticks\":\"\"}},\"marker\":{\"colorbar\":{\"outlinewidth\":0,\"ticks\":\"\"}},\"type\":\"scatter3d\"}],\"scattercarpet\":[{\"marker\":{\"colorbar\":{\"outlinewidth\":0,\"ticks\":\"\"}},\"type\":\"scattercarpet\"}],\"scattergeo\":[{\"marker\":{\"colorbar\":{\"outlinewidth\":0,\"ticks\":\"\"}},\"type\":\"scattergeo\"}],\"scattergl\":[{\"marker\":{\"colorbar\":{\"outlinewidth\":0,\"ticks\":\"\"}},\"type\":\"scattergl\"}],\"scattermapbox\":[{\"marker\":{\"colorbar\":{\"outlinewidth\":0,\"ticks\":\"\"}},\"type\":\"scattermapbox\"}],\"scatterpolar\":[{\"marker\":{\"colorbar\":{\"outlinewidth\":0,\"ticks\":\"\"}},\"type\":\"scatterpolar\"}],\"scatterpolargl\":[{\"marker\":{\"colorbar\":{\"outlinewidth\":0,\"ticks\":\"\"}},\"type\":\"scatterpolargl\"}],\"scatterternary\":[{\"marker\":{\"colorbar\":{\"outlinewidth\":0,\"ticks\":\"\"}},\"type\":\"scatterternary\"}],\"surface\":[{\"colorbar\":{\"outlinewidth\":0,\"ticks\":\"\"},\"colorscale\":[[0.0,\"#0d0887\"],[0.1111111111111111,\"#46039f\"],[0.2222222222222222,\"#7201a8\"],[0.3333333333333333,\"#9c179e\"],[0.4444444444444444,\"#bd3786\"],[0.5555555555555556,\"#d8576b\"],[0.6666666666666666,\"#ed7953\"],[0.7777777777777778,\"#fb9f3a\"],[0.8888888888888888,\"#fdca26\"],[1.0,\"#f0f921\"]],\"type\":\"surface\"}],\"table\":[{\"cells\":{\"fill\":{\"color\":\"#EBF0F8\"},\"line\":{\"color\":\"white\"}},\"header\":{\"fill\":{\"color\":\"#C8D4E3\"},\"line\":{\"color\":\"white\"}},\"type\":\"table\"}]},\"layout\":{\"annotationdefaults\":{\"arrowcolor\":\"#2a3f5f\",\"arrowhead\":0,\"arrowwidth\":1},\"autotypenumbers\":\"strict\",\"coloraxis\":{\"colorbar\":{\"outlinewidth\":0,\"ticks\":\"\"}},\"colorscale\":{\"diverging\":[[0,\"#8e0152\"],[0.1,\"#c51b7d\"],[0.2,\"#de77ae\"],[0.3,\"#f1b6da\"],[0.4,\"#fde0ef\"],[0.5,\"#f7f7f7\"],[0.6,\"#e6f5d0\"],[0.7,\"#b8e186\"],[0.8,\"#7fbc41\"],[0.9,\"#4d9221\"],[1,\"#276419\"]],\"sequential\":[[0.0,\"#0d0887\"],[0.1111111111111111,\"#46039f\"],[0.2222222222222222,\"#7201a8\"],[0.3333333333333333,\"#9c179e\"],[0.4444444444444444,\"#bd3786\"],[0.5555555555555556,\"#d8576b\"],[0.6666666666666666,\"#ed7953\"],[0.7777777777777778,\"#fb9f3a\"],[0.8888888888888888,\"#fdca26\"],[1.0,\"#f0f921\"]],\"sequentialminus\":[[0.0,\"#0d0887\"],[0.1111111111111111,\"#46039f\"],[0.2222222222222222,\"#7201a8\"],[0.3333333333333333,\"#9c179e\"],[0.4444444444444444,\"#bd3786\"],[0.5555555555555556,\"#d8576b\"],[0.6666666666666666,\"#ed7953\"],[0.7777777777777778,\"#fb9f3a\"],[0.8888888888888888,\"#fdca26\"],[1.0,\"#f0f921\"]]},\"colorway\":[\"#636efa\",\"#EF553B\",\"#00cc96\",\"#ab63fa\",\"#FFA15A\",\"#19d3f3\",\"#FF6692\",\"#B6E880\",\"#FF97FF\",\"#FECB52\"],\"font\":{\"color\":\"#2a3f5f\"},\"geo\":{\"bgcolor\":\"white\",\"lakecolor\":\"white\",\"landcolor\":\"#E5ECF6\",\"showlakes\":true,\"showland\":true,\"subunitcolor\":\"white\"},\"hoverlabel\":{\"align\":\"left\"},\"hovermode\":\"closest\",\"mapbox\":{\"style\":\"light\"},\"paper_bgcolor\":\"white\",\"plot_bgcolor\":\"#E5ECF6\",\"polar\":{\"angularaxis\":{\"gridcolor\":\"white\",\"linecolor\":\"white\",\"ticks\":\"\"},\"bgcolor\":\"#E5ECF6\",\"radialaxis\":{\"gridcolor\":\"white\",\"linecolor\":\"white\",\"ticks\":\"\"}},\"scene\":{\"xaxis\":{\"backgroundcolor\":\"#E5ECF6\",\"gridcolor\":\"white\",\"gridwidth\":2,\"linecolor\":\"white\",\"showbackground\":true,\"ticks\":\"\",\"zerolinecolor\":\"white\"},\"yaxis\":{\"backgroundcolor\":\"#E5ECF6\",\"gridcolor\":\"white\",\"gridwidth\":2,\"linecolor\":\"white\",\"showbackground\":true,\"ticks\":\"\",\"zerolinecolor\":\"white\"},\"zaxis\":{\"backgroundcolor\":\"#E5ECF6\",\"gridcolor\":\"white\",\"gridwidth\":2,\"linecolor\":\"white\",\"showbackground\":true,\"ticks\":\"\",\"zerolinecolor\":\"white\"}},\"shapedefaults\":{\"line\":{\"color\":\"#2a3f5f\"}},\"ternary\":{\"aaxis\":{\"gridcolor\":\"white\",\"linecolor\":\"white\",\"ticks\":\"\"},\"baxis\":{\"gridcolor\":\"white\",\"linecolor\":\"white\",\"ticks\":\"\"},\"bgcolor\":\"#E5ECF6\",\"caxis\":{\"gridcolor\":\"white\",\"linecolor\":\"white\",\"ticks\":\"\"}},\"title\":{\"x\":0.05},\"xaxis\":{\"automargin\":true,\"gridcolor\":\"white\",\"linecolor\":\"white\",\"ticks\":\"\",\"title\":{\"standoff\":15},\"zerolinecolor\":\"white\",\"zerolinewidth\":2},\"yaxis\":{\"automargin\":true,\"gridcolor\":\"white\",\"linecolor\":\"white\",\"ticks\":\"\",\"title\":{\"standoff\":15},\"zerolinecolor\":\"white\",\"zerolinewidth\":2}}}},                        {\"responsive\": true}                    ).then(function(){\n",
       "                            \n",
       "var gd = document.getElementById('e7dec883-6309-4060-9401-01008b5508c1');\n",
       "var x = new MutationObserver(function (mutations, observer) {{\n",
       "        var display = window.getComputedStyle(gd).display;\n",
       "        if (!display || display === 'none') {{\n",
       "            console.log([gd, 'removed!']);\n",
       "            Plotly.purge(gd);\n",
       "            observer.disconnect();\n",
       "        }}\n",
       "}});\n",
       "\n",
       "// Listen for the removal of the full notebook cells\n",
       "var notebookContainer = gd.closest('#notebook-container');\n",
       "if (notebookContainer) {{\n",
       "    x.observe(notebookContainer, {childList: true});\n",
       "}}\n",
       "\n",
       "// Listen for the clearing of the current output cell\n",
       "var outputEl = gd.closest('.output');\n",
       "if (outputEl) {{\n",
       "    x.observe(outputEl, {childList: true});\n",
       "}}\n",
       "\n",
       "                        })                };                });            </script>        </div>"
      ]
     },
     "metadata": {},
     "output_type": "display_data"
    }
   ],
   "source": [
    "fig = go.Figure(go.Funnel(\n",
    "    \n",
    "    y = event_id['event'],\n",
    "    x =  event_id['id'],\n",
    "    textposition = \"inside\",\n",
    "    textinfo = \"value+percent total\"))\n",
    "    \n",
    "fig.show()"
   ]
  },
  {
   "cell_type": "markdown",
   "metadata": {},
   "source": [
    "### По воронке событий посчитаем, какая доля пользователей проходит на следующий шаг воронки (от числа пользователей на предыдущем). То есть для последовательности событий A → B → C посчитаем отношение числа пользователей с событием B к количеству пользователей с событием A, а также отношение числа пользователей с событием C к количеству пользователей с событием B."
   ]
  },
  {
   "cell_type": "code",
   "execution_count": 124,
   "metadata": {},
   "outputs": [
    {
     "name": "stdout",
     "output_type": "stream",
     "text": [
      "С события MainScreenAppear к событию OffersScreenAppear перешло: 62.0 % пользователей\n"
     ]
    }
   ],
   "source": [
    "MainScreenAppear_to_OffersScreenAppear = round(event_id['id'][1]/event_id['id'][0], 2)*100\n",
    "print('С события MainScreenAppear к событию OffersScreenAppear перешло:', MainScreenAppear_to_OffersScreenAppear, '% пользователей') "
   ]
  },
  {
   "cell_type": "code",
   "execution_count": 125,
   "metadata": {},
   "outputs": [
    {
     "name": "stdout",
     "output_type": "stream",
     "text": [
      "С события OffersScreenAppear к событию CartScreenAppear перешло: 81.0 % пользователей\n"
     ]
    }
   ],
   "source": [
    "OffersScreenAppear_to_CartScreenAppear  = round(event_id['id'][2]/event_id['id'][1], 2)*100\n",
    "print('С события OffersScreenAppear к событию CartScreenAppear перешло:', OffersScreenAppear_to_CartScreenAppear, '% пользователей')"
   ]
  },
  {
   "cell_type": "code",
   "execution_count": 126,
   "metadata": {},
   "outputs": [
    {
     "name": "stdout",
     "output_type": "stream",
     "text": [
      "С события CartScreenAppear к событию PaymentScreenSuccessful: 95.0 % пользователей\n"
     ]
    }
   ],
   "source": [
    "CartScreenAppear_to_PaymentScreenSuccessful = round(event_id['id'][3]/event_id['id'][2], 2)*100\n",
    "print('С события CartScreenAppear к событию PaymentScreenSuccessful:',CartScreenAppear_to_PaymentScreenSuccessful, '% пользователей')"
   ]
  },
  {
   "cell_type": "markdown",
   "metadata": {},
   "source": [
    "### На каком шаге теряеем больше всего пользователей?"
   ]
  },
  {
   "cell_type": "markdown",
   "metadata": {},
   "source": [
    "Переход события MainScreenAppear к событию OffersScreenAppear теряет максимальное кол-во пользователей"
   ]
  },
  {
   "cell_type": "markdown",
   "metadata": {},
   "source": [
    "### Какая доля пользователей доходит от первого события до оплаты?"
   ]
  },
  {
   "cell_type": "code",
   "execution_count": 127,
   "metadata": {
    "scrolled": true
   },
   "outputs": [
    {
     "name": "stdout",
     "output_type": "stream",
     "text": [
      "От первого события до оплаты доходит: 48.0 % пользователей\n"
     ]
    }
   ],
   "source": [
    "MainScreenAppear_to_PaymentScreenSuccessful = round(event_id['id'][3]/event_id['id'][0], 2)*100\n",
    "print('От первого события до оплаты доходит:', MainScreenAppear_to_PaymentScreenSuccessful, '% пользователей')"
   ]
  },
  {
   "cell_type": "markdown",
   "metadata": {},
   "source": [
    "После изучения воронки событий получены следующие результаты:\n",
    "- Из пяти событий чаще всего происходит событие MainScreenAppear, и реже всего Tutorial\n",
    "- Подсчитано, сколько пользователей совершали каждое из этих событий\n",
    "- Сформирована воронка событий:\n",
    "   - Главный экран  MainScreenAppear\n",
    "   - Выбор предложения OffersScreenAppear\n",
    "   - Добавление в корзину CartScreenAppear\n",
    "   - Оплата PaymentScreenSuccessful\n",
    "- Посчитан процент пользователей при переходе между событиями.\n",
    "    - С события MainScreenAppear к событию OffersScreenAppear перешло: 62.0 % пользователей\n",
    "    - С события OffersScreenAppear к событию CartScreenAppear перешло: 81.0 % пользователей\n",
    "    - С события CartScreenAppear к событию PaymentScreenSuccessful: 95.0 % пользователей\n",
    "- Определили, на каком шаге теряется больше всего пользователей, переход события MainScreenAppear к событию OffersScreenAppear\n",
    "- Определили, какая доля пользователей доходит от первого события до оплаты: до оплаты доходит: 48.0 % пользователей"
   ]
  },
  {
   "cell_type": "markdown",
   "metadata": {},
   "source": [
    "<div class=\"alert alert-block alert-success\">\n",
    "\n",
    "**Комментарий ревьювера (все отлично)**\n",
    "    \n",
    "По выводам все верно. После первого события теряется больше всего пользователей. Около половины клиентов доходит с первого этапа до последнего.\n",
    "\n",
    "</div>"
   ]
  },
  {
   "cell_type": "markdown",
   "metadata": {},
   "source": [
    "## Изучить результаты эксперимента"
   ]
  },
  {
   "cell_type": "markdown",
   "metadata": {},
   "source": [
    "### Сколько пользователей в каждой экспериментальной группе?"
   ]
  },
  {
   "cell_type": "code",
   "execution_count": 128,
   "metadata": {},
   "outputs": [
    {
     "data": {
      "text/html": [
       "<div>\n",
       "<style scoped>\n",
       "    .dataframe tbody tr th:only-of-type {\n",
       "        vertical-align: middle;\n",
       "    }\n",
       "\n",
       "    .dataframe tbody tr th {\n",
       "        vertical-align: top;\n",
       "    }\n",
       "\n",
       "    .dataframe thead th {\n",
       "        text-align: right;\n",
       "    }\n",
       "</style>\n",
       "<table border=\"1\" class=\"dataframe\">\n",
       "  <thead>\n",
       "    <tr style=\"text-align: right;\">\n",
       "      <th></th>\n",
       "      <th>id</th>\n",
       "    </tr>\n",
       "    <tr>\n",
       "      <th>group</th>\n",
       "      <th></th>\n",
       "    </tr>\n",
       "  </thead>\n",
       "  <tbody>\n",
       "    <tr>\n",
       "      <th>246</th>\n",
       "      <td>2484</td>\n",
       "    </tr>\n",
       "    <tr>\n",
       "      <th>247</th>\n",
       "      <td>2513</td>\n",
       "    </tr>\n",
       "    <tr>\n",
       "      <th>248</th>\n",
       "      <td>2537</td>\n",
       "    </tr>\n",
       "  </tbody>\n",
       "</table>\n",
       "</div>"
      ],
      "text/plain": [
       "         id\n",
       "group      \n",
       "246    2484\n",
       "247    2513\n",
       "248    2537"
      ]
     },
     "execution_count": 128,
     "metadata": {},
     "output_type": "execute_result"
    }
   ],
   "source": [
    "group_id = logs_real_dt.pivot_table(index='group', values='id',aggfunc='nunique').sort_values(by='group', ascending=True)\n",
    "group_id"
   ]
  },
  {
   "cell_type": "markdown",
   "metadata": {},
   "source": [
    "Больше всего пользователей в группе 248, в ней 2537 пользователей. Меньше всего в группе 246, в ней 2484 пользователя, по серединке группа 247, в ней 2513 пользователей."
   ]
  },
  {
   "cell_type": "markdown",
   "metadata": {},
   "source": [
    "### Есть 2 контрольные группы для А/А-эксперимента, чтобы проверить корректность всех механизмов и расчётов. Проверим, находят ли статистические критерии разницу между выборками 246 и 247."
   ]
  },
  {
   "cell_type": "markdown",
   "metadata": {},
   "source": [
    "Создаем сводную таблицу с распределением пользоватлей по событиям и группам"
   ]
  },
  {
   "cell_type": "code",
   "execution_count": 129,
   "metadata": {
    "scrolled": true
   },
   "outputs": [
    {
     "data": {
      "text/html": [
       "<div>\n",
       "<style scoped>\n",
       "    .dataframe tbody tr th:only-of-type {\n",
       "        vertical-align: middle;\n",
       "    }\n",
       "\n",
       "    .dataframe tbody tr th {\n",
       "        vertical-align: top;\n",
       "    }\n",
       "\n",
       "    .dataframe thead th {\n",
       "        text-align: right;\n",
       "    }\n",
       "</style>\n",
       "<table border=\"1\" class=\"dataframe\">\n",
       "  <thead>\n",
       "    <tr style=\"text-align: right;\">\n",
       "      <th>event</th>\n",
       "      <th>CartScreenAppear</th>\n",
       "      <th>MainScreenAppear</th>\n",
       "      <th>OffersScreenAppear</th>\n",
       "      <th>PaymentScreenSuccessful</th>\n",
       "      <th>Tutorial</th>\n",
       "    </tr>\n",
       "    <tr>\n",
       "      <th>group</th>\n",
       "      <th></th>\n",
       "      <th></th>\n",
       "      <th></th>\n",
       "      <th></th>\n",
       "      <th></th>\n",
       "    </tr>\n",
       "  </thead>\n",
       "  <tbody>\n",
       "    <tr>\n",
       "      <th>246</th>\n",
       "      <td>1266</td>\n",
       "      <td>2450</td>\n",
       "      <td>1542</td>\n",
       "      <td>1200</td>\n",
       "      <td>278</td>\n",
       "    </tr>\n",
       "    <tr>\n",
       "      <th>247</th>\n",
       "      <td>1238</td>\n",
       "      <td>2476</td>\n",
       "      <td>1520</td>\n",
       "      <td>1158</td>\n",
       "      <td>283</td>\n",
       "    </tr>\n",
       "    <tr>\n",
       "      <th>248</th>\n",
       "      <td>1230</td>\n",
       "      <td>2493</td>\n",
       "      <td>1531</td>\n",
       "      <td>1181</td>\n",
       "      <td>279</td>\n",
       "    </tr>\n",
       "  </tbody>\n",
       "</table>\n",
       "</div>"
      ],
      "text/plain": [
       "event  CartScreenAppear  MainScreenAppear  OffersScreenAppear  \\\n",
       "group                                                           \n",
       "246                1266              2450                1542   \n",
       "247                1238              2476                1520   \n",
       "248                1230              2493                1531   \n",
       "\n",
       "event  PaymentScreenSuccessful  Tutorial  \n",
       "group                                     \n",
       "246                       1200       278  \n",
       "247                       1158       283  \n",
       "248                       1181       279  "
      ]
     },
     "execution_count": 129,
     "metadata": {},
     "output_type": "execute_result"
    }
   ],
   "source": [
    "group_event = logs_real_dt.pivot_table(index='group',columns = 'event', values='id', aggfunc='nunique')\n",
    "group_event"
   ]
  },
  {
   "cell_type": "markdown",
   "metadata": {},
   "source": [
    "Удаляем событие Tutorial, и добавляем общее число пользователей в каждой экспериментальной группе"
   ]
  },
  {
   "cell_type": "code",
   "execution_count": 130,
   "metadata": {
    "scrolled": false
   },
   "outputs": [
    {
     "data": {
      "text/html": [
       "<div>\n",
       "<style scoped>\n",
       "    .dataframe tbody tr th:only-of-type {\n",
       "        vertical-align: middle;\n",
       "    }\n",
       "\n",
       "    .dataframe tbody tr th {\n",
       "        vertical-align: top;\n",
       "    }\n",
       "\n",
       "    .dataframe thead th {\n",
       "        text-align: right;\n",
       "    }\n",
       "</style>\n",
       "<table border=\"1\" class=\"dataframe\">\n",
       "  <thead>\n",
       "    <tr style=\"text-align: right;\">\n",
       "      <th></th>\n",
       "      <th>group</th>\n",
       "      <th>CartScreenAppear</th>\n",
       "      <th>MainScreenAppear</th>\n",
       "      <th>OffersScreenAppear</th>\n",
       "      <th>PaymentScreenSuccessful</th>\n",
       "      <th>id</th>\n",
       "    </tr>\n",
       "  </thead>\n",
       "  <tbody>\n",
       "    <tr>\n",
       "      <th>0</th>\n",
       "      <td>246</td>\n",
       "      <td>1266</td>\n",
       "      <td>2450</td>\n",
       "      <td>1542</td>\n",
       "      <td>1200</td>\n",
       "      <td>2484</td>\n",
       "    </tr>\n",
       "    <tr>\n",
       "      <th>1</th>\n",
       "      <td>247</td>\n",
       "      <td>1238</td>\n",
       "      <td>2476</td>\n",
       "      <td>1520</td>\n",
       "      <td>1158</td>\n",
       "      <td>2513</td>\n",
       "    </tr>\n",
       "    <tr>\n",
       "      <th>2</th>\n",
       "      <td>248</td>\n",
       "      <td>1230</td>\n",
       "      <td>2493</td>\n",
       "      <td>1531</td>\n",
       "      <td>1181</td>\n",
       "      <td>2537</td>\n",
       "    </tr>\n",
       "  </tbody>\n",
       "</table>\n",
       "</div>"
      ],
      "text/plain": [
       "   group  CartScreenAppear  MainScreenAppear  OffersScreenAppear  \\\n",
       "0    246              1266              2450                1542   \n",
       "1    247              1238              2476                1520   \n",
       "2    248              1230              2493                1531   \n",
       "\n",
       "   PaymentScreenSuccessful    id  \n",
       "0                     1200  2484  \n",
       "1                     1158  2513  \n",
       "2                     1181  2537  "
      ]
     },
     "execution_count": 130,
     "metadata": {},
     "output_type": "execute_result"
    }
   ],
   "source": [
    "del group_event['Tutorial']\n",
    "group_event_id = group_event.merge(group_id,  left_on='group', right_on='group', how='left').reset_index()\n",
    "group_event_id"
   ]
  },
  {
   "cell_type": "markdown",
   "metadata": {},
   "source": [
    "Построим график воронки"
   ]
  },
  {
   "cell_type": "code",
   "execution_count": 149,
   "metadata": {
    "scrolled": false
   },
   "outputs": [
    {
     "data": {
      "application/vnd.plotly.v1+json": {
       "config": {
        "plotlyServerURL": "https://plot.ly"
       },
       "data": [
        {
         "name": "Gpoup 246",
         "textinfo": "value+percent initial",
         "type": "funnel",
         "x": [
          2450,
          1542,
          1266,
          1200
         ],
         "y": [
          "MainScreenAppear",
          "OffersScreenAppear",
          "CartScreenAppear",
          "PaymentScreenSuccessful"
         ]
        },
        {
         "name": "Gpoup 247",
         "orientation": "h",
         "textinfo": "value+percent previous",
         "textposition": "inside",
         "type": "funnel",
         "x": [
          2476,
          1520,
          1238,
          1158
         ],
         "y": [
          "MainScreenAppear",
          "OffersScreenAppear",
          "CartScreenAppear",
          "PaymentScreenSuccessful"
         ]
        },
        {
         "name": "Gpoup 248",
         "orientation": "h",
         "textinfo": "value+percent total",
         "textposition": "inside",
         "type": "funnel",
         "x": [
          2493,
          1531,
          1230,
          1181
         ],
         "y": [
          "MainScreenAppear",
          "OffersScreenAppear",
          "CartScreenAppear",
          "PaymentScreenSuccessful"
         ]
        }
       ],
       "layout": {
        "template": {
         "data": {
          "bar": [
           {
            "error_x": {
             "color": "#2a3f5f"
            },
            "error_y": {
             "color": "#2a3f5f"
            },
            "marker": {
             "line": {
              "color": "#E5ECF6",
              "width": 0.5
             },
             "pattern": {
              "fillmode": "overlay",
              "size": 10,
              "solidity": 0.2
             }
            },
            "type": "bar"
           }
          ],
          "barpolar": [
           {
            "marker": {
             "line": {
              "color": "#E5ECF6",
              "width": 0.5
             },
             "pattern": {
              "fillmode": "overlay",
              "size": 10,
              "solidity": 0.2
             }
            },
            "type": "barpolar"
           }
          ],
          "carpet": [
           {
            "aaxis": {
             "endlinecolor": "#2a3f5f",
             "gridcolor": "white",
             "linecolor": "white",
             "minorgridcolor": "white",
             "startlinecolor": "#2a3f5f"
            },
            "baxis": {
             "endlinecolor": "#2a3f5f",
             "gridcolor": "white",
             "linecolor": "white",
             "minorgridcolor": "white",
             "startlinecolor": "#2a3f5f"
            },
            "type": "carpet"
           }
          ],
          "choropleth": [
           {
            "colorbar": {
             "outlinewidth": 0,
             "ticks": ""
            },
            "type": "choropleth"
           }
          ],
          "contour": [
           {
            "colorbar": {
             "outlinewidth": 0,
             "ticks": ""
            },
            "colorscale": [
             [
              0,
              "#0d0887"
             ],
             [
              0.1111111111111111,
              "#46039f"
             ],
             [
              0.2222222222222222,
              "#7201a8"
             ],
             [
              0.3333333333333333,
              "#9c179e"
             ],
             [
              0.4444444444444444,
              "#bd3786"
             ],
             [
              0.5555555555555556,
              "#d8576b"
             ],
             [
              0.6666666666666666,
              "#ed7953"
             ],
             [
              0.7777777777777778,
              "#fb9f3a"
             ],
             [
              0.8888888888888888,
              "#fdca26"
             ],
             [
              1,
              "#f0f921"
             ]
            ],
            "type": "contour"
           }
          ],
          "contourcarpet": [
           {
            "colorbar": {
             "outlinewidth": 0,
             "ticks": ""
            },
            "type": "contourcarpet"
           }
          ],
          "heatmap": [
           {
            "colorbar": {
             "outlinewidth": 0,
             "ticks": ""
            },
            "colorscale": [
             [
              0,
              "#0d0887"
             ],
             [
              0.1111111111111111,
              "#46039f"
             ],
             [
              0.2222222222222222,
              "#7201a8"
             ],
             [
              0.3333333333333333,
              "#9c179e"
             ],
             [
              0.4444444444444444,
              "#bd3786"
             ],
             [
              0.5555555555555556,
              "#d8576b"
             ],
             [
              0.6666666666666666,
              "#ed7953"
             ],
             [
              0.7777777777777778,
              "#fb9f3a"
             ],
             [
              0.8888888888888888,
              "#fdca26"
             ],
             [
              1,
              "#f0f921"
             ]
            ],
            "type": "heatmap"
           }
          ],
          "heatmapgl": [
           {
            "colorbar": {
             "outlinewidth": 0,
             "ticks": ""
            },
            "colorscale": [
             [
              0,
              "#0d0887"
             ],
             [
              0.1111111111111111,
              "#46039f"
             ],
             [
              0.2222222222222222,
              "#7201a8"
             ],
             [
              0.3333333333333333,
              "#9c179e"
             ],
             [
              0.4444444444444444,
              "#bd3786"
             ],
             [
              0.5555555555555556,
              "#d8576b"
             ],
             [
              0.6666666666666666,
              "#ed7953"
             ],
             [
              0.7777777777777778,
              "#fb9f3a"
             ],
             [
              0.8888888888888888,
              "#fdca26"
             ],
             [
              1,
              "#f0f921"
             ]
            ],
            "type": "heatmapgl"
           }
          ],
          "histogram": [
           {
            "marker": {
             "pattern": {
              "fillmode": "overlay",
              "size": 10,
              "solidity": 0.2
             }
            },
            "type": "histogram"
           }
          ],
          "histogram2d": [
           {
            "colorbar": {
             "outlinewidth": 0,
             "ticks": ""
            },
            "colorscale": [
             [
              0,
              "#0d0887"
             ],
             [
              0.1111111111111111,
              "#46039f"
             ],
             [
              0.2222222222222222,
              "#7201a8"
             ],
             [
              0.3333333333333333,
              "#9c179e"
             ],
             [
              0.4444444444444444,
              "#bd3786"
             ],
             [
              0.5555555555555556,
              "#d8576b"
             ],
             [
              0.6666666666666666,
              "#ed7953"
             ],
             [
              0.7777777777777778,
              "#fb9f3a"
             ],
             [
              0.8888888888888888,
              "#fdca26"
             ],
             [
              1,
              "#f0f921"
             ]
            ],
            "type": "histogram2d"
           }
          ],
          "histogram2dcontour": [
           {
            "colorbar": {
             "outlinewidth": 0,
             "ticks": ""
            },
            "colorscale": [
             [
              0,
              "#0d0887"
             ],
             [
              0.1111111111111111,
              "#46039f"
             ],
             [
              0.2222222222222222,
              "#7201a8"
             ],
             [
              0.3333333333333333,
              "#9c179e"
             ],
             [
              0.4444444444444444,
              "#bd3786"
             ],
             [
              0.5555555555555556,
              "#d8576b"
             ],
             [
              0.6666666666666666,
              "#ed7953"
             ],
             [
              0.7777777777777778,
              "#fb9f3a"
             ],
             [
              0.8888888888888888,
              "#fdca26"
             ],
             [
              1,
              "#f0f921"
             ]
            ],
            "type": "histogram2dcontour"
           }
          ],
          "mesh3d": [
           {
            "colorbar": {
             "outlinewidth": 0,
             "ticks": ""
            },
            "type": "mesh3d"
           }
          ],
          "parcoords": [
           {
            "line": {
             "colorbar": {
              "outlinewidth": 0,
              "ticks": ""
             }
            },
            "type": "parcoords"
           }
          ],
          "pie": [
           {
            "automargin": true,
            "type": "pie"
           }
          ],
          "scatter": [
           {
            "marker": {
             "colorbar": {
              "outlinewidth": 0,
              "ticks": ""
             }
            },
            "type": "scatter"
           }
          ],
          "scatter3d": [
           {
            "line": {
             "colorbar": {
              "outlinewidth": 0,
              "ticks": ""
             }
            },
            "marker": {
             "colorbar": {
              "outlinewidth": 0,
              "ticks": ""
             }
            },
            "type": "scatter3d"
           }
          ],
          "scattercarpet": [
           {
            "marker": {
             "colorbar": {
              "outlinewidth": 0,
              "ticks": ""
             }
            },
            "type": "scattercarpet"
           }
          ],
          "scattergeo": [
           {
            "marker": {
             "colorbar": {
              "outlinewidth": 0,
              "ticks": ""
             }
            },
            "type": "scattergeo"
           }
          ],
          "scattergl": [
           {
            "marker": {
             "colorbar": {
              "outlinewidth": 0,
              "ticks": ""
             }
            },
            "type": "scattergl"
           }
          ],
          "scattermapbox": [
           {
            "marker": {
             "colorbar": {
              "outlinewidth": 0,
              "ticks": ""
             }
            },
            "type": "scattermapbox"
           }
          ],
          "scatterpolar": [
           {
            "marker": {
             "colorbar": {
              "outlinewidth": 0,
              "ticks": ""
             }
            },
            "type": "scatterpolar"
           }
          ],
          "scatterpolargl": [
           {
            "marker": {
             "colorbar": {
              "outlinewidth": 0,
              "ticks": ""
             }
            },
            "type": "scatterpolargl"
           }
          ],
          "scatterternary": [
           {
            "marker": {
             "colorbar": {
              "outlinewidth": 0,
              "ticks": ""
             }
            },
            "type": "scatterternary"
           }
          ],
          "surface": [
           {
            "colorbar": {
             "outlinewidth": 0,
             "ticks": ""
            },
            "colorscale": [
             [
              0,
              "#0d0887"
             ],
             [
              0.1111111111111111,
              "#46039f"
             ],
             [
              0.2222222222222222,
              "#7201a8"
             ],
             [
              0.3333333333333333,
              "#9c179e"
             ],
             [
              0.4444444444444444,
              "#bd3786"
             ],
             [
              0.5555555555555556,
              "#d8576b"
             ],
             [
              0.6666666666666666,
              "#ed7953"
             ],
             [
              0.7777777777777778,
              "#fb9f3a"
             ],
             [
              0.8888888888888888,
              "#fdca26"
             ],
             [
              1,
              "#f0f921"
             ]
            ],
            "type": "surface"
           }
          ],
          "table": [
           {
            "cells": {
             "fill": {
              "color": "#EBF0F8"
             },
             "line": {
              "color": "white"
             }
            },
            "header": {
             "fill": {
              "color": "#C8D4E3"
             },
             "line": {
              "color": "white"
             }
            },
            "type": "table"
           }
          ]
         },
         "layout": {
          "annotationdefaults": {
           "arrowcolor": "#2a3f5f",
           "arrowhead": 0,
           "arrowwidth": 1
          },
          "autotypenumbers": "strict",
          "coloraxis": {
           "colorbar": {
            "outlinewidth": 0,
            "ticks": ""
           }
          },
          "colorscale": {
           "diverging": [
            [
             0,
             "#8e0152"
            ],
            [
             0.1,
             "#c51b7d"
            ],
            [
             0.2,
             "#de77ae"
            ],
            [
             0.3,
             "#f1b6da"
            ],
            [
             0.4,
             "#fde0ef"
            ],
            [
             0.5,
             "#f7f7f7"
            ],
            [
             0.6,
             "#e6f5d0"
            ],
            [
             0.7,
             "#b8e186"
            ],
            [
             0.8,
             "#7fbc41"
            ],
            [
             0.9,
             "#4d9221"
            ],
            [
             1,
             "#276419"
            ]
           ],
           "sequential": [
            [
             0,
             "#0d0887"
            ],
            [
             0.1111111111111111,
             "#46039f"
            ],
            [
             0.2222222222222222,
             "#7201a8"
            ],
            [
             0.3333333333333333,
             "#9c179e"
            ],
            [
             0.4444444444444444,
             "#bd3786"
            ],
            [
             0.5555555555555556,
             "#d8576b"
            ],
            [
             0.6666666666666666,
             "#ed7953"
            ],
            [
             0.7777777777777778,
             "#fb9f3a"
            ],
            [
             0.8888888888888888,
             "#fdca26"
            ],
            [
             1,
             "#f0f921"
            ]
           ],
           "sequentialminus": [
            [
             0,
             "#0d0887"
            ],
            [
             0.1111111111111111,
             "#46039f"
            ],
            [
             0.2222222222222222,
             "#7201a8"
            ],
            [
             0.3333333333333333,
             "#9c179e"
            ],
            [
             0.4444444444444444,
             "#bd3786"
            ],
            [
             0.5555555555555556,
             "#d8576b"
            ],
            [
             0.6666666666666666,
             "#ed7953"
            ],
            [
             0.7777777777777778,
             "#fb9f3a"
            ],
            [
             0.8888888888888888,
             "#fdca26"
            ],
            [
             1,
             "#f0f921"
            ]
           ]
          },
          "colorway": [
           "#636efa",
           "#EF553B",
           "#00cc96",
           "#ab63fa",
           "#FFA15A",
           "#19d3f3",
           "#FF6692",
           "#B6E880",
           "#FF97FF",
           "#FECB52"
          ],
          "font": {
           "color": "#2a3f5f"
          },
          "geo": {
           "bgcolor": "white",
           "lakecolor": "white",
           "landcolor": "#E5ECF6",
           "showlakes": true,
           "showland": true,
           "subunitcolor": "white"
          },
          "hoverlabel": {
           "align": "left"
          },
          "hovermode": "closest",
          "mapbox": {
           "style": "light"
          },
          "paper_bgcolor": "white",
          "plot_bgcolor": "#E5ECF6",
          "polar": {
           "angularaxis": {
            "gridcolor": "white",
            "linecolor": "white",
            "ticks": ""
           },
           "bgcolor": "#E5ECF6",
           "radialaxis": {
            "gridcolor": "white",
            "linecolor": "white",
            "ticks": ""
           }
          },
          "scene": {
           "xaxis": {
            "backgroundcolor": "#E5ECF6",
            "gridcolor": "white",
            "gridwidth": 2,
            "linecolor": "white",
            "showbackground": true,
            "ticks": "",
            "zerolinecolor": "white"
           },
           "yaxis": {
            "backgroundcolor": "#E5ECF6",
            "gridcolor": "white",
            "gridwidth": 2,
            "linecolor": "white",
            "showbackground": true,
            "ticks": "",
            "zerolinecolor": "white"
           },
           "zaxis": {
            "backgroundcolor": "#E5ECF6",
            "gridcolor": "white",
            "gridwidth": 2,
            "linecolor": "white",
            "showbackground": true,
            "ticks": "",
            "zerolinecolor": "white"
           }
          },
          "shapedefaults": {
           "line": {
            "color": "#2a3f5f"
           }
          },
          "ternary": {
           "aaxis": {
            "gridcolor": "white",
            "linecolor": "white",
            "ticks": ""
           },
           "baxis": {
            "gridcolor": "white",
            "linecolor": "white",
            "ticks": ""
           },
           "bgcolor": "#E5ECF6",
           "caxis": {
            "gridcolor": "white",
            "linecolor": "white",
            "ticks": ""
           }
          },
          "title": {
           "x": 0.05
          },
          "xaxis": {
           "automargin": true,
           "gridcolor": "white",
           "linecolor": "white",
           "ticks": "",
           "title": {
            "standoff": 15
           },
           "zerolinecolor": "white",
           "zerolinewidth": 2
          },
          "yaxis": {
           "automargin": true,
           "gridcolor": "white",
           "linecolor": "white",
           "ticks": "",
           "title": {
            "standoff": 15
           },
           "zerolinecolor": "white",
           "zerolinewidth": 2
          }
         }
        }
       }
      },
      "text/html": [
       "<div>                            <div id=\"3c7acdad-5029-431a-9453-4a603f77e09c\" class=\"plotly-graph-div\" style=\"height:525px; width:100%;\"></div>            <script type=\"text/javascript\">                require([\"plotly\"], function(Plotly) {                    window.PLOTLYENV=window.PLOTLYENV || {};                                    if (document.getElementById(\"3c7acdad-5029-431a-9453-4a603f77e09c\")) {                    Plotly.newPlot(                        \"3c7acdad-5029-431a-9453-4a603f77e09c\",                        [{\"name\":\"Gpoup 246\",\"textinfo\":\"value+percent initial\",\"x\":[2450,1542,1266,1200],\"y\":[\"MainScreenAppear\",\"OffersScreenAppear\",\"CartScreenAppear\",\"PaymentScreenSuccessful\"],\"type\":\"funnel\"},{\"name\":\"Gpoup 247\",\"orientation\":\"h\",\"textinfo\":\"value+percent previous\",\"textposition\":\"inside\",\"x\":[2476,1520,1238,1158],\"y\":[\"MainScreenAppear\",\"OffersScreenAppear\",\"CartScreenAppear\",\"PaymentScreenSuccessful\"],\"type\":\"funnel\"},{\"name\":\"Gpoup 248\",\"orientation\":\"h\",\"textinfo\":\"value+percent total\",\"textposition\":\"inside\",\"x\":[2493,1531,1230,1181],\"y\":[\"MainScreenAppear\",\"OffersScreenAppear\",\"CartScreenAppear\",\"PaymentScreenSuccessful\"],\"type\":\"funnel\"}],                        {\"template\":{\"data\":{\"bar\":[{\"error_x\":{\"color\":\"#2a3f5f\"},\"error_y\":{\"color\":\"#2a3f5f\"},\"marker\":{\"line\":{\"color\":\"#E5ECF6\",\"width\":0.5},\"pattern\":{\"fillmode\":\"overlay\",\"size\":10,\"solidity\":0.2}},\"type\":\"bar\"}],\"barpolar\":[{\"marker\":{\"line\":{\"color\":\"#E5ECF6\",\"width\":0.5},\"pattern\":{\"fillmode\":\"overlay\",\"size\":10,\"solidity\":0.2}},\"type\":\"barpolar\"}],\"carpet\":[{\"aaxis\":{\"endlinecolor\":\"#2a3f5f\",\"gridcolor\":\"white\",\"linecolor\":\"white\",\"minorgridcolor\":\"white\",\"startlinecolor\":\"#2a3f5f\"},\"baxis\":{\"endlinecolor\":\"#2a3f5f\",\"gridcolor\":\"white\",\"linecolor\":\"white\",\"minorgridcolor\":\"white\",\"startlinecolor\":\"#2a3f5f\"},\"type\":\"carpet\"}],\"choropleth\":[{\"colorbar\":{\"outlinewidth\":0,\"ticks\":\"\"},\"type\":\"choropleth\"}],\"contour\":[{\"colorbar\":{\"outlinewidth\":0,\"ticks\":\"\"},\"colorscale\":[[0.0,\"#0d0887\"],[0.1111111111111111,\"#46039f\"],[0.2222222222222222,\"#7201a8\"],[0.3333333333333333,\"#9c179e\"],[0.4444444444444444,\"#bd3786\"],[0.5555555555555556,\"#d8576b\"],[0.6666666666666666,\"#ed7953\"],[0.7777777777777778,\"#fb9f3a\"],[0.8888888888888888,\"#fdca26\"],[1.0,\"#f0f921\"]],\"type\":\"contour\"}],\"contourcarpet\":[{\"colorbar\":{\"outlinewidth\":0,\"ticks\":\"\"},\"type\":\"contourcarpet\"}],\"heatmap\":[{\"colorbar\":{\"outlinewidth\":0,\"ticks\":\"\"},\"colorscale\":[[0.0,\"#0d0887\"],[0.1111111111111111,\"#46039f\"],[0.2222222222222222,\"#7201a8\"],[0.3333333333333333,\"#9c179e\"],[0.4444444444444444,\"#bd3786\"],[0.5555555555555556,\"#d8576b\"],[0.6666666666666666,\"#ed7953\"],[0.7777777777777778,\"#fb9f3a\"],[0.8888888888888888,\"#fdca26\"],[1.0,\"#f0f921\"]],\"type\":\"heatmap\"}],\"heatmapgl\":[{\"colorbar\":{\"outlinewidth\":0,\"ticks\":\"\"},\"colorscale\":[[0.0,\"#0d0887\"],[0.1111111111111111,\"#46039f\"],[0.2222222222222222,\"#7201a8\"],[0.3333333333333333,\"#9c179e\"],[0.4444444444444444,\"#bd3786\"],[0.5555555555555556,\"#d8576b\"],[0.6666666666666666,\"#ed7953\"],[0.7777777777777778,\"#fb9f3a\"],[0.8888888888888888,\"#fdca26\"],[1.0,\"#f0f921\"]],\"type\":\"heatmapgl\"}],\"histogram\":[{\"marker\":{\"pattern\":{\"fillmode\":\"overlay\",\"size\":10,\"solidity\":0.2}},\"type\":\"histogram\"}],\"histogram2d\":[{\"colorbar\":{\"outlinewidth\":0,\"ticks\":\"\"},\"colorscale\":[[0.0,\"#0d0887\"],[0.1111111111111111,\"#46039f\"],[0.2222222222222222,\"#7201a8\"],[0.3333333333333333,\"#9c179e\"],[0.4444444444444444,\"#bd3786\"],[0.5555555555555556,\"#d8576b\"],[0.6666666666666666,\"#ed7953\"],[0.7777777777777778,\"#fb9f3a\"],[0.8888888888888888,\"#fdca26\"],[1.0,\"#f0f921\"]],\"type\":\"histogram2d\"}],\"histogram2dcontour\":[{\"colorbar\":{\"outlinewidth\":0,\"ticks\":\"\"},\"colorscale\":[[0.0,\"#0d0887\"],[0.1111111111111111,\"#46039f\"],[0.2222222222222222,\"#7201a8\"],[0.3333333333333333,\"#9c179e\"],[0.4444444444444444,\"#bd3786\"],[0.5555555555555556,\"#d8576b\"],[0.6666666666666666,\"#ed7953\"],[0.7777777777777778,\"#fb9f3a\"],[0.8888888888888888,\"#fdca26\"],[1.0,\"#f0f921\"]],\"type\":\"histogram2dcontour\"}],\"mesh3d\":[{\"colorbar\":{\"outlinewidth\":0,\"ticks\":\"\"},\"type\":\"mesh3d\"}],\"parcoords\":[{\"line\":{\"colorbar\":{\"outlinewidth\":0,\"ticks\":\"\"}},\"type\":\"parcoords\"}],\"pie\":[{\"automargin\":true,\"type\":\"pie\"}],\"scatter\":[{\"marker\":{\"colorbar\":{\"outlinewidth\":0,\"ticks\":\"\"}},\"type\":\"scatter\"}],\"scatter3d\":[{\"line\":{\"colorbar\":{\"outlinewidth\":0,\"ticks\":\"\"}},\"marker\":{\"colorbar\":{\"outlinewidth\":0,\"ticks\":\"\"}},\"type\":\"scatter3d\"}],\"scattercarpet\":[{\"marker\":{\"colorbar\":{\"outlinewidth\":0,\"ticks\":\"\"}},\"type\":\"scattercarpet\"}],\"scattergeo\":[{\"marker\":{\"colorbar\":{\"outlinewidth\":0,\"ticks\":\"\"}},\"type\":\"scattergeo\"}],\"scattergl\":[{\"marker\":{\"colorbar\":{\"outlinewidth\":0,\"ticks\":\"\"}},\"type\":\"scattergl\"}],\"scattermapbox\":[{\"marker\":{\"colorbar\":{\"outlinewidth\":0,\"ticks\":\"\"}},\"type\":\"scattermapbox\"}],\"scatterpolar\":[{\"marker\":{\"colorbar\":{\"outlinewidth\":0,\"ticks\":\"\"}},\"type\":\"scatterpolar\"}],\"scatterpolargl\":[{\"marker\":{\"colorbar\":{\"outlinewidth\":0,\"ticks\":\"\"}},\"type\":\"scatterpolargl\"}],\"scatterternary\":[{\"marker\":{\"colorbar\":{\"outlinewidth\":0,\"ticks\":\"\"}},\"type\":\"scatterternary\"}],\"surface\":[{\"colorbar\":{\"outlinewidth\":0,\"ticks\":\"\"},\"colorscale\":[[0.0,\"#0d0887\"],[0.1111111111111111,\"#46039f\"],[0.2222222222222222,\"#7201a8\"],[0.3333333333333333,\"#9c179e\"],[0.4444444444444444,\"#bd3786\"],[0.5555555555555556,\"#d8576b\"],[0.6666666666666666,\"#ed7953\"],[0.7777777777777778,\"#fb9f3a\"],[0.8888888888888888,\"#fdca26\"],[1.0,\"#f0f921\"]],\"type\":\"surface\"}],\"table\":[{\"cells\":{\"fill\":{\"color\":\"#EBF0F8\"},\"line\":{\"color\":\"white\"}},\"header\":{\"fill\":{\"color\":\"#C8D4E3\"},\"line\":{\"color\":\"white\"}},\"type\":\"table\"}]},\"layout\":{\"annotationdefaults\":{\"arrowcolor\":\"#2a3f5f\",\"arrowhead\":0,\"arrowwidth\":1},\"autotypenumbers\":\"strict\",\"coloraxis\":{\"colorbar\":{\"outlinewidth\":0,\"ticks\":\"\"}},\"colorscale\":{\"diverging\":[[0,\"#8e0152\"],[0.1,\"#c51b7d\"],[0.2,\"#de77ae\"],[0.3,\"#f1b6da\"],[0.4,\"#fde0ef\"],[0.5,\"#f7f7f7\"],[0.6,\"#e6f5d0\"],[0.7,\"#b8e186\"],[0.8,\"#7fbc41\"],[0.9,\"#4d9221\"],[1,\"#276419\"]],\"sequential\":[[0.0,\"#0d0887\"],[0.1111111111111111,\"#46039f\"],[0.2222222222222222,\"#7201a8\"],[0.3333333333333333,\"#9c179e\"],[0.4444444444444444,\"#bd3786\"],[0.5555555555555556,\"#d8576b\"],[0.6666666666666666,\"#ed7953\"],[0.7777777777777778,\"#fb9f3a\"],[0.8888888888888888,\"#fdca26\"],[1.0,\"#f0f921\"]],\"sequentialminus\":[[0.0,\"#0d0887\"],[0.1111111111111111,\"#46039f\"],[0.2222222222222222,\"#7201a8\"],[0.3333333333333333,\"#9c179e\"],[0.4444444444444444,\"#bd3786\"],[0.5555555555555556,\"#d8576b\"],[0.6666666666666666,\"#ed7953\"],[0.7777777777777778,\"#fb9f3a\"],[0.8888888888888888,\"#fdca26\"],[1.0,\"#f0f921\"]]},\"colorway\":[\"#636efa\",\"#EF553B\",\"#00cc96\",\"#ab63fa\",\"#FFA15A\",\"#19d3f3\",\"#FF6692\",\"#B6E880\",\"#FF97FF\",\"#FECB52\"],\"font\":{\"color\":\"#2a3f5f\"},\"geo\":{\"bgcolor\":\"white\",\"lakecolor\":\"white\",\"landcolor\":\"#E5ECF6\",\"showlakes\":true,\"showland\":true,\"subunitcolor\":\"white\"},\"hoverlabel\":{\"align\":\"left\"},\"hovermode\":\"closest\",\"mapbox\":{\"style\":\"light\"},\"paper_bgcolor\":\"white\",\"plot_bgcolor\":\"#E5ECF6\",\"polar\":{\"angularaxis\":{\"gridcolor\":\"white\",\"linecolor\":\"white\",\"ticks\":\"\"},\"bgcolor\":\"#E5ECF6\",\"radialaxis\":{\"gridcolor\":\"white\",\"linecolor\":\"white\",\"ticks\":\"\"}},\"scene\":{\"xaxis\":{\"backgroundcolor\":\"#E5ECF6\",\"gridcolor\":\"white\",\"gridwidth\":2,\"linecolor\":\"white\",\"showbackground\":true,\"ticks\":\"\",\"zerolinecolor\":\"white\"},\"yaxis\":{\"backgroundcolor\":\"#E5ECF6\",\"gridcolor\":\"white\",\"gridwidth\":2,\"linecolor\":\"white\",\"showbackground\":true,\"ticks\":\"\",\"zerolinecolor\":\"white\"},\"zaxis\":{\"backgroundcolor\":\"#E5ECF6\",\"gridcolor\":\"white\",\"gridwidth\":2,\"linecolor\":\"white\",\"showbackground\":true,\"ticks\":\"\",\"zerolinecolor\":\"white\"}},\"shapedefaults\":{\"line\":{\"color\":\"#2a3f5f\"}},\"ternary\":{\"aaxis\":{\"gridcolor\":\"white\",\"linecolor\":\"white\",\"ticks\":\"\"},\"baxis\":{\"gridcolor\":\"white\",\"linecolor\":\"white\",\"ticks\":\"\"},\"bgcolor\":\"#E5ECF6\",\"caxis\":{\"gridcolor\":\"white\",\"linecolor\":\"white\",\"ticks\":\"\"}},\"title\":{\"x\":0.05},\"xaxis\":{\"automargin\":true,\"gridcolor\":\"white\",\"linecolor\":\"white\",\"ticks\":\"\",\"title\":{\"standoff\":15},\"zerolinecolor\":\"white\",\"zerolinewidth\":2},\"yaxis\":{\"automargin\":true,\"gridcolor\":\"white\",\"linecolor\":\"white\",\"ticks\":\"\",\"title\":{\"standoff\":15},\"zerolinecolor\":\"white\",\"zerolinewidth\":2}}}},                        {\"responsive\": true}                    ).then(function(){\n",
       "                            \n",
       "var gd = document.getElementById('3c7acdad-5029-431a-9453-4a603f77e09c');\n",
       "var x = new MutationObserver(function (mutations, observer) {{\n",
       "        var display = window.getComputedStyle(gd).display;\n",
       "        if (!display || display === 'none') {{\n",
       "            console.log([gd, 'removed!']);\n",
       "            Plotly.purge(gd);\n",
       "            observer.disconnect();\n",
       "        }}\n",
       "}});\n",
       "\n",
       "// Listen for the removal of the full notebook cells\n",
       "var notebookContainer = gd.closest('#notebook-container');\n",
       "if (notebookContainer) {{\n",
       "    x.observe(notebookContainer, {childList: true});\n",
       "}}\n",
       "\n",
       "// Listen for the clearing of the current output cell\n",
       "var outputEl = gd.closest('.output');\n",
       "if (outputEl) {{\n",
       "    x.observe(outputEl, {childList: true});\n",
       "}}\n",
       "\n",
       "                        })                };                });            </script>        </div>"
      ]
     },
     "metadata": {},
     "output_type": "display_data"
    }
   ],
   "source": [
    "from plotly import graph_objects as go\n",
    "\n",
    "fig = go.Figure()\n",
    "\n",
    "fig.add_trace(go.Funnel(\n",
    "    name = 'Gpoup 246',\n",
    "    y = event_id['event'],\n",
    "    x = [group_event_id['MainScreenAppear'].loc[0],\n",
    "         group_event_id['OffersScreenAppear'].loc[0],\n",
    "         group_event_id['CartScreenAppear'].loc[0],\n",
    "         group_event_id['PaymentScreenSuccessful'].loc[0]],\n",
    "    textinfo = \"value+percent initial\"))\n",
    "\n",
    "fig.add_trace(go.Funnel(\n",
    "    name = 'Gpoup 247',\n",
    "    orientation = \"h\",\n",
    "    y = event_id['event'],\n",
    "    x = [group_event_id['MainScreenAppear'].loc[1],\n",
    "         group_event_id['OffersScreenAppear'].loc[1],\n",
    "         group_event_id['CartScreenAppear'].loc[1],\n",
    "         group_event_id['PaymentScreenSuccessful'].loc[1]],\n",
    "    textposition = \"inside\",\n",
    "    textinfo = \"value+percent previous\"))\n",
    "\n",
    "fig.add_trace(go.Funnel(\n",
    "    name = 'Gpoup 248',\n",
    "    orientation = \"h\",\n",
    "    y = event_id['event'],\n",
    "    x = [group_event_id['MainScreenAppear'].loc[2],\n",
    "         group_event_id['OffersScreenAppear'].loc[2],\n",
    "         group_event_id['CartScreenAppear'].loc[2],\n",
    "         group_event_id['PaymentScreenSuccessful'].loc[2]],\n",
    "    textposition = \"inside\",\n",
    "    textinfo = \"value+percent total\"))\n",
    "\n",
    "fig.show()"
   ]
  },
  {
   "cell_type": "code",
   "execution_count": 132,
   "metadata": {},
   "outputs": [
    {
     "data": {
      "text/html": [
       "<div>\n",
       "<style scoped>\n",
       "    .dataframe tbody tr th:only-of-type {\n",
       "        vertical-align: middle;\n",
       "    }\n",
       "\n",
       "    .dataframe tbody tr th {\n",
       "        vertical-align: top;\n",
       "    }\n",
       "\n",
       "    .dataframe thead th {\n",
       "        text-align: right;\n",
       "    }\n",
       "</style>\n",
       "<table border=\"1\" class=\"dataframe\">\n",
       "  <thead>\n",
       "    <tr style=\"text-align: right;\">\n",
       "      <th></th>\n",
       "      <th>group</th>\n",
       "      <th>CartScreenAppear</th>\n",
       "      <th>MainScreenAppear</th>\n",
       "      <th>OffersScreenAppear</th>\n",
       "      <th>PaymentScreenSuccessful</th>\n",
       "      <th>id</th>\n",
       "    </tr>\n",
       "  </thead>\n",
       "  <tbody>\n",
       "    <tr>\n",
       "      <th>0</th>\n",
       "      <td>246</td>\n",
       "      <td>1266</td>\n",
       "      <td>2450</td>\n",
       "      <td>1542</td>\n",
       "      <td>1200</td>\n",
       "      <td>2484</td>\n",
       "    </tr>\n",
       "    <tr>\n",
       "      <th>1</th>\n",
       "      <td>247</td>\n",
       "      <td>1238</td>\n",
       "      <td>2476</td>\n",
       "      <td>1520</td>\n",
       "      <td>1158</td>\n",
       "      <td>2513</td>\n",
       "    </tr>\n",
       "    <tr>\n",
       "      <th>2</th>\n",
       "      <td>248</td>\n",
       "      <td>1230</td>\n",
       "      <td>2493</td>\n",
       "      <td>1531</td>\n",
       "      <td>1181</td>\n",
       "      <td>2537</td>\n",
       "    </tr>\n",
       "    <tr>\n",
       "      <th>3</th>\n",
       "      <td>493</td>\n",
       "      <td>2504</td>\n",
       "      <td>4926</td>\n",
       "      <td>3062</td>\n",
       "      <td>2358</td>\n",
       "      <td>4997</td>\n",
       "    </tr>\n",
       "  </tbody>\n",
       "</table>\n",
       "</div>"
      ],
      "text/plain": [
       "   group  CartScreenAppear  MainScreenAppear  OffersScreenAppear  \\\n",
       "0    246              1266              2450                1542   \n",
       "1    247              1238              2476                1520   \n",
       "2    248              1230              2493                1531   \n",
       "3    493              2504              4926                3062   \n",
       "\n",
       "   PaymentScreenSuccessful    id  \n",
       "0                     1200  2484  \n",
       "1                     1158  2513  \n",
       "2                     1181  2537  \n",
       "3                     2358  4997  "
      ]
     },
     "execution_count": 132,
     "metadata": {},
     "output_type": "execute_result"
    }
   ],
   "source": [
    "group_event_id.loc[3] = group_event_id.loc[0] +  group_event_id.loc[1]\n",
    "group_event_id"
   ]
  },
  {
   "cell_type": "markdown",
   "metadata": {},
   "source": [
    "Определяем нулевую и альтернативную гипотезы"
   ]
  },
  {
   "cell_type": "markdown",
   "metadata": {},
   "source": [
    "- Нулевая гипотеза H0: Между долями нет значимой разница\n",
    "- Альтернативная гипотеза H1: Между долями есть значимая разницы\n",
    "- alpha = 0.1 критический уровень статистической значимости\n",
    "- Используем Проверка гипотезы о равенстве долей, с методом stats.cdf(), рассчитать кумулятивную функцию распределения (CDF) для случайной выборки данных."
   ]
  },
  {
   "cell_type": "markdown",
   "metadata": {},
   "source": [
    "Создаем дополнительные переменные"
   ]
  },
  {
   "cell_type": "code",
   "execution_count": 133,
   "metadata": {},
   "outputs": [],
   "source": [
    "user_id = np.array(group_event_id['id'])\n",
    "main = np.array(group_event_id['MainScreenAppear'])\n",
    "offers = np.array(group_event_id['OffersScreenAppear'])\n",
    "cart = np.array(group_event_id['CartScreenAppear'])\n",
    "payment = np.array(group_event_id['PaymentScreenSuccessful'])"
   ]
  },
  {
   "cell_type": "markdown",
   "metadata": {},
   "source": [
    "Создаю функцию для проведения эксперемента"
   ]
  },
  {
   "cell_type": "code",
   "execution_count": 134,
   "metadata": {},
   "outputs": [],
   "source": [
    "def group_experiment (purchases, leads, alpha):\n",
    "   \n",
    "    p1 = purchases[0]/leads[0]\n",
    "\n",
    "    p2 = purchases[1]/leads[1]\n",
    "\n",
    "    p_combined = (purchases[0] + purchases[1]) / (leads[0] + leads[1])\n",
    "\n",
    "    difference = p1 - p2 \n",
    "\n",
    "    z_value = difference / mth.sqrt(p_combined * (1 - p_combined) * (1/leads[0] + 1/leads[1]))\n",
    "\n",
    "    distr = stats.norm(0, 1)\n",
    "\n",
    "    p_value = (1 - distr.cdf(abs(z_value))) * 2\n",
    "\n",
    "    print('p-значение: ', p_value)\n",
    "\n",
    "    if p_value < alpha:\n",
    "        print('Отвергаем нулевую гипотезу: между долями есть значимая разница')\n",
    "        print('')\n",
    "    else:\n",
    "        print('Не получилось отвергнуть нулевую гипотезу, нет оснований считать доли разными')\n",
    "        print('')"
   ]
  },
  {
   "cell_type": "markdown",
   "metadata": {},
   "source": [
    "Доробатываю функцию таким образом, чтобы передавать индексы групп"
   ]
  },
  {
   "cell_type": "code",
   "execution_count": 135,
   "metadata": {},
   "outputs": [],
   "source": [
    "def index (index1, index2, alpha):\n",
    "    a = alpha\n",
    "    u = ([user_id[index1], user_id[index2]])\n",
    "    m = ([main[index1], main[index2]])\n",
    "    o = ([offers[index1], offers[index2]])\n",
    "    c = ([cart[index1], cart[index2]])\n",
    "    p = ([payment[index1], payment[index2]])\n",
    "    \n",
    "    print('Событие MainScreenAppear')\n",
    "    group_experiment(m,u,a)\n",
    "    \n",
    "    print('Событие OffersScreenAppear')\n",
    "    group_experiment(o,u,a)\n",
    "    \n",
    "    print('Событие CartScreenAppear')\n",
    "    group_experiment(c,u,a)\n",
    "    \n",
    "    print('Событие PaymentScreenSuccessful')\n",
    "    group_experiment(p,u,a)"
   ]
  },
  {
   "cell_type": "markdown",
   "metadata": {},
   "source": [
    "### Выбераем самое популярное событие. Посчитаем число пользователей, совершивших это событие в каждой из контрольных групп. Посчитаем долю пользователей, совершивших это событие. Проверим, будет ли отличие между группами статистически достоверным. Проделайте то же самое для всех других событий (удобно обернуть проверку в отдельную функцию). Можно ли сказать, что разбиение на группы работает корректно?"
   ]
  },
  {
   "cell_type": "markdown",
   "metadata": {},
   "source": [
    "Проверяем гипотезу для групп 246/247"
   ]
  },
  {
   "cell_type": "code",
   "execution_count": 136,
   "metadata": {},
   "outputs": [
    {
     "name": "stdout",
     "output_type": "stream",
     "text": [
      "Событие MainScreenAppear\n",
      "p-значение:  0.7570597232046099\n",
      "Не получилось отвергнуть нулевую гипотезу, нет оснований считать доли разными\n",
      "\n",
      "Событие OffersScreenAppear\n",
      "p-значение:  0.2480954578522181\n",
      "Не получилось отвергнуть нулевую гипотезу, нет оснований считать доли разными\n",
      "\n",
      "Событие CartScreenAppear\n",
      "p-значение:  0.22883372237997213\n",
      "Не получилось отвергнуть нулевую гипотезу, нет оснований считать доли разными\n",
      "\n",
      "Событие PaymentScreenSuccessful\n",
      "p-значение:  0.11456679313141849\n",
      "Не получилось отвергнуть нулевую гипотезу, нет оснований считать доли разными\n",
      "\n"
     ]
    }
   ],
   "source": [
    "index (0, 1, 0.05)"
   ]
  },
  {
   "cell_type": "markdown",
   "metadata": {},
   "source": [
    "Не удалось опровергнуть нулевую гипотезу, значит можно сказать, что разбиение на группы работает корректно"
   ]
  },
  {
   "cell_type": "markdown",
   "metadata": {},
   "source": [
    "### Аналогично поступим с группой с изменённым шрифтом. Сравним результаты с каждой из контрольных групп в отдельности по каждому событию. Сравним результаты с объединённой контрольной группой. Какие выводы из эксперимента можно сделать?"
   ]
  },
  {
   "cell_type": "markdown",
   "metadata": {},
   "source": [
    "Проверяем гипотезу для групп 246/248"
   ]
  },
  {
   "cell_type": "code",
   "execution_count": 137,
   "metadata": {},
   "outputs": [
    {
     "name": "stdout",
     "output_type": "stream",
     "text": [
      "Событие MainScreenAppear\n",
      "p-значение:  0.2949721933554552\n",
      "Не получилось отвергнуть нулевую гипотезу, нет оснований считать доли разными\n",
      "\n",
      "Событие OffersScreenAppear\n",
      "p-значение:  0.20836205402738917\n",
      "Не получилось отвергнуть нулевую гипотезу, нет оснований считать доли разными\n",
      "\n",
      "Событие CartScreenAppear\n",
      "p-значение:  0.07842923237520116\n",
      "Не получилось отвергнуть нулевую гипотезу, нет оснований считать доли разными\n",
      "\n",
      "Событие PaymentScreenSuccessful\n",
      "p-значение:  0.2122553275697796\n",
      "Не получилось отвергнуть нулевую гипотезу, нет оснований считать доли разными\n",
      "\n"
     ]
    }
   ],
   "source": [
    "index (0, 2, 0.05)"
   ]
  },
  {
   "cell_type": "markdown",
   "metadata": {},
   "source": [
    "При событие добавление в карзину нулевая гипотеза не подтвердилась, разница между долями имеется"
   ]
  },
  {
   "cell_type": "markdown",
   "metadata": {},
   "source": [
    "Проверяем гипотезу для групп 247/248"
   ]
  },
  {
   "cell_type": "code",
   "execution_count": 138,
   "metadata": {},
   "outputs": [
    {
     "name": "stdout",
     "output_type": "stream",
     "text": [
      "Событие MainScreenAppear\n",
      "p-значение:  0.4587053616621515\n",
      "Не получилось отвергнуть нулевую гипотезу, нет оснований считать доли разными\n",
      "\n",
      "Событие OffersScreenAppear\n",
      "p-значение:  0.9197817830592261\n",
      "Не получилось отвергнуть нулевую гипотезу, нет оснований считать доли разными\n",
      "\n",
      "Событие CartScreenAppear\n",
      "p-значение:  0.5786197879539783\n",
      "Не получилось отвергнуть нулевую гипотезу, нет оснований считать доли разными\n",
      "\n",
      "Событие PaymentScreenSuccessful\n",
      "p-значение:  0.7373415053803964\n",
      "Не получилось отвергнуть нулевую гипотезу, нет оснований считать доли разными\n",
      "\n"
     ]
    }
   ],
   "source": [
    "index (1, 2, 0.05)"
   ]
  },
  {
   "cell_type": "markdown",
   "metadata": {},
   "source": [
    "Не удалось опровергнуть нулевую гипотезу, различия между долями незначительно"
   ]
  },
  {
   "cell_type": "markdown",
   "metadata": {},
   "source": [
    "Проверяем гипотезу для групп 249/248"
   ]
  },
  {
   "cell_type": "code",
   "execution_count": 139,
   "metadata": {},
   "outputs": [
    {
     "name": "stdout",
     "output_type": "stream",
     "text": [
      "Событие MainScreenAppear\n",
      "p-значение:  0.29424526837179577\n",
      "Не получилось отвергнуть нулевую гипотезу, нет оснований считать доли разными\n",
      "\n",
      "Событие OffersScreenAppear\n",
      "p-значение:  0.43425549655188256\n",
      "Не получилось отвергнуть нулевую гипотезу, нет оснований считать доли разными\n",
      "\n",
      "Событие CartScreenAppear\n",
      "p-значение:  0.18175875284404386\n",
      "Не получилось отвергнуть нулевую гипотезу, нет оснований считать доли разными\n",
      "\n",
      "Событие PaymentScreenSuccessful\n",
      "p-значение:  0.6004294282308704\n",
      "Не получилось отвергнуть нулевую гипотезу, нет оснований считать доли разными\n",
      "\n"
     ]
    }
   ],
   "source": [
    "index (3, 2, 0.05)"
   ]
  },
  {
   "cell_type": "markdown",
   "metadata": {},
   "source": [
    "Не удалось опровергнуть нулевую гипотезу, различия между долями незначительно"
   ]
  },
  {
   "cell_type": "markdown",
   "metadata": {},
   "source": [
    "### Какой уровень значимости мы выбрали при проверке статистических гипотез выше? Посчитаем, сколько проверок статистических гипотез мы сделали. При уровне значимости 0.1 каждый десятый раз можно получать ложный результат. Какой уровень значимости стоит применить? Если мы хотим изменить его, проделаем предыдущие пункты и проверим свои выводы."
   ]
  },
  {
   "cell_type": "markdown",
   "metadata": {},
   "source": [
    "Было проведено 16 проверок статистических гипотез при уровни значимости 0.05 нулевую гипотезу не удалось опровергнуть ни разу. Различий между группами нет."
   ]
  },
  {
   "cell_type": "markdown",
   "metadata": {},
   "source": [
    "## Выводы"
   ]
  },
  {
   "cell_type": "markdown",
   "metadata": {},
   "source": [
    "В рамках проекта был получен, изучен и обработан архив данных пользователи мобильного приложения.\n",
    "\n",
    "Были заменены названия столбцов, заменены типы данных, а также устранены дубликаты. Проведена проверка на наличие пропусков. Добавлен отдельный столбец дат.\n",
    "\n",
    "Изучены и проверены данные, получены следующие результаты:\n",
    "- Всего разных событий в логе 5\n",
    "- Всего событий в логе 243713\n",
    "- Всего в логе 7551 пользователь\n",
    "- В среднем на пользователя приходится 32.28 событий\n",
    "- Наиболее полные данные начинаются с 01.08.2019 и заканчиваются 07.08.2019\n",
    "\n",
    "После изучения воронки событий получены следующие результаты:\n",
    "- Из пяти событий чаще всего происходит событие MainScreenAppear, и реже всего Tutorial\n",
    "- Подсчитано, сколько пользователей совершали каждое из этих событий\n",
    "- Сформирована воронка событий:\n",
    "   - Главный экран  MainScreenAppear\n",
    "   - Выбор предложения OffersScreenAppear\n",
    "   - Добавление в корзину CartScreenAppear\n",
    "   - Оплата PaymentScreenSuccessful\n",
    "- Посчитан процент пользователей при переходе между событиями.\n",
    "    - С события MainScreenAppear к событию OffersScreenAppear перешло: 62.0 % пользователей\n",
    "    - С события OffersScreenAppear к событию CartScreenAppear перешло: 81.0 % пользователей\n",
    "    - С события CartScreenAppear к событию PaymentScreenSuccessful: 95.0 % пользователей\n",
    "- Определили, на каком шаге теряется больше всего пользователей, переход события MainScreenAppear к событию OffersScreenAppear\n",
    "- Определили, какая доля пользователей доходит от первого события до оплаты: до оплаты доходит: 48.0 % пользователей\n",
    "\n",
    "Изучены результаты эксперимента, результаты такие:\n",
    "- Статистическая значимость 0.05: было проведено 16 проверок статистических гипотез нулевую гипотезу не удалось опровергнуть ни разу. Различий между группами незначительные.\n",
    "\n",
    "По результатам проведенных исследований можно сделать следующий вывод: нет необходимости менять шрифт на сайте, так как в результате не будет достигнуто каких либо значимых результатов, но будут затрачены ресурсы на данное изменение."
   ]
  }
 ],
 "metadata": {
  "ExecuteTimeLog": [
   {
    "duration": 46,
    "start_time": "2023-02-01T08:06:19.096Z"
   },
   {
    "duration": 1153,
    "start_time": "2023-02-01T08:06:24.736Z"
   },
   {
    "duration": 186,
    "start_time": "2023-02-01T08:06:25.892Z"
   },
   {
    "duration": 3,
    "start_time": "2023-02-01T08:06:26.080Z"
   },
   {
    "duration": 13,
    "start_time": "2023-02-01T08:06:26.091Z"
   },
   {
    "duration": 25,
    "start_time": "2023-02-01T08:06:26.106Z"
   },
   {
    "duration": 5,
    "start_time": "2023-02-01T08:06:26.133Z"
   },
   {
    "duration": 4,
    "start_time": "2023-02-01T08:06:26.140Z"
   },
   {
    "duration": 9,
    "start_time": "2023-02-01T08:06:26.145Z"
   },
   {
    "duration": 84,
    "start_time": "2023-02-01T08:06:26.156Z"
   },
   {
    "duration": 95,
    "start_time": "2023-02-01T08:06:26.242Z"
   },
   {
    "duration": 79,
    "start_time": "2023-02-01T08:06:26.339Z"
   },
   {
    "duration": 9,
    "start_time": "2023-02-01T08:06:26.420Z"
   },
   {
    "duration": 14,
    "start_time": "2023-02-01T08:06:26.431Z"
   },
   {
    "duration": 26,
    "start_time": "2023-02-01T08:06:26.448Z"
   },
   {
    "duration": 68,
    "start_time": "2023-02-01T08:06:26.492Z"
   },
   {
    "duration": 12,
    "start_time": "2023-02-01T08:06:26.562Z"
   },
   {
    "duration": 18,
    "start_time": "2023-02-01T08:06:26.575Z"
   },
   {
    "duration": 31,
    "start_time": "2023-02-01T08:06:26.595Z"
   },
   {
    "duration": 32,
    "start_time": "2023-02-01T08:06:26.627Z"
   },
   {
    "duration": 8,
    "start_time": "2023-02-01T08:06:26.661Z"
   },
   {
    "duration": 28,
    "start_time": "2023-02-01T08:06:26.671Z"
   },
   {
    "duration": 15,
    "start_time": "2023-02-01T08:06:26.700Z"
   },
   {
    "duration": 4,
    "start_time": "2023-02-01T08:06:26.716Z"
   },
   {
    "duration": 39,
    "start_time": "2023-02-01T08:06:26.721Z"
   },
   {
    "duration": 7,
    "start_time": "2023-02-01T08:06:26.762Z"
   },
   {
    "duration": 25,
    "start_time": "2023-02-01T08:06:26.771Z"
   },
   {
    "duration": 9,
    "start_time": "2023-02-01T08:06:26.798Z"
   },
   {
    "duration": 5,
    "start_time": "2023-02-01T08:06:26.809Z"
   },
   {
    "duration": 5,
    "start_time": "2023-02-01T08:06:26.816Z"
   },
   {
    "duration": 34,
    "start_time": "2023-02-01T08:06:26.823Z"
   },
   {
    "duration": 529,
    "start_time": "2023-02-01T08:06:26.858Z"
   },
   {
    "duration": 49,
    "start_time": "2023-02-01T08:06:27.392Z"
   },
   {
    "duration": 211,
    "start_time": "2023-02-01T08:06:27.443Z"
   },
   {
    "duration": 4,
    "start_time": "2023-02-01T08:06:27.655Z"
   },
   {
    "duration": 11,
    "start_time": "2023-02-01T08:06:27.661Z"
   },
   {
    "duration": 19,
    "start_time": "2023-02-01T08:06:27.673Z"
   },
   {
    "duration": 16,
    "start_time": "2023-02-01T08:06:27.694Z"
   },
   {
    "duration": 29,
    "start_time": "2023-02-01T08:06:27.712Z"
   },
   {
    "duration": 70,
    "start_time": "2023-02-01T08:06:27.743Z"
   },
   {
    "duration": 14,
    "start_time": "2023-02-01T08:06:27.815Z"
   },
   {
    "duration": 9,
    "start_time": "2023-02-01T08:06:27.834Z"
   },
   {
    "duration": 12,
    "start_time": "2023-02-01T08:06:27.844Z"
   },
   {
    "duration": 7,
    "start_time": "2023-02-01T08:06:27.858Z"
   },
   {
    "duration": 29,
    "start_time": "2023-02-01T08:06:27.867Z"
   },
   {
    "duration": 8,
    "start_time": "2023-02-01T08:06:27.897Z"
   },
   {
    "duration": 56,
    "start_time": "2023-02-01T08:06:27.907Z"
   },
   {
    "duration": 93,
    "start_time": "2023-02-01T08:06:27.964Z"
   },
   {
    "duration": 10,
    "start_time": "2023-02-01T08:06:28.058Z"
   },
   {
    "duration": 24,
    "start_time": "2023-02-01T08:06:28.069Z"
   },
   {
    "duration": 5,
    "start_time": "2023-02-01T08:06:28.094Z"
   },
   {
    "duration": 6,
    "start_time": "2023-02-01T08:06:28.101Z"
   },
   {
    "duration": 9,
    "start_time": "2023-02-01T08:06:28.109Z"
   },
   {
    "duration": 7,
    "start_time": "2023-02-01T08:06:28.119Z"
   },
   {
    "duration": 7,
    "start_time": "2023-02-01T08:06:28.127Z"
   },
   {
    "duration": 7,
    "start_time": "2023-02-01T08:06:28.136Z"
   },
   {
    "duration": 9,
    "start_time": "2023-02-01T08:06:28.145Z"
   },
   {
    "duration": 6,
    "start_time": "2023-02-01T08:06:28.156Z"
   },
   {
    "duration": 31,
    "start_time": "2023-02-01T08:06:28.163Z"
   },
   {
    "duration": 7,
    "start_time": "2023-02-01T08:06:28.195Z"
   },
   {
    "duration": 9,
    "start_time": "2023-02-01T08:06:28.204Z"
   },
   {
    "duration": 7,
    "start_time": "2023-02-01T08:06:28.215Z"
   },
   {
    "duration": 21,
    "start_time": "2023-02-01T08:06:28.224Z"
   },
   {
    "duration": 6,
    "start_time": "2023-02-01T08:06:28.246Z"
   },
   {
    "duration": 6,
    "start_time": "2023-02-01T08:06:28.253Z"
   },
   {
    "duration": 6,
    "start_time": "2023-02-01T08:06:28.261Z"
   },
   {
    "duration": 6,
    "start_time": "2023-02-01T08:06:28.269Z"
   },
   {
    "duration": 17,
    "start_time": "2023-02-01T08:06:28.277Z"
   },
   {
    "duration": 9,
    "start_time": "2023-02-01T08:06:28.296Z"
   },
   {
    "duration": 7,
    "start_time": "2023-02-01T08:06:28.307Z"
   },
   {
    "duration": 6,
    "start_time": "2023-02-01T08:06:28.315Z"
   },
   {
    "duration": 5,
    "start_time": "2023-02-01T08:06:28.322Z"
   },
   {
    "duration": 9,
    "start_time": "2023-02-01T08:06:28.328Z"
   },
   {
    "duration": 6,
    "start_time": "2023-02-01T08:06:28.338Z"
   },
   {
    "duration": 6,
    "start_time": "2023-02-01T08:06:28.346Z"
   },
   {
    "duration": 39,
    "start_time": "2023-02-01T08:06:28.353Z"
   },
   {
    "duration": 5,
    "start_time": "2023-02-01T08:06:28.394Z"
   },
   {
    "duration": 8,
    "start_time": "2023-02-01T08:06:28.401Z"
   },
   {
    "duration": 8,
    "start_time": "2023-02-01T08:06:28.410Z"
   },
   {
    "duration": 7,
    "start_time": "2023-02-01T08:06:28.419Z"
   },
   {
    "duration": 6,
    "start_time": "2023-02-01T08:06:28.428Z"
   },
   {
    "duration": 5,
    "start_time": "2023-02-01T08:06:28.436Z"
   },
   {
    "duration": 10,
    "start_time": "2023-02-01T08:06:28.443Z"
   },
   {
    "duration": 8,
    "start_time": "2023-02-01T08:06:28.455Z"
   },
   {
    "duration": 30,
    "start_time": "2023-02-01T08:06:28.465Z"
   },
   {
    "duration": 8,
    "start_time": "2023-02-01T08:06:28.496Z"
   },
   {
    "duration": 10,
    "start_time": "2023-02-01T08:06:28.505Z"
   },
   {
    "duration": 9,
    "start_time": "2023-02-01T08:06:28.517Z"
   },
   {
    "duration": 7,
    "start_time": "2023-02-01T08:06:28.527Z"
   },
   {
    "duration": 7,
    "start_time": "2023-02-01T08:06:28.536Z"
   },
   {
    "duration": 7,
    "start_time": "2023-02-01T08:06:28.544Z"
   },
   {
    "duration": 20,
    "start_time": "2023-02-01T08:06:48.508Z"
   },
   {
    "duration": 1152,
    "start_time": "2023-02-01T08:22:13.445Z"
   },
   {
    "duration": 193,
    "start_time": "2023-02-01T08:22:14.599Z"
   },
   {
    "duration": 3,
    "start_time": "2023-02-01T08:22:14.794Z"
   },
   {
    "duration": 21,
    "start_time": "2023-02-01T08:22:14.799Z"
   },
   {
    "duration": 21,
    "start_time": "2023-02-01T08:22:14.822Z"
   },
   {
    "duration": 6,
    "start_time": "2023-02-01T08:22:14.844Z"
   },
   {
    "duration": 3,
    "start_time": "2023-02-01T08:22:14.851Z"
   },
   {
    "duration": 40,
    "start_time": "2023-02-01T08:22:14.856Z"
   },
   {
    "duration": 71,
    "start_time": "2023-02-01T08:22:14.898Z"
   },
   {
    "duration": 89,
    "start_time": "2023-02-01T08:22:14.971Z"
   },
   {
    "duration": 68,
    "start_time": "2023-02-01T08:22:15.062Z"
   },
   {
    "duration": 8,
    "start_time": "2023-02-01T08:22:15.132Z"
   },
   {
    "duration": 8,
    "start_time": "2023-02-01T08:22:15.142Z"
   },
   {
    "duration": 39,
    "start_time": "2023-02-01T08:22:15.153Z"
   },
   {
    "duration": 72,
    "start_time": "2023-02-01T08:22:15.194Z"
   },
   {
    "duration": 31,
    "start_time": "2023-02-01T08:22:15.268Z"
   },
   {
    "duration": 13,
    "start_time": "2023-02-01T08:22:15.301Z"
   },
   {
    "duration": 28,
    "start_time": "2023-02-01T08:22:15.315Z"
   },
   {
    "duration": 24,
    "start_time": "2023-02-01T08:22:15.345Z"
   },
   {
    "duration": 7,
    "start_time": "2023-02-01T08:22:15.371Z"
   },
   {
    "duration": 32,
    "start_time": "2023-02-01T08:22:15.380Z"
   },
   {
    "duration": 10,
    "start_time": "2023-02-01T08:22:15.414Z"
   },
   {
    "duration": 12,
    "start_time": "2023-02-01T08:22:15.426Z"
   },
   {
    "duration": 40,
    "start_time": "2023-02-01T08:22:15.440Z"
   },
   {
    "duration": 8,
    "start_time": "2023-02-01T08:22:15.491Z"
   },
   {
    "duration": 7,
    "start_time": "2023-02-01T08:22:15.500Z"
   },
   {
    "duration": 3,
    "start_time": "2023-02-01T08:22:15.509Z"
   },
   {
    "duration": 11,
    "start_time": "2023-02-01T08:22:15.514Z"
   },
   {
    "duration": 7,
    "start_time": "2023-02-01T08:22:15.526Z"
   },
   {
    "duration": 36,
    "start_time": "2023-02-01T08:22:15.535Z"
   },
   {
    "duration": 647,
    "start_time": "2023-02-01T08:22:15.573Z"
   },
   {
    "duration": 85,
    "start_time": "2023-02-01T08:22:16.222Z"
   },
   {
    "duration": 250,
    "start_time": "2023-02-01T08:22:16.308Z"
   },
   {
    "duration": 3,
    "start_time": "2023-02-01T08:22:16.560Z"
   },
   {
    "duration": 15,
    "start_time": "2023-02-01T08:22:16.565Z"
   },
   {
    "duration": 5,
    "start_time": "2023-02-01T08:22:16.591Z"
   },
   {
    "duration": 17,
    "start_time": "2023-02-01T08:22:16.598Z"
   },
   {
    "duration": 23,
    "start_time": "2023-02-01T08:22:16.616Z"
   },
   {
    "duration": 84,
    "start_time": "2023-02-01T08:22:16.640Z"
   },
   {
    "duration": 14,
    "start_time": "2023-02-01T08:22:16.726Z"
   },
   {
    "duration": 23,
    "start_time": "2023-02-01T08:22:16.745Z"
   },
   {
    "duration": 10,
    "start_time": "2023-02-01T08:22:16.770Z"
   },
   {
    "duration": 6,
    "start_time": "2023-02-01T08:22:16.781Z"
   },
   {
    "duration": 7,
    "start_time": "2023-02-01T08:22:16.790Z"
   },
   {
    "duration": 11,
    "start_time": "2023-02-01T08:22:16.799Z"
   },
   {
    "duration": 51,
    "start_time": "2023-02-01T08:22:16.812Z"
   },
   {
    "duration": 90,
    "start_time": "2023-02-01T08:22:16.865Z"
   },
   {
    "duration": 11,
    "start_time": "2023-02-01T08:22:16.957Z"
   },
   {
    "duration": 27,
    "start_time": "2023-02-01T08:22:16.970Z"
   },
   {
    "duration": 7,
    "start_time": "2023-02-01T08:22:16.998Z"
   },
   {
    "duration": 6,
    "start_time": "2023-02-01T08:22:17.007Z"
   },
   {
    "duration": 8,
    "start_time": "2023-02-01T08:22:17.015Z"
   },
   {
    "duration": 10,
    "start_time": "2023-02-01T08:22:17.024Z"
   },
   {
    "duration": 10,
    "start_time": "2023-02-01T08:22:17.035Z"
   },
   {
    "duration": 9,
    "start_time": "2023-02-01T08:22:17.047Z"
   },
   {
    "duration": 8,
    "start_time": "2023-02-01T08:22:17.057Z"
   },
   {
    "duration": 26,
    "start_time": "2023-02-01T08:22:17.066Z"
   },
   {
    "duration": 4,
    "start_time": "2023-02-01T08:22:17.094Z"
   },
   {
    "duration": 10,
    "start_time": "2023-02-01T08:22:17.099Z"
   },
   {
    "duration": 7,
    "start_time": "2023-02-01T08:22:17.110Z"
   },
   {
    "duration": 10,
    "start_time": "2023-02-01T08:22:17.118Z"
   },
   {
    "duration": 7,
    "start_time": "2023-02-01T08:22:17.130Z"
   },
   {
    "duration": 6,
    "start_time": "2023-02-01T08:22:17.139Z"
   },
   {
    "duration": 10,
    "start_time": "2023-02-01T08:22:17.146Z"
   },
   {
    "duration": 11,
    "start_time": "2023-02-01T08:22:17.157Z"
   },
   {
    "duration": 5,
    "start_time": "2023-02-01T08:22:17.191Z"
   },
   {
    "duration": 14,
    "start_time": "2023-02-01T08:22:17.198Z"
   },
   {
    "duration": 10,
    "start_time": "2023-02-01T08:22:17.214Z"
   },
   {
    "duration": 8,
    "start_time": "2023-02-01T08:22:17.226Z"
   },
   {
    "duration": 7,
    "start_time": "2023-02-01T08:22:17.236Z"
   },
   {
    "duration": 9,
    "start_time": "2023-02-01T08:22:17.245Z"
   },
   {
    "duration": 8,
    "start_time": "2023-02-01T08:22:17.255Z"
   },
   {
    "duration": 12,
    "start_time": "2023-02-01T08:22:17.264Z"
   },
   {
    "duration": 14,
    "start_time": "2023-02-01T08:22:17.277Z"
   },
   {
    "duration": 7,
    "start_time": "2023-02-01T08:22:17.294Z"
   },
   {
    "duration": 12,
    "start_time": "2023-02-01T08:22:17.302Z"
   },
   {
    "duration": 10,
    "start_time": "2023-02-01T08:22:17.315Z"
   },
   {
    "duration": 6,
    "start_time": "2023-02-01T08:22:17.326Z"
   },
   {
    "duration": 10,
    "start_time": "2023-02-01T08:22:17.333Z"
   },
   {
    "duration": 9,
    "start_time": "2023-02-01T08:22:17.344Z"
   },
   {
    "duration": 7,
    "start_time": "2023-02-01T08:22:17.355Z"
   },
   {
    "duration": 8,
    "start_time": "2023-02-01T08:22:17.363Z"
   },
   {
    "duration": 5,
    "start_time": "2023-02-01T08:22:17.392Z"
   },
   {
    "duration": 8,
    "start_time": "2023-02-01T08:22:17.398Z"
   },
   {
    "duration": 7,
    "start_time": "2023-02-01T08:22:17.407Z"
   },
   {
    "duration": 18,
    "start_time": "2023-02-01T08:22:17.416Z"
   },
   {
    "duration": 25,
    "start_time": "2023-02-01T08:22:17.436Z"
   },
   {
    "duration": 11,
    "start_time": "2023-02-01T08:22:17.463Z"
   },
   {
    "duration": 8,
    "start_time": "2023-02-01T08:22:17.476Z"
   },
   {
    "duration": 7,
    "start_time": "2023-02-01T08:22:17.485Z"
   },
   {
    "duration": 1035,
    "start_time": "2023-02-01T08:23:38.738Z"
   },
   {
    "duration": 192,
    "start_time": "2023-02-01T08:23:39.775Z"
   },
   {
    "duration": 4,
    "start_time": "2023-02-01T08:23:39.968Z"
   },
   {
    "duration": 21,
    "start_time": "2023-02-01T08:23:39.973Z"
   },
   {
    "duration": 24,
    "start_time": "2023-02-01T08:23:39.995Z"
   },
   {
    "duration": 8,
    "start_time": "2023-02-01T08:23:40.020Z"
   },
   {
    "duration": 34,
    "start_time": "2023-02-01T08:23:40.029Z"
   },
   {
    "duration": 19,
    "start_time": "2023-02-01T08:23:40.065Z"
   },
   {
    "duration": 85,
    "start_time": "2023-02-01T08:23:40.085Z"
   },
   {
    "duration": 66,
    "start_time": "2023-02-01T08:23:40.173Z"
   },
   {
    "duration": 64,
    "start_time": "2023-02-01T08:23:40.240Z"
   },
   {
    "duration": 10,
    "start_time": "2023-02-01T08:23:40.306Z"
   },
   {
    "duration": 13,
    "start_time": "2023-02-01T08:23:40.317Z"
   },
   {
    "duration": 19,
    "start_time": "2023-02-01T08:23:40.331Z"
   },
   {
    "duration": 81,
    "start_time": "2023-02-01T08:23:40.352Z"
   },
   {
    "duration": 9,
    "start_time": "2023-02-01T08:23:40.435Z"
   },
   {
    "duration": 7,
    "start_time": "2023-02-01T08:23:40.445Z"
   },
   {
    "duration": 31,
    "start_time": "2023-02-01T08:23:40.453Z"
   },
   {
    "duration": 22,
    "start_time": "2023-02-01T08:23:40.490Z"
   },
   {
    "duration": 14,
    "start_time": "2023-02-01T08:23:40.514Z"
   },
   {
    "duration": 27,
    "start_time": "2023-02-01T08:23:40.529Z"
   },
   {
    "duration": 24,
    "start_time": "2023-02-01T08:23:40.557Z"
   },
   {
    "duration": 3,
    "start_time": "2023-02-01T08:23:40.583Z"
   },
   {
    "duration": 42,
    "start_time": "2023-02-01T08:23:40.591Z"
   },
   {
    "duration": 7,
    "start_time": "2023-02-01T08:23:40.635Z"
   },
   {
    "duration": 28,
    "start_time": "2023-02-01T08:23:40.643Z"
   },
   {
    "duration": 20,
    "start_time": "2023-02-01T08:23:40.672Z"
   },
   {
    "duration": 12,
    "start_time": "2023-02-01T08:23:40.696Z"
   },
   {
    "duration": 26,
    "start_time": "2023-02-01T08:23:40.709Z"
   },
   {
    "duration": 35,
    "start_time": "2023-02-01T08:23:40.736Z"
   },
   {
    "duration": 484,
    "start_time": "2023-02-01T08:23:40.773Z"
   },
   {
    "duration": 56,
    "start_time": "2023-02-01T08:23:41.259Z"
   },
   {
    "duration": 201,
    "start_time": "2023-02-01T08:23:41.317Z"
   },
   {
    "duration": 4,
    "start_time": "2023-02-01T08:23:41.520Z"
   },
   {
    "duration": 12,
    "start_time": "2023-02-01T08:23:41.525Z"
   },
   {
    "duration": 4,
    "start_time": "2023-02-01T08:23:41.538Z"
   },
   {
    "duration": 10,
    "start_time": "2023-02-01T08:23:41.543Z"
   },
   {
    "duration": 37,
    "start_time": "2023-02-01T08:23:41.555Z"
   },
   {
    "duration": 65,
    "start_time": "2023-02-01T08:23:41.593Z"
   },
   {
    "duration": 31,
    "start_time": "2023-02-01T08:23:41.660Z"
   },
   {
    "duration": 7,
    "start_time": "2023-02-01T08:23:41.693Z"
   },
   {
    "duration": 13,
    "start_time": "2023-02-01T08:23:41.701Z"
   },
   {
    "duration": 14,
    "start_time": "2023-02-01T08:23:41.715Z"
   },
   {
    "duration": 5,
    "start_time": "2023-02-01T08:23:41.730Z"
   },
   {
    "duration": 7,
    "start_time": "2023-02-01T08:23:41.736Z"
   },
   {
    "duration": 53,
    "start_time": "2023-02-01T08:23:41.744Z"
   },
   {
    "duration": 93,
    "start_time": "2023-02-01T08:23:41.799Z"
   },
   {
    "duration": 12,
    "start_time": "2023-02-01T08:23:41.894Z"
   },
   {
    "duration": 13,
    "start_time": "2023-02-01T08:23:41.908Z"
   },
   {
    "duration": 7,
    "start_time": "2023-02-01T08:23:41.922Z"
   },
   {
    "duration": 6,
    "start_time": "2023-02-01T08:23:41.931Z"
   },
   {
    "duration": 31,
    "start_time": "2023-02-01T08:23:41.939Z"
   },
   {
    "duration": 12,
    "start_time": "2023-02-01T08:23:41.972Z"
   },
   {
    "duration": 8,
    "start_time": "2023-02-01T08:23:41.986Z"
   },
   {
    "duration": 6,
    "start_time": "2023-02-01T08:23:41.996Z"
   },
   {
    "duration": 15,
    "start_time": "2023-02-01T08:23:42.003Z"
   },
   {
    "duration": 23,
    "start_time": "2023-02-01T08:23:42.019Z"
   },
   {
    "duration": 6,
    "start_time": "2023-02-01T08:23:42.044Z"
   },
   {
    "duration": 10,
    "start_time": "2023-02-01T08:23:42.051Z"
   },
   {
    "duration": 7,
    "start_time": "2023-02-01T08:23:42.062Z"
   },
   {
    "duration": 7,
    "start_time": "2023-02-01T08:23:42.070Z"
   },
   {
    "duration": 11,
    "start_time": "2023-02-01T08:23:42.078Z"
   },
   {
    "duration": 10,
    "start_time": "2023-02-01T08:23:42.091Z"
   },
   {
    "duration": 6,
    "start_time": "2023-02-01T08:23:42.102Z"
   },
   {
    "duration": 6,
    "start_time": "2023-02-01T08:23:42.109Z"
   },
   {
    "duration": 5,
    "start_time": "2023-02-01T08:23:42.116Z"
   },
   {
    "duration": 6,
    "start_time": "2023-02-01T08:23:42.123Z"
   },
   {
    "duration": 15,
    "start_time": "2023-02-01T08:23:42.131Z"
   },
   {
    "duration": 7,
    "start_time": "2023-02-01T08:23:42.148Z"
   },
   {
    "duration": 8,
    "start_time": "2023-02-01T08:23:42.156Z"
   },
   {
    "duration": 5,
    "start_time": "2023-02-01T08:23:42.166Z"
   },
   {
    "duration": 20,
    "start_time": "2023-02-01T08:23:42.172Z"
   },
   {
    "duration": 11,
    "start_time": "2023-02-01T08:23:42.193Z"
   },
   {
    "duration": 8,
    "start_time": "2023-02-01T08:23:42.205Z"
   },
   {
    "duration": 7,
    "start_time": "2023-02-01T08:23:42.215Z"
   },
   {
    "duration": 15,
    "start_time": "2023-02-01T08:23:42.223Z"
   },
   {
    "duration": 20,
    "start_time": "2023-02-01T08:23:42.239Z"
   },
   {
    "duration": 13,
    "start_time": "2023-02-01T08:23:42.260Z"
   },
   {
    "duration": 17,
    "start_time": "2023-02-01T08:23:42.274Z"
   },
   {
    "duration": 9,
    "start_time": "2023-02-01T08:23:42.292Z"
   },
   {
    "duration": 10,
    "start_time": "2023-02-01T08:23:42.303Z"
   },
   {
    "duration": 20,
    "start_time": "2023-02-01T08:23:42.318Z"
   },
   {
    "duration": 22,
    "start_time": "2023-02-01T08:23:42.340Z"
   },
   {
    "duration": 23,
    "start_time": "2023-02-01T08:23:42.363Z"
   },
   {
    "duration": 6,
    "start_time": "2023-02-01T08:23:42.388Z"
   },
   {
    "duration": 16,
    "start_time": "2023-02-01T08:23:42.396Z"
   },
   {
    "duration": 9,
    "start_time": "2023-02-01T08:23:42.414Z"
   },
   {
    "duration": 10,
    "start_time": "2023-02-01T08:23:42.424Z"
   },
   {
    "duration": 7,
    "start_time": "2023-02-01T08:23:42.435Z"
   },
   {
    "duration": 8,
    "start_time": "2023-02-01T08:23:42.443Z"
   },
   {
    "duration": 1314,
    "start_time": "2023-02-02T01:34:32.873Z"
   },
   {
    "duration": 235,
    "start_time": "2023-02-02T01:34:34.188Z"
   },
   {
    "duration": 3,
    "start_time": "2023-02-02T01:34:34.425Z"
   },
   {
    "duration": 22,
    "start_time": "2023-02-02T01:34:34.430Z"
   },
   {
    "duration": 20,
    "start_time": "2023-02-02T01:34:34.455Z"
   },
   {
    "duration": 6,
    "start_time": "2023-02-02T01:34:34.476Z"
   },
   {
    "duration": 23,
    "start_time": "2023-02-02T01:34:34.483Z"
   },
   {
    "duration": 16,
    "start_time": "2023-02-02T01:34:34.518Z"
   },
   {
    "duration": 82,
    "start_time": "2023-02-02T01:34:34.535Z"
   },
   {
    "duration": 70,
    "start_time": "2023-02-02T01:34:34.619Z"
   },
   {
    "duration": 74,
    "start_time": "2023-02-02T01:34:34.695Z"
   },
   {
    "duration": 54,
    "start_time": "2023-02-02T01:34:34.771Z"
   },
   {
    "duration": 7,
    "start_time": "2023-02-02T01:34:34.827Z"
   },
   {
    "duration": 9,
    "start_time": "2023-02-02T01:34:34.836Z"
   },
   {
    "duration": 23,
    "start_time": "2023-02-02T01:34:34.846Z"
   },
   {
    "duration": 88,
    "start_time": "2023-02-02T01:34:34.871Z"
   },
   {
    "duration": 12,
    "start_time": "2023-02-02T01:34:34.960Z"
   },
   {
    "duration": 15,
    "start_time": "2023-02-02T01:34:34.974Z"
   },
   {
    "duration": 48,
    "start_time": "2023-02-02T01:34:34.995Z"
   },
   {
    "duration": 30,
    "start_time": "2023-02-02T01:34:35.045Z"
   },
   {
    "duration": 10,
    "start_time": "2023-02-02T01:34:35.077Z"
   },
   {
    "duration": 61,
    "start_time": "2023-02-02T01:34:35.089Z"
   },
   {
    "duration": 11,
    "start_time": "2023-02-02T01:34:35.151Z"
   },
   {
    "duration": 4,
    "start_time": "2023-02-02T01:34:35.163Z"
   },
   {
    "duration": 67,
    "start_time": "2023-02-02T01:34:35.169Z"
   },
   {
    "duration": 7,
    "start_time": "2023-02-02T01:34:35.238Z"
   },
   {
    "duration": 13,
    "start_time": "2023-02-02T01:34:35.247Z"
   },
   {
    "duration": 15,
    "start_time": "2023-02-02T01:34:35.261Z"
   },
   {
    "duration": 11,
    "start_time": "2023-02-02T01:34:35.278Z"
   },
   {
    "duration": 39,
    "start_time": "2023-02-02T01:34:35.291Z"
   },
   {
    "duration": 31,
    "start_time": "2023-02-02T01:34:35.331Z"
   },
   {
    "duration": 568,
    "start_time": "2023-02-02T01:34:35.363Z"
   },
   {
    "duration": 63,
    "start_time": "2023-02-02T01:34:35.933Z"
   },
   {
    "duration": 222,
    "start_time": "2023-02-02T01:34:35.997Z"
   },
   {
    "duration": 6,
    "start_time": "2023-02-02T01:34:36.221Z"
   },
   {
    "duration": 35,
    "start_time": "2023-02-02T01:34:36.230Z"
   },
   {
    "duration": 7,
    "start_time": "2023-02-02T01:34:36.267Z"
   },
   {
    "duration": 6,
    "start_time": "2023-02-02T01:34:36.276Z"
   },
   {
    "duration": 58,
    "start_time": "2023-02-02T01:34:36.284Z"
   },
   {
    "duration": 41,
    "start_time": "2023-02-02T01:34:36.344Z"
   },
   {
    "duration": 138,
    "start_time": "2023-02-02T01:34:36.390Z"
   },
   {
    "duration": 17,
    "start_time": "2023-02-02T01:34:36.530Z"
   },
   {
    "duration": 15,
    "start_time": "2023-02-02T01:34:36.549Z"
   },
   {
    "duration": 578,
    "start_time": "2023-02-02T01:34:36.565Z"
   },
   {
    "duration": 4,
    "start_time": "2023-02-02T01:34:37.144Z"
   },
   {
    "duration": 7,
    "start_time": "2023-02-02T01:34:37.149Z"
   },
   {
    "duration": 8,
    "start_time": "2023-02-02T01:34:37.158Z"
   },
   {
    "duration": 61,
    "start_time": "2023-02-02T01:34:37.167Z"
   },
   {
    "duration": 101,
    "start_time": "2023-02-02T01:34:37.230Z"
   },
   {
    "duration": 110,
    "start_time": "2023-02-02T01:34:37.333Z"
   },
   {
    "duration": 10,
    "start_time": "2023-02-02T01:34:37.444Z"
   },
   {
    "duration": 4,
    "start_time": "2023-02-02T01:34:37.455Z"
   },
   {
    "duration": 12,
    "start_time": "2023-02-02T01:34:37.460Z"
   },
   {
    "duration": 21,
    "start_time": "2023-02-02T01:34:37.473Z"
   },
   {
    "duration": 37,
    "start_time": "2023-02-02T01:34:37.495Z"
   },
   {
    "duration": 8,
    "start_time": "2023-02-02T01:34:37.533Z"
   },
   {
    "duration": 13,
    "start_time": "2023-02-02T01:34:37.543Z"
   },
   {
    "duration": 9,
    "start_time": "2023-02-02T01:34:37.558Z"
   },
   {
    "duration": 12,
    "start_time": "2023-02-02T01:34:37.569Z"
   },
   {
    "duration": 12,
    "start_time": "2023-02-02T01:34:37.582Z"
   },
   {
    "duration": 30,
    "start_time": "2023-02-02T01:34:37.603Z"
   },
   {
    "duration": 10,
    "start_time": "2023-02-02T01:34:37.635Z"
   },
   {
    "duration": 9,
    "start_time": "2023-02-02T01:34:37.647Z"
   },
   {
    "duration": 13,
    "start_time": "2023-02-02T01:34:37.657Z"
   },
   {
    "duration": 1249,
    "start_time": "2023-02-02T01:46:35.913Z"
   },
   {
    "duration": 215,
    "start_time": "2023-02-02T01:46:37.163Z"
   },
   {
    "duration": 3,
    "start_time": "2023-02-02T01:46:37.379Z"
   },
   {
    "duration": 31,
    "start_time": "2023-02-02T01:46:37.383Z"
   },
   {
    "duration": 27,
    "start_time": "2023-02-02T01:46:37.415Z"
   },
   {
    "duration": 5,
    "start_time": "2023-02-02T01:46:37.444Z"
   },
   {
    "duration": 10,
    "start_time": "2023-02-02T01:46:37.450Z"
   },
   {
    "duration": 8,
    "start_time": "2023-02-02T01:46:37.461Z"
   },
   {
    "duration": 76,
    "start_time": "2023-02-02T01:46:37.470Z"
   },
   {
    "duration": 89,
    "start_time": "2023-02-02T01:46:37.549Z"
   },
   {
    "duration": 74,
    "start_time": "2023-02-02T01:46:37.640Z"
   },
   {
    "duration": 39,
    "start_time": "2023-02-02T01:46:37.718Z"
   },
   {
    "duration": 8,
    "start_time": "2023-02-02T01:46:37.758Z"
   },
   {
    "duration": 12,
    "start_time": "2023-02-02T01:46:37.768Z"
   },
   {
    "duration": 39,
    "start_time": "2023-02-02T01:46:37.782Z"
   },
   {
    "duration": 85,
    "start_time": "2023-02-02T01:46:37.823Z"
   },
   {
    "duration": 11,
    "start_time": "2023-02-02T01:46:37.912Z"
   },
   {
    "duration": 34,
    "start_time": "2023-02-02T01:46:37.924Z"
   },
   {
    "duration": 25,
    "start_time": "2023-02-02T01:46:37.959Z"
   },
   {
    "duration": 47,
    "start_time": "2023-02-02T01:46:37.986Z"
   },
   {
    "duration": 26,
    "start_time": "2023-02-02T01:46:38.034Z"
   },
   {
    "duration": 24,
    "start_time": "2023-02-02T01:46:38.062Z"
   },
   {
    "duration": 37,
    "start_time": "2023-02-02T01:46:38.088Z"
   },
   {
    "duration": 6,
    "start_time": "2023-02-02T01:46:38.127Z"
   },
   {
    "duration": 41,
    "start_time": "2023-02-02T01:46:38.135Z"
   },
   {
    "duration": 8,
    "start_time": "2023-02-02T01:46:38.177Z"
   },
   {
    "duration": 40,
    "start_time": "2023-02-02T01:46:38.187Z"
   },
   {
    "duration": 3,
    "start_time": "2023-02-02T01:46:38.232Z"
   },
   {
    "duration": 11,
    "start_time": "2023-02-02T01:46:38.236Z"
   },
   {
    "duration": 5,
    "start_time": "2023-02-02T01:46:38.249Z"
   },
   {
    "duration": 28,
    "start_time": "2023-02-02T01:46:38.256Z"
   },
   {
    "duration": 554,
    "start_time": "2023-02-02T01:46:38.285Z"
   },
   {
    "duration": 57,
    "start_time": "2023-02-02T01:46:38.840Z"
   },
   {
    "duration": 207,
    "start_time": "2023-02-02T01:46:38.903Z"
   },
   {
    "duration": 4,
    "start_time": "2023-02-02T01:46:39.113Z"
   },
   {
    "duration": 7,
    "start_time": "2023-02-02T01:46:39.118Z"
   },
   {
    "duration": 10,
    "start_time": "2023-02-02T01:46:39.126Z"
   },
   {
    "duration": 6,
    "start_time": "2023-02-02T01:46:39.137Z"
   },
   {
    "duration": 9,
    "start_time": "2023-02-02T01:46:39.145Z"
   },
   {
    "duration": 50,
    "start_time": "2023-02-02T01:46:39.156Z"
   },
   {
    "duration": 89,
    "start_time": "2023-02-02T01:46:39.208Z"
   },
   {
    "duration": 17,
    "start_time": "2023-02-02T01:46:39.306Z"
   },
   {
    "duration": 9,
    "start_time": "2023-02-02T01:46:39.324Z"
   },
   {
    "duration": 491,
    "start_time": "2023-02-02T01:46:39.334Z"
   },
   {
    "duration": 4,
    "start_time": "2023-02-02T01:46:39.827Z"
   },
   {
    "duration": 11,
    "start_time": "2023-02-02T01:46:39.832Z"
   },
   {
    "duration": 13,
    "start_time": "2023-02-02T01:46:39.844Z"
   },
   {
    "duration": 5,
    "start_time": "2023-02-02T01:46:39.859Z"
   },
   {
    "duration": 130,
    "start_time": "2023-02-02T01:46:39.866Z"
   },
   {
    "duration": 96,
    "start_time": "2023-02-02T01:46:39.998Z"
   },
   {
    "duration": 17,
    "start_time": "2023-02-02T01:46:40.103Z"
   },
   {
    "duration": 14,
    "start_time": "2023-02-02T01:46:40.122Z"
   },
   {
    "duration": 19,
    "start_time": "2023-02-02T01:46:40.137Z"
   },
   {
    "duration": 5,
    "start_time": "2023-02-02T01:46:40.158Z"
   },
   {
    "duration": 7,
    "start_time": "2023-02-02T01:46:40.165Z"
   },
   {
    "duration": 5,
    "start_time": "2023-02-02T01:46:40.174Z"
   },
   {
    "duration": 9,
    "start_time": "2023-02-02T01:46:40.181Z"
   },
   {
    "duration": 19,
    "start_time": "2023-02-02T01:46:40.202Z"
   },
   {
    "duration": 11,
    "start_time": "2023-02-02T01:46:40.223Z"
   },
   {
    "duration": 8,
    "start_time": "2023-02-02T01:46:40.235Z"
   },
   {
    "duration": 8,
    "start_time": "2023-02-02T01:46:40.245Z"
   },
   {
    "duration": 10,
    "start_time": "2023-02-02T01:46:40.254Z"
   },
   {
    "duration": 9,
    "start_time": "2023-02-02T01:46:40.265Z"
   },
   {
    "duration": 38,
    "start_time": "2023-02-02T01:46:40.292Z"
   },
   {
    "duration": 162,
    "start_time": "2023-02-02T01:52:25.748Z"
   },
   {
    "duration": 53,
    "start_time": "2023-02-02T01:52:47.156Z"
   },
   {
    "duration": 13,
    "start_time": "2023-02-02T01:57:54.888Z"
   },
   {
    "duration": 19,
    "start_time": "2023-02-02T01:58:05.689Z"
   },
   {
    "duration": 10,
    "start_time": "2023-02-02T01:59:44.204Z"
   },
   {
    "duration": 6,
    "start_time": "2023-02-02T02:07:25.093Z"
   },
   {
    "duration": 8,
    "start_time": "2023-02-02T02:07:31.205Z"
   },
   {
    "duration": 1202,
    "start_time": "2023-02-02T02:08:38.190Z"
   },
   {
    "duration": 198,
    "start_time": "2023-02-02T02:08:39.394Z"
   },
   {
    "duration": 3,
    "start_time": "2023-02-02T02:08:39.593Z"
   },
   {
    "duration": 20,
    "start_time": "2023-02-02T02:08:39.597Z"
   },
   {
    "duration": 19,
    "start_time": "2023-02-02T02:08:39.619Z"
   },
   {
    "duration": 6,
    "start_time": "2023-02-02T02:08:39.640Z"
   },
   {
    "duration": 8,
    "start_time": "2023-02-02T02:08:39.648Z"
   },
   {
    "duration": 12,
    "start_time": "2023-02-02T02:08:39.658Z"
   },
   {
    "duration": 63,
    "start_time": "2023-02-02T02:08:39.690Z"
   },
   {
    "duration": 75,
    "start_time": "2023-02-02T02:08:39.755Z"
   },
   {
    "duration": 66,
    "start_time": "2023-02-02T02:08:39.831Z"
   },
   {
    "duration": 42,
    "start_time": "2023-02-02T02:08:39.899Z"
   },
   {
    "duration": 7,
    "start_time": "2023-02-02T02:08:39.943Z"
   },
   {
    "duration": 11,
    "start_time": "2023-02-02T02:08:39.953Z"
   },
   {
    "duration": 35,
    "start_time": "2023-02-02T02:08:39.965Z"
   },
   {
    "duration": 73,
    "start_time": "2023-02-02T02:08:40.001Z"
   },
   {
    "duration": 9,
    "start_time": "2023-02-02T02:08:40.075Z"
   },
   {
    "duration": 7,
    "start_time": "2023-02-02T02:08:40.092Z"
   },
   {
    "duration": 27,
    "start_time": "2023-02-02T02:08:40.100Z"
   },
   {
    "duration": 21,
    "start_time": "2023-02-02T02:08:40.129Z"
   },
   {
    "duration": 12,
    "start_time": "2023-02-02T02:08:40.152Z"
   },
   {
    "duration": 32,
    "start_time": "2023-02-02T02:08:40.166Z"
   },
   {
    "duration": 10,
    "start_time": "2023-02-02T02:08:40.200Z"
   },
   {
    "duration": 7,
    "start_time": "2023-02-02T02:08:40.211Z"
   },
   {
    "duration": 38,
    "start_time": "2023-02-02T02:08:40.220Z"
   },
   {
    "duration": 7,
    "start_time": "2023-02-02T02:08:40.260Z"
   },
   {
    "duration": 29,
    "start_time": "2023-02-02T02:08:40.268Z"
   },
   {
    "duration": 17,
    "start_time": "2023-02-02T02:08:40.299Z"
   },
   {
    "duration": 15,
    "start_time": "2023-02-02T02:08:40.317Z"
   },
   {
    "duration": 5,
    "start_time": "2023-02-02T02:08:40.334Z"
   },
   {
    "duration": 32,
    "start_time": "2023-02-02T02:08:40.340Z"
   },
   {
    "duration": 476,
    "start_time": "2023-02-02T02:08:40.373Z"
   },
   {
    "duration": 54,
    "start_time": "2023-02-02T02:08:40.851Z"
   },
   {
    "duration": 207,
    "start_time": "2023-02-02T02:08:40.906Z"
   },
   {
    "duration": 4,
    "start_time": "2023-02-02T02:08:41.115Z"
   },
   {
    "duration": 16,
    "start_time": "2023-02-02T02:08:41.121Z"
   },
   {
    "duration": 3,
    "start_time": "2023-02-02T02:08:41.138Z"
   },
   {
    "duration": 7,
    "start_time": "2023-02-02T02:08:41.143Z"
   },
   {
    "duration": 10,
    "start_time": "2023-02-02T02:08:41.152Z"
   },
   {
    "duration": 41,
    "start_time": "2023-02-02T02:08:41.164Z"
   },
   {
    "duration": 60,
    "start_time": "2023-02-02T02:08:41.209Z"
   },
   {
    "duration": 30,
    "start_time": "2023-02-02T02:08:41.271Z"
   },
   {
    "duration": 7,
    "start_time": "2023-02-02T02:08:41.303Z"
   },
   {
    "duration": 443,
    "start_time": "2023-02-02T02:08:41.312Z"
   },
   {
    "duration": 4,
    "start_time": "2023-02-02T02:08:41.757Z"
   },
   {
    "duration": 30,
    "start_time": "2023-02-02T02:08:41.763Z"
   },
   {
    "duration": 47,
    "start_time": "2023-02-02T02:08:41.795Z"
   },
   {
    "duration": 13,
    "start_time": "2023-02-02T02:08:41.844Z"
   },
   {
    "duration": 92,
    "start_time": "2023-02-02T02:08:41.859Z"
   },
   {
    "duration": 92,
    "start_time": "2023-02-02T02:08:41.953Z"
   },
   {
    "duration": 11,
    "start_time": "2023-02-02T02:08:42.046Z"
   },
   {
    "duration": 6,
    "start_time": "2023-02-02T02:08:42.058Z"
   },
   {
    "duration": 30,
    "start_time": "2023-02-02T02:08:42.066Z"
   },
   {
    "duration": 12,
    "start_time": "2023-02-02T02:08:42.097Z"
   },
   {
    "duration": 5,
    "start_time": "2023-02-02T02:08:42.111Z"
   },
   {
    "duration": 7,
    "start_time": "2023-02-02T02:08:42.117Z"
   },
   {
    "duration": 11,
    "start_time": "2023-02-02T02:08:42.125Z"
   },
   {
    "duration": 8,
    "start_time": "2023-02-02T02:08:42.137Z"
   },
   {
    "duration": 38,
    "start_time": "2023-02-02T02:08:42.146Z"
   },
   {
    "duration": 10,
    "start_time": "2023-02-02T02:08:42.186Z"
   },
   {
    "duration": 8,
    "start_time": "2023-02-02T02:08:42.197Z"
   },
   {
    "duration": 9,
    "start_time": "2023-02-02T02:08:42.207Z"
   },
   {
    "duration": 9,
    "start_time": "2023-02-02T02:08:42.218Z"
   },
   {
    "duration": 10,
    "start_time": "2023-02-02T02:08:42.228Z"
   },
   {
    "duration": 1189,
    "start_time": "2023-02-02T02:14:00.187Z"
   },
   {
    "duration": 207,
    "start_time": "2023-02-02T02:14:01.379Z"
   },
   {
    "duration": 5,
    "start_time": "2023-02-02T02:14:01.587Z"
   },
   {
    "duration": 61,
    "start_time": "2023-02-02T02:14:01.593Z"
   },
   {
    "duration": 63,
    "start_time": "2023-02-02T02:14:01.656Z"
   },
   {
    "duration": 20,
    "start_time": "2023-02-02T02:14:01.721Z"
   },
   {
    "duration": 39,
    "start_time": "2023-02-02T02:14:01.742Z"
   },
   {
    "duration": 24,
    "start_time": "2023-02-02T02:14:01.783Z"
   },
   {
    "duration": 92,
    "start_time": "2023-02-02T02:14:01.808Z"
   },
   {
    "duration": 71,
    "start_time": "2023-02-02T02:14:01.902Z"
   },
   {
    "duration": 70,
    "start_time": "2023-02-02T02:14:01.975Z"
   },
   {
    "duration": 51,
    "start_time": "2023-02-02T02:14:02.046Z"
   },
   {
    "duration": 7,
    "start_time": "2023-02-02T02:14:02.099Z"
   },
   {
    "duration": 17,
    "start_time": "2023-02-02T02:14:02.109Z"
   },
   {
    "duration": 31,
    "start_time": "2023-02-02T02:14:02.128Z"
   },
   {
    "duration": 99,
    "start_time": "2023-02-02T02:14:02.161Z"
   },
   {
    "duration": 8,
    "start_time": "2023-02-02T02:14:02.262Z"
   },
   {
    "duration": 22,
    "start_time": "2023-02-02T02:14:02.272Z"
   },
   {
    "duration": 29,
    "start_time": "2023-02-02T02:14:02.295Z"
   },
   {
    "duration": 21,
    "start_time": "2023-02-02T02:14:02.326Z"
   },
   {
    "duration": 10,
    "start_time": "2023-02-02T02:14:02.348Z"
   },
   {
    "duration": 23,
    "start_time": "2023-02-02T02:14:02.359Z"
   },
   {
    "duration": 8,
    "start_time": "2023-02-02T02:14:02.391Z"
   },
   {
    "duration": 17,
    "start_time": "2023-02-02T02:14:02.400Z"
   },
   {
    "duration": 41,
    "start_time": "2023-02-02T02:14:02.418Z"
   },
   {
    "duration": 7,
    "start_time": "2023-02-02T02:14:02.460Z"
   },
   {
    "duration": 19,
    "start_time": "2023-02-02T02:14:02.468Z"
   },
   {
    "duration": 32,
    "start_time": "2023-02-02T02:14:02.491Z"
   },
   {
    "duration": 7,
    "start_time": "2023-02-02T02:14:02.525Z"
   },
   {
    "duration": 18,
    "start_time": "2023-02-02T02:14:02.534Z"
   },
   {
    "duration": 30,
    "start_time": "2023-02-02T02:14:02.555Z"
   },
   {
    "duration": 508,
    "start_time": "2023-02-02T02:14:02.587Z"
   },
   {
    "duration": 51,
    "start_time": "2023-02-02T02:14:03.097Z"
   },
   {
    "duration": 220,
    "start_time": "2023-02-02T02:14:03.150Z"
   },
   {
    "duration": 4,
    "start_time": "2023-02-02T02:14:03.371Z"
   },
   {
    "duration": 26,
    "start_time": "2023-02-02T02:14:03.376Z"
   },
   {
    "duration": 6,
    "start_time": "2023-02-02T02:14:03.403Z"
   },
   {
    "duration": 21,
    "start_time": "2023-02-02T02:14:03.410Z"
   },
   {
    "duration": 24,
    "start_time": "2023-02-02T02:14:03.433Z"
   },
   {
    "duration": 22,
    "start_time": "2023-02-02T02:14:03.459Z"
   },
   {
    "duration": 75,
    "start_time": "2023-02-02T02:14:03.485Z"
   },
   {
    "duration": 15,
    "start_time": "2023-02-02T02:14:03.562Z"
   },
   {
    "duration": 20,
    "start_time": "2023-02-02T02:14:03.579Z"
   },
   {
    "duration": 479,
    "start_time": "2023-02-02T02:14:03.600Z"
   },
   {
    "duration": 6,
    "start_time": "2023-02-02T02:14:04.081Z"
   },
   {
    "duration": 6,
    "start_time": "2023-02-02T02:14:04.088Z"
   },
   {
    "duration": 8,
    "start_time": "2023-02-02T02:14:04.096Z"
   },
   {
    "duration": 9,
    "start_time": "2023-02-02T02:14:04.106Z"
   },
   {
    "duration": 101,
    "start_time": "2023-02-02T02:14:04.117Z"
   },
   {
    "duration": 117,
    "start_time": "2023-02-02T02:14:04.220Z"
   },
   {
    "duration": 11,
    "start_time": "2023-02-02T02:14:04.339Z"
   },
   {
    "duration": 6,
    "start_time": "2023-02-02T02:14:04.351Z"
   },
   {
    "duration": 14,
    "start_time": "2023-02-02T02:14:04.358Z"
   },
   {
    "duration": 20,
    "start_time": "2023-02-02T02:14:04.374Z"
   },
   {
    "duration": 22,
    "start_time": "2023-02-02T02:14:04.396Z"
   },
   {
    "duration": 16,
    "start_time": "2023-02-02T02:14:04.419Z"
   },
   {
    "duration": 16,
    "start_time": "2023-02-02T02:14:04.437Z"
   },
   {
    "duration": 15,
    "start_time": "2023-02-02T02:14:04.455Z"
   },
   {
    "duration": 18,
    "start_time": "2023-02-02T02:14:04.472Z"
   },
   {
    "duration": 10,
    "start_time": "2023-02-02T02:14:04.492Z"
   },
   {
    "duration": 24,
    "start_time": "2023-02-02T02:14:04.504Z"
   },
   {
    "duration": 19,
    "start_time": "2023-02-02T02:14:04.529Z"
   },
   {
    "duration": 11,
    "start_time": "2023-02-02T02:14:04.549Z"
   },
   {
    "duration": 18,
    "start_time": "2023-02-02T02:14:04.561Z"
   },
   {
    "duration": 1217,
    "start_time": "2023-02-02T06:54:49.265Z"
   },
   {
    "duration": 224,
    "start_time": "2023-02-02T06:54:50.484Z"
   },
   {
    "duration": 2,
    "start_time": "2023-02-02T06:54:50.710Z"
   },
   {
    "duration": 19,
    "start_time": "2023-02-02T06:54:50.714Z"
   },
   {
    "duration": 19,
    "start_time": "2023-02-02T06:54:50.735Z"
   },
   {
    "duration": 6,
    "start_time": "2023-02-02T06:54:50.756Z"
   },
   {
    "duration": 16,
    "start_time": "2023-02-02T06:54:50.763Z"
   },
   {
    "duration": 26,
    "start_time": "2023-02-02T06:54:50.780Z"
   },
   {
    "duration": 70,
    "start_time": "2023-02-02T06:54:50.808Z"
   },
   {
    "duration": 80,
    "start_time": "2023-02-02T06:54:50.880Z"
   },
   {
    "duration": 75,
    "start_time": "2023-02-02T06:54:50.962Z"
   },
   {
    "duration": 44,
    "start_time": "2023-02-02T06:54:51.038Z"
   },
   {
    "duration": 8,
    "start_time": "2023-02-02T06:54:51.104Z"
   },
   {
    "duration": 21,
    "start_time": "2023-02-02T06:54:51.116Z"
   },
   {
    "duration": 33,
    "start_time": "2023-02-02T06:54:51.139Z"
   },
   {
    "duration": 80,
    "start_time": "2023-02-02T06:54:51.174Z"
   },
   {
    "duration": 9,
    "start_time": "2023-02-02T06:54:51.256Z"
   },
   {
    "duration": 14,
    "start_time": "2023-02-02T06:54:51.267Z"
   },
   {
    "duration": 35,
    "start_time": "2023-02-02T06:54:51.283Z"
   },
   {
    "duration": 24,
    "start_time": "2023-02-02T06:54:51.320Z"
   },
   {
    "duration": 9,
    "start_time": "2023-02-02T06:54:51.346Z"
   },
   {
    "duration": 23,
    "start_time": "2023-02-02T06:54:51.356Z"
   },
   {
    "duration": 24,
    "start_time": "2023-02-02T06:54:51.380Z"
   },
   {
    "duration": 12,
    "start_time": "2023-02-02T06:54:51.406Z"
   },
   {
    "duration": 38,
    "start_time": "2023-02-02T06:54:51.420Z"
   },
   {
    "duration": 7,
    "start_time": "2023-02-02T06:54:51.459Z"
   },
   {
    "duration": 6,
    "start_time": "2023-02-02T06:54:51.467Z"
   },
   {
    "duration": 7,
    "start_time": "2023-02-02T06:54:51.474Z"
   },
   {
    "duration": 12,
    "start_time": "2023-02-02T06:54:51.501Z"
   },
   {
    "duration": 11,
    "start_time": "2023-02-02T06:54:51.514Z"
   },
   {
    "duration": 45,
    "start_time": "2023-02-02T06:54:51.527Z"
   },
   {
    "duration": 535,
    "start_time": "2023-02-02T06:54:51.574Z"
   },
   {
    "duration": 51,
    "start_time": "2023-02-02T06:54:52.112Z"
   },
   {
    "duration": 211,
    "start_time": "2023-02-02T06:54:52.164Z"
   },
   {
    "duration": 4,
    "start_time": "2023-02-02T06:54:52.376Z"
   },
   {
    "duration": 38,
    "start_time": "2023-02-02T06:54:52.382Z"
   },
   {
    "duration": 15,
    "start_time": "2023-02-02T06:54:52.422Z"
   },
   {
    "duration": 6,
    "start_time": "2023-02-02T06:54:52.438Z"
   },
   {
    "duration": 17,
    "start_time": "2023-02-02T06:54:52.445Z"
   },
   {
    "duration": 22,
    "start_time": "2023-02-02T06:54:52.464Z"
   },
   {
    "duration": 84,
    "start_time": "2023-02-02T06:54:52.490Z"
   },
   {
    "duration": 18,
    "start_time": "2023-02-02T06:54:52.576Z"
   },
   {
    "duration": 10,
    "start_time": "2023-02-02T06:54:52.605Z"
   },
   {
    "duration": 492,
    "start_time": "2023-02-02T06:54:52.616Z"
   },
   {
    "duration": 3,
    "start_time": "2023-02-02T06:54:53.112Z"
   },
   {
    "duration": 12,
    "start_time": "2023-02-02T06:54:53.116Z"
   },
   {
    "duration": 6,
    "start_time": "2023-02-02T06:54:53.129Z"
   },
   {
    "duration": 12,
    "start_time": "2023-02-02T06:54:53.136Z"
   },
   {
    "duration": 102,
    "start_time": "2023-02-02T06:54:53.150Z"
   },
   {
    "duration": 114,
    "start_time": "2023-02-02T06:54:53.254Z"
   },
   {
    "duration": 9,
    "start_time": "2023-02-02T06:54:53.370Z"
   },
   {
    "duration": 32,
    "start_time": "2023-02-02T06:54:53.381Z"
   },
   {
    "duration": 19,
    "start_time": "2023-02-02T06:54:53.414Z"
   },
   {
    "duration": 14,
    "start_time": "2023-02-02T06:54:53.434Z"
   },
   {
    "duration": 14,
    "start_time": "2023-02-02T06:54:53.449Z"
   },
   {
    "duration": 16,
    "start_time": "2023-02-02T06:54:53.464Z"
   },
   {
    "duration": 22,
    "start_time": "2023-02-02T06:54:53.482Z"
   },
   {
    "duration": 26,
    "start_time": "2023-02-02T06:54:53.506Z"
   },
   {
    "duration": 31,
    "start_time": "2023-02-02T06:54:53.534Z"
   },
   {
    "duration": 18,
    "start_time": "2023-02-02T06:54:53.567Z"
   },
   {
    "duration": 1162,
    "start_time": "2023-02-02T06:57:27.707Z"
   },
   {
    "duration": 198,
    "start_time": "2023-02-02T06:57:28.872Z"
   },
   {
    "duration": 3,
    "start_time": "2023-02-02T06:57:29.071Z"
   },
   {
    "duration": 22,
    "start_time": "2023-02-02T06:57:29.075Z"
   },
   {
    "duration": 20,
    "start_time": "2023-02-02T06:57:29.099Z"
   },
   {
    "duration": 7,
    "start_time": "2023-02-02T06:57:29.120Z"
   },
   {
    "duration": 13,
    "start_time": "2023-02-02T06:57:29.128Z"
   },
   {
    "duration": 10,
    "start_time": "2023-02-02T06:57:29.143Z"
   },
   {
    "duration": 80,
    "start_time": "2023-02-02T06:57:29.155Z"
   },
   {
    "duration": 77,
    "start_time": "2023-02-02T06:57:29.237Z"
   },
   {
    "duration": 58,
    "start_time": "2023-02-02T06:57:29.316Z"
   },
   {
    "duration": 53,
    "start_time": "2023-02-02T06:57:29.376Z"
   },
   {
    "duration": 7,
    "start_time": "2023-02-02T06:57:29.431Z"
   },
   {
    "duration": 8,
    "start_time": "2023-02-02T06:57:29.440Z"
   },
   {
    "duration": 22,
    "start_time": "2023-02-02T06:57:29.449Z"
   },
   {
    "duration": 79,
    "start_time": "2023-02-02T06:57:29.472Z"
   },
   {
    "duration": 8,
    "start_time": "2023-02-02T06:57:29.553Z"
   },
   {
    "duration": 11,
    "start_time": "2023-02-02T06:57:29.563Z"
   },
   {
    "duration": 33,
    "start_time": "2023-02-02T06:57:29.575Z"
   },
   {
    "duration": 23,
    "start_time": "2023-02-02T06:57:29.609Z"
   },
   {
    "duration": 13,
    "start_time": "2023-02-02T06:57:29.633Z"
   },
   {
    "duration": 26,
    "start_time": "2023-02-02T06:57:29.647Z"
   },
   {
    "duration": 18,
    "start_time": "2023-02-02T06:57:29.674Z"
   },
   {
    "duration": 3,
    "start_time": "2023-02-02T06:57:29.693Z"
   },
   {
    "duration": 44,
    "start_time": "2023-02-02T06:57:29.698Z"
   },
   {
    "duration": 7,
    "start_time": "2023-02-02T06:57:29.743Z"
   },
   {
    "duration": 7,
    "start_time": "2023-02-02T06:57:29.752Z"
   },
   {
    "duration": 6,
    "start_time": "2023-02-02T06:57:29.761Z"
   },
   {
    "duration": 22,
    "start_time": "2023-02-02T06:57:29.769Z"
   },
   {
    "duration": 3,
    "start_time": "2023-02-02T06:57:29.793Z"
   },
   {
    "duration": 49,
    "start_time": "2023-02-02T06:57:29.798Z"
   },
   {
    "duration": 491,
    "start_time": "2023-02-02T06:57:29.849Z"
   },
   {
    "duration": 63,
    "start_time": "2023-02-02T06:57:30.342Z"
   },
   {
    "duration": 226,
    "start_time": "2023-02-02T06:57:30.407Z"
   },
   {
    "duration": 3,
    "start_time": "2023-02-02T06:57:30.635Z"
   },
   {
    "duration": 30,
    "start_time": "2023-02-02T06:57:30.640Z"
   },
   {
    "duration": 37,
    "start_time": "2023-02-02T06:57:30.671Z"
   },
   {
    "duration": 35,
    "start_time": "2023-02-02T06:57:30.710Z"
   },
   {
    "duration": 34,
    "start_time": "2023-02-02T06:57:30.747Z"
   },
   {
    "duration": 47,
    "start_time": "2023-02-02T06:57:30.783Z"
   },
   {
    "duration": 93,
    "start_time": "2023-02-02T06:57:30.834Z"
   },
   {
    "duration": 16,
    "start_time": "2023-02-02T06:57:30.929Z"
   },
   {
    "duration": 50,
    "start_time": "2023-02-02T06:57:30.946Z"
   },
   {
    "duration": 545,
    "start_time": "2023-02-02T06:57:30.998Z"
   },
   {
    "duration": 5,
    "start_time": "2023-02-02T06:57:31.544Z"
   },
   {
    "duration": 16,
    "start_time": "2023-02-02T06:57:31.551Z"
   },
   {
    "duration": 7,
    "start_time": "2023-02-02T06:57:31.592Z"
   },
   {
    "duration": 49,
    "start_time": "2023-02-02T06:57:31.601Z"
   },
   {
    "duration": 106,
    "start_time": "2023-02-02T06:57:31.652Z"
   },
   {
    "duration": 87,
    "start_time": "2023-02-02T06:57:31.760Z"
   },
   {
    "duration": 15,
    "start_time": "2023-02-02T06:57:31.848Z"
   },
   {
    "duration": 27,
    "start_time": "2023-02-02T06:57:31.866Z"
   },
   {
    "duration": 47,
    "start_time": "2023-02-02T06:57:31.894Z"
   },
   {
    "duration": 18,
    "start_time": "2023-02-02T06:57:31.942Z"
   },
   {
    "duration": 17,
    "start_time": "2023-02-02T06:57:31.962Z"
   },
   {
    "duration": 15,
    "start_time": "2023-02-02T06:57:31.981Z"
   },
   {
    "duration": 30,
    "start_time": "2023-02-02T06:57:31.998Z"
   },
   {
    "duration": 17,
    "start_time": "2023-02-02T06:57:32.030Z"
   },
   {
    "duration": 21,
    "start_time": "2023-02-02T06:57:32.049Z"
   },
   {
    "duration": 15,
    "start_time": "2023-02-02T06:57:32.071Z"
   },
   {
    "duration": 1260,
    "start_time": "2023-02-02T06:58:14.905Z"
   },
   {
    "duration": 276,
    "start_time": "2023-02-02T06:58:16.168Z"
   },
   {
    "duration": 4,
    "start_time": "2023-02-02T06:58:16.445Z"
   },
   {
    "duration": 19,
    "start_time": "2023-02-02T06:58:16.451Z"
   },
   {
    "duration": 37,
    "start_time": "2023-02-02T06:58:16.473Z"
   },
   {
    "duration": 6,
    "start_time": "2023-02-02T06:58:16.512Z"
   },
   {
    "duration": 12,
    "start_time": "2023-02-02T06:58:16.521Z"
   },
   {
    "duration": 8,
    "start_time": "2023-02-02T06:58:16.535Z"
   },
   {
    "duration": 94,
    "start_time": "2023-02-02T06:58:16.545Z"
   },
   {
    "duration": 80,
    "start_time": "2023-02-02T06:58:16.641Z"
   },
   {
    "duration": 57,
    "start_time": "2023-02-02T06:58:16.723Z"
   },
   {
    "duration": 43,
    "start_time": "2023-02-02T06:58:16.781Z"
   },
   {
    "duration": 8,
    "start_time": "2023-02-02T06:58:16.825Z"
   },
   {
    "duration": 8,
    "start_time": "2023-02-02T06:58:16.835Z"
   },
   {
    "duration": 17,
    "start_time": "2023-02-02T06:58:16.844Z"
   },
   {
    "duration": 93,
    "start_time": "2023-02-02T06:58:16.862Z"
   },
   {
    "duration": 9,
    "start_time": "2023-02-02T06:58:16.956Z"
   },
   {
    "duration": 7,
    "start_time": "2023-02-02T06:58:16.966Z"
   },
   {
    "duration": 35,
    "start_time": "2023-02-02T06:58:16.975Z"
   },
   {
    "duration": 25,
    "start_time": "2023-02-02T06:58:17.012Z"
   },
   {
    "duration": 5,
    "start_time": "2023-02-02T06:58:17.039Z"
   },
   {
    "duration": 23,
    "start_time": "2023-02-02T06:58:17.045Z"
   },
   {
    "duration": 30,
    "start_time": "2023-02-02T06:58:17.070Z"
   },
   {
    "duration": 4,
    "start_time": "2023-02-02T06:58:17.102Z"
   },
   {
    "duration": 36,
    "start_time": "2023-02-02T06:58:17.108Z"
   },
   {
    "duration": 8,
    "start_time": "2023-02-02T06:58:17.146Z"
   },
   {
    "duration": 9,
    "start_time": "2023-02-02T06:58:17.156Z"
   },
   {
    "duration": 4,
    "start_time": "2023-02-02T06:58:17.192Z"
   },
   {
    "duration": 7,
    "start_time": "2023-02-02T06:58:17.197Z"
   },
   {
    "duration": 5,
    "start_time": "2023-02-02T06:58:17.205Z"
   },
   {
    "duration": 31,
    "start_time": "2023-02-02T06:58:17.212Z"
   },
   {
    "duration": 508,
    "start_time": "2023-02-02T06:58:17.245Z"
   },
   {
    "duration": 58,
    "start_time": "2023-02-02T06:58:17.755Z"
   },
   {
    "duration": 201,
    "start_time": "2023-02-02T06:58:17.814Z"
   },
   {
    "duration": 4,
    "start_time": "2023-02-02T06:58:18.017Z"
   },
   {
    "duration": 11,
    "start_time": "2023-02-02T06:58:18.022Z"
   },
   {
    "duration": 4,
    "start_time": "2023-02-02T06:58:18.034Z"
   },
   {
    "duration": 6,
    "start_time": "2023-02-02T06:58:18.039Z"
   },
   {
    "duration": 10,
    "start_time": "2023-02-02T06:58:18.046Z"
   },
   {
    "duration": 51,
    "start_time": "2023-02-02T06:58:18.057Z"
   },
   {
    "duration": 64,
    "start_time": "2023-02-02T06:58:18.111Z"
   },
   {
    "duration": 28,
    "start_time": "2023-02-02T06:58:18.177Z"
   },
   {
    "duration": 8,
    "start_time": "2023-02-02T06:58:18.206Z"
   },
   {
    "duration": 484,
    "start_time": "2023-02-02T06:58:18.215Z"
   },
   {
    "duration": 4,
    "start_time": "2023-02-02T06:58:18.701Z"
   },
   {
    "duration": 7,
    "start_time": "2023-02-02T06:58:18.706Z"
   },
   {
    "duration": 11,
    "start_time": "2023-02-02T06:58:18.714Z"
   },
   {
    "duration": 14,
    "start_time": "2023-02-02T06:58:18.726Z"
   },
   {
    "duration": 92,
    "start_time": "2023-02-02T06:58:18.741Z"
   },
   {
    "duration": 111,
    "start_time": "2023-02-02T06:58:18.835Z"
   },
   {
    "duration": 10,
    "start_time": "2023-02-02T06:58:18.948Z"
   },
   {
    "duration": 4,
    "start_time": "2023-02-02T06:58:18.960Z"
   },
   {
    "duration": 27,
    "start_time": "2023-02-02T06:58:18.965Z"
   },
   {
    "duration": 3,
    "start_time": "2023-02-02T06:58:18.994Z"
   },
   {
    "duration": 5,
    "start_time": "2023-02-02T06:58:18.999Z"
   },
   {
    "duration": 8,
    "start_time": "2023-02-02T06:58:19.005Z"
   },
   {
    "duration": 13,
    "start_time": "2023-02-02T06:58:19.014Z"
   },
   {
    "duration": 10,
    "start_time": "2023-02-02T06:58:19.028Z"
   },
   {
    "duration": 8,
    "start_time": "2023-02-02T06:58:19.039Z"
   },
   {
    "duration": 7,
    "start_time": "2023-02-02T06:58:19.049Z"
   }
  ],
  "kernelspec": {
   "display_name": "Python 3 (ipykernel)",
   "language": "python",
   "name": "python3"
  },
  "language_info": {
   "codemirror_mode": {
    "name": "ipython",
    "version": 3
   },
   "file_extension": ".py",
   "mimetype": "text/x-python",
   "name": "python",
   "nbconvert_exporter": "python",
   "pygments_lexer": "ipython3",
   "version": "3.9.13"
  },
  "toc": {
   "base_numbering": 1,
   "nav_menu": {},
   "number_sections": true,
   "sideBar": true,
   "skip_h1_title": true,
   "title_cell": "Table of Contents",
   "title_sidebar": "Contents",
   "toc_cell": false,
   "toc_position": {
    "height": "calc(100% - 180px)",
    "left": "10px",
    "top": "150px",
    "width": "398.941px"
   },
   "toc_section_display": true,
   "toc_window_display": true
  },
  "varInspector": {
   "cols": {
    "lenName": 16,
    "lenType": 16,
    "lenVar": 40
   },
   "kernels_config": {
    "python": {
     "delete_cmd_postfix": "",
     "delete_cmd_prefix": "del ",
     "library": "var_list.py",
     "varRefreshCmd": "print(var_dic_list())"
    },
    "r": {
     "delete_cmd_postfix": ") ",
     "delete_cmd_prefix": "rm(",
     "library": "var_list.r",
     "varRefreshCmd": "cat(var_dic_list()) "
    }
   },
   "types_to_exclude": [
    "module",
    "function",
    "builtin_function_or_method",
    "instance",
    "_Feature"
   ],
   "window_display": false
  }
 },
 "nbformat": 4,
 "nbformat_minor": 2
}
