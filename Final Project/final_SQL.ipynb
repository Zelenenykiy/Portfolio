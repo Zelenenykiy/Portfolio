{
 "cells": [
  {
   "cell_type": "markdown",
   "metadata": {},
   "source": [
    "# Проект : SQL."
   ]
  },
  {
   "cell_type": "markdown",
   "metadata": {},
   "source": [
    "# Описание проекта\n",
    "\n",
    "Коронавирус застал мир врасплох, изменив привычный порядок вещей. В свободное время жители городов больше не выходят на улицу, не посещают кафе и торговые центры. Зато стало больше времени для книг. Это заметили стартаперы — и бросились создавать приложения для тех, кто любит читать.\n",
    "\n",
    "Ваша компания решила быть на волне и купила крупный сервис для чтения книг по подписке. Ваша первая задача как аналитика — проанализировать базу данных.\n",
    "В ней — информация о книгах, издательствах, авторах, а также пользовательские обзоры книг."
   ]
  },
  {
   "cell_type": "markdown",
   "metadata": {},
   "source": [
    "# Описание данных\n",
    "\n",
    "Описание данных\n",
    "\n",
    "**Таблица `books`**\n",
    "\n",
    "Содержит данные о книгах:\n",
    "\n",
    "- `book_id` — идентификатор книги;\n",
    "- `author_id` — идентификатор автора;\n",
    "- `title` — название книги;\n",
    "- `num_pages` — количество страниц;\n",
    "- `publication_date` — дата публикации книги;\n",
    "- `publisher_id` — идентификатор издателя.\n",
    "\n",
    "**Таблица `authors`**\n",
    "\n",
    "Содержит данные об авторах:\n",
    "\n",
    "- `author_id` — идентификатор автора;\n",
    "- `author` — имя автора.\n",
    "\n",
    "**Таблица `publishers`**\n",
    "\n",
    "Содержит данные об издательствах:\n",
    "\n",
    "- `publisher_id` — идентификатор издательства;\n",
    "- `publisher` — название издательства;\n",
    "\n",
    "**Таблица `ratings`**\n",
    "\n",
    "Содержит данные о пользовательских оценках книг:\n",
    "\n",
    "- `rating_id` — идентификатор оценки;\n",
    "- `book_id` — идентификатор книги;\n",
    "- `username` — имя пользователя, оставившего оценку;\n",
    "- `rating` — оценка книги.\n",
    "\n",
    "**Таблица `reviews`**\n",
    "\n",
    "Содержит данные о пользовательских обзорах на книги:\n",
    "\n",
    "- `review_id` — идентификатор обзора;\n",
    "- `book_id` — идентификатор книги;\n",
    "- `username` — имя пользователя, написавшего обзор;\n",
    "- `text` — текст обзора."
   ]
  },
  {
   "cell_type": "markdown",
   "metadata": {},
   "source": [
    "# Задачи исследования\n",
    "\n",
    "\n",
    "# Изучение общей информации\n",
    "- загрузить данные из датасетов\n",
    "- изучить общую информацию о полученных данных\n",
    "\n",
    "# Выполнить задания\n",
    "- Посчитайте, сколько книг вышло после 1 января 2000 года;\n",
    "- Для каждой книги посчитайте количество обзоров и среднюю оценку;\n",
    "- Определите издательство, которое выпустило наибольшее число книг толще 50 страниц — так вы исключите из анализа брошюры;\n",
    "- Определите автора с самой высокой средней оценкой книг — учитывайте только книги с 50 и более оценками;\n",
    "- Посчитайте среднее количество обзоров от пользователей, которые поставили больше 50 оценок.\n",
    "\n",
    "# Вывод"
   ]
  },
  {
   "cell_type": "markdown",
   "metadata": {},
   "source": [
    "## Изучение общей информации"
   ]
  },
  {
   "cell_type": "markdown",
   "metadata": {},
   "source": [
    "Импортирую библиотеки. Считываю данные из csv-файла и сохраняю в переменную."
   ]
  },
  {
   "cell_type": "code",
   "execution_count": 1,
   "metadata": {},
   "outputs": [],
   "source": [
    "import pandas as pd\n",
    "from sqlalchemy import create_engine"
   ]
  },
  {
   "cell_type": "code",
   "execution_count": 2,
   "metadata": {},
   "outputs": [],
   "source": [
    "# устанавливаем параметры\n",
    "db_config = {'user': 'praktikum_student', # имя пользователя\n",
    "'pwd': 'Sdf4$2;d-d30pp', # пароль\n",
    "'host': 'rc1b-wcoijxj3yxfsf3fs.mdb.yandexcloud.net',\n",
    "'port': 6432, # порт подключения\n",
    "'db': 'data-analyst-final-project-db'} # название базы данных\n",
    "connection_string = 'postgresql://{}:{}@{}:{}/{}'.format(db_config['user'],\n",
    " db_config['pwd'],\n",
    " db_config['host'],\n",
    " db_config['port'],\n",
    " db_config['db'])\n",
    "# сохраняем коннектор\n",
    "engine = create_engine(connection_string, connect_args={'sslmode':'require'})"
   ]
  },
  {
   "cell_type": "code",
   "execution_count": 3,
   "metadata": {},
   "outputs": [
    {
     "data": {
      "text/html": [
       "<div>\n",
       "<style scoped>\n",
       "    .dataframe tbody tr th:only-of-type {\n",
       "        vertical-align: middle;\n",
       "    }\n",
       "\n",
       "    .dataframe tbody tr th {\n",
       "        vertical-align: top;\n",
       "    }\n",
       "\n",
       "    .dataframe thead th {\n",
       "        text-align: right;\n",
       "    }\n",
       "</style>\n",
       "<table border=\"1\" class=\"dataframe\">\n",
       "  <thead>\n",
       "    <tr style=\"text-align: right;\">\n",
       "      <th></th>\n",
       "      <th>book_id</th>\n",
       "      <th>author_id</th>\n",
       "      <th>title</th>\n",
       "      <th>num_pages</th>\n",
       "      <th>publication_date</th>\n",
       "      <th>publisher_id</th>\n",
       "    </tr>\n",
       "  </thead>\n",
       "  <tbody>\n",
       "    <tr>\n",
       "      <th>0</th>\n",
       "      <td>1</td>\n",
       "      <td>546</td>\n",
       "      <td>'Salem's Lot</td>\n",
       "      <td>594</td>\n",
       "      <td>2005-11-01</td>\n",
       "      <td>93</td>\n",
       "    </tr>\n",
       "    <tr>\n",
       "      <th>1</th>\n",
       "      <td>2</td>\n",
       "      <td>465</td>\n",
       "      <td>1 000 Places to See Before You Die</td>\n",
       "      <td>992</td>\n",
       "      <td>2003-05-22</td>\n",
       "      <td>336</td>\n",
       "    </tr>\n",
       "    <tr>\n",
       "      <th>2</th>\n",
       "      <td>3</td>\n",
       "      <td>407</td>\n",
       "      <td>13 Little Blue Envelopes (Little Blue Envelope...</td>\n",
       "      <td>322</td>\n",
       "      <td>2010-12-21</td>\n",
       "      <td>135</td>\n",
       "    </tr>\n",
       "    <tr>\n",
       "      <th>3</th>\n",
       "      <td>4</td>\n",
       "      <td>82</td>\n",
       "      <td>1491: New Revelations of the Americas Before C...</td>\n",
       "      <td>541</td>\n",
       "      <td>2006-10-10</td>\n",
       "      <td>309</td>\n",
       "    </tr>\n",
       "    <tr>\n",
       "      <th>4</th>\n",
       "      <td>5</td>\n",
       "      <td>125</td>\n",
       "      <td>1776</td>\n",
       "      <td>386</td>\n",
       "      <td>2006-07-04</td>\n",
       "      <td>268</td>\n",
       "    </tr>\n",
       "    <tr>\n",
       "      <th>5</th>\n",
       "      <td>6</td>\n",
       "      <td>257</td>\n",
       "      <td>1st to Die (Women's Murder Club  #1)</td>\n",
       "      <td>424</td>\n",
       "      <td>2005-05-20</td>\n",
       "      <td>116</td>\n",
       "    </tr>\n",
       "    <tr>\n",
       "      <th>6</th>\n",
       "      <td>7</td>\n",
       "      <td>258</td>\n",
       "      <td>2nd Chance (Women's Murder Club  #2)</td>\n",
       "      <td>400</td>\n",
       "      <td>2005-05-20</td>\n",
       "      <td>116</td>\n",
       "    </tr>\n",
       "    <tr>\n",
       "      <th>7</th>\n",
       "      <td>8</td>\n",
       "      <td>260</td>\n",
       "      <td>4th of July (Women's Murder Club  #4)</td>\n",
       "      <td>448</td>\n",
       "      <td>2006-06-01</td>\n",
       "      <td>318</td>\n",
       "    </tr>\n",
       "    <tr>\n",
       "      <th>8</th>\n",
       "      <td>9</td>\n",
       "      <td>563</td>\n",
       "      <td>A Beautiful Mind</td>\n",
       "      <td>461</td>\n",
       "      <td>2002-02-04</td>\n",
       "      <td>104</td>\n",
       "    </tr>\n",
       "    <tr>\n",
       "      <th>9</th>\n",
       "      <td>10</td>\n",
       "      <td>445</td>\n",
       "      <td>A Bend in the Road</td>\n",
       "      <td>341</td>\n",
       "      <td>2005-04-01</td>\n",
       "      <td>116</td>\n",
       "    </tr>\n",
       "  </tbody>\n",
       "</table>\n",
       "</div>"
      ],
      "text/plain": [
       "   book_id  author_id                                              title  \\\n",
       "0        1        546                                       'Salem's Lot   \n",
       "1        2        465                 1 000 Places to See Before You Die   \n",
       "2        3        407  13 Little Blue Envelopes (Little Blue Envelope...   \n",
       "3        4         82  1491: New Revelations of the Americas Before C...   \n",
       "4        5        125                                               1776   \n",
       "5        6        257               1st to Die (Women's Murder Club  #1)   \n",
       "6        7        258               2nd Chance (Women's Murder Club  #2)   \n",
       "7        8        260              4th of July (Women's Murder Club  #4)   \n",
       "8        9        563                                   A Beautiful Mind   \n",
       "9       10        445                                 A Bend in the Road   \n",
       "\n",
       "   num_pages publication_date  publisher_id  \n",
       "0        594       2005-11-01            93  \n",
       "1        992       2003-05-22           336  \n",
       "2        322       2010-12-21           135  \n",
       "3        541       2006-10-10           309  \n",
       "4        386       2006-07-04           268  \n",
       "5        424       2005-05-20           116  \n",
       "6        400       2005-05-20           116  \n",
       "7        448       2006-06-01           318  \n",
       "8        461       2002-02-04           104  \n",
       "9        341       2005-04-01           116  "
      ]
     },
     "execution_count": 3,
     "metadata": {},
     "output_type": "execute_result"
    }
   ],
   "source": [
    "# чтобы выполнить SQL-запрос, используем Pandas\n",
    "query = '''\n",
    "           SELECT *\n",
    "           FROM books\n",
    "        '''\n",
    "\n",
    "books = pd.io.sql.read_sql(query, con = engine)\n",
    "books.to_csv('books.csv', index=False)\n",
    "books.head(10)"
   ]
  },
  {
   "cell_type": "code",
   "execution_count": 4,
   "metadata": {},
   "outputs": [
    {
     "data": {
      "text/html": [
       "<div>\n",
       "<style scoped>\n",
       "    .dataframe tbody tr th:only-of-type {\n",
       "        vertical-align: middle;\n",
       "    }\n",
       "\n",
       "    .dataframe tbody tr th {\n",
       "        vertical-align: top;\n",
       "    }\n",
       "\n",
       "    .dataframe thead th {\n",
       "        text-align: right;\n",
       "    }\n",
       "</style>\n",
       "<table border=\"1\" class=\"dataframe\">\n",
       "  <thead>\n",
       "    <tr style=\"text-align: right;\">\n",
       "      <th></th>\n",
       "      <th>author_id</th>\n",
       "      <th>author</th>\n",
       "    </tr>\n",
       "  </thead>\n",
       "  <tbody>\n",
       "    <tr>\n",
       "      <th>0</th>\n",
       "      <td>1</td>\n",
       "      <td>A.S. Byatt</td>\n",
       "    </tr>\n",
       "    <tr>\n",
       "      <th>1</th>\n",
       "      <td>2</td>\n",
       "      <td>Aesop/Laura Harris/Laura Gibbs</td>\n",
       "    </tr>\n",
       "    <tr>\n",
       "      <th>2</th>\n",
       "      <td>3</td>\n",
       "      <td>Agatha Christie</td>\n",
       "    </tr>\n",
       "    <tr>\n",
       "      <th>3</th>\n",
       "      <td>4</td>\n",
       "      <td>Alan Brennert</td>\n",
       "    </tr>\n",
       "    <tr>\n",
       "      <th>4</th>\n",
       "      <td>5</td>\n",
       "      <td>Alan Moore/David   Lloyd</td>\n",
       "    </tr>\n",
       "    <tr>\n",
       "      <th>5</th>\n",
       "      <td>6</td>\n",
       "      <td>Alan Paton</td>\n",
       "    </tr>\n",
       "    <tr>\n",
       "      <th>6</th>\n",
       "      <td>7</td>\n",
       "      <td>Albert Camus/Justin O'Brien</td>\n",
       "    </tr>\n",
       "    <tr>\n",
       "      <th>7</th>\n",
       "      <td>8</td>\n",
       "      <td>Aldous Huxley</td>\n",
       "    </tr>\n",
       "    <tr>\n",
       "      <th>8</th>\n",
       "      <td>9</td>\n",
       "      <td>Aldous Huxley/Christopher Hitchens</td>\n",
       "    </tr>\n",
       "    <tr>\n",
       "      <th>9</th>\n",
       "      <td>10</td>\n",
       "      <td>Aleksandr Solzhenitsyn/H.T. Willetts</td>\n",
       "    </tr>\n",
       "  </tbody>\n",
       "</table>\n",
       "</div>"
      ],
      "text/plain": [
       "   author_id                                author\n",
       "0          1                            A.S. Byatt\n",
       "1          2        Aesop/Laura Harris/Laura Gibbs\n",
       "2          3                       Agatha Christie\n",
       "3          4                         Alan Brennert\n",
       "4          5              Alan Moore/David   Lloyd\n",
       "5          6                            Alan Paton\n",
       "6          7           Albert Camus/Justin O'Brien\n",
       "7          8                         Aldous Huxley\n",
       "8          9    Aldous Huxley/Christopher Hitchens\n",
       "9         10  Aleksandr Solzhenitsyn/H.T. Willetts"
      ]
     },
     "execution_count": 4,
     "metadata": {},
     "output_type": "execute_result"
    }
   ],
   "source": [
    "# чтобы выполнить SQL-запрос, используем Pandas\n",
    "query = '''\n",
    "           SELECT *\n",
    "           FROM authors\n",
    "        '''\n",
    "\n",
    "authors = pd.io.sql.read_sql(query, con = engine)\n",
    "authors.to_csv('authors.csv', index=False)\n",
    "authors.head(10)"
   ]
  },
  {
   "cell_type": "code",
   "execution_count": 5,
   "metadata": {},
   "outputs": [
    {
     "data": {
      "text/html": [
       "<div>\n",
       "<style scoped>\n",
       "    .dataframe tbody tr th:only-of-type {\n",
       "        vertical-align: middle;\n",
       "    }\n",
       "\n",
       "    .dataframe tbody tr th {\n",
       "        vertical-align: top;\n",
       "    }\n",
       "\n",
       "    .dataframe thead th {\n",
       "        text-align: right;\n",
       "    }\n",
       "</style>\n",
       "<table border=\"1\" class=\"dataframe\">\n",
       "  <thead>\n",
       "    <tr style=\"text-align: right;\">\n",
       "      <th></th>\n",
       "      <th>publisher_id</th>\n",
       "      <th>publisher</th>\n",
       "    </tr>\n",
       "  </thead>\n",
       "  <tbody>\n",
       "    <tr>\n",
       "      <th>0</th>\n",
       "      <td>1</td>\n",
       "      <td>Ace</td>\n",
       "    </tr>\n",
       "    <tr>\n",
       "      <th>1</th>\n",
       "      <td>2</td>\n",
       "      <td>Ace Book</td>\n",
       "    </tr>\n",
       "    <tr>\n",
       "      <th>2</th>\n",
       "      <td>3</td>\n",
       "      <td>Ace Books</td>\n",
       "    </tr>\n",
       "    <tr>\n",
       "      <th>3</th>\n",
       "      <td>4</td>\n",
       "      <td>Ace Hardcover</td>\n",
       "    </tr>\n",
       "    <tr>\n",
       "      <th>4</th>\n",
       "      <td>5</td>\n",
       "      <td>Addison Wesley Publishing Company</td>\n",
       "    </tr>\n",
       "    <tr>\n",
       "      <th>5</th>\n",
       "      <td>6</td>\n",
       "      <td>Aladdin</td>\n",
       "    </tr>\n",
       "    <tr>\n",
       "      <th>6</th>\n",
       "      <td>7</td>\n",
       "      <td>Aladdin Paperbacks</td>\n",
       "    </tr>\n",
       "    <tr>\n",
       "      <th>7</th>\n",
       "      <td>8</td>\n",
       "      <td>Albin Michel</td>\n",
       "    </tr>\n",
       "    <tr>\n",
       "      <th>8</th>\n",
       "      <td>9</td>\n",
       "      <td>Alfred A. Knopf</td>\n",
       "    </tr>\n",
       "    <tr>\n",
       "      <th>9</th>\n",
       "      <td>10</td>\n",
       "      <td>Alfred A. Knopf Books for Young Readers</td>\n",
       "    </tr>\n",
       "  </tbody>\n",
       "</table>\n",
       "</div>"
      ],
      "text/plain": [
       "   publisher_id                                publisher\n",
       "0             1                                      Ace\n",
       "1             2                                 Ace Book\n",
       "2             3                                Ace Books\n",
       "3             4                            Ace Hardcover\n",
       "4             5        Addison Wesley Publishing Company\n",
       "5             6                                  Aladdin\n",
       "6             7                       Aladdin Paperbacks\n",
       "7             8                             Albin Michel\n",
       "8             9                          Alfred A. Knopf\n",
       "9            10  Alfred A. Knopf Books for Young Readers"
      ]
     },
     "execution_count": 5,
     "metadata": {},
     "output_type": "execute_result"
    }
   ],
   "source": [
    "# чтобы выполнить SQL-запрос, используем Pandas\n",
    "query = '''\n",
    "           SELECT *\n",
    "           FROM publishers\n",
    "        '''\n",
    "\n",
    "publishers = pd.io.sql.read_sql(query, con = engine)\n",
    "publishers.to_csv('publishers.csv', index=False)\n",
    "publishers.head(10)"
   ]
  },
  {
   "cell_type": "code",
   "execution_count": 6,
   "metadata": {},
   "outputs": [
    {
     "data": {
      "text/html": [
       "<div>\n",
       "<style scoped>\n",
       "    .dataframe tbody tr th:only-of-type {\n",
       "        vertical-align: middle;\n",
       "    }\n",
       "\n",
       "    .dataframe tbody tr th {\n",
       "        vertical-align: top;\n",
       "    }\n",
       "\n",
       "    .dataframe thead th {\n",
       "        text-align: right;\n",
       "    }\n",
       "</style>\n",
       "<table border=\"1\" class=\"dataframe\">\n",
       "  <thead>\n",
       "    <tr style=\"text-align: right;\">\n",
       "      <th></th>\n",
       "      <th>rating_id</th>\n",
       "      <th>book_id</th>\n",
       "      <th>username</th>\n",
       "      <th>rating</th>\n",
       "    </tr>\n",
       "  </thead>\n",
       "  <tbody>\n",
       "    <tr>\n",
       "      <th>0</th>\n",
       "      <td>1</td>\n",
       "      <td>1</td>\n",
       "      <td>ryanfranco</td>\n",
       "      <td>4</td>\n",
       "    </tr>\n",
       "    <tr>\n",
       "      <th>1</th>\n",
       "      <td>2</td>\n",
       "      <td>1</td>\n",
       "      <td>grantpatricia</td>\n",
       "      <td>2</td>\n",
       "    </tr>\n",
       "    <tr>\n",
       "      <th>2</th>\n",
       "      <td>3</td>\n",
       "      <td>1</td>\n",
       "      <td>brandtandrea</td>\n",
       "      <td>5</td>\n",
       "    </tr>\n",
       "    <tr>\n",
       "      <th>3</th>\n",
       "      <td>4</td>\n",
       "      <td>2</td>\n",
       "      <td>lorichen</td>\n",
       "      <td>3</td>\n",
       "    </tr>\n",
       "    <tr>\n",
       "      <th>4</th>\n",
       "      <td>5</td>\n",
       "      <td>2</td>\n",
       "      <td>mariokeller</td>\n",
       "      <td>2</td>\n",
       "    </tr>\n",
       "    <tr>\n",
       "      <th>5</th>\n",
       "      <td>6</td>\n",
       "      <td>3</td>\n",
       "      <td>johnsonamanda</td>\n",
       "      <td>4</td>\n",
       "    </tr>\n",
       "    <tr>\n",
       "      <th>6</th>\n",
       "      <td>7</td>\n",
       "      <td>3</td>\n",
       "      <td>scotttamara</td>\n",
       "      <td>5</td>\n",
       "    </tr>\n",
       "    <tr>\n",
       "      <th>7</th>\n",
       "      <td>8</td>\n",
       "      <td>3</td>\n",
       "      <td>lesliegibbs</td>\n",
       "      <td>5</td>\n",
       "    </tr>\n",
       "    <tr>\n",
       "      <th>8</th>\n",
       "      <td>9</td>\n",
       "      <td>4</td>\n",
       "      <td>abbottjames</td>\n",
       "      <td>5</td>\n",
       "    </tr>\n",
       "    <tr>\n",
       "      <th>9</th>\n",
       "      <td>10</td>\n",
       "      <td>4</td>\n",
       "      <td>valenciaanne</td>\n",
       "      <td>4</td>\n",
       "    </tr>\n",
       "  </tbody>\n",
       "</table>\n",
       "</div>"
      ],
      "text/plain": [
       "   rating_id  book_id       username  rating\n",
       "0          1        1     ryanfranco       4\n",
       "1          2        1  grantpatricia       2\n",
       "2          3        1   brandtandrea       5\n",
       "3          4        2       lorichen       3\n",
       "4          5        2    mariokeller       2\n",
       "5          6        3  johnsonamanda       4\n",
       "6          7        3    scotttamara       5\n",
       "7          8        3    lesliegibbs       5\n",
       "8          9        4    abbottjames       5\n",
       "9         10        4   valenciaanne       4"
      ]
     },
     "execution_count": 6,
     "metadata": {},
     "output_type": "execute_result"
    }
   ],
   "source": [
    "# чтобы выполнить SQL-запрос, используем Pandas\n",
    "query = '''\n",
    "           SELECT *\n",
    "           FROM ratings\n",
    "        '''\n",
    "\n",
    "ratings = pd.io.sql.read_sql(query, con = engine)\n",
    "ratings.to_csv('ratings.csv', index=False)\n",
    "ratings.head(10)"
   ]
  },
  {
   "cell_type": "code",
   "execution_count": 7,
   "metadata": {},
   "outputs": [
    {
     "data": {
      "text/html": [
       "<div>\n",
       "<style scoped>\n",
       "    .dataframe tbody tr th:only-of-type {\n",
       "        vertical-align: middle;\n",
       "    }\n",
       "\n",
       "    .dataframe tbody tr th {\n",
       "        vertical-align: top;\n",
       "    }\n",
       "\n",
       "    .dataframe thead th {\n",
       "        text-align: right;\n",
       "    }\n",
       "</style>\n",
       "<table border=\"1\" class=\"dataframe\">\n",
       "  <thead>\n",
       "    <tr style=\"text-align: right;\">\n",
       "      <th></th>\n",
       "      <th>review_id</th>\n",
       "      <th>book_id</th>\n",
       "      <th>username</th>\n",
       "      <th>text</th>\n",
       "    </tr>\n",
       "  </thead>\n",
       "  <tbody>\n",
       "    <tr>\n",
       "      <th>0</th>\n",
       "      <td>1</td>\n",
       "      <td>1</td>\n",
       "      <td>brandtandrea</td>\n",
       "      <td>Mention society tell send professor analysis. ...</td>\n",
       "    </tr>\n",
       "    <tr>\n",
       "      <th>1</th>\n",
       "      <td>2</td>\n",
       "      <td>1</td>\n",
       "      <td>ryanfranco</td>\n",
       "      <td>Foot glass pretty audience hit themselves. Amo...</td>\n",
       "    </tr>\n",
       "    <tr>\n",
       "      <th>2</th>\n",
       "      <td>3</td>\n",
       "      <td>2</td>\n",
       "      <td>lorichen</td>\n",
       "      <td>Listen treat keep worry. Miss husband tax but ...</td>\n",
       "    </tr>\n",
       "    <tr>\n",
       "      <th>3</th>\n",
       "      <td>4</td>\n",
       "      <td>3</td>\n",
       "      <td>johnsonamanda</td>\n",
       "      <td>Finally month interesting blue could nature cu...</td>\n",
       "    </tr>\n",
       "    <tr>\n",
       "      <th>4</th>\n",
       "      <td>5</td>\n",
       "      <td>3</td>\n",
       "      <td>scotttamara</td>\n",
       "      <td>Nation purpose heavy give wait song will. List...</td>\n",
       "    </tr>\n",
       "    <tr>\n",
       "      <th>5</th>\n",
       "      <td>6</td>\n",
       "      <td>3</td>\n",
       "      <td>lesliegibbs</td>\n",
       "      <td>Analysis no several cause international.</td>\n",
       "    </tr>\n",
       "    <tr>\n",
       "      <th>6</th>\n",
       "      <td>7</td>\n",
       "      <td>4</td>\n",
       "      <td>valenciaanne</td>\n",
       "      <td>One there cost another. Say type save. With pe...</td>\n",
       "    </tr>\n",
       "    <tr>\n",
       "      <th>7</th>\n",
       "      <td>8</td>\n",
       "      <td>4</td>\n",
       "      <td>abbottjames</td>\n",
       "      <td>Within enough mother. There at system full rec...</td>\n",
       "    </tr>\n",
       "    <tr>\n",
       "      <th>8</th>\n",
       "      <td>9</td>\n",
       "      <td>5</td>\n",
       "      <td>npowers</td>\n",
       "      <td>Thank now focus realize economy focus fly. Ite...</td>\n",
       "    </tr>\n",
       "    <tr>\n",
       "      <th>9</th>\n",
       "      <td>10</td>\n",
       "      <td>5</td>\n",
       "      <td>staylor</td>\n",
       "      <td>Game push lot reduce where remember. Including...</td>\n",
       "    </tr>\n",
       "  </tbody>\n",
       "</table>\n",
       "</div>"
      ],
      "text/plain": [
       "   review_id  book_id       username  \\\n",
       "0          1        1   brandtandrea   \n",
       "1          2        1     ryanfranco   \n",
       "2          3        2       lorichen   \n",
       "3          4        3  johnsonamanda   \n",
       "4          5        3    scotttamara   \n",
       "5          6        3    lesliegibbs   \n",
       "6          7        4   valenciaanne   \n",
       "7          8        4    abbottjames   \n",
       "8          9        5        npowers   \n",
       "9         10        5        staylor   \n",
       "\n",
       "                                                text  \n",
       "0  Mention society tell send professor analysis. ...  \n",
       "1  Foot glass pretty audience hit themselves. Amo...  \n",
       "2  Listen treat keep worry. Miss husband tax but ...  \n",
       "3  Finally month interesting blue could nature cu...  \n",
       "4  Nation purpose heavy give wait song will. List...  \n",
       "5           Analysis no several cause international.  \n",
       "6  One there cost another. Say type save. With pe...  \n",
       "7  Within enough mother. There at system full rec...  \n",
       "8  Thank now focus realize economy focus fly. Ite...  \n",
       "9  Game push lot reduce where remember. Including...  "
      ]
     },
     "execution_count": 7,
     "metadata": {},
     "output_type": "execute_result"
    }
   ],
   "source": [
    "# чтобы выполнить SQL-запрос, используем Pandas\n",
    "query = '''\n",
    "           SELECT *\n",
    "           FROM reviews\n",
    "        '''\n",
    "\n",
    "reviews = pd.io.sql.read_sql(query, con = engine)\n",
    "reviews.to_csv('reviews.csv', index=False)\n",
    "reviews.head(10)"
   ]
  },
  {
   "cell_type": "markdown",
   "metadata": {},
   "source": [
    "## Выполнить задания"
   ]
  },
  {
   "cell_type": "markdown",
   "metadata": {},
   "source": [
    "### Посчитайте, сколько книг вышло после 1 января 2000 года"
   ]
  },
  {
   "cell_type": "code",
   "execution_count": 8,
   "metadata": {
    "scrolled": true
   },
   "outputs": [
    {
     "data": {
      "text/html": [
       "<div>\n",
       "<style scoped>\n",
       "    .dataframe tbody tr th:only-of-type {\n",
       "        vertical-align: middle;\n",
       "    }\n",
       "\n",
       "    .dataframe tbody tr th {\n",
       "        vertical-align: top;\n",
       "    }\n",
       "\n",
       "    .dataframe thead th {\n",
       "        text-align: right;\n",
       "    }\n",
       "</style>\n",
       "<table border=\"1\" class=\"dataframe\">\n",
       "  <thead>\n",
       "    <tr style=\"text-align: right;\">\n",
       "      <th></th>\n",
       "      <th>count</th>\n",
       "    </tr>\n",
       "  </thead>\n",
       "  <tbody>\n",
       "    <tr>\n",
       "      <th>0</th>\n",
       "      <td>821</td>\n",
       "    </tr>\n",
       "  </tbody>\n",
       "</table>\n",
       "</div>"
      ],
      "text/plain": [
       "   count\n",
       "0    821"
      ]
     },
     "execution_count": 8,
     "metadata": {},
     "output_type": "execute_result"
    }
   ],
   "source": [
    "query = '''\n",
    "           SELECT COUNT(book_id)\n",
    "           FROM books\n",
    "           WHERE publication_date >= '2000-01-01'\n",
    "        '''\n",
    "\n",
    "count_books = pd.io.sql.read_sql(query, con = engine)\n",
    "count_books"
   ]
  },
  {
   "cell_type": "markdown",
   "metadata": {},
   "source": [
    "После 1 января 2000 года вышло 821 книга"
   ]
  },
  {
   "cell_type": "markdown",
   "metadata": {},
   "source": [
    "### Для каждой книги посчитайте количество обзоров и среднюю оценку"
   ]
  },
  {
   "cell_type": "code",
   "execution_count": 9,
   "metadata": {
    "scrolled": true
   },
   "outputs": [
    {
     "data": {
      "text/html": [
       "<div>\n",
       "<style scoped>\n",
       "    .dataframe tbody tr th:only-of-type {\n",
       "        vertical-align: middle;\n",
       "    }\n",
       "\n",
       "    .dataframe tbody tr th {\n",
       "        vertical-align: top;\n",
       "    }\n",
       "\n",
       "    .dataframe thead th {\n",
       "        text-align: right;\n",
       "    }\n",
       "</style>\n",
       "<table border=\"1\" class=\"dataframe\">\n",
       "  <thead>\n",
       "    <tr style=\"text-align: right;\">\n",
       "      <th></th>\n",
       "      <th>book_id</th>\n",
       "      <th>title</th>\n",
       "      <th>cnt</th>\n",
       "      <th>mean</th>\n",
       "    </tr>\n",
       "  </thead>\n",
       "  <tbody>\n",
       "    <tr>\n",
       "      <th>0</th>\n",
       "      <td>948</td>\n",
       "      <td>Twilight (Twilight  #1)</td>\n",
       "      <td>7</td>\n",
       "      <td>3.662500</td>\n",
       "    </tr>\n",
       "    <tr>\n",
       "      <th>1</th>\n",
       "      <td>302</td>\n",
       "      <td>Harry Potter and the Prisoner of Azkaban (Harr...</td>\n",
       "      <td>6</td>\n",
       "      <td>4.414634</td>\n",
       "    </tr>\n",
       "    <tr>\n",
       "      <th>2</th>\n",
       "      <td>299</td>\n",
       "      <td>Harry Potter and the Chamber of Secrets (Harry...</td>\n",
       "      <td>6</td>\n",
       "      <td>4.287500</td>\n",
       "    </tr>\n",
       "    <tr>\n",
       "      <th>3</th>\n",
       "      <td>656</td>\n",
       "      <td>The Book Thief</td>\n",
       "      <td>6</td>\n",
       "      <td>4.264151</td>\n",
       "    </tr>\n",
       "    <tr>\n",
       "      <th>4</th>\n",
       "      <td>734</td>\n",
       "      <td>The Glass Castle</td>\n",
       "      <td>6</td>\n",
       "      <td>4.206897</td>\n",
       "    </tr>\n",
       "    <tr>\n",
       "      <th>...</th>\n",
       "      <td>...</td>\n",
       "      <td>...</td>\n",
       "      <td>...</td>\n",
       "      <td>...</td>\n",
       "    </tr>\n",
       "    <tr>\n",
       "      <th>995</th>\n",
       "      <td>191</td>\n",
       "      <td>Disney's Beauty and the Beast (A Little Golden...</td>\n",
       "      <td>0</td>\n",
       "      <td>4.000000</td>\n",
       "    </tr>\n",
       "    <tr>\n",
       "      <th>996</th>\n",
       "      <td>387</td>\n",
       "      <td>Leonardo's Notebooks</td>\n",
       "      <td>0</td>\n",
       "      <td>4.000000</td>\n",
       "    </tr>\n",
       "    <tr>\n",
       "      <th>997</th>\n",
       "      <td>221</td>\n",
       "      <td>Essential Tales and Poems</td>\n",
       "      <td>0</td>\n",
       "      <td>4.000000</td>\n",
       "    </tr>\n",
       "    <tr>\n",
       "      <th>998</th>\n",
       "      <td>83</td>\n",
       "      <td>Anne Rice's The Vampire Lestat: A Graphic Novel</td>\n",
       "      <td>0</td>\n",
       "      <td>3.666667</td>\n",
       "    </tr>\n",
       "    <tr>\n",
       "      <th>999</th>\n",
       "      <td>808</td>\n",
       "      <td>The Natural Way to Draw</td>\n",
       "      <td>0</td>\n",
       "      <td>3.000000</td>\n",
       "    </tr>\n",
       "  </tbody>\n",
       "</table>\n",
       "<p>1000 rows × 4 columns</p>\n",
       "</div>"
      ],
      "text/plain": [
       "     book_id                                              title  cnt      mean\n",
       "0        948                            Twilight (Twilight  #1)    7  3.662500\n",
       "1        302  Harry Potter and the Prisoner of Azkaban (Harr...    6  4.414634\n",
       "2        299  Harry Potter and the Chamber of Secrets (Harry...    6  4.287500\n",
       "3        656                                     The Book Thief    6  4.264151\n",
       "4        734                                   The Glass Castle    6  4.206897\n",
       "..       ...                                                ...  ...       ...\n",
       "995      191  Disney's Beauty and the Beast (A Little Golden...    0  4.000000\n",
       "996      387                               Leonardo's Notebooks    0  4.000000\n",
       "997      221                          Essential Tales and Poems    0  4.000000\n",
       "998       83    Anne Rice's The Vampire Lestat: A Graphic Novel    0  3.666667\n",
       "999      808                            The Natural Way to Draw    0  3.000000\n",
       "\n",
       "[1000 rows x 4 columns]"
      ]
     },
     "execution_count": 9,
     "metadata": {},
     "output_type": "execute_result"
    }
   ],
   "source": [
    "query = '''\n",
    "           SELECT bk.book_id,\n",
    "                  bk.title,\n",
    "                  COUNT(DISTINCT review_id) as cnt,\n",
    "                  AVG(rating) as mean\n",
    "           \n",
    "           FROM books as bk\n",
    "           \n",
    "           LEFT JOIN reviews AS rev ON bk.book_id = rev.book_id\n",
    "           LEFT JOIN ratings AS rat ON bk.book_id = rat.book_id\n",
    "           \n",
    "           GROUP BY bk.book_id \n",
    "           ORDER BY 3 DESC, 4 DESC\n",
    "       ''' \n",
    "\n",
    "rev_rat = pd.io.sql.read_sql(query, con = engine)\n",
    "rev_rat"
   ]
  },
  {
   "cell_type": "markdown",
   "metadata": {},
   "source": [
    "Больше всего обзоров на Twilight (Twilight #1)"
   ]
  },
  {
   "cell_type": "markdown",
   "metadata": {},
   "source": [
    "### Определите издательство, которое выпустило наибольшее число книг толще 50 страниц — так вы исключите из анализа брошюры"
   ]
  },
  {
   "cell_type": "code",
   "execution_count": 10,
   "metadata": {},
   "outputs": [
    {
     "data": {
      "text/html": [
       "<div>\n",
       "<style scoped>\n",
       "    .dataframe tbody tr th:only-of-type {\n",
       "        vertical-align: middle;\n",
       "    }\n",
       "\n",
       "    .dataframe tbody tr th {\n",
       "        vertical-align: top;\n",
       "    }\n",
       "\n",
       "    .dataframe thead th {\n",
       "        text-align: right;\n",
       "    }\n",
       "</style>\n",
       "<table border=\"1\" class=\"dataframe\">\n",
       "  <thead>\n",
       "    <tr style=\"text-align: right;\">\n",
       "      <th></th>\n",
       "      <th>publisher</th>\n",
       "      <th>cnt</th>\n",
       "    </tr>\n",
       "  </thead>\n",
       "  <tbody>\n",
       "    <tr>\n",
       "      <th>0</th>\n",
       "      <td>Penguin Books</td>\n",
       "      <td>42</td>\n",
       "    </tr>\n",
       "  </tbody>\n",
       "</table>\n",
       "</div>"
      ],
      "text/plain": [
       "       publisher  cnt\n",
       "0  Penguin Books   42"
      ]
     },
     "execution_count": 10,
     "metadata": {},
     "output_type": "execute_result"
    }
   ],
   "source": [
    "query = '''\n",
    "           WITH\n",
    "           \n",
    "           tab as\n",
    "           \n",
    "           (SELECT *\n",
    "           FROM books as bk\n",
    "           LEFT JOIN publishers AS pub ON bk.publisher_id  = pub.publisher_id\n",
    "           WHERE num_pages >= 50)\n",
    "           \n",
    "           SELECT publisher,\n",
    "                  COUNT(book_id) as cnt\n",
    "           FROM tab\n",
    "           GROUP BY publisher\n",
    "           ORDER BY cnt DESC LIMIT 1\n",
    "        '''\n",
    "\n",
    "pub = pd.io.sql.read_sql(query, con = engine)\n",
    "pub"
   ]
  },
  {
   "cell_type": "markdown",
   "metadata": {},
   "source": [
    "Издательство, которое выпустило наибольшее число книг толще 50 страниц это Penguin Books"
   ]
  },
  {
   "cell_type": "markdown",
   "metadata": {},
   "source": [
    "### Определите автора с самой высокой средней оценкой книг — учитывайте только книги с 50 и более оценками"
   ]
  },
  {
   "cell_type": "code",
   "execution_count": 11,
   "metadata": {
    "scrolled": true
   },
   "outputs": [
    {
     "data": {
      "text/html": [
       "<div>\n",
       "<style scoped>\n",
       "    .dataframe tbody tr th:only-of-type {\n",
       "        vertical-align: middle;\n",
       "    }\n",
       "\n",
       "    .dataframe tbody tr th {\n",
       "        vertical-align: top;\n",
       "    }\n",
       "\n",
       "    .dataframe thead th {\n",
       "        text-align: right;\n",
       "    }\n",
       "</style>\n",
       "<table border=\"1\" class=\"dataframe\">\n",
       "  <thead>\n",
       "    <tr style=\"text-align: right;\">\n",
       "      <th></th>\n",
       "      <th>author</th>\n",
       "      <th>mean</th>\n",
       "    </tr>\n",
       "  </thead>\n",
       "  <tbody>\n",
       "    <tr>\n",
       "      <th>0</th>\n",
       "      <td>J.K. Rowling/Mary GrandPré</td>\n",
       "      <td>4.283844</td>\n",
       "    </tr>\n",
       "  </tbody>\n",
       "</table>\n",
       "</div>"
      ],
      "text/plain": [
       "                       author      mean\n",
       "0  J.K. Rowling/Mary GrandPré  4.283844"
      ]
     },
     "execution_count": 11,
     "metadata": {},
     "output_type": "execute_result"
    }
   ],
   "source": [
    "query = '''\n",
    "           WITH\n",
    "           \n",
    "           tab as\n",
    "           \n",
    "           (SELECT title,\n",
    "                  COUNT(rating) as cnt_r,\n",
    "                  AVG(rating) as avg_r\n",
    "           FROM books as bu\n",
    "           LEFT JOIN ratings as rat ON bu.book_id = rat.book_id\n",
    "           GROUP BY title)\n",
    "           \n",
    "           SELECT author,\n",
    "                  AVG(avg_r) mean\n",
    "           FROM tab as ta\n",
    "           LEFT JOIN books AS bu ON ta.title = bu.title\n",
    "           LEFT JOIN author AS au ON bu.author_id = au.author_id\n",
    "           \n",
    "           WHERE cnt_r >= 50\n",
    "           GROUP BY author\n",
    "           ORDER BY mean DESC LIMIT 1\n",
    "           \n",
    "        '''\n",
    "aut = pd.io.sql.read_sql(query, con = engine)\n",
    "aut"
   ]
  },
  {
   "cell_type": "markdown",
   "metadata": {},
   "source": [
    "Автор с самой высокой средней оценкой книг (учитываются только книги с 50 и более оценками) это J.K. Rowling/Mary GrandPré"
   ]
  },
  {
   "cell_type": "markdown",
   "metadata": {},
   "source": [
    "### Посчитайте среднее количество обзоров от пользователей, которые поставили больше 50 оценок"
   ]
  },
  {
   "cell_type": "code",
   "execution_count": 12,
   "metadata": {},
   "outputs": [
    {
     "data": {
      "text/html": [
       "<div>\n",
       "<style scoped>\n",
       "    .dataframe tbody tr th:only-of-type {\n",
       "        vertical-align: middle;\n",
       "    }\n",
       "\n",
       "    .dataframe tbody tr th {\n",
       "        vertical-align: top;\n",
       "    }\n",
       "\n",
       "    .dataframe thead th {\n",
       "        text-align: right;\n",
       "    }\n",
       "</style>\n",
       "<table border=\"1\" class=\"dataframe\">\n",
       "  <thead>\n",
       "    <tr style=\"text-align: right;\">\n",
       "      <th></th>\n",
       "      <th>round</th>\n",
       "    </tr>\n",
       "  </thead>\n",
       "  <tbody>\n",
       "    <tr>\n",
       "      <th>0</th>\n",
       "      <td>24.0</td>\n",
       "    </tr>\n",
       "  </tbody>\n",
       "</table>\n",
       "</div>"
      ],
      "text/plain": [
       "   round\n",
       "0   24.0"
      ]
     },
     "execution_count": 12,
     "metadata": {},
     "output_type": "execute_result"
    }
   ],
   "source": [
    "query = '''\n",
    "            WITH\n",
    "                       \n",
    "            tab as\n",
    "            \n",
    "            (SELECT rat.username as users,\n",
    "                   COUNT(rating_id) as cnt_rating\n",
    "            FROM books AS bk\n",
    "            LEFT JOIN ratings AS rat ON bk.book_id  = rat.book_id\n",
    "            GROUP BY rat.username),\n",
    "            \n",
    "            tab1 as\n",
    "            \n",
    "            (SELECT users\n",
    "            FROM tab \n",
    "            WHERE cnt_rating > 50),\n",
    "            \n",
    "            tab2 as\n",
    "            \n",
    "            (SELECT rev.username as name,\n",
    "                   COUNT(review_id) as cnt\n",
    "            FROM tab1 as ta\n",
    "            LEFT JOIN reviews AS rev ON ta.users  = rev.username\n",
    "            GROUP BY rev.username)\n",
    "            \n",
    "            SELECT ROUND(AVG(cnt))\n",
    "            FROM tab2\n",
    "        '''\n",
    "\n",
    "rev_cnt = pd.io.sql.read_sql(query, con = engine)\n",
    "rev_cnt"
   ]
  },
  {
   "cell_type": "markdown",
   "metadata": {},
   "source": [
    "Cреднее количество обзоров от пользователей, которые поставили больше 50 оценок равно 24"
   ]
  },
  {
   "cell_type": "markdown",
   "metadata": {},
   "source": [
    "## Вывод\n",
    "\n",
    "По итогам выполнения заданий, были получены следующие результаты:\n",
    "\n",
    "- После 1 января 2000 года вышло 821 книга\n",
    "- Больше всего обзоров на Twilight (Twilight #1)\n",
    "- Издательство, которое выпустило наибольшее число книг толще 50 страниц это Penguin Books\n",
    "- Автор с самой высокой средней оценкой книг (учитываются только книги с 50 и более оценками) это J.K. Rowling/Mary GrandPré\n",
    "- Cреднее количество обзоров от пользователей, которые поставили больше 50 оценок равно 24"
   ]
  }
 ],
 "metadata": {
  "ExecuteTimeLog": [
   {
    "duration": 1564,
    "start_time": "2023-03-23T09:45:12.564Z"
   },
   {
    "duration": 142,
    "start_time": "2023-03-23T09:45:14.132Z"
   },
   {
    "duration": 86,
    "start_time": "2023-03-23T09:45:14.276Z"
   },
   {
    "duration": 390,
    "start_time": "2023-03-23T09:45:14.364Z"
   },
   {
    "duration": 1423,
    "start_time": "2023-03-23T09:45:21.528Z"
   },
   {
    "duration": 110,
    "start_time": "2023-03-23T09:45:22.954Z"
   },
   {
    "duration": 66,
    "start_time": "2023-03-23T09:45:23.066Z"
   },
   {
    "duration": 279,
    "start_time": "2023-03-23T09:45:23.134Z"
   },
   {
    "duration": 4,
    "start_time": "2023-03-23T09:45:23.415Z"
   },
   {
    "duration": 28,
    "start_time": "2023-03-23T09:45:23.422Z"
   },
   {
    "duration": 43,
    "start_time": "2023-03-23T09:45:23.452Z"
   },
   {
    "duration": 45,
    "start_time": "2023-03-23T09:45:23.499Z"
   },
   {
    "duration": 15,
    "start_time": "2023-03-23T09:45:23.546Z"
   },
   {
    "duration": 17,
    "start_time": "2023-03-23T09:45:23.563Z"
   },
   {
    "duration": 12,
    "start_time": "2023-03-23T09:45:23.582Z"
   },
   {
    "duration": 58,
    "start_time": "2023-03-23T09:45:23.595Z"
   },
   {
    "duration": 31,
    "start_time": "2023-03-23T09:45:23.654Z"
   },
   {
    "duration": 70,
    "start_time": "2023-03-23T09:45:23.688Z"
   },
   {
    "duration": 7,
    "start_time": "2023-03-23T09:45:23.760Z"
   },
   {
    "duration": 60,
    "start_time": "2023-03-23T09:45:23.769Z"
   },
   {
    "duration": 24,
    "start_time": "2023-03-23T09:45:23.832Z"
   },
   {
    "duration": 26,
    "start_time": "2023-03-23T09:45:23.858Z"
   },
   {
    "duration": 86,
    "start_time": "2023-03-23T09:45:23.885Z"
   },
   {
    "duration": 6,
    "start_time": "2023-03-23T09:45:23.972Z"
   },
   {
    "duration": 33,
    "start_time": "2023-03-23T09:45:23.981Z"
   },
   {
    "duration": 195,
    "start_time": "2023-03-23T09:45:24.019Z"
   },
   {
    "duration": 19,
    "start_time": "2023-03-23T09:45:24.222Z"
   },
   {
    "duration": 45,
    "start_time": "2023-03-23T09:45:24.243Z"
   },
   {
    "duration": 71,
    "start_time": "2023-03-23T09:45:24.290Z"
   },
   {
    "duration": 10,
    "start_time": "2023-03-23T09:45:24.363Z"
   },
   {
    "duration": 49,
    "start_time": "2023-03-23T09:45:24.375Z"
   },
   {
    "duration": 15,
    "start_time": "2023-03-23T09:45:24.426Z"
   },
   {
    "duration": 28207,
    "start_time": "2023-03-23T09:45:24.443Z"
   },
   {
    "duration": 14,
    "start_time": "2023-03-23T09:45:52.653Z"
   },
   {
    "duration": 21,
    "start_time": "2023-03-23T09:45:52.670Z"
   },
   {
    "duration": 44,
    "start_time": "2023-03-23T09:45:52.697Z"
   },
   {
    "duration": 63,
    "start_time": "2023-03-23T09:45:52.743Z"
   },
   {
    "duration": 52,
    "start_time": "2023-03-23T09:45:52.808Z"
   },
   {
    "duration": 80,
    "start_time": "2023-03-23T09:45:52.863Z"
   },
   {
    "duration": 8,
    "start_time": "2023-03-23T09:45:52.945Z"
   },
   {
    "duration": 10,
    "start_time": "2023-03-23T09:45:52.955Z"
   },
   {
    "duration": 17,
    "start_time": "2023-03-23T09:45:52.966Z"
   },
   {
    "duration": 47,
    "start_time": "2023-03-23T09:45:52.985Z"
   },
   {
    "duration": 13,
    "start_time": "2023-03-23T09:45:53.034Z"
   },
   {
    "duration": 6,
    "start_time": "2023-03-23T09:45:53.051Z"
   },
   {
    "duration": 38,
    "start_time": "2023-03-23T09:45:53.059Z"
   },
   {
    "duration": 178,
    "start_time": "2023-03-23T09:45:53.108Z"
   },
   {
    "duration": 62,
    "start_time": "2023-03-23T09:45:53.288Z"
   },
   {
    "duration": 234,
    "start_time": "2023-03-23T09:45:53.352Z"
   },
   {
    "duration": 18,
    "start_time": "2023-03-23T09:45:53.588Z"
   },
   {
    "duration": 45,
    "start_time": "2023-03-23T09:45:53.614Z"
   },
   {
    "duration": 11,
    "start_time": "2023-03-23T09:45:53.661Z"
   },
   {
    "duration": 24,
    "start_time": "2023-03-23T09:45:53.675Z"
   },
   {
    "duration": 49,
    "start_time": "2023-03-23T09:45:53.701Z"
   },
   {
    "duration": 227,
    "start_time": "2023-03-23T09:45:53.753Z"
   },
   {
    "duration": 25,
    "start_time": "2023-03-23T09:45:53.982Z"
   },
   {
    "duration": 229,
    "start_time": "2023-03-23T09:45:54.009Z"
   },
   {
    "duration": 86,
    "start_time": "2023-03-23T09:45:54.240Z"
   },
   {
    "duration": 324,
    "start_time": "2023-03-23T09:45:54.327Z"
   },
   {
    "duration": 281,
    "start_time": "2023-03-23T09:45:54.653Z"
   },
   {
    "duration": 362,
    "start_time": "2023-03-23T09:45:54.936Z"
   },
   {
    "duration": 153,
    "start_time": "2023-03-23T09:45:55.302Z"
   },
   {
    "duration": 474,
    "start_time": "2023-03-23T09:45:55.458Z"
   },
   {
    "duration": 398,
    "start_time": "2023-03-23T09:45:55.934Z"
   },
   {
    "duration": 464,
    "start_time": "2023-03-23T09:45:56.335Z"
   },
   {
    "duration": 13,
    "start_time": "2023-03-23T09:45:56.803Z"
   },
   {
    "duration": 44,
    "start_time": "2023-03-23T09:45:56.818Z"
   },
   {
    "duration": 23,
    "start_time": "2023-03-23T09:45:56.864Z"
   },
   {
    "duration": 75,
    "start_time": "2023-03-23T09:45:56.889Z"
   },
   {
    "duration": 29,
    "start_time": "2023-03-23T09:45:56.966Z"
   },
   {
    "duration": 35,
    "start_time": "2023-03-23T09:45:56.999Z"
   },
   {
    "duration": 43,
    "start_time": "2023-03-23T09:45:57.036Z"
   },
   {
    "duration": 82,
    "start_time": "2023-03-23T09:45:57.080Z"
   },
   {
    "duration": 129,
    "start_time": "2023-03-23T09:45:57.165Z"
   },
   {
    "duration": 114,
    "start_time": "2023-03-23T09:45:57.296Z"
   },
   {
    "duration": 25,
    "start_time": "2023-03-23T09:45:57.412Z"
   },
   {
    "duration": 46,
    "start_time": "2023-03-23T09:45:57.439Z"
   },
   {
    "duration": 45,
    "start_time": "2023-03-23T09:45:57.487Z"
   },
   {
    "duration": 28,
    "start_time": "2023-03-23T09:45:57.535Z"
   },
   {
    "duration": 38,
    "start_time": "2023-03-23T09:45:57.565Z"
   },
   {
    "duration": 99,
    "start_time": "2023-03-23T09:45:57.605Z"
   },
   {
    "duration": 97,
    "start_time": "2023-03-23T09:45:57.707Z"
   },
   {
    "duration": 44,
    "start_time": "2023-03-23T09:45:57.806Z"
   },
   {
    "duration": 2607,
    "start_time": "2023-03-23T09:45:57.852Z"
   },
   {
    "duration": 21,
    "start_time": "2023-03-23T10:13:00.262Z"
   },
   {
    "duration": 24,
    "start_time": "2023-03-23T10:13:05.288Z"
   },
   {
    "duration": 425,
    "start_time": "2023-03-23T10:14:07.524Z"
   }
  ],
  "kernelspec": {
   "display_name": "Python 3 (ipykernel)",
   "language": "python",
   "name": "python3"
  },
  "language_info": {
   "codemirror_mode": {
    "name": "ipython",
    "version": 3
   },
   "file_extension": ".py",
   "mimetype": "text/x-python",
   "name": "python",
   "nbconvert_exporter": "python",
   "pygments_lexer": "ipython3",
   "version": "3.9.13"
  },
  "toc": {
   "base_numbering": 1,
   "nav_menu": {},
   "number_sections": true,
   "sideBar": true,
   "skip_h1_title": true,
   "title_cell": "Table of Contents",
   "title_sidebar": "Contents",
   "toc_cell": false,
   "toc_position": {
    "height": "calc(100% - 180px)",
    "left": "10px",
    "top": "150px",
    "width": "476.91px"
   },
   "toc_section_display": true,
   "toc_window_display": true
  },
  "varInspector": {
   "cols": {
    "lenName": 16,
    "lenType": 16,
    "lenVar": 40
   },
   "kernels_config": {
    "python": {
     "delete_cmd_postfix": "",
     "delete_cmd_prefix": "del ",
     "library": "var_list.py",
     "varRefreshCmd": "print(var_dic_list())"
    },
    "r": {
     "delete_cmd_postfix": ") ",
     "delete_cmd_prefix": "rm(",
     "library": "var_list.r",
     "varRefreshCmd": "cat(var_dic_list()) "
    }
   },
   "types_to_exclude": [
    "module",
    "function",
    "builtin_function_or_method",
    "instance",
    "_Feature"
   ],
   "window_display": false
  }
 },
 "nbformat": 4,
 "nbformat_minor": 2
}
