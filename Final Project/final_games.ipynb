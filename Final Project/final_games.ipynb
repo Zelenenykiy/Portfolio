{
 "cells": [
  {
   "cell_type": "markdown",
   "metadata": {},
   "source": [
    "# Проект : Игры — Формирование модели монетизации."
   ]
  },
  {
   "cell_type": "markdown",
   "metadata": {},
   "source": [
    "<html>\n",
    " <head></head>\n",
    " <body>\n",
    "     <a href=\"https://public.tableau.com/app/profile/vyacheslav.grebenuk/viz/Dashboard2_16795029073610/Dashboard1?publish=yes\">Дашборд</a>\n",
    " </body>\n",
    "</html>"
   ]
  },
  {
   "cell_type": "markdown",
   "metadata": {},
   "source": [
    "<html>\n",
    " <head></head>\n",
    " <body>\n",
    "     <a href=\"https://drive.google.com/file/d/1EYsUqxT1TjW3E0Z6jP8LYeuKFNODduMD/view?usp=share_link\">Презентация</a>\n",
    " </body>\n",
    "</html>"
   ]
  },
  {
   "cell_type": "markdown",
   "metadata": {},
   "source": [
    "# Описание проекта\n",
    "\n",
    "Сформируйте модель монетизации игрового приложения.\n",
    "\n",
    "Многие игры зарабатывают с помощью рекламы. И все они сталкиваются с противоречием;\n",
    "\n",
    "- Пользователь разозлится и уйдёт, если начать показывать ему рекламу раньше, чем игра его затянет.\n",
    "- Но  чем позже создатели игры включат рекламу, тем меньше они заработают.\n",
    "\n",
    "Аналитик помогает бизнесу выбрать оптимальное время для запуска рекламы. Зная расходы на продвижение игры, он может рассчитать её окупаемость при разных сценариях \n",
    "\n",
    "Пока создатели игры планируют показывать её на экране выбором постройки. Помогите им не уйти в минус."
   ]
  },
  {
   "cell_type": "markdown",
   "metadata": {},
   "source": [
    "# Описание данных\n",
    "\n",
    "**Описание датасетов:**\n",
    "\n",
    "Основной датасет содержит данные о событиях, совершенных в мобильной игре «Космические братья». В ней пользователи строят свою космическую программу и пытаются преуспеть в нелёгком деле колонизации галактики.\n",
    "\n",
    "Основная монетизация игры — только планируется. Но предполагается, что в приложении будет происходить показ рекламы на экране с выбором типа объекта для постройки.\n",
    "\n",
    "В датасете представлены данные по игре пользователей на первом уровне. Завершение первого уровня требует от игрока выполнения одного из двух условий:\n",
    "\n",
    "- Победа над первым врагом\n",
    "- Реализация проекта - разработка орбитальной сборки спутников\n",
    "\n",
    "В датасете содержатся данные первых пользователей приложения — когорты пользователей, которые начали пользоваться приложением в период с 4 по 10 мая включительно.\n",
    "\n",
    "Датасет *game_actions.csv*:\n",
    "\n",
    "- `event_datetime` — время события;\n",
    "- `event` — одно из трёх событий:\n",
    "    1. `building` — объект построен,\n",
    "    2. `finished_stage_1` — первый уровень завершён,\n",
    "    3. `project` — проект завершён;\n",
    "- `building_type` — один из трёх типов здания:\n",
    "    1. `assembly_shop` — сборочный цех,\n",
    "    2. `spaceport` — космопорт,\n",
    "    3. `research_center` — исследовательский центр;\n",
    "- `user_id` — идентификатор пользователя;\n",
    "- `project_type` — тип реализованного проекта;\n",
    "\n",
    "Помимо основного датасета есть два датасета с информацией о рекламных активностях. Они также помогут в решении задачи.\n",
    "\n",
    "Датасет *ad_costs.csv* содержит колонки:\n",
    "\n",
    "- `day` - день, в который был совершен клик по объявлению\n",
    "- `source` - источник трафика\n",
    "- `cost` - стоимость кликов\n",
    "\n",
    "Датасет user_source.csv содержит колонки:\n",
    "\n",
    "- `user_id` - идентификатор пользователя\n",
    "- `source` - источников, с которого пришёл пользователь, установивший приложение"
   ]
  },
  {
   "cell_type": "markdown",
   "metadata": {},
   "source": [
    "# Задачи исследования\n",
    "\n",
    "# Изучение общей информации\n",
    "- загрузить данные из датасетов\n",
    "- изучить общую информацию о полученных данных\n",
    "\n",
    "# Предобработка данных\n",
    "\n",
    "**Замена названия столбцов**\n",
    "- определить, в каких столбцах есть необходимость заменить регистр и убрать пробелы\n",
    "- произвести замену по необходимости\n",
    "\n",
    "**Исследовать соответствие типов**\n",
    "- проанализировать столбцы с данными\n",
    "- преобразовать тип данных по необходимости\n",
    "\n",
    "**Исследовать пропущенные значения**\n",
    "- определить, в каких столбцах есть пропуски\n",
    "- избавиться от пропущенных значений по необходимости\n",
    "\n",
    "**Обработка дубликатов**\n",
    "- проанализировать столбцы с данными\n",
    "- произвести устранение дубликатов, если они имеются\n",
    "\n",
    "**Добавить столбец**\n",
    "- добавляем столбец status:\n",
    "    - project те пользователи кто закончил уровень выполнением проекта\n",
    "    - pvp те пользователи кто кто закончил уровень победой над врагом\n",
    "    - not_finished те пользователи кто кто не закончил уровень\n",
    "\n",
    "# Исследовательский анализ данных\n",
    "\n",
    "\n",
    "- Определить минимальную и максимальную дату исследовния\n",
    "- Выяснить сколько всего пользователей участвует в исследовании\n",
    "- Выяснить сколько пользователей завершили целевое событие, определим какому условию соответствует завершение целевого события\n",
    "- Посчитаем общее кол-во построек зданий каждого типа\n",
    "- Посчитать общую сумму стоимости рекламы\n",
    "- Посчитать распределение средств по каждому рекламному источнику\n",
    "- Определить сколько пользователей пришли из каждого рекламного источника\n",
    "\n",
    "\n",
    "\n",
    "\n",
    "# Проанализировать влияние событий на совершение целевого события\n",
    "\n",
    "- Определить кол-во построенных зданий в зависимости от типа пользователя\n",
    "- Определить время прохождения уровня в зависимости от типа пользователя\n",
    "\n",
    "\n",
    "# Сформировать модель монетизации игрового приложения.\n",
    "\n",
    "- Рассмотреть планируемую модель монетизации\n",
    "- Предложить улучшения планируемой модели монетизации\n",
    "\n",
    "\n",
    "# Проверить статистические гипотезы\n",
    "\n",
    "**Гипотеза 1**\n",
    "\n",
    "Проверить гипотезу различия времени прохождения уровня между пользователями, которые заканчивают уровень через реализацию проекта, и пользователями, которые заканчивают уровень победой над другим игроком.\n",
    "Сформулировать и проверить статистическую гипотезу относительно представленных данных.\n",
    "\n",
    "- Подготавить данные для проверки гипотезы\n",
    "- Сформулировать гипотезу\n",
    "- Проверить гипотезу\n",
    "\n",
    "**Гипотеза 2**\n",
    "\n",
    "Проверить гипотезу различия кол-ва построенных зданий между пользователями, которые заканчивают уровень через реализацию проекта, и пользователями, которые заканчивают уровень победой над другим игроком.\n",
    "Сформулировать и проверить статистическую гипотезу относительно представленных данных.\n",
    "\n",
    "- Подготавить данные для проверки гипотезы\n",
    "- Сформулировать гипотезу\n",
    "- Проверить гипотезу\n",
    "\n",
    "\n",
    "# Подготовить дашборд\n",
    "\n",
    "\n",
    "\n",
    "# Подготовить презентацию\n",
    "\n",
    "\n",
    "\n",
    "# Вывод"
   ]
  },
  {
   "cell_type": "markdown",
   "metadata": {},
   "source": [
    "## Изучение общей информации"
   ]
  },
  {
   "cell_type": "markdown",
   "metadata": {},
   "source": [
    "Импортирую библиотеки. Считываю данные из csv-файла и сохраняю в переменную."
   ]
  },
  {
   "cell_type": "code",
   "execution_count": 1,
   "metadata": {},
   "outputs": [],
   "source": [
    "import pandas as pd\n",
    "import numpy as np\n",
    "import matplotlib.pyplot as plt\n",
    "%matplotlib inline\n",
    "import seaborn as sns\n",
    "import datetime as dt\n",
    "import scipy.stats as stats\n",
    "from datetime import datetime, timedelta\n",
    "import math as mth\n",
    "from plotly import graph_objects as go\n",
    "import plotly.express as px"
   ]
  },
  {
   "cell_type": "code",
   "execution_count": 2,
   "metadata": {},
   "outputs": [],
   "source": [
    "try:\n",
    "    source = pd.read_csv('user_source.csv')\n",
    "except:\n",
    "    source = pd.read_csv('/datasets/user_source.csv')"
   ]
  },
  {
   "cell_type": "code",
   "execution_count": 3,
   "metadata": {},
   "outputs": [],
   "source": [
    "try:\n",
    "    costs = pd.read_csv('ad_costs.csv')\n",
    "except:\n",
    "    costs = pd.read_csv('/datasets/ad_costs.csv')"
   ]
  },
  {
   "cell_type": "code",
   "execution_count": 4,
   "metadata": {},
   "outputs": [],
   "source": [
    "try:\n",
    "    actions = pd.read_csv('game_actions.csv')\n",
    "except:\n",
    "    actions = pd.read_csv('/datasets/game_actions.csv')"
   ]
  },
  {
   "cell_type": "markdown",
   "metadata": {},
   "source": [
    "Просматриваю информацию в датафреймах"
   ]
  },
  {
   "cell_type": "code",
   "execution_count": 5,
   "metadata": {},
   "outputs": [],
   "source": [
    "pd.set_option('display.max_columns', None)\n",
    "pd.set_option('display.max_colwidth', 120)"
   ]
  },
  {
   "cell_type": "code",
   "execution_count": 6,
   "metadata": {
    "scrolled": true
   },
   "outputs": [
    {
     "data": {
      "text/html": [
       "<div>\n",
       "<style scoped>\n",
       "    .dataframe tbody tr th:only-of-type {\n",
       "        vertical-align: middle;\n",
       "    }\n",
       "\n",
       "    .dataframe tbody tr th {\n",
       "        vertical-align: top;\n",
       "    }\n",
       "\n",
       "    .dataframe thead th {\n",
       "        text-align: right;\n",
       "    }\n",
       "</style>\n",
       "<table border=\"1\" class=\"dataframe\">\n",
       "  <thead>\n",
       "    <tr style=\"text-align: right;\">\n",
       "      <th></th>\n",
       "      <th>event_datetime</th>\n",
       "      <th>event</th>\n",
       "      <th>building_type</th>\n",
       "      <th>user_id</th>\n",
       "      <th>project_type</th>\n",
       "    </tr>\n",
       "  </thead>\n",
       "  <tbody>\n",
       "    <tr>\n",
       "      <th>0</th>\n",
       "      <td>2020-05-04 00:00:01</td>\n",
       "      <td>building</td>\n",
       "      <td>assembly_shop</td>\n",
       "      <td>55e92310-cb8e-4754-b622-597e124b03de</td>\n",
       "      <td>NaN</td>\n",
       "    </tr>\n",
       "    <tr>\n",
       "      <th>1</th>\n",
       "      <td>2020-05-04 00:00:03</td>\n",
       "      <td>building</td>\n",
       "      <td>assembly_shop</td>\n",
       "      <td>c07b1c10-f477-44dc-81dc-ec82254b1347</td>\n",
       "      <td>NaN</td>\n",
       "    </tr>\n",
       "    <tr>\n",
       "      <th>2</th>\n",
       "      <td>2020-05-04 00:00:16</td>\n",
       "      <td>building</td>\n",
       "      <td>assembly_shop</td>\n",
       "      <td>6edd42cc-e753-4ff6-a947-2107cd560710</td>\n",
       "      <td>NaN</td>\n",
       "    </tr>\n",
       "    <tr>\n",
       "      <th>3</th>\n",
       "      <td>2020-05-04 00:00:16</td>\n",
       "      <td>building</td>\n",
       "      <td>assembly_shop</td>\n",
       "      <td>92c69003-d60a-444a-827f-8cc51bf6bf4c</td>\n",
       "      <td>NaN</td>\n",
       "    </tr>\n",
       "    <tr>\n",
       "      <th>4</th>\n",
       "      <td>2020-05-04 00:00:35</td>\n",
       "      <td>building</td>\n",
       "      <td>assembly_shop</td>\n",
       "      <td>cdc6bb92-0ccb-4490-9866-ef142f09139d</td>\n",
       "      <td>NaN</td>\n",
       "    </tr>\n",
       "    <tr>\n",
       "      <th>5</th>\n",
       "      <td>2020-05-04 00:00:36</td>\n",
       "      <td>building</td>\n",
       "      <td>assembly_shop</td>\n",
       "      <td>06c592ca-902d-42bb-bac3-75ce84cca159</td>\n",
       "      <td>NaN</td>\n",
       "    </tr>\n",
       "    <tr>\n",
       "      <th>6</th>\n",
       "      <td>2020-05-04 00:00:36</td>\n",
       "      <td>building</td>\n",
       "      <td>assembly_shop</td>\n",
       "      <td>4fe0f101-694b-4e31-9740-d1d87f7208ea</td>\n",
       "      <td>NaN</td>\n",
       "    </tr>\n",
       "    <tr>\n",
       "      <th>7</th>\n",
       "      <td>2020-05-04 00:00:38</td>\n",
       "      <td>building</td>\n",
       "      <td>assembly_shop</td>\n",
       "      <td>beb8ca15-33a9-465d-b47b-89aa96f89c9a</td>\n",
       "      <td>NaN</td>\n",
       "    </tr>\n",
       "    <tr>\n",
       "      <th>8</th>\n",
       "      <td>2020-05-04 00:00:44</td>\n",
       "      <td>building</td>\n",
       "      <td>assembly_shop</td>\n",
       "      <td>65a92713-5969-48b1-8945-bfefa5063887</td>\n",
       "      <td>NaN</td>\n",
       "    </tr>\n",
       "    <tr>\n",
       "      <th>9</th>\n",
       "      <td>2020-05-04 00:01:33</td>\n",
       "      <td>building</td>\n",
       "      <td>assembly_shop</td>\n",
       "      <td>fa352362-d258-472c-b295-2796ccc39fa3</td>\n",
       "      <td>NaN</td>\n",
       "    </tr>\n",
       "  </tbody>\n",
       "</table>\n",
       "</div>"
      ],
      "text/plain": [
       "        event_datetime     event  building_type  \\\n",
       "0  2020-05-04 00:00:01  building  assembly_shop   \n",
       "1  2020-05-04 00:00:03  building  assembly_shop   \n",
       "2  2020-05-04 00:00:16  building  assembly_shop   \n",
       "3  2020-05-04 00:00:16  building  assembly_shop   \n",
       "4  2020-05-04 00:00:35  building  assembly_shop   \n",
       "5  2020-05-04 00:00:36  building  assembly_shop   \n",
       "6  2020-05-04 00:00:36  building  assembly_shop   \n",
       "7  2020-05-04 00:00:38  building  assembly_shop   \n",
       "8  2020-05-04 00:00:44  building  assembly_shop   \n",
       "9  2020-05-04 00:01:33  building  assembly_shop   \n",
       "\n",
       "                                user_id project_type  \n",
       "0  55e92310-cb8e-4754-b622-597e124b03de          NaN  \n",
       "1  c07b1c10-f477-44dc-81dc-ec82254b1347          NaN  \n",
       "2  6edd42cc-e753-4ff6-a947-2107cd560710          NaN  \n",
       "3  92c69003-d60a-444a-827f-8cc51bf6bf4c          NaN  \n",
       "4  cdc6bb92-0ccb-4490-9866-ef142f09139d          NaN  \n",
       "5  06c592ca-902d-42bb-bac3-75ce84cca159          NaN  \n",
       "6  4fe0f101-694b-4e31-9740-d1d87f7208ea          NaN  \n",
       "7  beb8ca15-33a9-465d-b47b-89aa96f89c9a          NaN  \n",
       "8  65a92713-5969-48b1-8945-bfefa5063887          NaN  \n",
       "9  fa352362-d258-472c-b295-2796ccc39fa3          NaN  "
      ]
     },
     "execution_count": 6,
     "metadata": {},
     "output_type": "execute_result"
    }
   ],
   "source": [
    "actions.head(10)"
   ]
  },
  {
   "cell_type": "code",
   "execution_count": 7,
   "metadata": {
    "scrolled": false
   },
   "outputs": [
    {
     "name": "stdout",
     "output_type": "stream",
     "text": [
      "<class 'pandas.core.frame.DataFrame'>\n",
      "RangeIndex: 135640 entries, 0 to 135639\n",
      "Data columns (total 5 columns):\n",
      " #   Column          Non-Null Count   Dtype \n",
      "---  ------          --------------   ----- \n",
      " 0   event_datetime  135640 non-null  object\n",
      " 1   event           135640 non-null  object\n",
      " 2   building_type   127957 non-null  object\n",
      " 3   user_id         135640 non-null  object\n",
      " 4   project_type    1866 non-null    object\n",
      "dtypes: object(5)\n",
      "memory usage: 5.2+ MB\n"
     ]
    }
   ],
   "source": [
    "actions.info()"
   ]
  },
  {
   "cell_type": "code",
   "execution_count": 8,
   "metadata": {
    "scrolled": true
   },
   "outputs": [
    {
     "data": {
      "text/html": [
       "<div>\n",
       "<style scoped>\n",
       "    .dataframe tbody tr th:only-of-type {\n",
       "        vertical-align: middle;\n",
       "    }\n",
       "\n",
       "    .dataframe tbody tr th {\n",
       "        vertical-align: top;\n",
       "    }\n",
       "\n",
       "    .dataframe thead th {\n",
       "        text-align: right;\n",
       "    }\n",
       "</style>\n",
       "<table border=\"1\" class=\"dataframe\">\n",
       "  <thead>\n",
       "    <tr style=\"text-align: right;\">\n",
       "      <th></th>\n",
       "      <th>source</th>\n",
       "      <th>day</th>\n",
       "      <th>cost</th>\n",
       "    </tr>\n",
       "  </thead>\n",
       "  <tbody>\n",
       "    <tr>\n",
       "      <th>0</th>\n",
       "      <td>facebook_ads</td>\n",
       "      <td>2020-05-03</td>\n",
       "      <td>935.882786</td>\n",
       "    </tr>\n",
       "    <tr>\n",
       "      <th>1</th>\n",
       "      <td>facebook_ads</td>\n",
       "      <td>2020-05-04</td>\n",
       "      <td>548.354480</td>\n",
       "    </tr>\n",
       "    <tr>\n",
       "      <th>2</th>\n",
       "      <td>facebook_ads</td>\n",
       "      <td>2020-05-05</td>\n",
       "      <td>260.185754</td>\n",
       "    </tr>\n",
       "    <tr>\n",
       "      <th>3</th>\n",
       "      <td>facebook_ads</td>\n",
       "      <td>2020-05-06</td>\n",
       "      <td>177.982200</td>\n",
       "    </tr>\n",
       "    <tr>\n",
       "      <th>4</th>\n",
       "      <td>facebook_ads</td>\n",
       "      <td>2020-05-07</td>\n",
       "      <td>111.766796</td>\n",
       "    </tr>\n",
       "    <tr>\n",
       "      <th>5</th>\n",
       "      <td>facebook_ads</td>\n",
       "      <td>2020-05-08</td>\n",
       "      <td>68.009276</td>\n",
       "    </tr>\n",
       "    <tr>\n",
       "      <th>6</th>\n",
       "      <td>facebook_ads</td>\n",
       "      <td>2020-05-09</td>\n",
       "      <td>38.723350</td>\n",
       "    </tr>\n",
       "    <tr>\n",
       "      <th>7</th>\n",
       "      <td>instagram_new_adverts</td>\n",
       "      <td>2020-05-03</td>\n",
       "      <td>943.204717</td>\n",
       "    </tr>\n",
       "    <tr>\n",
       "      <th>8</th>\n",
       "      <td>instagram_new_adverts</td>\n",
       "      <td>2020-05-04</td>\n",
       "      <td>502.925451</td>\n",
       "    </tr>\n",
       "    <tr>\n",
       "      <th>9</th>\n",
       "      <td>instagram_new_adverts</td>\n",
       "      <td>2020-05-05</td>\n",
       "      <td>313.970984</td>\n",
       "    </tr>\n",
       "  </tbody>\n",
       "</table>\n",
       "</div>"
      ],
      "text/plain": [
       "                  source         day        cost\n",
       "0           facebook_ads  2020-05-03  935.882786\n",
       "1           facebook_ads  2020-05-04  548.354480\n",
       "2           facebook_ads  2020-05-05  260.185754\n",
       "3           facebook_ads  2020-05-06  177.982200\n",
       "4           facebook_ads  2020-05-07  111.766796\n",
       "5           facebook_ads  2020-05-08   68.009276\n",
       "6           facebook_ads  2020-05-09   38.723350\n",
       "7  instagram_new_adverts  2020-05-03  943.204717\n",
       "8  instagram_new_adverts  2020-05-04  502.925451\n",
       "9  instagram_new_adverts  2020-05-05  313.970984"
      ]
     },
     "execution_count": 8,
     "metadata": {},
     "output_type": "execute_result"
    }
   ],
   "source": [
    "costs.head(10)"
   ]
  },
  {
   "cell_type": "code",
   "execution_count": 9,
   "metadata": {
    "scrolled": true
   },
   "outputs": [
    {
     "name": "stdout",
     "output_type": "stream",
     "text": [
      "<class 'pandas.core.frame.DataFrame'>\n",
      "RangeIndex: 28 entries, 0 to 27\n",
      "Data columns (total 3 columns):\n",
      " #   Column  Non-Null Count  Dtype  \n",
      "---  ------  --------------  -----  \n",
      " 0   source  28 non-null     object \n",
      " 1   day     28 non-null     object \n",
      " 2   cost    28 non-null     float64\n",
      "dtypes: float64(1), object(2)\n",
      "memory usage: 800.0+ bytes\n"
     ]
    }
   ],
   "source": [
    "costs.info()"
   ]
  },
  {
   "cell_type": "code",
   "execution_count": 10,
   "metadata": {},
   "outputs": [
    {
     "data": {
      "text/html": [
       "<div>\n",
       "<style scoped>\n",
       "    .dataframe tbody tr th:only-of-type {\n",
       "        vertical-align: middle;\n",
       "    }\n",
       "\n",
       "    .dataframe tbody tr th {\n",
       "        vertical-align: top;\n",
       "    }\n",
       "\n",
       "    .dataframe thead th {\n",
       "        text-align: right;\n",
       "    }\n",
       "</style>\n",
       "<table border=\"1\" class=\"dataframe\">\n",
       "  <thead>\n",
       "    <tr style=\"text-align: right;\">\n",
       "      <th></th>\n",
       "      <th>cost</th>\n",
       "    </tr>\n",
       "  </thead>\n",
       "  <tbody>\n",
       "    <tr>\n",
       "      <th>count</th>\n",
       "      <td>28.000000</td>\n",
       "    </tr>\n",
       "    <tr>\n",
       "      <th>mean</th>\n",
       "      <td>271.556321</td>\n",
       "    </tr>\n",
       "    <tr>\n",
       "      <th>std</th>\n",
       "      <td>286.867650</td>\n",
       "    </tr>\n",
       "    <tr>\n",
       "      <th>min</th>\n",
       "      <td>23.314669</td>\n",
       "    </tr>\n",
       "    <tr>\n",
       "      <th>25%</th>\n",
       "      <td>66.747365</td>\n",
       "    </tr>\n",
       "    <tr>\n",
       "      <th>50%</th>\n",
       "      <td>160.056443</td>\n",
       "    </tr>\n",
       "    <tr>\n",
       "      <th>75%</th>\n",
       "      <td>349.034473</td>\n",
       "    </tr>\n",
       "    <tr>\n",
       "      <th>max</th>\n",
       "      <td>969.139394</td>\n",
       "    </tr>\n",
       "  </tbody>\n",
       "</table>\n",
       "</div>"
      ],
      "text/plain": [
       "             cost\n",
       "count   28.000000\n",
       "mean   271.556321\n",
       "std    286.867650\n",
       "min     23.314669\n",
       "25%     66.747365\n",
       "50%    160.056443\n",
       "75%    349.034473\n",
       "max    969.139394"
      ]
     },
     "execution_count": 10,
     "metadata": {},
     "output_type": "execute_result"
    }
   ],
   "source": [
    "costs.describe()"
   ]
  },
  {
   "cell_type": "code",
   "execution_count": 11,
   "metadata": {},
   "outputs": [
    {
     "data": {
      "text/html": [
       "<div>\n",
       "<style scoped>\n",
       "    .dataframe tbody tr th:only-of-type {\n",
       "        vertical-align: middle;\n",
       "    }\n",
       "\n",
       "    .dataframe tbody tr th {\n",
       "        vertical-align: top;\n",
       "    }\n",
       "\n",
       "    .dataframe thead th {\n",
       "        text-align: right;\n",
       "    }\n",
       "</style>\n",
       "<table border=\"1\" class=\"dataframe\">\n",
       "  <thead>\n",
       "    <tr style=\"text-align: right;\">\n",
       "      <th></th>\n",
       "      <th>user_id</th>\n",
       "      <th>source</th>\n",
       "    </tr>\n",
       "  </thead>\n",
       "  <tbody>\n",
       "    <tr>\n",
       "      <th>0</th>\n",
       "      <td>0001f83c-c6ac-4621-b7f0-8a28b283ac30</td>\n",
       "      <td>facebook_ads</td>\n",
       "    </tr>\n",
       "    <tr>\n",
       "      <th>1</th>\n",
       "      <td>00151b4f-ba38-44a8-a650-d7cf130a0105</td>\n",
       "      <td>yandex_direct</td>\n",
       "    </tr>\n",
       "    <tr>\n",
       "      <th>2</th>\n",
       "      <td>001aaea6-3d14-43f1-8ca8-7f48820f17aa</td>\n",
       "      <td>youtube_channel_reklama</td>\n",
       "    </tr>\n",
       "    <tr>\n",
       "      <th>3</th>\n",
       "      <td>001d39dc-366c-4021-9604-6a3b9ff01e25</td>\n",
       "      <td>instagram_new_adverts</td>\n",
       "    </tr>\n",
       "    <tr>\n",
       "      <th>4</th>\n",
       "      <td>002f508f-67b6-479f-814b-b05f00d4e995</td>\n",
       "      <td>facebook_ads</td>\n",
       "    </tr>\n",
       "    <tr>\n",
       "      <th>5</th>\n",
       "      <td>003b80c6-4164-4157-bb2a-03d0181d39c4</td>\n",
       "      <td>yandex_direct</td>\n",
       "    </tr>\n",
       "    <tr>\n",
       "      <th>6</th>\n",
       "      <td>003ee7e8-6356-4286-a715-62f22a18d2a1</td>\n",
       "      <td>instagram_new_adverts</td>\n",
       "    </tr>\n",
       "    <tr>\n",
       "      <th>7</th>\n",
       "      <td>004074f8-251a-4776-922c-8348dca1a2f6</td>\n",
       "      <td>facebook_ads</td>\n",
       "    </tr>\n",
       "    <tr>\n",
       "      <th>8</th>\n",
       "      <td>00440efd-aa50-4b4b-aae8-ffcd1782729d</td>\n",
       "      <td>facebook_ads</td>\n",
       "    </tr>\n",
       "    <tr>\n",
       "      <th>9</th>\n",
       "      <td>00464e5e-28ed-4be6-bf44-517ef7b3937b</td>\n",
       "      <td>yandex_direct</td>\n",
       "    </tr>\n",
       "  </tbody>\n",
       "</table>\n",
       "</div>"
      ],
      "text/plain": [
       "                                user_id                   source\n",
       "0  0001f83c-c6ac-4621-b7f0-8a28b283ac30             facebook_ads\n",
       "1  00151b4f-ba38-44a8-a650-d7cf130a0105            yandex_direct\n",
       "2  001aaea6-3d14-43f1-8ca8-7f48820f17aa  youtube_channel_reklama\n",
       "3  001d39dc-366c-4021-9604-6a3b9ff01e25    instagram_new_adverts\n",
       "4  002f508f-67b6-479f-814b-b05f00d4e995             facebook_ads\n",
       "5  003b80c6-4164-4157-bb2a-03d0181d39c4            yandex_direct\n",
       "6  003ee7e8-6356-4286-a715-62f22a18d2a1    instagram_new_adverts\n",
       "7  004074f8-251a-4776-922c-8348dca1a2f6             facebook_ads\n",
       "8  00440efd-aa50-4b4b-aae8-ffcd1782729d             facebook_ads\n",
       "9  00464e5e-28ed-4be6-bf44-517ef7b3937b            yandex_direct"
      ]
     },
     "execution_count": 11,
     "metadata": {},
     "output_type": "execute_result"
    }
   ],
   "source": [
    "source.head(10)"
   ]
  },
  {
   "cell_type": "code",
   "execution_count": 12,
   "metadata": {},
   "outputs": [
    {
     "name": "stdout",
     "output_type": "stream",
     "text": [
      "<class 'pandas.core.frame.DataFrame'>\n",
      "RangeIndex: 13576 entries, 0 to 13575\n",
      "Data columns (total 2 columns):\n",
      " #   Column   Non-Null Count  Dtype \n",
      "---  ------   --------------  ----- \n",
      " 0   user_id  13576 non-null  object\n",
      " 1   source   13576 non-null  object\n",
      "dtypes: object(2)\n",
      "memory usage: 212.2+ KB\n"
     ]
    }
   ],
   "source": [
    "source.info()"
   ]
  },
  {
   "cell_type": "markdown",
   "metadata": {},
   "source": [
    "После первичного осмотра, обнаружено следующее:\n",
    "- датафрейм actions:\n",
    "    - столбец project_type, мало значений, пропуски превалируют, \n",
    "    - столбец building_type имеются пропуски\n",
    "- привести столбцы с датами к нужному формату"
   ]
  },
  {
   "cell_type": "markdown",
   "metadata": {},
   "source": [
    "## Предобработка данных"
   ]
  },
  {
   "cell_type": "markdown",
   "metadata": {},
   "source": [
    "Перед предобработкой сохраню первоначальные данные"
   ]
  },
  {
   "cell_type": "code",
   "execution_count": 13,
   "metadata": {},
   "outputs": [],
   "source": [
    "old_actions = actions.copy()\n",
    "old_costs = costs.copy()\n",
    "old_source = source.copy()"
   ]
  },
  {
   "cell_type": "markdown",
   "metadata": {},
   "source": [
    "### Замена названия столбцов"
   ]
  },
  {
   "cell_type": "markdown",
   "metadata": {},
   "source": [
    "Названия столбцов отображены корректно, в исправлениях нет необходимости"
   ]
  },
  {
   "cell_type": "markdown",
   "metadata": {},
   "source": [
    "### Исследовать соответствие типов"
   ]
  },
  {
   "cell_type": "markdown",
   "metadata": {},
   "source": [
    "Привожу поля с датами к формату date"
   ]
  },
  {
   "cell_type": "code",
   "execution_count": 14,
   "metadata": {},
   "outputs": [],
   "source": [
    "actions['event_datetime'] = pd.to_datetime(actions['event_datetime'])"
   ]
  },
  {
   "cell_type": "code",
   "execution_count": 15,
   "metadata": {},
   "outputs": [],
   "source": [
    "costs['day'] = pd.to_datetime(costs['day'])"
   ]
  },
  {
   "cell_type": "markdown",
   "metadata": {},
   "source": [
    "### Исследовать пропущенные значения"
   ]
  },
  {
   "cell_type": "code",
   "execution_count": 16,
   "metadata": {},
   "outputs": [
    {
     "data": {
      "text/plain": [
       "project_type      133774\n",
       "building_type       7683\n",
       "event_datetime         0\n",
       "event                  0\n",
       "user_id                0\n",
       "dtype: int64"
      ]
     },
     "execution_count": 16,
     "metadata": {},
     "output_type": "execute_result"
    }
   ],
   "source": [
    "actions.isna().sum().sort_values(ascending=False)"
   ]
  },
  {
   "cell_type": "code",
   "execution_count": 17,
   "metadata": {},
   "outputs": [
    {
     "data": {
      "text/plain": [
       "source    0\n",
       "day       0\n",
       "cost      0\n",
       "dtype: int64"
      ]
     },
     "execution_count": 17,
     "metadata": {},
     "output_type": "execute_result"
    }
   ],
   "source": [
    "costs.isna().sum().sort_values(ascending=False)"
   ]
  },
  {
   "cell_type": "code",
   "execution_count": 18,
   "metadata": {
    "scrolled": true
   },
   "outputs": [
    {
     "data": {
      "text/plain": [
       "user_id    0\n",
       "source     0\n",
       "dtype: int64"
      ]
     },
     "execution_count": 18,
     "metadata": {},
     "output_type": "execute_result"
    }
   ],
   "source": [
    "source.isna().sum().sort_values(ascending=False)"
   ]
  },
  {
   "cell_type": "code",
   "execution_count": 19,
   "metadata": {},
   "outputs": [
    {
     "data": {
      "text/html": [
       "<div>\n",
       "<style scoped>\n",
       "    .dataframe tbody tr th:only-of-type {\n",
       "        vertical-align: middle;\n",
       "    }\n",
       "\n",
       "    .dataframe tbody tr th {\n",
       "        vertical-align: top;\n",
       "    }\n",
       "\n",
       "    .dataframe thead th {\n",
       "        text-align: right;\n",
       "    }\n",
       "</style>\n",
       "<table border=\"1\" class=\"dataframe\">\n",
       "  <thead>\n",
       "    <tr style=\"text-align: right;\">\n",
       "      <th></th>\n",
       "      <th>event_datetime</th>\n",
       "      <th>event</th>\n",
       "      <th>building_type</th>\n",
       "      <th>user_id</th>\n",
       "      <th>project_type</th>\n",
       "    </tr>\n",
       "  </thead>\n",
       "  <tbody>\n",
       "    <tr>\n",
       "      <th>6659</th>\n",
       "      <td>2020-05-04 19:47:29</td>\n",
       "      <td>finished_stage_1</td>\n",
       "      <td>NaN</td>\n",
       "      <td>ced7b368-818f-48f6-9461-2346de0892c5</td>\n",
       "      <td>NaN</td>\n",
       "    </tr>\n",
       "    <tr>\n",
       "      <th>13134</th>\n",
       "      <td>2020-05-05 13:22:09</td>\n",
       "      <td>finished_stage_1</td>\n",
       "      <td>NaN</td>\n",
       "      <td>7ef7fc89-2779-46ea-b328-9e5035b83af5</td>\n",
       "      <td>NaN</td>\n",
       "    </tr>\n",
       "    <tr>\n",
       "      <th>15274</th>\n",
       "      <td>2020-05-05 18:54:37</td>\n",
       "      <td>finished_stage_1</td>\n",
       "      <td>NaN</td>\n",
       "      <td>70db22b3-c2f4-43bc-94ea-51c8d2904a29</td>\n",
       "      <td>NaN</td>\n",
       "    </tr>\n",
       "    <tr>\n",
       "      <th>16284</th>\n",
       "      <td>2020-05-05 21:27:29</td>\n",
       "      <td>finished_stage_1</td>\n",
       "      <td>NaN</td>\n",
       "      <td>903fc9ef-ba97-4b12-9d5c-ac8d602fbd8b</td>\n",
       "      <td>NaN</td>\n",
       "    </tr>\n",
       "    <tr>\n",
       "      <th>19650</th>\n",
       "      <td>2020-05-06 06:02:22</td>\n",
       "      <td>finished_stage_1</td>\n",
       "      <td>NaN</td>\n",
       "      <td>58e077ba-feb1-4556-a5a0-d96bd04efa39</td>\n",
       "      <td>NaN</td>\n",
       "    </tr>\n",
       "    <tr>\n",
       "      <th>...</th>\n",
       "      <td>...</td>\n",
       "      <td>...</td>\n",
       "      <td>...</td>\n",
       "      <td>...</td>\n",
       "      <td>...</td>\n",
       "    </tr>\n",
       "    <tr>\n",
       "      <th>135632</th>\n",
       "      <td>2020-06-04 15:50:38</td>\n",
       "      <td>finished_stage_1</td>\n",
       "      <td>NaN</td>\n",
       "      <td>22cce310-fe10-41a2-941b-9c3d63327fea</td>\n",
       "      <td>NaN</td>\n",
       "    </tr>\n",
       "    <tr>\n",
       "      <th>135633</th>\n",
       "      <td>2020-06-04 17:56:14</td>\n",
       "      <td>finished_stage_1</td>\n",
       "      <td>NaN</td>\n",
       "      <td>d477dde8-7c22-4f23-9c4f-4ec31a1aa4c8</td>\n",
       "      <td>NaN</td>\n",
       "    </tr>\n",
       "    <tr>\n",
       "      <th>135636</th>\n",
       "      <td>2020-06-05 02:25:12</td>\n",
       "      <td>finished_stage_1</td>\n",
       "      <td>NaN</td>\n",
       "      <td>515c1952-99aa-4bca-a7ea-d0449eb5385a</td>\n",
       "      <td>NaN</td>\n",
       "    </tr>\n",
       "    <tr>\n",
       "      <th>135638</th>\n",
       "      <td>2020-06-05 12:12:27</td>\n",
       "      <td>finished_stage_1</td>\n",
       "      <td>NaN</td>\n",
       "      <td>32572adb-900f-4b5d-a453-1eb1e6d88d8b</td>\n",
       "      <td>NaN</td>\n",
       "    </tr>\n",
       "    <tr>\n",
       "      <th>135639</th>\n",
       "      <td>2020-06-05 12:32:49</td>\n",
       "      <td>finished_stage_1</td>\n",
       "      <td>NaN</td>\n",
       "      <td>f21d179f-1c4b-437e-b9c6-ab1976907195</td>\n",
       "      <td>NaN</td>\n",
       "    </tr>\n",
       "  </tbody>\n",
       "</table>\n",
       "<p>7683 rows × 5 columns</p>\n",
       "</div>"
      ],
      "text/plain": [
       "            event_datetime             event building_type  \\\n",
       "6659   2020-05-04 19:47:29  finished_stage_1           NaN   \n",
       "13134  2020-05-05 13:22:09  finished_stage_1           NaN   \n",
       "15274  2020-05-05 18:54:37  finished_stage_1           NaN   \n",
       "16284  2020-05-05 21:27:29  finished_stage_1           NaN   \n",
       "19650  2020-05-06 06:02:22  finished_stage_1           NaN   \n",
       "...                    ...               ...           ...   \n",
       "135632 2020-06-04 15:50:38  finished_stage_1           NaN   \n",
       "135633 2020-06-04 17:56:14  finished_stage_1           NaN   \n",
       "135636 2020-06-05 02:25:12  finished_stage_1           NaN   \n",
       "135638 2020-06-05 12:12:27  finished_stage_1           NaN   \n",
       "135639 2020-06-05 12:32:49  finished_stage_1           NaN   \n",
       "\n",
       "                                     user_id project_type  \n",
       "6659    ced7b368-818f-48f6-9461-2346de0892c5          NaN  \n",
       "13134   7ef7fc89-2779-46ea-b328-9e5035b83af5          NaN  \n",
       "15274   70db22b3-c2f4-43bc-94ea-51c8d2904a29          NaN  \n",
       "16284   903fc9ef-ba97-4b12-9d5c-ac8d602fbd8b          NaN  \n",
       "19650   58e077ba-feb1-4556-a5a0-d96bd04efa39          NaN  \n",
       "...                                      ...          ...  \n",
       "135632  22cce310-fe10-41a2-941b-9c3d63327fea          NaN  \n",
       "135633  d477dde8-7c22-4f23-9c4f-4ec31a1aa4c8          NaN  \n",
       "135636  515c1952-99aa-4bca-a7ea-d0449eb5385a          NaN  \n",
       "135638  32572adb-900f-4b5d-a453-1eb1e6d88d8b          NaN  \n",
       "135639  f21d179f-1c4b-437e-b9c6-ab1976907195          NaN  \n",
       "\n",
       "[7683 rows x 5 columns]"
      ]
     },
     "execution_count": 19,
     "metadata": {},
     "output_type": "execute_result"
    }
   ],
   "source": [
    "actions_null = actions[(actions['event'] == \"finished_stage_1\")|(actions['event'] == \"project\")]\n",
    "actions_null"
   ]
  },
  {
   "cell_type": "code",
   "execution_count": 20,
   "metadata": {
    "scrolled": true
   },
   "outputs": [
    {
     "data": {
      "text/plain": [
       "building_type     7683\n",
       "project_type      5817\n",
       "event_datetime       0\n",
       "event                0\n",
       "user_id              0\n",
       "dtype: int64"
      ]
     },
     "execution_count": 20,
     "metadata": {},
     "output_type": "execute_result"
    }
   ],
   "source": [
    "actions_null.isna().sum().sort_values(ascending=False)"
   ]
  },
  {
   "cell_type": "code",
   "execution_count": 21,
   "metadata": {},
   "outputs": [
    {
     "data": {
      "text/plain": [
       "array([nan], dtype=object)"
      ]
     },
     "execution_count": 21,
     "metadata": {},
     "output_type": "execute_result"
    }
   ],
   "source": [
    "actions_null['building_type'].unique()"
   ]
  },
  {
   "cell_type": "code",
   "execution_count": 22,
   "metadata": {
    "scrolled": false
   },
   "outputs": [
    {
     "data": {
      "text/html": [
       "<div>\n",
       "<style scoped>\n",
       "    .dataframe tbody tr th:only-of-type {\n",
       "        vertical-align: middle;\n",
       "    }\n",
       "\n",
       "    .dataframe tbody tr th {\n",
       "        vertical-align: top;\n",
       "    }\n",
       "\n",
       "    .dataframe thead th {\n",
       "        text-align: right;\n",
       "    }\n",
       "</style>\n",
       "<table border=\"1\" class=\"dataframe\">\n",
       "  <thead>\n",
       "    <tr style=\"text-align: right;\">\n",
       "      <th></th>\n",
       "      <th>event_datetime</th>\n",
       "      <th>event</th>\n",
       "      <th>building_type</th>\n",
       "      <th>user_id</th>\n",
       "      <th>project_type</th>\n",
       "    </tr>\n",
       "  </thead>\n",
       "  <tbody>\n",
       "    <tr>\n",
       "      <th>47121</th>\n",
       "      <td>2020-05-08 18:10:25</td>\n",
       "      <td>project</td>\n",
       "      <td>NaN</td>\n",
       "      <td>e3c66498-9d45-4000-9392-f81e6796e7da</td>\n",
       "      <td>satellite_orbital_assembly</td>\n",
       "    </tr>\n",
       "    <tr>\n",
       "      <th>57398</th>\n",
       "      <td>2020-05-09 13:49:11</td>\n",
       "      <td>project</td>\n",
       "      <td>NaN</td>\n",
       "      <td>936e7af6-8338-4703-a1df-fc6c3f5b8e34</td>\n",
       "      <td>satellite_orbital_assembly</td>\n",
       "    </tr>\n",
       "    <tr>\n",
       "      <th>58797</th>\n",
       "      <td>2020-05-09 16:19:33</td>\n",
       "      <td>project</td>\n",
       "      <td>NaN</td>\n",
       "      <td>a4491c86-c498-4f74-a56e-65c136d0e9a1</td>\n",
       "      <td>satellite_orbital_assembly</td>\n",
       "    </tr>\n",
       "    <tr>\n",
       "      <th>61174</th>\n",
       "      <td>2020-05-09 20:29:01</td>\n",
       "      <td>project</td>\n",
       "      <td>NaN</td>\n",
       "      <td>85d9e675-562b-4329-8bbd-14d3b39096be</td>\n",
       "      <td>satellite_orbital_assembly</td>\n",
       "    </tr>\n",
       "    <tr>\n",
       "      <th>63770</th>\n",
       "      <td>2020-05-10 00:57:47</td>\n",
       "      <td>project</td>\n",
       "      <td>NaN</td>\n",
       "      <td>1889ca71-3c57-4e61-9ea6-a711971bbf0a</td>\n",
       "      <td>satellite_orbital_assembly</td>\n",
       "    </tr>\n",
       "    <tr>\n",
       "      <th>...</th>\n",
       "      <td>...</td>\n",
       "      <td>...</td>\n",
       "      <td>...</td>\n",
       "      <td>...</td>\n",
       "      <td>...</td>\n",
       "    </tr>\n",
       "    <tr>\n",
       "      <th>135602</th>\n",
       "      <td>2020-06-02 03:04:42</td>\n",
       "      <td>project</td>\n",
       "      <td>NaN</td>\n",
       "      <td>9d98001c-7e14-40d7-896e-46b3047365fd</td>\n",
       "      <td>satellite_orbital_assembly</td>\n",
       "    </tr>\n",
       "    <tr>\n",
       "      <th>135603</th>\n",
       "      <td>2020-06-02 06:21:03</td>\n",
       "      <td>project</td>\n",
       "      <td>NaN</td>\n",
       "      <td>df4a1e13-eba9-4928-a7cf-ee303d6f80f9</td>\n",
       "      <td>satellite_orbital_assembly</td>\n",
       "    </tr>\n",
       "    <tr>\n",
       "      <th>135609</th>\n",
       "      <td>2020-06-02 17:17:28</td>\n",
       "      <td>project</td>\n",
       "      <td>NaN</td>\n",
       "      <td>82e46f34-e243-4728-8e20-2e171fc33ea4</td>\n",
       "      <td>satellite_orbital_assembly</td>\n",
       "    </tr>\n",
       "    <tr>\n",
       "      <th>135617</th>\n",
       "      <td>2020-06-03 09:46:04</td>\n",
       "      <td>project</td>\n",
       "      <td>NaN</td>\n",
       "      <td>fe032991-71e0-48c5-889f-4c3805ba4c9b</td>\n",
       "      <td>satellite_orbital_assembly</td>\n",
       "    </tr>\n",
       "    <tr>\n",
       "      <th>135630</th>\n",
       "      <td>2020-06-04 08:29:42</td>\n",
       "      <td>project</td>\n",
       "      <td>NaN</td>\n",
       "      <td>d477dde8-7c22-4f23-9c4f-4ec31a1aa4c8</td>\n",
       "      <td>satellite_orbital_assembly</td>\n",
       "    </tr>\n",
       "  </tbody>\n",
       "</table>\n",
       "<p>1866 rows × 5 columns</p>\n",
       "</div>"
      ],
      "text/plain": [
       "            event_datetime    event building_type  \\\n",
       "47121  2020-05-08 18:10:25  project           NaN   \n",
       "57398  2020-05-09 13:49:11  project           NaN   \n",
       "58797  2020-05-09 16:19:33  project           NaN   \n",
       "61174  2020-05-09 20:29:01  project           NaN   \n",
       "63770  2020-05-10 00:57:47  project           NaN   \n",
       "...                    ...      ...           ...   \n",
       "135602 2020-06-02 03:04:42  project           NaN   \n",
       "135603 2020-06-02 06:21:03  project           NaN   \n",
       "135609 2020-06-02 17:17:28  project           NaN   \n",
       "135617 2020-06-03 09:46:04  project           NaN   \n",
       "135630 2020-06-04 08:29:42  project           NaN   \n",
       "\n",
       "                                     user_id                project_type  \n",
       "47121   e3c66498-9d45-4000-9392-f81e6796e7da  satellite_orbital_assembly  \n",
       "57398   936e7af6-8338-4703-a1df-fc6c3f5b8e34  satellite_orbital_assembly  \n",
       "58797   a4491c86-c498-4f74-a56e-65c136d0e9a1  satellite_orbital_assembly  \n",
       "61174   85d9e675-562b-4329-8bbd-14d3b39096be  satellite_orbital_assembly  \n",
       "63770   1889ca71-3c57-4e61-9ea6-a711971bbf0a  satellite_orbital_assembly  \n",
       "...                                      ...                         ...  \n",
       "135602  9d98001c-7e14-40d7-896e-46b3047365fd  satellite_orbital_assembly  \n",
       "135603  df4a1e13-eba9-4928-a7cf-ee303d6f80f9  satellite_orbital_assembly  \n",
       "135609  82e46f34-e243-4728-8e20-2e171fc33ea4  satellite_orbital_assembly  \n",
       "135617  fe032991-71e0-48c5-889f-4c3805ba4c9b  satellite_orbital_assembly  \n",
       "135630  d477dde8-7c22-4f23-9c4f-4ec31a1aa4c8  satellite_orbital_assembly  \n",
       "\n",
       "[1866 rows x 5 columns]"
      ]
     },
     "execution_count": 22,
     "metadata": {},
     "output_type": "execute_result"
    }
   ],
   "source": [
    "actions_null_p = actions_null[(actions_null['event'] == \"project\")]\n",
    "actions_null_p"
   ]
  },
  {
   "cell_type": "code",
   "execution_count": 23,
   "metadata": {},
   "outputs": [
    {
     "data": {
      "text/plain": [
       "building_type     7683\n",
       "project_type      5817\n",
       "event_datetime       0\n",
       "event                0\n",
       "user_id              0\n",
       "dtype: int64"
      ]
     },
     "execution_count": 23,
     "metadata": {},
     "output_type": "execute_result"
    }
   ],
   "source": [
    "actions_null.isna().sum().sort_values(ascending=False)"
   ]
  },
  {
   "cell_type": "code",
   "execution_count": 24,
   "metadata": {},
   "outputs": [
    {
     "data": {
      "text/plain": [
       "array([nan], dtype=object)"
      ]
     },
     "execution_count": 24,
     "metadata": {},
     "output_type": "execute_result"
    }
   ],
   "source": [
    "actions_null_p['building_type'].unique()"
   ]
  },
  {
   "cell_type": "markdown",
   "metadata": {},
   "source": [
    "Пропущенные значения в столбце project_type оставляем, возможно разработчики планируют добавить туда дополнительные данные. Пропущенные значения в столбце building_type оставляем, их кол-во соответствует сумме значений тех кто закончил проект и тех кто победил противника, им не присвоен в данном поле статус, возможно в дальнейшем разработчики это исправят."
   ]
  },
  {
   "cell_type": "markdown",
   "metadata": {},
   "source": [
    "### Обработка дубликатов"
   ]
  },
  {
   "cell_type": "markdown",
   "metadata": {},
   "source": [
    "Проверяю на наличие явных дубликатов"
   ]
  },
  {
   "cell_type": "code",
   "execution_count": 25,
   "metadata": {},
   "outputs": [
    {
     "data": {
      "text/plain": [
       "1"
      ]
     },
     "execution_count": 25,
     "metadata": {},
     "output_type": "execute_result"
    }
   ],
   "source": [
    "actions.duplicated().sum()"
   ]
  },
  {
   "cell_type": "code",
   "execution_count": 26,
   "metadata": {},
   "outputs": [
    {
     "data": {
      "text/plain": [
       "0"
      ]
     },
     "execution_count": 26,
     "metadata": {},
     "output_type": "execute_result"
    }
   ],
   "source": [
    "costs.duplicated().sum()"
   ]
  },
  {
   "cell_type": "code",
   "execution_count": 27,
   "metadata": {},
   "outputs": [
    {
     "data": {
      "text/plain": [
       "0"
      ]
     },
     "execution_count": 27,
     "metadata": {},
     "output_type": "execute_result"
    }
   ],
   "source": [
    "source.duplicated().sum()"
   ]
  },
  {
   "cell_type": "markdown",
   "metadata": {},
   "source": [
    "Избавляюсь от дубликатов"
   ]
  },
  {
   "cell_type": "code",
   "execution_count": 28,
   "metadata": {},
   "outputs": [
    {
     "data": {
      "text/plain": [
       "0"
      ]
     },
     "execution_count": 28,
     "metadata": {},
     "output_type": "execute_result"
    }
   ],
   "source": [
    "actions = actions.drop_duplicates()\n",
    "actions.duplicated().sum()"
   ]
  },
  {
   "cell_type": "markdown",
   "metadata": {},
   "source": [
    "Проверяю на наличие неявных дубликатов"
   ]
  },
  {
   "cell_type": "code",
   "execution_count": 29,
   "metadata": {},
   "outputs": [
    {
     "data": {
      "text/plain": [
       "building            127956\n",
       "finished_stage_1      5817\n",
       "project               1866\n",
       "Name: event, dtype: int64"
      ]
     },
     "execution_count": 29,
     "metadata": {},
     "output_type": "execute_result"
    }
   ],
   "source": [
    "actions.event.value_counts()"
   ]
  },
  {
   "cell_type": "code",
   "execution_count": 30,
   "metadata": {},
   "outputs": [
    {
     "data": {
      "text/plain": [
       "spaceport          59325\n",
       "assembly_shop      54494\n",
       "research_center    14137\n",
       "Name: building_type, dtype: int64"
      ]
     },
     "execution_count": 30,
     "metadata": {},
     "output_type": "execute_result"
    }
   ],
   "source": [
    "actions.building_type.value_counts()"
   ]
  },
  {
   "cell_type": "code",
   "execution_count": 31,
   "metadata": {},
   "outputs": [
    {
     "data": {
      "text/plain": [
       "instagram_new_adverts      7\n",
       "facebook_ads               7\n",
       "youtube_channel_reklama    7\n",
       "yandex_direct              7\n",
       "Name: source, dtype: int64"
      ]
     },
     "execution_count": 31,
     "metadata": {},
     "output_type": "execute_result"
    }
   ],
   "source": [
    "costs.source.value_counts()"
   ]
  },
  {
   "cell_type": "code",
   "execution_count": 32,
   "metadata": {
    "scrolled": true
   },
   "outputs": [
    {
     "data": {
      "text/plain": [
       "yandex_direct              4817\n",
       "instagram_new_adverts      3347\n",
       "facebook_ads               2726\n",
       "youtube_channel_reklama    2686\n",
       "Name: source, dtype: int64"
      ]
     },
     "execution_count": 32,
     "metadata": {},
     "output_type": "execute_result"
    }
   ],
   "source": [
    "source.source.value_counts()"
   ]
  },
  {
   "cell_type": "markdown",
   "metadata": {},
   "source": [
    "Неявных дубликатов не обнаружено"
   ]
  },
  {
   "cell_type": "markdown",
   "metadata": {},
   "source": [
    "### Добавить столбец"
   ]
  },
  {
   "cell_type": "markdown",
   "metadata": {},
   "source": [
    "Добавляю столбец со статусами"
   ]
  },
  {
   "cell_type": "code",
   "execution_count": 33,
   "metadata": {},
   "outputs": [],
   "source": [
    "PvP = actions.query('event == \"finished_stage_1\"')['user_id'].unique()\n",
    "PvE = actions.query('event == \"project\"')['user_id'].unique()"
   ]
  },
  {
   "cell_type": "code",
   "execution_count": 34,
   "metadata": {},
   "outputs": [],
   "source": [
    "def status(actions):\n",
    "    if actions['user_id'] in PvP:\n",
    "        if actions['user_id'] in PvE:\n",
    "            return 'project'\n",
    "        else:\n",
    "            return 'pvp'\n",
    "    else:\n",
    "        return 'not_finished'"
   ]
  },
  {
   "cell_type": "code",
   "execution_count": 35,
   "metadata": {},
   "outputs": [],
   "source": [
    "actions['status'] = actions.apply(status, axis=1)"
   ]
  },
  {
   "cell_type": "code",
   "execution_count": 36,
   "metadata": {},
   "outputs": [
    {
     "data": {
      "text/html": [
       "<div>\n",
       "<style scoped>\n",
       "    .dataframe tbody tr th:only-of-type {\n",
       "        vertical-align: middle;\n",
       "    }\n",
       "\n",
       "    .dataframe tbody tr th {\n",
       "        vertical-align: top;\n",
       "    }\n",
       "\n",
       "    .dataframe thead th {\n",
       "        text-align: right;\n",
       "    }\n",
       "</style>\n",
       "<table border=\"1\" class=\"dataframe\">\n",
       "  <thead>\n",
       "    <tr style=\"text-align: right;\">\n",
       "      <th></th>\n",
       "      <th>event_datetime</th>\n",
       "      <th>event</th>\n",
       "      <th>building_type</th>\n",
       "      <th>user_id</th>\n",
       "      <th>project_type</th>\n",
       "      <th>status</th>\n",
       "    </tr>\n",
       "  </thead>\n",
       "  <tbody>\n",
       "    <tr>\n",
       "      <th>0</th>\n",
       "      <td>2020-05-04 00:00:01</td>\n",
       "      <td>building</td>\n",
       "      <td>assembly_shop</td>\n",
       "      <td>55e92310-cb8e-4754-b622-597e124b03de</td>\n",
       "      <td>NaN</td>\n",
       "      <td>not_finished</td>\n",
       "    </tr>\n",
       "    <tr>\n",
       "      <th>1</th>\n",
       "      <td>2020-05-04 00:00:03</td>\n",
       "      <td>building</td>\n",
       "      <td>assembly_shop</td>\n",
       "      <td>c07b1c10-f477-44dc-81dc-ec82254b1347</td>\n",
       "      <td>NaN</td>\n",
       "      <td>project</td>\n",
       "    </tr>\n",
       "    <tr>\n",
       "      <th>2</th>\n",
       "      <td>2020-05-04 00:00:16</td>\n",
       "      <td>building</td>\n",
       "      <td>assembly_shop</td>\n",
       "      <td>6edd42cc-e753-4ff6-a947-2107cd560710</td>\n",
       "      <td>NaN</td>\n",
       "      <td>pvp</td>\n",
       "    </tr>\n",
       "    <tr>\n",
       "      <th>3</th>\n",
       "      <td>2020-05-04 00:00:16</td>\n",
       "      <td>building</td>\n",
       "      <td>assembly_shop</td>\n",
       "      <td>92c69003-d60a-444a-827f-8cc51bf6bf4c</td>\n",
       "      <td>NaN</td>\n",
       "      <td>not_finished</td>\n",
       "    </tr>\n",
       "    <tr>\n",
       "      <th>4</th>\n",
       "      <td>2020-05-04 00:00:35</td>\n",
       "      <td>building</td>\n",
       "      <td>assembly_shop</td>\n",
       "      <td>cdc6bb92-0ccb-4490-9866-ef142f09139d</td>\n",
       "      <td>NaN</td>\n",
       "      <td>pvp</td>\n",
       "    </tr>\n",
       "  </tbody>\n",
       "</table>\n",
       "</div>"
      ],
      "text/plain": [
       "       event_datetime     event  building_type  \\\n",
       "0 2020-05-04 00:00:01  building  assembly_shop   \n",
       "1 2020-05-04 00:00:03  building  assembly_shop   \n",
       "2 2020-05-04 00:00:16  building  assembly_shop   \n",
       "3 2020-05-04 00:00:16  building  assembly_shop   \n",
       "4 2020-05-04 00:00:35  building  assembly_shop   \n",
       "\n",
       "                                user_id project_type        status  \n",
       "0  55e92310-cb8e-4754-b622-597e124b03de          NaN  not_finished  \n",
       "1  c07b1c10-f477-44dc-81dc-ec82254b1347          NaN       project  \n",
       "2  6edd42cc-e753-4ff6-a947-2107cd560710          NaN           pvp  \n",
       "3  92c69003-d60a-444a-827f-8cc51bf6bf4c          NaN  not_finished  \n",
       "4  cdc6bb92-0ccb-4490-9866-ef142f09139d          NaN           pvp  "
      ]
     },
     "execution_count": 36,
     "metadata": {},
     "output_type": "execute_result"
    }
   ],
   "source": [
    "actions.head()"
   ]
  },
  {
   "cell_type": "markdown",
   "metadata": {},
   "source": [
    "В результате проведения предообработки, проведены следующие действия и получены результаты:\n",
    "- Названия столбцов отображены корректно, в исправлениях нет необходимости\n",
    "- Были заменены типы данных в столбцах с датой и временем\n",
    "- Проведена проверка проупусков, пропуски обнаружены, оставлены без изменений\n",
    "- Проведена проверка дубликатов, дубликаты устранены\n",
    "- Добавлен столбец status"
   ]
  },
  {
   "cell_type": "markdown",
   "metadata": {},
   "source": [
    "## Исследовательский анализ данных"
   ]
  },
  {
   "cell_type": "markdown",
   "metadata": {},
   "source": [
    "### Определить минимальную и максимальную дату исследовния"
   ]
  },
  {
   "cell_type": "markdown",
   "metadata": {},
   "source": [
    "Определим даты для датафрейма actions"
   ]
  },
  {
   "cell_type": "code",
   "execution_count": 37,
   "metadata": {
    "scrolled": true
   },
   "outputs": [
    {
     "name": "stdout",
     "output_type": "stream",
     "text": [
      "Минимальная дата: 2020-05-04 00:00:01\n",
      "Максимальная дата: 2020-06-05 12:32:49\n"
     ]
    }
   ],
   "source": [
    "print('Минимальная дата:', (actions['event_datetime']).min())\n",
    "print('Максимальная дата:', (actions['event_datetime']).max())"
   ]
  },
  {
   "cell_type": "markdown",
   "metadata": {},
   "source": [
    "Определим даты для датафрейма costs"
   ]
  },
  {
   "cell_type": "code",
   "execution_count": 38,
   "metadata": {
    "scrolled": true
   },
   "outputs": [
    {
     "name": "stdout",
     "output_type": "stream",
     "text": [
      "Минимальная дата: 2020-05-03 00:00:00\n",
      "Максимальная дата: 2020-05-09 00:00:00\n"
     ]
    }
   ],
   "source": [
    "print('Минимальная дата:', (costs['day']).min())\n",
    "print('Максимальная дата:', (costs['day']).max())"
   ]
  },
  {
   "cell_type": "markdown",
   "metadata": {},
   "source": [
    "- Датафрейм actions охватывает месячный промежуток времени\n",
    "- Датафрейм costs охватывает недельный промежуток времени"
   ]
  },
  {
   "cell_type": "markdown",
   "metadata": {},
   "source": [
    "### Выяснить сколько всего пользователей участвует в исследовании"
   ]
  },
  {
   "cell_type": "code",
   "execution_count": 39,
   "metadata": {},
   "outputs": [],
   "source": [
    "all_users = len(actions.user_id.unique())"
   ]
  },
  {
   "cell_type": "code",
   "execution_count": 40,
   "metadata": {
    "scrolled": true
   },
   "outputs": [
    {
     "name": "stdout",
     "output_type": "stream",
     "text": [
      "Всего в исследовании участвует: 13576 пользователей\n"
     ]
    }
   ],
   "source": [
    "print('Всего в исследовании участвует:', all_users, 'пользователей')"
   ]
  },
  {
   "cell_type": "markdown",
   "metadata": {},
   "source": [
    "- Всего в исследовании участвует: 13576 пользователей"
   ]
  },
  {
   "cell_type": "markdown",
   "metadata": {},
   "source": [
    "### Выяснить сколько пользователей завершили целевое событие, определим какому условию соответствует завершение целевого события"
   ]
  },
  {
   "cell_type": "markdown",
   "metadata": {},
   "source": [
    "Определим сколько пользователей завершили целевое событие постройкой"
   ]
  },
  {
   "cell_type": "code",
   "execution_count": 41,
   "metadata": {},
   "outputs": [
    {
     "data": {
      "text/html": [
       "<div>\n",
       "<style scoped>\n",
       "    .dataframe tbody tr th:only-of-type {\n",
       "        vertical-align: middle;\n",
       "    }\n",
       "\n",
       "    .dataframe tbody tr th {\n",
       "        vertical-align: top;\n",
       "    }\n",
       "\n",
       "    .dataframe thead th {\n",
       "        text-align: right;\n",
       "    }\n",
       "</style>\n",
       "<table border=\"1\" class=\"dataframe\">\n",
       "  <thead>\n",
       "    <tr style=\"text-align: right;\">\n",
       "      <th></th>\n",
       "      <th>user_id</th>\n",
       "      <th>status</th>\n",
       "    </tr>\n",
       "  </thead>\n",
       "  <tbody>\n",
       "    <tr>\n",
       "      <th>0</th>\n",
       "      <td>0001f83c-c6ac-4621-b7f0-8a28b283ac30</td>\n",
       "      <td>not_finished</td>\n",
       "    </tr>\n",
       "    <tr>\n",
       "      <th>1</th>\n",
       "      <td>00151b4f-ba38-44a8-a650-d7cf130a0105</td>\n",
       "      <td>not_finished</td>\n",
       "    </tr>\n",
       "    <tr>\n",
       "      <th>2</th>\n",
       "      <td>001aaea6-3d14-43f1-8ca8-7f48820f17aa</td>\n",
       "      <td>not_finished</td>\n",
       "    </tr>\n",
       "    <tr>\n",
       "      <th>3</th>\n",
       "      <td>001d39dc-366c-4021-9604-6a3b9ff01e25</td>\n",
       "      <td>pvp</td>\n",
       "    </tr>\n",
       "    <tr>\n",
       "      <th>4</th>\n",
       "      <td>002f508f-67b6-479f-814b-b05f00d4e995</td>\n",
       "      <td>not_finished</td>\n",
       "    </tr>\n",
       "    <tr>\n",
       "      <th>...</th>\n",
       "      <td>...</td>\n",
       "      <td>...</td>\n",
       "    </tr>\n",
       "    <tr>\n",
       "      <th>13571</th>\n",
       "      <td>ffef4fed-164c-40e1-bde1-3980f76d0fb5</td>\n",
       "      <td>pvp</td>\n",
       "    </tr>\n",
       "    <tr>\n",
       "      <th>13572</th>\n",
       "      <td>fffab3da-da0e-4e30-ae62-10d0a2e24a4e</td>\n",
       "      <td>not_finished</td>\n",
       "    </tr>\n",
       "    <tr>\n",
       "      <th>13573</th>\n",
       "      <td>fffb626c-5ab6-47c9-8113-2062a2f18494</td>\n",
       "      <td>pvp</td>\n",
       "    </tr>\n",
       "    <tr>\n",
       "      <th>13574</th>\n",
       "      <td>ffff194a-56b7-4c12-860d-3485242ae7f5</td>\n",
       "      <td>not_finished</td>\n",
       "    </tr>\n",
       "    <tr>\n",
       "      <th>13575</th>\n",
       "      <td>ffff69cc-fec1-4fd3-9f98-93be1112a6b8</td>\n",
       "      <td>project</td>\n",
       "    </tr>\n",
       "  </tbody>\n",
       "</table>\n",
       "<p>13576 rows × 2 columns</p>\n",
       "</div>"
      ],
      "text/plain": [
       "                                    user_id        status\n",
       "0      0001f83c-c6ac-4621-b7f0-8a28b283ac30  not_finished\n",
       "1      00151b4f-ba38-44a8-a650-d7cf130a0105  not_finished\n",
       "2      001aaea6-3d14-43f1-8ca8-7f48820f17aa  not_finished\n",
       "3      001d39dc-366c-4021-9604-6a3b9ff01e25           pvp\n",
       "4      002f508f-67b6-479f-814b-b05f00d4e995  not_finished\n",
       "...                                     ...           ...\n",
       "13571  ffef4fed-164c-40e1-bde1-3980f76d0fb5           pvp\n",
       "13572  fffab3da-da0e-4e30-ae62-10d0a2e24a4e  not_finished\n",
       "13573  fffb626c-5ab6-47c9-8113-2062a2f18494           pvp\n",
       "13574  ffff194a-56b7-4c12-860d-3485242ae7f5  not_finished\n",
       "13575  ffff69cc-fec1-4fd3-9f98-93be1112a6b8       project\n",
       "\n",
       "[13576 rows x 2 columns]"
      ]
     },
     "execution_count": 41,
     "metadata": {},
     "output_type": "execute_result"
    }
   ],
   "source": [
    "u_users = actions.groupby('user_id')['status'].first().reset_index()\n",
    "u_users"
   ]
  },
  {
   "cell_type": "code",
   "execution_count": 42,
   "metadata": {},
   "outputs": [],
   "source": [
    "PvE_users = len(u_users.query('status == \"project\"')[['user_id']])"
   ]
  },
  {
   "cell_type": "code",
   "execution_count": 43,
   "metadata": {},
   "outputs": [
    {
     "name": "stdout",
     "output_type": "stream",
     "text": [
      "Событие завершили строительством: 1866 пользователей\n"
     ]
    }
   ],
   "source": [
    "print('Событие завершили строительством:', PvE_users, 'пользователей')"
   ]
  },
  {
   "cell_type": "markdown",
   "metadata": {},
   "source": [
    "Определим сколько пользователей завершили целевое событие победой над врагом"
   ]
  },
  {
   "cell_type": "code",
   "execution_count": 44,
   "metadata": {},
   "outputs": [],
   "source": [
    "PvP_users = len(u_users.query('status == \"pvp\"')[['user_id']])"
   ]
  },
  {
   "cell_type": "code",
   "execution_count": 45,
   "metadata": {},
   "outputs": [
    {
     "name": "stdout",
     "output_type": "stream",
     "text": [
      "Событие завершили победой над врагом: 3951 пользователей\n"
     ]
    }
   ],
   "source": [
    "print('Событие завершили победой над врагом:', PvP_users, 'пользователей')"
   ]
  },
  {
   "cell_type": "markdown",
   "metadata": {},
   "source": [
    "Определим сколько пользователей учавствовало но не завершило целевое событие"
   ]
  },
  {
   "cell_type": "code",
   "execution_count": 46,
   "metadata": {},
   "outputs": [],
   "source": [
    "Nfinished_users = len(u_users.query('status == \"not_finished\"')[['user_id']])"
   ]
  },
  {
   "cell_type": "code",
   "execution_count": 47,
   "metadata": {},
   "outputs": [
    {
     "name": "stdout",
     "output_type": "stream",
     "text": [
      "Участвовали но не завершили событие: 7759 пользователей\n"
     ]
    }
   ],
   "source": [
    "print('Участвовали но не завершили событие:', Nfinished_users, 'пользователей')"
   ]
  },
  {
   "cell_type": "code",
   "execution_count": 48,
   "metadata": {
    "scrolled": false
   },
   "outputs": [
    {
     "data": {
      "text/html": [
       "<div>\n",
       "<style scoped>\n",
       "    .dataframe tbody tr th:only-of-type {\n",
       "        vertical-align: middle;\n",
       "    }\n",
       "\n",
       "    .dataframe tbody tr th {\n",
       "        vertical-align: top;\n",
       "    }\n",
       "\n",
       "    .dataframe thead th {\n",
       "        text-align: right;\n",
       "    }\n",
       "</style>\n",
       "<table border=\"1\" class=\"dataframe\">\n",
       "  <thead>\n",
       "    <tr style=\"text-align: right;\">\n",
       "      <th></th>\n",
       "      <th>users_type</th>\n",
       "      <th>count_users</th>\n",
       "    </tr>\n",
       "  </thead>\n",
       "  <tbody>\n",
       "    <tr>\n",
       "      <th>0</th>\n",
       "      <td>Nfinished_users</td>\n",
       "      <td>7759</td>\n",
       "    </tr>\n",
       "    <tr>\n",
       "      <th>1</th>\n",
       "      <td>PvP_users</td>\n",
       "      <td>3951</td>\n",
       "    </tr>\n",
       "    <tr>\n",
       "      <th>2</th>\n",
       "      <td>PvE_users</td>\n",
       "      <td>1866</td>\n",
       "    </tr>\n",
       "  </tbody>\n",
       "</table>\n",
       "</div>"
      ],
      "text/plain": [
       "        users_type  count_users\n",
       "0  Nfinished_users         7759\n",
       "1        PvP_users         3951\n",
       "2        PvE_users         1866"
      ]
     },
     "execution_count": 48,
     "metadata": {},
     "output_type": "execute_result"
    }
   ],
   "source": [
    "users = pd.DataFrame({'users_type': ['Nfinished_users', 'PvP_users', 'PvE_users'], 'count_users' : [Nfinished_users, PvP_users, PvE_users]})\n",
    "users"
   ]
  },
  {
   "cell_type": "markdown",
   "metadata": {},
   "source": [
    "Построим график"
   ]
  },
  {
   "cell_type": "code",
   "execution_count": 49,
   "metadata": {},
   "outputs": [
    {
     "data": {
      "image/png": "[encoded data removed]",
      "text/plain": [
       "<Figure size 700x700 with 1 Axes>"
      ]
     },
     "metadata": {},
     "output_type": "display_data"
    }
   ],
   "source": [
    "labels = (users['users_type'])\n",
    "autopct=('%1.1f%%')\n",
    "explode = (0.05, 0.05, 0.05)\n",
    "fig, ax = plt.subplots(figsize = (7,7))\n",
    "fig.suptitle('Распределение пользователей по категориям')\n",
    "ax.pie(users['count_users'], labels=labels, autopct=autopct, shadow = True, explode=explode)\n",
    "plt.show()"
   ]
  },
  {
   "cell_type": "markdown",
   "metadata": {},
   "source": [
    "- Участвовали но не завершили событие: 7759 пользователей\n",
    "- Событие завершили победой над врагом: 3951 пользователей\n",
    "- Событие завершили строительством: 1866 пользователей"
   ]
  },
  {
   "cell_type": "markdown",
   "metadata": {},
   "source": [
    "### Посчитаем общее кол-во построек зданий каждого типа"
   ]
  },
  {
   "cell_type": "code",
   "execution_count": 50,
   "metadata": {},
   "outputs": [
    {
     "data": {
      "text/html": [
       "<div>\n",
       "<style scoped>\n",
       "    .dataframe tbody tr th:only-of-type {\n",
       "        vertical-align: middle;\n",
       "    }\n",
       "\n",
       "    .dataframe tbody tr th {\n",
       "        vertical-align: top;\n",
       "    }\n",
       "\n",
       "    .dataframe thead th {\n",
       "        text-align: right;\n",
       "    }\n",
       "</style>\n",
       "<table border=\"1\" class=\"dataframe\">\n",
       "  <thead>\n",
       "    <tr style=\"text-align: right;\">\n",
       "      <th></th>\n",
       "      <th>building_type</th>\n",
       "      <th>user_id</th>\n",
       "    </tr>\n",
       "  </thead>\n",
       "  <tbody>\n",
       "    <tr>\n",
       "      <th>0</th>\n",
       "      <td>assembly_shop</td>\n",
       "      <td>54494</td>\n",
       "    </tr>\n",
       "    <tr>\n",
       "      <th>1</th>\n",
       "      <td>research_center</td>\n",
       "      <td>14137</td>\n",
       "    </tr>\n",
       "    <tr>\n",
       "      <th>2</th>\n",
       "      <td>spaceport</td>\n",
       "      <td>59325</td>\n",
       "    </tr>\n",
       "  </tbody>\n",
       "</table>\n",
       "</div>"
      ],
      "text/plain": [
       "     building_type  user_id\n",
       "0    assembly_shop    54494\n",
       "1  research_center    14137\n",
       "2        spaceport    59325"
      ]
     },
     "execution_count": 50,
     "metadata": {},
     "output_type": "execute_result"
    }
   ],
   "source": [
    "buildings = actions.pivot_table(index='building_type', values = 'user_id', aggfunc='count').reset_index()\n",
    "buildings"
   ]
  },
  {
   "cell_type": "markdown",
   "metadata": {},
   "source": [
    "Построим график"
   ]
  },
  {
   "cell_type": "code",
   "execution_count": 51,
   "metadata": {
    "scrolled": false
   },
   "outputs": [
    {
     "data": {
      "image/png": "[encoded data removed]",
      "text/plain": [
       "<Figure size 700x700 with 1 Axes>"
      ]
     },
     "metadata": {},
     "output_type": "display_data"
    }
   ],
   "source": [
    "labels = (buildings['building_type'])\n",
    "autopct=('%1.1f%%')\n",
    "explode = (0.05, 0.05, 0.05)\n",
    "fig, ax = plt.subplots(figsize = (7,7))\n",
    "fig.suptitle('Кол-во построенных зданий по категориям')\n",
    "ax.pie(buildings['user_id'], labels=labels, autopct=autopct, shadow = True, explode=explode)\n",
    "plt.show()"
   ]
  },
  {
   "cell_type": "markdown",
   "metadata": {},
   "source": [
    "Потзователи в основном строят spaceport и assembly_shop. Пологаю эти здания являются ключевыми для окончания уровня."
   ]
  },
  {
   "cell_type": "markdown",
   "metadata": {},
   "source": [
    "### Посчитать общую сумму стоимости рекламы и кол-во строений в игре и предполагаемую прибыль от рекламы"
   ]
  },
  {
   "cell_type": "markdown",
   "metadata": {},
   "source": [
    "Подсчитаю сколько средств было затрачено на рекламу"
   ]
  },
  {
   "cell_type": "code",
   "execution_count": 52,
   "metadata": {},
   "outputs": [
    {
     "name": "stdout",
     "output_type": "stream",
     "text": [
      "Общая сумма затрат на рекламу составляет: 7603.58\n"
     ]
    }
   ],
   "source": [
    "advertising_sum = round(costs.cost.sum(), 2)\n",
    "print('Общая сумма затрат на рекламу составляет:', advertising_sum)"
   ]
  },
  {
   "cell_type": "markdown",
   "metadata": {},
   "source": [
    "Подсчитаю сколько было построено зданий и сколько это принесло прибыли"
   ]
  },
  {
   "cell_type": "code",
   "execution_count": 53,
   "metadata": {},
   "outputs": [
    {
     "name": "stdout",
     "output_type": "stream",
     "text": [
      "Всего за время исследования было построено: 127956 зданий\n"
     ]
    }
   ],
   "source": [
    "buldings_all = len(actions.query('event == \"building\"')[['user_id']])\n",
    "print('Всего за время исследования было построено:', buldings_all, 'зданий')"
   ]
  },
  {
   "cell_type": "code",
   "execution_count": 54,
   "metadata": {},
   "outputs": [],
   "source": [
    "price_click = 0.07"
   ]
  },
  {
   "cell_type": "code",
   "execution_count": 55,
   "metadata": {},
   "outputs": [
    {
     "name": "stdout",
     "output_type": "stream",
     "text": [
      "Согласно плану монетизаци прибыль составила бы: 8956.92\n"
     ]
    }
   ],
   "source": [
    "print('Согласно плану монетизаци прибыль составила бы:', buldings_all*price_click)"
   ]
  },
  {
   "cell_type": "markdown",
   "metadata": {},
   "source": [
    "- Общая сумма затрат на рекламу составляет: 7603.58\n",
    "- Согласно плану монетизаци прибыль составила бы: 8956.92\n",
    "\n",
    "Как видно из результатов исследований, если следовать плану по монетизации, в идеале, прибыль привысила бы затраты на рекламу."
   ]
  },
  {
   "cell_type": "markdown",
   "metadata": {},
   "source": [
    "### Посчитать распределение средств по каждому рекламному источнику"
   ]
  },
  {
   "cell_type": "code",
   "execution_count": 56,
   "metadata": {},
   "outputs": [
    {
     "data": {
      "text/html": [
       "<div>\n",
       "<style scoped>\n",
       "    .dataframe tbody tr th:only-of-type {\n",
       "        vertical-align: middle;\n",
       "    }\n",
       "\n",
       "    .dataframe tbody tr th {\n",
       "        vertical-align: top;\n",
       "    }\n",
       "\n",
       "    .dataframe thead th {\n",
       "        text-align: right;\n",
       "    }\n",
       "</style>\n",
       "<table border=\"1\" class=\"dataframe\">\n",
       "  <thead>\n",
       "    <tr style=\"text-align: right;\">\n",
       "      <th></th>\n",
       "      <th>source</th>\n",
       "      <th>cost</th>\n",
       "    </tr>\n",
       "  </thead>\n",
       "  <tbody>\n",
       "    <tr>\n",
       "      <th>2</th>\n",
       "      <td>yandex_direct</td>\n",
       "      <td>2233.111449</td>\n",
       "    </tr>\n",
       "    <tr>\n",
       "      <th>1</th>\n",
       "      <td>instagram_new_adverts</td>\n",
       "      <td>2161.441691</td>\n",
       "    </tr>\n",
       "    <tr>\n",
       "      <th>0</th>\n",
       "      <td>facebook_ads</td>\n",
       "      <td>2140.904643</td>\n",
       "    </tr>\n",
       "    <tr>\n",
       "      <th>3</th>\n",
       "      <td>youtube_channel_reklama</td>\n",
       "      <td>1068.119204</td>\n",
       "    </tr>\n",
       "  </tbody>\n",
       "</table>\n",
       "</div>"
      ],
      "text/plain": [
       "                    source         cost\n",
       "2            yandex_direct  2233.111449\n",
       "1    instagram_new_adverts  2161.441691\n",
       "0             facebook_ads  2140.904643\n",
       "3  youtube_channel_reklama  1068.119204"
      ]
     },
     "execution_count": 56,
     "metadata": {},
     "output_type": "execute_result"
    }
   ],
   "source": [
    "costs_r = costs.pivot_table(index='source', values = 'cost', aggfunc='sum').reset_index().sort_values(by='cost', ascending=False)\n",
    "costs_r"
   ]
  },
  {
   "cell_type": "code",
   "execution_count": 57,
   "metadata": {
    "scrolled": false
   },
   "outputs": [
    {
     "data": {
      "image/png": "[encoded data removed]",
      "text/plain": [
       "<Figure size 1500x600 with 1 Axes>"
      ]
     },
     "metadata": {},
     "output_type": "display_data"
    }
   ],
   "source": [
    "plt.figure(figsize=(15,6));\n",
    "sns.set_style('whitegrid')\n",
    "sns.barplot(x = costs_r['source'], y = costs_r['cost']);\n",
    "plt.title(\"Затраты на рекламу по источникам\");\n",
    "plt.xlabel(\"Источник рекламы\");\n",
    "plt.ylabel(\"Затраты на рекламу\");"
   ]
  },
  {
   "cell_type": "markdown",
   "metadata": {},
   "source": [
    "По результатам мы видим что затраты на рекламу для каналов yandex_direct, instagram_new_adverts, facebook_ads приблизительно одинаковые, на youtube_channel_reklama в два раза ниже"
   ]
  },
  {
   "cell_type": "markdown",
   "metadata": {},
   "source": [
    "### Определить сколько пользователей пришли из каждого рекламного источника"
   ]
  },
  {
   "cell_type": "code",
   "execution_count": 58,
   "metadata": {},
   "outputs": [
    {
     "data": {
      "text/html": [
       "<div>\n",
       "<style scoped>\n",
       "    .dataframe tbody tr th:only-of-type {\n",
       "        vertical-align: middle;\n",
       "    }\n",
       "\n",
       "    .dataframe tbody tr th {\n",
       "        vertical-align: top;\n",
       "    }\n",
       "\n",
       "    .dataframe thead th {\n",
       "        text-align: right;\n",
       "    }\n",
       "</style>\n",
       "<table border=\"1\" class=\"dataframe\">\n",
       "  <thead>\n",
       "    <tr style=\"text-align: right;\">\n",
       "      <th></th>\n",
       "      <th>source</th>\n",
       "      <th>user_id</th>\n",
       "    </tr>\n",
       "  </thead>\n",
       "  <tbody>\n",
       "    <tr>\n",
       "      <th>2</th>\n",
       "      <td>yandex_direct</td>\n",
       "      <td>4817</td>\n",
       "    </tr>\n",
       "    <tr>\n",
       "      <th>1</th>\n",
       "      <td>instagram_new_adverts</td>\n",
       "      <td>3347</td>\n",
       "    </tr>\n",
       "    <tr>\n",
       "      <th>0</th>\n",
       "      <td>facebook_ads</td>\n",
       "      <td>2726</td>\n",
       "    </tr>\n",
       "    <tr>\n",
       "      <th>3</th>\n",
       "      <td>youtube_channel_reklama</td>\n",
       "      <td>2686</td>\n",
       "    </tr>\n",
       "  </tbody>\n",
       "</table>\n",
       "</div>"
      ],
      "text/plain": [
       "                    source  user_id\n",
       "2            yandex_direct     4817\n",
       "1    instagram_new_adverts     3347\n",
       "0             facebook_ads     2726\n",
       "3  youtube_channel_reklama     2686"
      ]
     },
     "execution_count": 58,
     "metadata": {},
     "output_type": "execute_result"
    }
   ],
   "source": [
    "user_r = source.pivot_table(index='source', values = 'user_id', aggfunc='count').reset_index().sort_values(by='user_id', ascending=False)\n",
    "user_r"
   ]
  },
  {
   "cell_type": "code",
   "execution_count": 59,
   "metadata": {
    "scrolled": false
   },
   "outputs": [
    {
     "data": {
      "image/png": "[encoded data removed]",
      "text/plain": [
       "<Figure size 1500x600 with 1 Axes>"
      ]
     },
     "metadata": {},
     "output_type": "display_data"
    }
   ],
   "source": [
    "plt.figure(figsize=(15,6));\n",
    "sns.set_style('whitegrid')\n",
    "sns.barplot(x = user_r['source'], y = user_r['user_id']);\n",
    "plt.title(\"Кол-во пользователей пришедших из рекламного источника\");\n",
    "plt.xlabel(\"Источник рекламы\");\n",
    "plt.ylabel(\"Кол-во пользователей\");"
   ]
  },
  {
   "cell_type": "markdown",
   "metadata": {},
   "source": [
    "Больше всего пользователей пришло с yandex_direct, с остальных источников приблизительно поровну и на треть меньше чем с yandex_direct"
   ]
  },
  {
   "cell_type": "markdown",
   "metadata": {},
   "source": [
    "В результате проведенного исследовательского анализа были получены следующие данные:\n",
    "- Датафрейм actions охватывает месячный промежуток времени.\n",
    "- Датафрейм costs охватывает недельный промежуток времени.\n",
    "- Всего в исследовании участвует: 13576 пользователей.\n",
    "    - Событие завершили строительством: 1866 пользователей.\n",
    "    - Событие завершили победой над врагом: 3951 пользователей\n",
    "    - Участвовали но не завершили событие: 7759 пользователей\n",
    "- Потзователи в основном строят spaceport и assembly_shop.\n",
    "- Общая сумма затрат на рекламу составляет: 7603.58\n",
    "- По результатам мы видим что затраты на рекламу для каналов yandex_direct, instagram_new_adverts, facebook_ads приблизительно одинаковые, на youtube_channel_reklama в два раза ниже"
   ]
  },
  {
   "cell_type": "markdown",
   "metadata": {},
   "source": [
    "## Проанализировать влияние событий на совершение целевого события"
   ]
  },
  {
   "cell_type": "markdown",
   "metadata": {},
   "source": [
    "### Определить кол-во построенных зданий в зависимости от типа пользователя"
   ]
  },
  {
   "cell_type": "code",
   "execution_count": 60,
   "metadata": {
    "scrolled": false
   },
   "outputs": [
    {
     "data": {
      "text/html": [
       "<div>\n",
       "<style scoped>\n",
       "    .dataframe tbody tr th:only-of-type {\n",
       "        vertical-align: middle;\n",
       "    }\n",
       "\n",
       "    .dataframe tbody tr th {\n",
       "        vertical-align: top;\n",
       "    }\n",
       "\n",
       "    .dataframe thead th {\n",
       "        text-align: right;\n",
       "    }\n",
       "</style>\n",
       "<table border=\"1\" class=\"dataframe\">\n",
       "  <thead>\n",
       "    <tr style=\"text-align: right;\">\n",
       "      <th></th>\n",
       "      <th>user_id</th>\n",
       "      <th>building_type</th>\n",
       "      <th>status</th>\n",
       "    </tr>\n",
       "  </thead>\n",
       "  <tbody>\n",
       "    <tr>\n",
       "      <th>0</th>\n",
       "      <td>0001f83c-c6ac-4621-b7f0-8a28b283ac30</td>\n",
       "      <td>13</td>\n",
       "      <td>not_finished</td>\n",
       "    </tr>\n",
       "    <tr>\n",
       "      <th>1</th>\n",
       "      <td>00151b4f-ba38-44a8-a650-d7cf130a0105</td>\n",
       "      <td>9</td>\n",
       "      <td>not_finished</td>\n",
       "    </tr>\n",
       "    <tr>\n",
       "      <th>2</th>\n",
       "      <td>001aaea6-3d14-43f1-8ca8-7f48820f17aa</td>\n",
       "      <td>4</td>\n",
       "      <td>not_finished</td>\n",
       "    </tr>\n",
       "    <tr>\n",
       "      <th>3</th>\n",
       "      <td>001d39dc-366c-4021-9604-6a3b9ff01e25</td>\n",
       "      <td>8</td>\n",
       "      <td>pvp</td>\n",
       "    </tr>\n",
       "    <tr>\n",
       "      <th>4</th>\n",
       "      <td>002f508f-67b6-479f-814b-b05f00d4e995</td>\n",
       "      <td>12</td>\n",
       "      <td>not_finished</td>\n",
       "    </tr>\n",
       "    <tr>\n",
       "      <th>...</th>\n",
       "      <td>...</td>\n",
       "      <td>...</td>\n",
       "      <td>...</td>\n",
       "    </tr>\n",
       "    <tr>\n",
       "      <th>13571</th>\n",
       "      <td>ffef4fed-164c-40e1-bde1-3980f76d0fb5</td>\n",
       "      <td>9</td>\n",
       "      <td>pvp</td>\n",
       "    </tr>\n",
       "    <tr>\n",
       "      <th>13572</th>\n",
       "      <td>fffab3da-da0e-4e30-ae62-10d0a2e24a4e</td>\n",
       "      <td>16</td>\n",
       "      <td>not_finished</td>\n",
       "    </tr>\n",
       "    <tr>\n",
       "      <th>13573</th>\n",
       "      <td>fffb626c-5ab6-47c9-8113-2062a2f18494</td>\n",
       "      <td>9</td>\n",
       "      <td>pvp</td>\n",
       "    </tr>\n",
       "    <tr>\n",
       "      <th>13574</th>\n",
       "      <td>ffff194a-56b7-4c12-860d-3485242ae7f5</td>\n",
       "      <td>7</td>\n",
       "      <td>not_finished</td>\n",
       "    </tr>\n",
       "    <tr>\n",
       "      <th>13575</th>\n",
       "      <td>ffff69cc-fec1-4fd3-9f98-93be1112a6b8</td>\n",
       "      <td>12</td>\n",
       "      <td>project</td>\n",
       "    </tr>\n",
       "  </tbody>\n",
       "</table>\n",
       "<p>13576 rows × 3 columns</p>\n",
       "</div>"
      ],
      "text/plain": [
       "                                    user_id  building_type        status\n",
       "0      0001f83c-c6ac-4621-b7f0-8a28b283ac30             13  not_finished\n",
       "1      00151b4f-ba38-44a8-a650-d7cf130a0105              9  not_finished\n",
       "2      001aaea6-3d14-43f1-8ca8-7f48820f17aa              4  not_finished\n",
       "3      001d39dc-366c-4021-9604-6a3b9ff01e25              8           pvp\n",
       "4      002f508f-67b6-479f-814b-b05f00d4e995             12  not_finished\n",
       "...                                     ...            ...           ...\n",
       "13571  ffef4fed-164c-40e1-bde1-3980f76d0fb5              9           pvp\n",
       "13572  fffab3da-da0e-4e30-ae62-10d0a2e24a4e             16  not_finished\n",
       "13573  fffb626c-5ab6-47c9-8113-2062a2f18494              9           pvp\n",
       "13574  ffff194a-56b7-4c12-860d-3485242ae7f5              7  not_finished\n",
       "13575  ffff69cc-fec1-4fd3-9f98-93be1112a6b8             12       project\n",
       "\n",
       "[13576 rows x 3 columns]"
      ]
     },
     "execution_count": 60,
     "metadata": {},
     "output_type": "execute_result"
    }
   ],
   "source": [
    "pivot_buldings = actions.pivot_table(index='user_id', values = 'building_type', aggfunc='count').reset_index()\n",
    "pivot_buldings = pivot_buldings.merge(u_users, how='left', on='user_id')\n",
    "pivot_buldings"
   ]
  },
  {
   "cell_type": "code",
   "execution_count": 61,
   "metadata": {},
   "outputs": [
    {
     "data": {
      "image/png": "[encoded data removed]",
      "text/plain": [
       "<Figure size 1500x600 with 1 Axes>"
      ]
     },
     "metadata": {},
     "output_type": "display_data"
    }
   ],
   "source": [
    "plt.figure(figsize=(15,6));\n",
    "pivot_buldings.query('status == \"pvp\"').groupby('building_type')['user_id'].count().plot.bar();\n",
    "plt.title(\"Распределние кол-ва обьектов построенных PvP игроками\");\n",
    "plt.xlabel(\"Число обьектов постройки\");\n",
    "plt.ylabel(\"Общее кол-во зданий\");"
   ]
  },
  {
   "cell_type": "code",
   "execution_count": 62,
   "metadata": {},
   "outputs": [
    {
     "data": {
      "image/png": "[encoded data removed]",
      "text/plain": [
       "<Figure size 1500x600 with 1 Axes>"
      ]
     },
     "metadata": {},
     "output_type": "display_data"
    }
   ],
   "source": [
    "plt.figure(figsize=(15,6));\n",
    "pivot_buldings.query('status == \"project\"').groupby('building_type')['user_id'].count().plot.bar();\n",
    "plt.title(\"Распределние кол-ва обьектов построенных PvE игроками\");\n",
    "plt.xlabel(\"Число обьектов постройки\");\n",
    "plt.ylabel(\"Общее кол-во зданий\");"
   ]
  },
  {
   "cell_type": "code",
   "execution_count": 63,
   "metadata": {
    "scrolled": false
   },
   "outputs": [
    {
     "data": {
      "image/png": "[encoded data removed]",
      "text/plain": [
       "<Figure size 1500x600 with 1 Axes>"
      ]
     },
     "metadata": {},
     "output_type": "display_data"
    }
   ],
   "source": [
    "plt.figure(figsize=(15,6));\n",
    "pivot_buldings.query('status == \"not_finished\"').groupby('building_type')['user_id'].count().plot.bar();\n",
    "plt.title(\"Распределние кол-ва обьектов построенных по игрокам не закончившим уровень\");\n",
    "plt.xlabel(\"Число обьектов постройки\");\n",
    "plt.ylabel(\"Общее кол-во зданий\");"
   ]
  },
  {
   "cell_type": "markdown",
   "metadata": {},
   "source": [
    "- Большинство PvP пользователей довольствуются 9-ю постройками, видимо этого достаточно, чтобы завершить уровень\n",
    "- У PvE пользователей минимальное кол-во строений 10, видимо это необходимый минимум для прохождения уровня. В большинстве строят порядка 11-12 зданий.\n",
    "- У большинства пользователей, не закончивших уровень, строений порядка 6ти. Возможно,  этого количества строений достаточно чтобы пользователь определился для себя играть или не играть в эту игру.\n",
    "\n",
    "В целом, можно сказать, что пользователи закончившие игру через проект, строят на 2-3 строения больше чем пользователи закончившие игру победой над врагом."
   ]
  },
  {
   "cell_type": "markdown",
   "metadata": {},
   "source": [
    "### Определить время прохождения уровня в зависимости от типа пользователя"
   ]
  },
  {
   "cell_type": "code",
   "execution_count": 64,
   "metadata": {
    "scrolled": false
   },
   "outputs": [
    {
     "data": {
      "text/html": [
       "<div>\n",
       "<style scoped>\n",
       "    .dataframe tbody tr th:only-of-type {\n",
       "        vertical-align: middle;\n",
       "    }\n",
       "\n",
       "    .dataframe tbody tr th {\n",
       "        vertical-align: top;\n",
       "    }\n",
       "\n",
       "    .dataframe thead th {\n",
       "        text-align: right;\n",
       "    }\n",
       "</style>\n",
       "<table border=\"1\" class=\"dataframe\">\n",
       "  <thead>\n",
       "    <tr style=\"text-align: right;\">\n",
       "      <th></th>\n",
       "      <th>user_id</th>\n",
       "      <th>start_dt</th>\n",
       "      <th>finish_dt</th>\n",
       "      <th>time_to_play</th>\n",
       "      <th>status</th>\n",
       "    </tr>\n",
       "  </thead>\n",
       "  <tbody>\n",
       "    <tr>\n",
       "      <th>0</th>\n",
       "      <td>55e92310-cb8e-4754-b622-597e124b03de</td>\n",
       "      <td>2020-05-04 00:00:01</td>\n",
       "      <td>2020-05-10 20:27:01</td>\n",
       "      <td>7.0</td>\n",
       "      <td>not_finished</td>\n",
       "    </tr>\n",
       "    <tr>\n",
       "      <th>1</th>\n",
       "      <td>c07b1c10-f477-44dc-81dc-ec82254b1347</td>\n",
       "      <td>2020-05-04 00:00:03</td>\n",
       "      <td>2020-05-15 05:29:13</td>\n",
       "      <td>11.0</td>\n",
       "      <td>project</td>\n",
       "    </tr>\n",
       "    <tr>\n",
       "      <th>2</th>\n",
       "      <td>6edd42cc-e753-4ff6-a947-2107cd560710</td>\n",
       "      <td>2020-05-04 00:00:16</td>\n",
       "      <td>2020-05-16 11:51:58</td>\n",
       "      <td>12.0</td>\n",
       "      <td>pvp</td>\n",
       "    </tr>\n",
       "    <tr>\n",
       "      <th>3</th>\n",
       "      <td>92c69003-d60a-444a-827f-8cc51bf6bf4c</td>\n",
       "      <td>2020-05-04 00:00:16</td>\n",
       "      <td>2020-05-12 04:29:54</td>\n",
       "      <td>8.0</td>\n",
       "      <td>not_finished</td>\n",
       "    </tr>\n",
       "    <tr>\n",
       "      <th>4</th>\n",
       "      <td>cdc6bb92-0ccb-4490-9866-ef142f09139d</td>\n",
       "      <td>2020-05-04 00:00:35</td>\n",
       "      <td>2020-05-11 14:18:05</td>\n",
       "      <td>8.0</td>\n",
       "      <td>pvp</td>\n",
       "    </tr>\n",
       "    <tr>\n",
       "      <th>...</th>\n",
       "      <td>...</td>\n",
       "      <td>...</td>\n",
       "      <td>...</td>\n",
       "      <td>...</td>\n",
       "      <td>...</td>\n",
       "    </tr>\n",
       "    <tr>\n",
       "      <th>13571</th>\n",
       "      <td>20bc9d79-10c4-4f2d-862e-4a6dece3b4ec</td>\n",
       "      <td>2020-05-10 23:34:33</td>\n",
       "      <td>2020-05-31 10:28:30</td>\n",
       "      <td>20.0</td>\n",
       "      <td>pvp</td>\n",
       "    </tr>\n",
       "    <tr>\n",
       "      <th>13572</th>\n",
       "      <td>daea0325-f7c5-4008-b5f6-f89fc2c1e019</td>\n",
       "      <td>2020-05-10 23:34:43</td>\n",
       "      <td>2020-05-10 23:34:43</td>\n",
       "      <td>0.0</td>\n",
       "      <td>not_finished</td>\n",
       "    </tr>\n",
       "    <tr>\n",
       "      <th>13573</th>\n",
       "      <td>7b225969-375a-455e-a14a-ed1ab373fb65</td>\n",
       "      <td>2020-05-10 23:44:17</td>\n",
       "      <td>2020-05-24 15:22:56</td>\n",
       "      <td>14.0</td>\n",
       "      <td>not_finished</td>\n",
       "    </tr>\n",
       "    <tr>\n",
       "      <th>13574</th>\n",
       "      <td>cafd1b8b-507b-49ae-abf0-89fe863a8b03</td>\n",
       "      <td>2020-05-10 23:57:56</td>\n",
       "      <td>2020-05-18 00:23:28</td>\n",
       "      <td>7.0</td>\n",
       "      <td>not_finished</td>\n",
       "    </tr>\n",
       "    <tr>\n",
       "      <th>13575</th>\n",
       "      <td>bdc53e19-462a-4dc3-8b55-b4a34278af6a</td>\n",
       "      <td>2020-05-10 23:59:52</td>\n",
       "      <td>2020-05-18 11:11:11</td>\n",
       "      <td>7.0</td>\n",
       "      <td>not_finished</td>\n",
       "    </tr>\n",
       "  </tbody>\n",
       "</table>\n",
       "<p>13576 rows × 5 columns</p>\n",
       "</div>"
      ],
      "text/plain": [
       "                                    user_id            start_dt  \\\n",
       "0      55e92310-cb8e-4754-b622-597e124b03de 2020-05-04 00:00:01   \n",
       "1      c07b1c10-f477-44dc-81dc-ec82254b1347 2020-05-04 00:00:03   \n",
       "2      6edd42cc-e753-4ff6-a947-2107cd560710 2020-05-04 00:00:16   \n",
       "3      92c69003-d60a-444a-827f-8cc51bf6bf4c 2020-05-04 00:00:16   \n",
       "4      cdc6bb92-0ccb-4490-9866-ef142f09139d 2020-05-04 00:00:35   \n",
       "...                                     ...                 ...   \n",
       "13571  20bc9d79-10c4-4f2d-862e-4a6dece3b4ec 2020-05-10 23:34:33   \n",
       "13572  daea0325-f7c5-4008-b5f6-f89fc2c1e019 2020-05-10 23:34:43   \n",
       "13573  7b225969-375a-455e-a14a-ed1ab373fb65 2020-05-10 23:44:17   \n",
       "13574  cafd1b8b-507b-49ae-abf0-89fe863a8b03 2020-05-10 23:57:56   \n",
       "13575  bdc53e19-462a-4dc3-8b55-b4a34278af6a 2020-05-10 23:59:52   \n",
       "\n",
       "                finish_dt  time_to_play        status  \n",
       "0     2020-05-10 20:27:01           7.0  not_finished  \n",
       "1     2020-05-15 05:29:13          11.0       project  \n",
       "2     2020-05-16 11:51:58          12.0           pvp  \n",
       "3     2020-05-12 04:29:54           8.0  not_finished  \n",
       "4     2020-05-11 14:18:05           8.0           pvp  \n",
       "...                   ...           ...           ...  \n",
       "13571 2020-05-31 10:28:30          20.0           pvp  \n",
       "13572 2020-05-10 23:34:43           0.0  not_finished  \n",
       "13573 2020-05-24 15:22:56          14.0  not_finished  \n",
       "13574 2020-05-18 00:23:28           7.0  not_finished  \n",
       "13575 2020-05-18 11:11:11           7.0  not_finished  \n",
       "\n",
       "[13576 rows x 5 columns]"
      ]
     },
     "execution_count": 64,
     "metadata": {},
     "output_type": "execute_result"
    }
   ],
   "source": [
    "#создаю новый датафрейм\n",
    "hypo = pd.DataFrame(actions.user_id.unique())\n",
    "hypo.columns = ['user_id']\n",
    "\n",
    "#определяю дату начала игры пользователя\n",
    "start_dt = actions.groupby('user_id')['event_datetime'].first().reset_index()\n",
    "start_dt = start_dt.rename(columns={'event_datetime' : 'start_dt'})\n",
    "\n",
    "#определяю дату окончания игры пользователя (переход на новый уровень)\n",
    "finish_dt = actions.groupby('user_id')['event_datetime'].last().reset_index()\n",
    "finish_dt = finish_dt.rename(columns={'event_datetime' : 'finish_dt'})\n",
    "\n",
    "#свожу общую таблицу\n",
    "hypo = hypo.merge(start_dt, how='left', on='user_id')\n",
    "hypo = hypo.merge(finish_dt, how='left', on='user_id')\n",
    "\n",
    "#считаю сколько пользователь провел в игре в днях\n",
    "hypo['time_to_play'] = round((hypo['finish_dt']-hypo['start_dt'])/timedelta(days=1), )\n",
    "\n",
    "#Добавляю поле статус\n",
    "hypo = hypo.merge(u_users, how='left', on='user_id')\n",
    "\n",
    "#вывожу результат\n",
    "hypo"
   ]
  },
  {
   "cell_type": "code",
   "execution_count": 65,
   "metadata": {
    "scrolled": true
   },
   "outputs": [
    {
     "data": {
      "image/png": "[encoded data removed]",
      "text/plain": [
       "<Figure size 1500x600 with 1 Axes>"
      ]
     },
     "metadata": {},
     "output_type": "display_data"
    }
   ],
   "source": [
    "plt.figure(figsize=(15,6));\n",
    "hypo.query('status == \"pvp\"').groupby('time_to_play')['user_id'].count().plot.bar();\n",
    "plt.title(\"Распределние времени нахождения в игре PvP игроков\");\n",
    "plt.xlabel(\"Время (дни)\");\n",
    "plt.ylabel(\"Общее кол-во времени\");"
   ]
  },
  {
   "cell_type": "code",
   "execution_count": 66,
   "metadata": {},
   "outputs": [
    {
     "data": {
      "image/png": "[encoded data removed]",
      "text/plain": [
       "<Figure size 1500x600 with 1 Axes>"
      ]
     },
     "metadata": {},
     "output_type": "display_data"
    }
   ],
   "source": [
    "plt.figure(figsize=(15,6));\n",
    "hypo.query('status == \"project\"').groupby('time_to_play')['user_id'].count().plot.bar();\n",
    "plt.title(\"Распределние времени нахождения в игре PvЕ игроков\");\n",
    "plt.xlabel(\"Время (дни)\");\n",
    "plt.ylabel(\"Общее кол-во времени\");"
   ]
  },
  {
   "cell_type": "code",
   "execution_count": 67,
   "metadata": {},
   "outputs": [
    {
     "data": {
      "image/png": "[encoded data removed]",
      "text/plain": [
       "<Figure size 1500x600 with 1 Axes>"
      ]
     },
     "metadata": {},
     "output_type": "display_data"
    }
   ],
   "source": [
    "plt.figure(figsize=(15,6));\n",
    "hypo.query('status == \"not_finished\"').groupby('time_to_play')['user_id'].count().plot.bar();\n",
    "plt.title(\"Распределние времени нахождения в игре игроков не завершивших уровень\");\n",
    "plt.xlabel(\"Время (дни)\");\n",
    "plt.ylabel(\"Общее кол-во времени\");"
   ]
  },
  {
   "cell_type": "markdown",
   "metadata": {},
   "source": [
    "- Большинство PvP игроков проводят в игре порядка 9-10 дней, что видимо достаточно для прохождения уровня.\n",
    "- Большинство PvE игроков проводят в игре порядка 12-13 дней, что видимо достаточно для прохождения уровня.\n",
    "- У большинства пользователей, не закончивших уровень, кол-во дней в игре порядка  9-10. Видим высокие значения на 6-7 днях, возможно это показатель, когда пользователи для себя решают не играть в эту игру.\n",
    "\n",
    "В целом, можно сказать что пользователи, закончившие проект, тратят на прохождение игры на 2-3 дня больше, чем пользователи закончившие игру победой над другими игроками."
   ]
  },
  {
   "cell_type": "markdown",
   "metadata": {},
   "source": [
    "Проанализировав влияние событий на совершение целевого события, можно сказать следующее:\n",
    "- Пользователи закончившие игру через проект, строят на 2-3 строения больше чем пользователи закончившие игру победой над врагом.\n",
    "- Пользователи, закончившие проект, тратят на прохождение игры на 2-3 дня больше, чем пользователи закончившие игру победой над другими игроками."
   ]
  },
  {
   "cell_type": "markdown",
   "metadata": {},
   "source": [
    "## Сформировать модель монетизации игрового приложения."
   ]
  },
  {
   "cell_type": "markdown",
   "metadata": {},
   "source": [
    "### Рассмотреть планируемую модель монетизации"
   ]
  },
  {
   "cell_type": "markdown",
   "metadata": {},
   "source": [
    "В результате иследования мы получили следующие данные:"
   ]
  },
  {
   "cell_type": "code",
   "execution_count": 68,
   "metadata": {
    "scrolled": true
   },
   "outputs": [
    {
     "name": "stdout",
     "output_type": "stream",
     "text": [
      "Общая сумма затрат на рекламу составляет: 7603.58\n"
     ]
    }
   ],
   "source": [
    "print('Общая сумма затрат на рекламу составляет:', advertising_sum)"
   ]
  },
  {
   "cell_type": "code",
   "execution_count": 69,
   "metadata": {},
   "outputs": [
    {
     "name": "stdout",
     "output_type": "stream",
     "text": [
      "Всего за время исследования было построено: 127956 зданий\n"
     ]
    }
   ],
   "source": [
    "print('Всего за время исследования было построено:', buldings_all, 'зданий')"
   ]
  },
  {
   "cell_type": "markdown",
   "metadata": {},
   "source": [
    "При учете, что стоимость просмотра одной рекламы за строительство здания составляет 0.07"
   ]
  },
  {
   "cell_type": "code",
   "execution_count": 70,
   "metadata": {},
   "outputs": [
    {
     "name": "stdout",
     "output_type": "stream",
     "text": [
      "Согласно плану монетизаци прибыль составила бы: 8956.92\n"
     ]
    }
   ],
   "source": [
    "print('Согласно плану монетизаци прибыль составила бы:', buldings_all*price_click)"
   ]
  },
  {
   "cell_type": "markdown",
   "metadata": {},
   "source": [
    "Как видно из результатов исследований, если следовать плану по монетизации, в идеале, прибыль привысила бы затраты на рекламу. Попробую внести ряд предложений по улучшению плана монетизации."
   ]
  },
  {
   "cell_type": "markdown",
   "metadata": {},
   "source": [
    "### Предложить улучшения планируемой модели монетизации"
   ]
  },
  {
   "cell_type": "markdown",
   "metadata": {},
   "source": [
    "Рассчитаем среднее время проведенное игроком игре"
   ]
  },
  {
   "cell_type": "code",
   "execution_count": 71,
   "metadata": {},
   "outputs": [
    {
     "data": {
      "text/plain": [
       "10.679655274012964"
      ]
     },
     "execution_count": 71,
     "metadata": {},
     "output_type": "execute_result"
    }
   ],
   "source": [
    "users_days_mean = hypo['time_to_play'].mean()\n",
    "users_days_mean"
   ]
  },
  {
   "cell_type": "markdown",
   "metadata": {},
   "source": [
    "Рассчитаем среднее кол-во построенных зданий каждым игроком"
   ]
  },
  {
   "cell_type": "code",
   "execution_count": 72,
   "metadata": {},
   "outputs": [
    {
     "data": {
      "text/plain": [
       "9.425162050677667"
      ]
     },
     "execution_count": 72,
     "metadata": {},
     "output_type": "execute_result"
    }
   ],
   "source": [
    "users_uldings_mean = pivot_buldings['building_type'].mean()\n",
    "users_uldings_mean"
   ]
  },
  {
   "cell_type": "markdown",
   "metadata": {},
   "source": [
    "Общее кол-во построек зданий каждого типа"
   ]
  },
  {
   "cell_type": "code",
   "execution_count": 73,
   "metadata": {},
   "outputs": [
    {
     "data": {
      "text/html": [
       "<div>\n",
       "<style scoped>\n",
       "    .dataframe tbody tr th:only-of-type {\n",
       "        vertical-align: middle;\n",
       "    }\n",
       "\n",
       "    .dataframe tbody tr th {\n",
       "        vertical-align: top;\n",
       "    }\n",
       "\n",
       "    .dataframe thead th {\n",
       "        text-align: right;\n",
       "    }\n",
       "</style>\n",
       "<table border=\"1\" class=\"dataframe\">\n",
       "  <thead>\n",
       "    <tr style=\"text-align: right;\">\n",
       "      <th></th>\n",
       "      <th>building_type</th>\n",
       "      <th>user_id</th>\n",
       "    </tr>\n",
       "  </thead>\n",
       "  <tbody>\n",
       "    <tr>\n",
       "      <th>0</th>\n",
       "      <td>assembly_shop</td>\n",
       "      <td>54494</td>\n",
       "    </tr>\n",
       "    <tr>\n",
       "      <th>1</th>\n",
       "      <td>research_center</td>\n",
       "      <td>14137</td>\n",
       "    </tr>\n",
       "    <tr>\n",
       "      <th>2</th>\n",
       "      <td>spaceport</td>\n",
       "      <td>59325</td>\n",
       "    </tr>\n",
       "  </tbody>\n",
       "</table>\n",
       "</div>"
      ],
      "text/plain": [
       "     building_type  user_id\n",
       "0    assembly_shop    54494\n",
       "1  research_center    14137\n",
       "2        spaceport    59325"
      ]
     },
     "execution_count": 73,
     "metadata": {},
     "output_type": "execute_result"
    }
   ],
   "source": [
    "buildings"
   ]
  },
  {
   "cell_type": "code",
   "execution_count": 74,
   "metadata": {
    "scrolled": true
   },
   "outputs": [
    {
     "name": "stdout",
     "output_type": "stream",
     "text": [
      "Прибыль от построек без учета research_centerc: 7967.33\n"
     ]
    }
   ],
   "source": [
    "rc = len(actions.query('building_type == \"research_center\"')[['user_id']])\n",
    "pwrc = round((buldings_all - rc)*price_click, 2)\n",
    "print('Прибыль от построек без учета research_centerc:', pwrc)"
   ]
  },
  {
   "cell_type": "markdown",
   "metadata": {},
   "source": [
    "Согласно исследованием получится, что пользователь за день игры строит одно +-1 здание в игре, для PvP пользователей это значение чуть ниже для PvE чуть выше.  Для повышения лояльности пользователей я бы по рекомендовал отказаться от показа рекламы при строительстве research_center, на общую прибыль это не сильно повлияет, по при этом, я считаю, что стоит увеличить длительность рекламных роликов, с целью увеличения прибыли. На мой взгляд, просмотр один раз в день минутного ролика, не сильно напряжет игроков, будь они PvP или PvE, с учетом, что оставшееся время в течении дня они могут спокойно проводить в игре не напрягаясь из за рекламы."
   ]
  },
  {
   "cell_type": "markdown",
   "metadata": {},
   "source": [
    "## Проверить статистические гипотезы"
   ]
  },
  {
   "cell_type": "markdown",
   "metadata": {},
   "source": [
    "### Гипотеза 1"
   ]
  },
  {
   "cell_type": "markdown",
   "metadata": {},
   "source": [
    "Проверить гипотезу различия времени прохождения уровня между пользователями, которые заканчивают уровень через реализацию проекта, и пользователями, которые заканчивают уровень победой над другим игроком."
   ]
  },
  {
   "cell_type": "markdown",
   "metadata": {},
   "source": [
    "#### Подготавливаю данные для проверки гипотезы"
   ]
  },
  {
   "cell_type": "markdown",
   "metadata": {},
   "source": [
    "Создадим датафрейм для PvP игроков"
   ]
  },
  {
   "cell_type": "code",
   "execution_count": 75,
   "metadata": {
    "scrolled": false
   },
   "outputs": [
    {
     "data": {
      "text/html": [
       "<div>\n",
       "<style scoped>\n",
       "    .dataframe tbody tr th:only-of-type {\n",
       "        vertical-align: middle;\n",
       "    }\n",
       "\n",
       "    .dataframe tbody tr th {\n",
       "        vertical-align: top;\n",
       "    }\n",
       "\n",
       "    .dataframe thead th {\n",
       "        text-align: right;\n",
       "    }\n",
       "</style>\n",
       "<table border=\"1\" class=\"dataframe\">\n",
       "  <thead>\n",
       "    <tr style=\"text-align: right;\">\n",
       "      <th></th>\n",
       "      <th>user_id</th>\n",
       "      <th>start_dt</th>\n",
       "      <th>finish_dt</th>\n",
       "      <th>time_to_play</th>\n",
       "      <th>status</th>\n",
       "    </tr>\n",
       "  </thead>\n",
       "  <tbody>\n",
       "    <tr>\n",
       "      <th>0</th>\n",
       "      <td>001d39dc-366c-4021-9604-6a3b9ff01e25</td>\n",
       "      <td>2020-05-05 21:02:05</td>\n",
       "      <td>2020-05-12 07:40:47</td>\n",
       "      <td>6.0</td>\n",
       "      <td>pvp</td>\n",
       "    </tr>\n",
       "    <tr>\n",
       "      <th>1</th>\n",
       "      <td>003ee7e8-6356-4286-a715-62f22a18d2a1</td>\n",
       "      <td>2020-05-05 08:31:04</td>\n",
       "      <td>2020-05-17 21:47:49</td>\n",
       "      <td>13.0</td>\n",
       "      <td>pvp</td>\n",
       "    </tr>\n",
       "    <tr>\n",
       "      <th>2</th>\n",
       "      <td>004074f8-251a-4776-922c-8348dca1a2f6</td>\n",
       "      <td>2020-05-04 01:07:35</td>\n",
       "      <td>2020-05-16 19:57:40</td>\n",
       "      <td>13.0</td>\n",
       "      <td>pvp</td>\n",
       "    </tr>\n",
       "    <tr>\n",
       "      <th>3</th>\n",
       "      <td>00464e5e-28ed-4be6-bf44-517ef7b3937b</td>\n",
       "      <td>2020-05-04 08:35:29</td>\n",
       "      <td>2020-05-15 16:02:01</td>\n",
       "      <td>11.0</td>\n",
       "      <td>pvp</td>\n",
       "    </tr>\n",
       "    <tr>\n",
       "      <th>4</th>\n",
       "      <td>0056c007-c082-43cc-bdef-afc49bca4cb9</td>\n",
       "      <td>2020-05-10 11:49:47</td>\n",
       "      <td>2020-05-16 13:48:39</td>\n",
       "      <td>6.0</td>\n",
       "      <td>pvp</td>\n",
       "    </tr>\n",
       "    <tr>\n",
       "      <th>...</th>\n",
       "      <td>...</td>\n",
       "      <td>...</td>\n",
       "      <td>...</td>\n",
       "      <td>...</td>\n",
       "      <td>...</td>\n",
       "    </tr>\n",
       "    <tr>\n",
       "      <th>3946</th>\n",
       "      <td>ffc6f4fa-3476-47af-85cb-e2ee0551110a</td>\n",
       "      <td>2020-05-04 03:59:12</td>\n",
       "      <td>2020-05-15 12:18:42</td>\n",
       "      <td>11.0</td>\n",
       "      <td>pvp</td>\n",
       "    </tr>\n",
       "    <tr>\n",
       "      <th>3947</th>\n",
       "      <td>ffd002f3-3545-423e-8dba-0c6a2d48a3aa</td>\n",
       "      <td>2020-05-06 06:34:18</td>\n",
       "      <td>2020-05-19 04:03:24</td>\n",
       "      <td>13.0</td>\n",
       "      <td>pvp</td>\n",
       "    </tr>\n",
       "    <tr>\n",
       "      <th>3948</th>\n",
       "      <td>ffe810f4-1a1f-464b-924d-6f120b0cb8df</td>\n",
       "      <td>2020-05-04 17:46:05</td>\n",
       "      <td>2020-05-18 02:03:36</td>\n",
       "      <td>13.0</td>\n",
       "      <td>pvp</td>\n",
       "    </tr>\n",
       "    <tr>\n",
       "      <th>3949</th>\n",
       "      <td>ffef4fed-164c-40e1-bde1-3980f76d0fb5</td>\n",
       "      <td>2020-05-04 01:58:59</td>\n",
       "      <td>2020-05-11 22:15:54</td>\n",
       "      <td>8.0</td>\n",
       "      <td>pvp</td>\n",
       "    </tr>\n",
       "    <tr>\n",
       "      <th>3950</th>\n",
       "      <td>fffb626c-5ab6-47c9-8113-2062a2f18494</td>\n",
       "      <td>2020-05-04 02:05:09</td>\n",
       "      <td>2020-05-12 13:01:52</td>\n",
       "      <td>8.0</td>\n",
       "      <td>pvp</td>\n",
       "    </tr>\n",
       "  </tbody>\n",
       "</table>\n",
       "<p>3951 rows × 5 columns</p>\n",
       "</div>"
      ],
      "text/plain": [
       "                                   user_id            start_dt  \\\n",
       "0     001d39dc-366c-4021-9604-6a3b9ff01e25 2020-05-05 21:02:05   \n",
       "1     003ee7e8-6356-4286-a715-62f22a18d2a1 2020-05-05 08:31:04   \n",
       "2     004074f8-251a-4776-922c-8348dca1a2f6 2020-05-04 01:07:35   \n",
       "3     00464e5e-28ed-4be6-bf44-517ef7b3937b 2020-05-04 08:35:29   \n",
       "4     0056c007-c082-43cc-bdef-afc49bca4cb9 2020-05-10 11:49:47   \n",
       "...                                    ...                 ...   \n",
       "3946  ffc6f4fa-3476-47af-85cb-e2ee0551110a 2020-05-04 03:59:12   \n",
       "3947  ffd002f3-3545-423e-8dba-0c6a2d48a3aa 2020-05-06 06:34:18   \n",
       "3948  ffe810f4-1a1f-464b-924d-6f120b0cb8df 2020-05-04 17:46:05   \n",
       "3949  ffef4fed-164c-40e1-bde1-3980f76d0fb5 2020-05-04 01:58:59   \n",
       "3950  fffb626c-5ab6-47c9-8113-2062a2f18494 2020-05-04 02:05:09   \n",
       "\n",
       "               finish_dt  time_to_play status  \n",
       "0    2020-05-12 07:40:47           6.0    pvp  \n",
       "1    2020-05-17 21:47:49          13.0    pvp  \n",
       "2    2020-05-16 19:57:40          13.0    pvp  \n",
       "3    2020-05-15 16:02:01          11.0    pvp  \n",
       "4    2020-05-16 13:48:39           6.0    pvp  \n",
       "...                  ...           ...    ...  \n",
       "3946 2020-05-15 12:18:42          11.0    pvp  \n",
       "3947 2020-05-19 04:03:24          13.0    pvp  \n",
       "3948 2020-05-18 02:03:36          13.0    pvp  \n",
       "3949 2020-05-11 22:15:54           8.0    pvp  \n",
       "3950 2020-05-12 13:01:52           8.0    pvp  \n",
       "\n",
       "[3951 rows x 5 columns]"
      ]
     },
     "execution_count": 75,
     "metadata": {},
     "output_type": "execute_result"
    }
   ],
   "source": [
    "PvP = u_users.query('status == \"pvp\"')[['user_id']]\n",
    "PvP = PvP.merge(hypo, how='left', on='user_id')\n",
    "PvP"
   ]
  },
  {
   "cell_type": "markdown",
   "metadata": {},
   "source": [
    "Создадим датафрейм для PvE игроков"
   ]
  },
  {
   "cell_type": "code",
   "execution_count": 76,
   "metadata": {
    "scrolled": true
   },
   "outputs": [
    {
     "data": {
      "text/html": [
       "<div>\n",
       "<style scoped>\n",
       "    .dataframe tbody tr th:only-of-type {\n",
       "        vertical-align: middle;\n",
       "    }\n",
       "\n",
       "    .dataframe tbody tr th {\n",
       "        vertical-align: top;\n",
       "    }\n",
       "\n",
       "    .dataframe thead th {\n",
       "        text-align: right;\n",
       "    }\n",
       "</style>\n",
       "<table border=\"1\" class=\"dataframe\">\n",
       "  <thead>\n",
       "    <tr style=\"text-align: right;\">\n",
       "      <th></th>\n",
       "      <th>user_id</th>\n",
       "      <th>start_dt</th>\n",
       "      <th>finish_dt</th>\n",
       "      <th>time_to_play</th>\n",
       "      <th>status</th>\n",
       "    </tr>\n",
       "  </thead>\n",
       "  <tbody>\n",
       "    <tr>\n",
       "      <th>0</th>\n",
       "      <td>006380d6-67a6-45de-ab1e-6eb54ad8dbe8</td>\n",
       "      <td>2020-05-04 16:43:39</td>\n",
       "      <td>2020-05-16 11:22:33</td>\n",
       "      <td>12.0</td>\n",
       "      <td>project</td>\n",
       "    </tr>\n",
       "    <tr>\n",
       "      <th>1</th>\n",
       "      <td>00be7371-fa79-4fbd-b8e7-8ba32e3f8f82</td>\n",
       "      <td>2020-05-08 21:57:44</td>\n",
       "      <td>2020-05-24 19:05:12</td>\n",
       "      <td>16.0</td>\n",
       "      <td>project</td>\n",
       "    </tr>\n",
       "    <tr>\n",
       "      <th>2</th>\n",
       "      <td>00c2b9f2-2615-439c-aed0-6974e4c6c1c1</td>\n",
       "      <td>2020-05-07 10:26:09</td>\n",
       "      <td>2020-05-27 11:38:47</td>\n",
       "      <td>20.0</td>\n",
       "      <td>project</td>\n",
       "    </tr>\n",
       "    <tr>\n",
       "      <th>3</th>\n",
       "      <td>00de2809-403e-4476-a2f7-ca1b11700190</td>\n",
       "      <td>2020-05-04 07:48:50</td>\n",
       "      <td>2020-05-18 09:34:10</td>\n",
       "      <td>14.0</td>\n",
       "      <td>project</td>\n",
       "    </tr>\n",
       "    <tr>\n",
       "      <th>4</th>\n",
       "      <td>00e83261-5fd4-4939-9616-802b5a0202c6</td>\n",
       "      <td>2020-05-05 15:49:57</td>\n",
       "      <td>2020-05-20 09:35:04</td>\n",
       "      <td>15.0</td>\n",
       "      <td>project</td>\n",
       "    </tr>\n",
       "    <tr>\n",
       "      <th>...</th>\n",
       "      <td>...</td>\n",
       "      <td>...</td>\n",
       "      <td>...</td>\n",
       "      <td>...</td>\n",
       "      <td>...</td>\n",
       "    </tr>\n",
       "    <tr>\n",
       "      <th>1861</th>\n",
       "      <td>ff50f63a-c4b3-494e-8bf9-3f19dbfc513e</td>\n",
       "      <td>2020-05-04 09:09:43</td>\n",
       "      <td>2020-05-23 16:59:43</td>\n",
       "      <td>19.0</td>\n",
       "      <td>project</td>\n",
       "    </tr>\n",
       "    <tr>\n",
       "      <th>1862</th>\n",
       "      <td>ff60fcd1-4329-494e-b82d-461fbdf5b5eb</td>\n",
       "      <td>2020-05-05 01:03:38</td>\n",
       "      <td>2020-05-13 00:02:51</td>\n",
       "      <td>8.0</td>\n",
       "      <td>project</td>\n",
       "    </tr>\n",
       "    <tr>\n",
       "      <th>1863</th>\n",
       "      <td>ff83bdd8-f49a-49fd-8aad-9fa1fb30d516</td>\n",
       "      <td>2020-05-04 06:39:58</td>\n",
       "      <td>2020-05-18 22:50:51</td>\n",
       "      <td>15.0</td>\n",
       "      <td>project</td>\n",
       "    </tr>\n",
       "    <tr>\n",
       "      <th>1864</th>\n",
       "      <td>ff841992-d93b-462e-bc6e-18c24a514f36</td>\n",
       "      <td>2020-05-05 06:05:51</td>\n",
       "      <td>2020-05-16 00:28:59</td>\n",
       "      <td>11.0</td>\n",
       "      <td>project</td>\n",
       "    </tr>\n",
       "    <tr>\n",
       "      <th>1865</th>\n",
       "      <td>ffff69cc-fec1-4fd3-9f98-93be1112a6b8</td>\n",
       "      <td>2020-05-08 06:57:30</td>\n",
       "      <td>2020-05-25 14:05:51</td>\n",
       "      <td>17.0</td>\n",
       "      <td>project</td>\n",
       "    </tr>\n",
       "  </tbody>\n",
       "</table>\n",
       "<p>1866 rows × 5 columns</p>\n",
       "</div>"
      ],
      "text/plain": [
       "                                   user_id            start_dt  \\\n",
       "0     006380d6-67a6-45de-ab1e-6eb54ad8dbe8 2020-05-04 16:43:39   \n",
       "1     00be7371-fa79-4fbd-b8e7-8ba32e3f8f82 2020-05-08 21:57:44   \n",
       "2     00c2b9f2-2615-439c-aed0-6974e4c6c1c1 2020-05-07 10:26:09   \n",
       "3     00de2809-403e-4476-a2f7-ca1b11700190 2020-05-04 07:48:50   \n",
       "4     00e83261-5fd4-4939-9616-802b5a0202c6 2020-05-05 15:49:57   \n",
       "...                                    ...                 ...   \n",
       "1861  ff50f63a-c4b3-494e-8bf9-3f19dbfc513e 2020-05-04 09:09:43   \n",
       "1862  ff60fcd1-4329-494e-b82d-461fbdf5b5eb 2020-05-05 01:03:38   \n",
       "1863  ff83bdd8-f49a-49fd-8aad-9fa1fb30d516 2020-05-04 06:39:58   \n",
       "1864  ff841992-d93b-462e-bc6e-18c24a514f36 2020-05-05 06:05:51   \n",
       "1865  ffff69cc-fec1-4fd3-9f98-93be1112a6b8 2020-05-08 06:57:30   \n",
       "\n",
       "               finish_dt  time_to_play   status  \n",
       "0    2020-05-16 11:22:33          12.0  project  \n",
       "1    2020-05-24 19:05:12          16.0  project  \n",
       "2    2020-05-27 11:38:47          20.0  project  \n",
       "3    2020-05-18 09:34:10          14.0  project  \n",
       "4    2020-05-20 09:35:04          15.0  project  \n",
       "...                  ...           ...      ...  \n",
       "1861 2020-05-23 16:59:43          19.0  project  \n",
       "1862 2020-05-13 00:02:51           8.0  project  \n",
       "1863 2020-05-18 22:50:51          15.0  project  \n",
       "1864 2020-05-16 00:28:59          11.0  project  \n",
       "1865 2020-05-25 14:05:51          17.0  project  \n",
       "\n",
       "[1866 rows x 5 columns]"
      ]
     },
     "execution_count": 76,
     "metadata": {},
     "output_type": "execute_result"
    }
   ],
   "source": [
    "PvE = u_users.query('status == \"project\"')[['user_id']]\n",
    "PvE = PvE.merge(hypo, how='left', on='user_id')\n",
    "PvE"
   ]
  },
  {
   "cell_type": "code",
   "execution_count": 77,
   "metadata": {},
   "outputs": [
    {
     "data": {
      "text/plain": [
       "11.108580106302202"
      ]
     },
     "execution_count": 77,
     "metadata": {},
     "output_type": "execute_result"
    }
   ],
   "source": [
    "PvP_mean = PvP['time_to_play'].mean()\n",
    "PvP_mean"
   ]
  },
  {
   "cell_type": "code",
   "execution_count": 78,
   "metadata": {},
   "outputs": [
    {
     "data": {
      "text/plain": [
       "13.467845659163988"
      ]
     },
     "execution_count": 78,
     "metadata": {},
     "output_type": "execute_result"
    }
   ],
   "source": [
    "PvE_mean = PvE['time_to_play'].mean()\n",
    "PvE_mean"
   ]
  },
  {
   "cell_type": "code",
   "execution_count": 79,
   "metadata": {},
   "outputs": [],
   "source": [
    "PvP_hyp = PvP['time_to_play'].tolist()\n",
    "PvE_hyp = PvE['time_to_play'].tolist()"
   ]
  },
  {
   "cell_type": "markdown",
   "metadata": {},
   "source": [
    "#### Сформулировать гипотезу"
   ]
  },
  {
   "cell_type": "markdown",
   "metadata": {},
   "source": [
    "- Нулевая гипотеза H0: Среднее время прохождения уровня у PvP и PvE игроков одинаковое\n",
    "- Альтернативная гипотеза H1: Среднее время прохождения уровня у PvP и PvE игроков различается"
   ]
  },
  {
   "cell_type": "markdown",
   "metadata": {},
   "source": [
    "При проверке отличия средних в группах с помощью критерия Стьюдента (t-критерия): Н0 - средние в группах равны, исходя из этого утверждения были сформированы НО и Н1. Для оценки гипотезы применили тест Стюдента служащий для проверки гипотез о параметрах распределений."
   ]
  },
  {
   "cell_type": "markdown",
   "metadata": {},
   "source": [
    "#### Проверить гипотезу"
   ]
  },
  {
   "cell_type": "code",
   "execution_count": 80,
   "metadata": {},
   "outputs": [
    {
     "name": "stdout",
     "output_type": "stream",
     "text": [
      "p-значение: 1.0867598832876933e-106\n",
      "Отвергаем нулевую гипотезу\n"
     ]
    }
   ],
   "source": [
    "alpha = 0.01\n",
    "\n",
    "results = stats.ttest_ind(PvP_hyp, PvE_hyp, equal_var=False)\n",
    "\n",
    "print('p-значение:', results.pvalue)\n",
    "\n",
    "if (results.pvalue < alpha):\n",
    "    print(\"Отвергаем нулевую гипотезу\")\n",
    "else:\n",
    "    print(\"Не получилось отвергнуть нулевую гипотезу\")"
   ]
  },
  {
   "cell_type": "markdown",
   "metadata": {},
   "source": [
    "Между пользователями, которые заканчивают уровень через реализацию проекта, и пользователями, которые заканчивают уровень победой над другим игроком, существуют статестические различия по времени прохождения уровня"
   ]
  },
  {
   "cell_type": "markdown",
   "metadata": {},
   "source": [
    "### Гипотеза 2"
   ]
  },
  {
   "cell_type": "markdown",
   "metadata": {},
   "source": [
    "Проверить гипотезу различия кол-ва построенных зданий между пользователями, которые заканчивают уровень через реализацию проекта, и пользователями, которые заканчивают уровень победой над другим игроком."
   ]
  },
  {
   "cell_type": "markdown",
   "metadata": {},
   "source": [
    "#### Подготавливаю данные для проверки гипотезы"
   ]
  },
  {
   "cell_type": "code",
   "execution_count": 81,
   "metadata": {
    "scrolled": false
   },
   "outputs": [
    {
     "data": {
      "text/html": [
       "<div>\n",
       "<style scoped>\n",
       "    .dataframe tbody tr th:only-of-type {\n",
       "        vertical-align: middle;\n",
       "    }\n",
       "\n",
       "    .dataframe tbody tr th {\n",
       "        vertical-align: top;\n",
       "    }\n",
       "\n",
       "    .dataframe thead th {\n",
       "        text-align: right;\n",
       "    }\n",
       "</style>\n",
       "<table border=\"1\" class=\"dataframe\">\n",
       "  <thead>\n",
       "    <tr style=\"text-align: right;\">\n",
       "      <th></th>\n",
       "      <th>user_id</th>\n",
       "      <th>building_type</th>\n",
       "    </tr>\n",
       "  </thead>\n",
       "  <tbody>\n",
       "    <tr>\n",
       "      <th>0</th>\n",
       "      <td>0001f83c-c6ac-4621-b7f0-8a28b283ac30</td>\n",
       "      <td>13</td>\n",
       "    </tr>\n",
       "    <tr>\n",
       "      <th>1</th>\n",
       "      <td>00151b4f-ba38-44a8-a650-d7cf130a0105</td>\n",
       "      <td>9</td>\n",
       "    </tr>\n",
       "    <tr>\n",
       "      <th>2</th>\n",
       "      <td>001aaea6-3d14-43f1-8ca8-7f48820f17aa</td>\n",
       "      <td>4</td>\n",
       "    </tr>\n",
       "    <tr>\n",
       "      <th>3</th>\n",
       "      <td>001d39dc-366c-4021-9604-6a3b9ff01e25</td>\n",
       "      <td>8</td>\n",
       "    </tr>\n",
       "    <tr>\n",
       "      <th>4</th>\n",
       "      <td>002f508f-67b6-479f-814b-b05f00d4e995</td>\n",
       "      <td>12</td>\n",
       "    </tr>\n",
       "    <tr>\n",
       "      <th>...</th>\n",
       "      <td>...</td>\n",
       "      <td>...</td>\n",
       "    </tr>\n",
       "    <tr>\n",
       "      <th>13571</th>\n",
       "      <td>ffef4fed-164c-40e1-bde1-3980f76d0fb5</td>\n",
       "      <td>9</td>\n",
       "    </tr>\n",
       "    <tr>\n",
       "      <th>13572</th>\n",
       "      <td>fffab3da-da0e-4e30-ae62-10d0a2e24a4e</td>\n",
       "      <td>16</td>\n",
       "    </tr>\n",
       "    <tr>\n",
       "      <th>13573</th>\n",
       "      <td>fffb626c-5ab6-47c9-8113-2062a2f18494</td>\n",
       "      <td>9</td>\n",
       "    </tr>\n",
       "    <tr>\n",
       "      <th>13574</th>\n",
       "      <td>ffff194a-56b7-4c12-860d-3485242ae7f5</td>\n",
       "      <td>7</td>\n",
       "    </tr>\n",
       "    <tr>\n",
       "      <th>13575</th>\n",
       "      <td>ffff69cc-fec1-4fd3-9f98-93be1112a6b8</td>\n",
       "      <td>12</td>\n",
       "    </tr>\n",
       "  </tbody>\n",
       "</table>\n",
       "<p>13576 rows × 2 columns</p>\n",
       "</div>"
      ],
      "text/plain": [
       "                                    user_id  building_type\n",
       "0      0001f83c-c6ac-4621-b7f0-8a28b283ac30             13\n",
       "1      00151b4f-ba38-44a8-a650-d7cf130a0105              9\n",
       "2      001aaea6-3d14-43f1-8ca8-7f48820f17aa              4\n",
       "3      001d39dc-366c-4021-9604-6a3b9ff01e25              8\n",
       "4      002f508f-67b6-479f-814b-b05f00d4e995             12\n",
       "...                                     ...            ...\n",
       "13571  ffef4fed-164c-40e1-bde1-3980f76d0fb5              9\n",
       "13572  fffab3da-da0e-4e30-ae62-10d0a2e24a4e             16\n",
       "13573  fffb626c-5ab6-47c9-8113-2062a2f18494              9\n",
       "13574  ffff194a-56b7-4c12-860d-3485242ae7f5              7\n",
       "13575  ffff69cc-fec1-4fd3-9f98-93be1112a6b8             12\n",
       "\n",
       "[13576 rows x 2 columns]"
      ]
     },
     "execution_count": 81,
     "metadata": {},
     "output_type": "execute_result"
    }
   ],
   "source": [
    "pivot_buldings = actions.pivot_table(index='user_id', values = 'building_type', aggfunc='count').reset_index()\n",
    "pivot_buldings"
   ]
  },
  {
   "cell_type": "code",
   "execution_count": 82,
   "metadata": {
    "scrolled": false
   },
   "outputs": [
    {
     "data": {
      "text/html": [
       "<div>\n",
       "<style scoped>\n",
       "    .dataframe tbody tr th:only-of-type {\n",
       "        vertical-align: middle;\n",
       "    }\n",
       "\n",
       "    .dataframe tbody tr th {\n",
       "        vertical-align: top;\n",
       "    }\n",
       "\n",
       "    .dataframe thead th {\n",
       "        text-align: right;\n",
       "    }\n",
       "</style>\n",
       "<table border=\"1\" class=\"dataframe\">\n",
       "  <thead>\n",
       "    <tr style=\"text-align: right;\">\n",
       "      <th></th>\n",
       "      <th>user_id</th>\n",
       "      <th>building_type</th>\n",
       "    </tr>\n",
       "  </thead>\n",
       "  <tbody>\n",
       "    <tr>\n",
       "      <th>0</th>\n",
       "      <td>001d39dc-366c-4021-9604-6a3b9ff01e25</td>\n",
       "      <td>8</td>\n",
       "    </tr>\n",
       "    <tr>\n",
       "      <th>1</th>\n",
       "      <td>003ee7e8-6356-4286-a715-62f22a18d2a1</td>\n",
       "      <td>8</td>\n",
       "    </tr>\n",
       "    <tr>\n",
       "      <th>2</th>\n",
       "      <td>004074f8-251a-4776-922c-8348dca1a2f6</td>\n",
       "      <td>12</td>\n",
       "    </tr>\n",
       "    <tr>\n",
       "      <th>3</th>\n",
       "      <td>00464e5e-28ed-4be6-bf44-517ef7b3937b</td>\n",
       "      <td>8</td>\n",
       "    </tr>\n",
       "    <tr>\n",
       "      <th>4</th>\n",
       "      <td>0056c007-c082-43cc-bdef-afc49bca4cb9</td>\n",
       "      <td>3</td>\n",
       "    </tr>\n",
       "    <tr>\n",
       "      <th>...</th>\n",
       "      <td>...</td>\n",
       "      <td>...</td>\n",
       "    </tr>\n",
       "    <tr>\n",
       "      <th>3946</th>\n",
       "      <td>ffc6f4fa-3476-47af-85cb-e2ee0551110a</td>\n",
       "      <td>13</td>\n",
       "    </tr>\n",
       "    <tr>\n",
       "      <th>3947</th>\n",
       "      <td>ffd002f3-3545-423e-8dba-0c6a2d48a3aa</td>\n",
       "      <td>7</td>\n",
       "    </tr>\n",
       "    <tr>\n",
       "      <th>3948</th>\n",
       "      <td>ffe810f4-1a1f-464b-924d-6f120b0cb8df</td>\n",
       "      <td>16</td>\n",
       "    </tr>\n",
       "    <tr>\n",
       "      <th>3949</th>\n",
       "      <td>ffef4fed-164c-40e1-bde1-3980f76d0fb5</td>\n",
       "      <td>9</td>\n",
       "    </tr>\n",
       "    <tr>\n",
       "      <th>3950</th>\n",
       "      <td>fffb626c-5ab6-47c9-8113-2062a2f18494</td>\n",
       "      <td>9</td>\n",
       "    </tr>\n",
       "  </tbody>\n",
       "</table>\n",
       "<p>3951 rows × 2 columns</p>\n",
       "</div>"
      ],
      "text/plain": [
       "                                   user_id  building_type\n",
       "0     001d39dc-366c-4021-9604-6a3b9ff01e25              8\n",
       "1     003ee7e8-6356-4286-a715-62f22a18d2a1              8\n",
       "2     004074f8-251a-4776-922c-8348dca1a2f6             12\n",
       "3     00464e5e-28ed-4be6-bf44-517ef7b3937b              8\n",
       "4     0056c007-c082-43cc-bdef-afc49bca4cb9              3\n",
       "...                                    ...            ...\n",
       "3946  ffc6f4fa-3476-47af-85cb-e2ee0551110a             13\n",
       "3947  ffd002f3-3545-423e-8dba-0c6a2d48a3aa              7\n",
       "3948  ffe810f4-1a1f-464b-924d-6f120b0cb8df             16\n",
       "3949  ffef4fed-164c-40e1-bde1-3980f76d0fb5              9\n",
       "3950  fffb626c-5ab6-47c9-8113-2062a2f18494              9\n",
       "\n",
       "[3951 rows x 2 columns]"
      ]
     },
     "execution_count": 82,
     "metadata": {},
     "output_type": "execute_result"
    }
   ],
   "source": [
    "PvP_new = u_users.query('status == \"pvp\"')[['user_id']]\n",
    "PvP_new = PvP_new.merge(pivot_buldings, how='left', on='user_id')\n",
    "PvP_new"
   ]
  },
  {
   "cell_type": "code",
   "execution_count": 83,
   "metadata": {
    "scrolled": true
   },
   "outputs": [
    {
     "data": {
      "text/html": [
       "<div>\n",
       "<style scoped>\n",
       "    .dataframe tbody tr th:only-of-type {\n",
       "        vertical-align: middle;\n",
       "    }\n",
       "\n",
       "    .dataframe tbody tr th {\n",
       "        vertical-align: top;\n",
       "    }\n",
       "\n",
       "    .dataframe thead th {\n",
       "        text-align: right;\n",
       "    }\n",
       "</style>\n",
       "<table border=\"1\" class=\"dataframe\">\n",
       "  <thead>\n",
       "    <tr style=\"text-align: right;\">\n",
       "      <th></th>\n",
       "      <th>user_id</th>\n",
       "      <th>building_type</th>\n",
       "    </tr>\n",
       "  </thead>\n",
       "  <tbody>\n",
       "    <tr>\n",
       "      <th>0</th>\n",
       "      <td>006380d6-67a6-45de-ab1e-6eb54ad8dbe8</td>\n",
       "      <td>11</td>\n",
       "    </tr>\n",
       "    <tr>\n",
       "      <th>1</th>\n",
       "      <td>00be7371-fa79-4fbd-b8e7-8ba32e3f8f82</td>\n",
       "      <td>12</td>\n",
       "    </tr>\n",
       "    <tr>\n",
       "      <th>2</th>\n",
       "      <td>00c2b9f2-2615-439c-aed0-6974e4c6c1c1</td>\n",
       "      <td>11</td>\n",
       "    </tr>\n",
       "    <tr>\n",
       "      <th>3</th>\n",
       "      <td>00de2809-403e-4476-a2f7-ca1b11700190</td>\n",
       "      <td>13</td>\n",
       "    </tr>\n",
       "    <tr>\n",
       "      <th>4</th>\n",
       "      <td>00e83261-5fd4-4939-9616-802b5a0202c6</td>\n",
       "      <td>13</td>\n",
       "    </tr>\n",
       "    <tr>\n",
       "      <th>...</th>\n",
       "      <td>...</td>\n",
       "      <td>...</td>\n",
       "    </tr>\n",
       "    <tr>\n",
       "      <th>1861</th>\n",
       "      <td>ff50f63a-c4b3-494e-8bf9-3f19dbfc513e</td>\n",
       "      <td>18</td>\n",
       "    </tr>\n",
       "    <tr>\n",
       "      <th>1862</th>\n",
       "      <td>ff60fcd1-4329-494e-b82d-461fbdf5b5eb</td>\n",
       "      <td>11</td>\n",
       "    </tr>\n",
       "    <tr>\n",
       "      <th>1863</th>\n",
       "      <td>ff83bdd8-f49a-49fd-8aad-9fa1fb30d516</td>\n",
       "      <td>13</td>\n",
       "    </tr>\n",
       "    <tr>\n",
       "      <th>1864</th>\n",
       "      <td>ff841992-d93b-462e-bc6e-18c24a514f36</td>\n",
       "      <td>20</td>\n",
       "    </tr>\n",
       "    <tr>\n",
       "      <th>1865</th>\n",
       "      <td>ffff69cc-fec1-4fd3-9f98-93be1112a6b8</td>\n",
       "      <td>12</td>\n",
       "    </tr>\n",
       "  </tbody>\n",
       "</table>\n",
       "<p>1866 rows × 2 columns</p>\n",
       "</div>"
      ],
      "text/plain": [
       "                                   user_id  building_type\n",
       "0     006380d6-67a6-45de-ab1e-6eb54ad8dbe8             11\n",
       "1     00be7371-fa79-4fbd-b8e7-8ba32e3f8f82             12\n",
       "2     00c2b9f2-2615-439c-aed0-6974e4c6c1c1             11\n",
       "3     00de2809-403e-4476-a2f7-ca1b11700190             13\n",
       "4     00e83261-5fd4-4939-9616-802b5a0202c6             13\n",
       "...                                    ...            ...\n",
       "1861  ff50f63a-c4b3-494e-8bf9-3f19dbfc513e             18\n",
       "1862  ff60fcd1-4329-494e-b82d-461fbdf5b5eb             11\n",
       "1863  ff83bdd8-f49a-49fd-8aad-9fa1fb30d516             13\n",
       "1864  ff841992-d93b-462e-bc6e-18c24a514f36             20\n",
       "1865  ffff69cc-fec1-4fd3-9f98-93be1112a6b8             12\n",
       "\n",
       "[1866 rows x 2 columns]"
      ]
     },
     "execution_count": 83,
     "metadata": {},
     "output_type": "execute_result"
    }
   ],
   "source": [
    "PvE_new = u_users.query('status == \"project\"')[['user_id']]\n",
    "PvE_new = PvE_new.merge(pivot_buldings, how='left', on='user_id')\n",
    "PvE_new"
   ]
  },
  {
   "cell_type": "code",
   "execution_count": 84,
   "metadata": {},
   "outputs": [],
   "source": [
    "PvP_new_hyp = PvP_new['building_type'].tolist()\n",
    "PvE_new_hyp = PvE_new['building_type'].tolist()"
   ]
  },
  {
   "cell_type": "code",
   "execution_count": 85,
   "metadata": {},
   "outputs": [
    {
     "data": {
      "text/plain": [
       "9.411541381928625"
      ]
     },
     "execution_count": 85,
     "metadata": {},
     "output_type": "execute_result"
    }
   ],
   "source": [
    "PvP_new_mean = PvP_new['building_type'].mean()\n",
    "PvP_new_mean"
   ]
  },
  {
   "cell_type": "code",
   "execution_count": 86,
   "metadata": {},
   "outputs": [
    {
     "data": {
      "text/plain": [
       "12.64790996784566"
      ]
     },
     "execution_count": 86,
     "metadata": {},
     "output_type": "execute_result"
    }
   ],
   "source": [
    "PvE_new_mean = PvE_new['building_type'].mean()\n",
    "PvE_new_mean"
   ]
  },
  {
   "cell_type": "markdown",
   "metadata": {},
   "source": [
    "#### Сформулировать гипотезу"
   ]
  },
  {
   "cell_type": "markdown",
   "metadata": {},
   "source": [
    "- Нулевая гипотеза H0: Среднее кол-во построенных зданий у PvP и PvE игроков одинаковое\n",
    "- Альтернативная гипотеза H1: Среднее кол-во построенных зданий у PvP и PvE игроков различается"
   ]
  },
  {
   "cell_type": "markdown",
   "metadata": {},
   "source": [
    "При проверке отличия средних в группах с помощью критерия Стьюдента (t-критерия): Н0 - средние в группах равны, исходя из этого утверждения были сформированы НО и Н1. Для оценки гипотезы применили тест Стюдента служащий для проверки гипотез о параметрах распределений."
   ]
  },
  {
   "cell_type": "markdown",
   "metadata": {},
   "source": [
    "#### Проверить гипотезу"
   ]
  },
  {
   "cell_type": "code",
   "execution_count": 87,
   "metadata": {},
   "outputs": [
    {
     "name": "stdout",
     "output_type": "stream",
     "text": [
      "p-значение: 0.0\n",
      "Отвергаем нулевую гипотезу\n"
     ]
    }
   ],
   "source": [
    "alpha = 0.01\n",
    "\n",
    "results = stats.ttest_ind(PvP_new_hyp, PvE_new_hyp, equal_var=False)\n",
    "\n",
    "print('p-значение:', results.pvalue)\n",
    "\n",
    "if (results.pvalue < alpha):\n",
    "    print(\"Отвергаем нулевую гипотезу\")\n",
    "else:\n",
    "    print(\"Не получилось отвергнуть нулевую гипотезу\")"
   ]
  },
  {
   "cell_type": "markdown",
   "metadata": {},
   "source": [
    "Между пользователями, которые заканчивают уровень через реализацию проекта, и пользователями, которые заканчивают уровень победой над другим игроком, существуют статестические различия по кол-ву построенных зданий"
   ]
  },
  {
   "cell_type": "markdown",
   "metadata": {},
   "source": [
    "## Подготовить дашборд\n"
   ]
  },
  {
   "cell_type": "code",
   "execution_count": 88,
   "metadata": {},
   "outputs": [],
   "source": [
    "tab_for_tab = actions.merge(source, how='left', on='user_id')"
   ]
  },
  {
   "cell_type": "code",
   "execution_count": 89,
   "metadata": {
    "scrolled": true
   },
   "outputs": [
    {
     "data": {
      "text/html": [
       "<div>\n",
       "<style scoped>\n",
       "    .dataframe tbody tr th:only-of-type {\n",
       "        vertical-align: middle;\n",
       "    }\n",
       "\n",
       "    .dataframe tbody tr th {\n",
       "        vertical-align: top;\n",
       "    }\n",
       "\n",
       "    .dataframe thead th {\n",
       "        text-align: right;\n",
       "    }\n",
       "</style>\n",
       "<table border=\"1\" class=\"dataframe\">\n",
       "  <thead>\n",
       "    <tr style=\"text-align: right;\">\n",
       "      <th></th>\n",
       "      <th>event_datetime</th>\n",
       "      <th>event</th>\n",
       "      <th>building_type</th>\n",
       "      <th>user_id</th>\n",
       "      <th>project_type</th>\n",
       "      <th>status</th>\n",
       "      <th>source</th>\n",
       "    </tr>\n",
       "  </thead>\n",
       "  <tbody>\n",
       "    <tr>\n",
       "      <th>0</th>\n",
       "      <td>2020-05-04 00:00:01</td>\n",
       "      <td>building</td>\n",
       "      <td>assembly_shop</td>\n",
       "      <td>55e92310-cb8e-4754-b622-597e124b03de</td>\n",
       "      <td>NaN</td>\n",
       "      <td>not_finished</td>\n",
       "      <td>youtube_channel_reklama</td>\n",
       "    </tr>\n",
       "    <tr>\n",
       "      <th>1</th>\n",
       "      <td>2020-05-04 00:00:03</td>\n",
       "      <td>building</td>\n",
       "      <td>assembly_shop</td>\n",
       "      <td>c07b1c10-f477-44dc-81dc-ec82254b1347</td>\n",
       "      <td>NaN</td>\n",
       "      <td>project</td>\n",
       "      <td>facebook_ads</td>\n",
       "    </tr>\n",
       "    <tr>\n",
       "      <th>2</th>\n",
       "      <td>2020-05-04 00:00:16</td>\n",
       "      <td>building</td>\n",
       "      <td>assembly_shop</td>\n",
       "      <td>6edd42cc-e753-4ff6-a947-2107cd560710</td>\n",
       "      <td>NaN</td>\n",
       "      <td>pvp</td>\n",
       "      <td>instagram_new_adverts</td>\n",
       "    </tr>\n",
       "    <tr>\n",
       "      <th>3</th>\n",
       "      <td>2020-05-04 00:00:16</td>\n",
       "      <td>building</td>\n",
       "      <td>assembly_shop</td>\n",
       "      <td>92c69003-d60a-444a-827f-8cc51bf6bf4c</td>\n",
       "      <td>NaN</td>\n",
       "      <td>not_finished</td>\n",
       "      <td>facebook_ads</td>\n",
       "    </tr>\n",
       "    <tr>\n",
       "      <th>4</th>\n",
       "      <td>2020-05-04 00:00:35</td>\n",
       "      <td>building</td>\n",
       "      <td>assembly_shop</td>\n",
       "      <td>cdc6bb92-0ccb-4490-9866-ef142f09139d</td>\n",
       "      <td>NaN</td>\n",
       "      <td>pvp</td>\n",
       "      <td>yandex_direct</td>\n",
       "    </tr>\n",
       "  </tbody>\n",
       "</table>\n",
       "</div>"
      ],
      "text/plain": [
       "       event_datetime     event  building_type  \\\n",
       "0 2020-05-04 00:00:01  building  assembly_shop   \n",
       "1 2020-05-04 00:00:03  building  assembly_shop   \n",
       "2 2020-05-04 00:00:16  building  assembly_shop   \n",
       "3 2020-05-04 00:00:16  building  assembly_shop   \n",
       "4 2020-05-04 00:00:35  building  assembly_shop   \n",
       "\n",
       "                                user_id project_type        status  \\\n",
       "0  55e92310-cb8e-4754-b622-597e124b03de          NaN  not_finished   \n",
       "1  c07b1c10-f477-44dc-81dc-ec82254b1347          NaN       project   \n",
       "2  6edd42cc-e753-4ff6-a947-2107cd560710          NaN           pvp   \n",
       "3  92c69003-d60a-444a-827f-8cc51bf6bf4c          NaN  not_finished   \n",
       "4  cdc6bb92-0ccb-4490-9866-ef142f09139d          NaN           pvp   \n",
       "\n",
       "                    source  \n",
       "0  youtube_channel_reklama  \n",
       "1             facebook_ads  \n",
       "2    instagram_new_adverts  \n",
       "3             facebook_ads  \n",
       "4            yandex_direct  "
      ]
     },
     "execution_count": 89,
     "metadata": {},
     "output_type": "execute_result"
    }
   ],
   "source": [
    "tab_for_tab.head()"
   ]
  },
  {
   "cell_type": "code",
   "execution_count": 90,
   "metadata": {},
   "outputs": [],
   "source": [
    "tab_for_tab.to_csv('tab_for_tab.csv', index = False)"
   ]
  },
  {
   "cell_type": "markdown",
   "metadata": {},
   "source": [
    "<html>\n",
    " <head></head>\n",
    " <body>\n",
    "     <a href=\"https://public.tableau.com/app/profile/vyacheslav.grebenuk/viz/Dashboard2_16795029073610/Dashboard1?publish=yes\">Дашборд</a>\n",
    " </body>\n",
    "</html>"
   ]
  },
  {
   "cell_type": "markdown",
   "metadata": {},
   "source": [
    "## Подготовить презентацию"
   ]
  },
  {
   "cell_type": "markdown",
   "metadata": {},
   "source": [
    "<html>\n",
    " <head></head>\n",
    " <body>\n",
    "     <a href=\"https://drive.google.com/file/d/1EYsUqxT1TjW3E0Z6jP8LYeuKFNODduMD/view?usp=share_link\">Презентация</a>\n",
    " </body>\n",
    "</html>"
   ]
  },
  {
   "cell_type": "markdown",
   "metadata": {},
   "source": [
    "## Вывод"
   ]
  },
  {
   "cell_type": "markdown",
   "metadata": {},
   "source": [
    "В рамках проекта был получен, изучен и обработан архив данных мобильной игры «Космические братья».\n",
    "\n",
    "В результате проведения предообработки, проведены следующие действия и получены результаты:\n",
    "- Названия столбцов отображены корректно, в исправлениях нет необходимости\n",
    "- Были заменены типы данных в столбцах с датой и временем\n",
    "- Проведена проверка проупусков, пропуски обнаружены, оставлены без изменений\n",
    "- Проведена проверка дубликатов, дубликаты устранены\n",
    "- Добавлен столбец status\n",
    "\n",
    "В результате проведенного исследовательского анализа были получены следующие данные:\n",
    "- Датафрейм actions охватывает месячный промежуток времени.\n",
    "- Датафрейм costs охватывает недельный промежуток времени.\n",
    "- Всего в исследовании участвует: 13576 пользователей.\n",
    "    - Событие завершили строительством: 1866 пользователей.\n",
    "    - Событие завершили победой над врагом: 3951 пользователей\n",
    "    - Участвовали но не завершили событие: 7759 пользователей\n",
    "- Потзователи в основном строят spaceport и assembly_shop.\n",
    "- Общая сумма затрат на рекламу составляет: 7603.58\n",
    "- По результатам мы видим что затраты на рекламу для каналов yandex_direct, instagram_new_adverts, facebook_ads приблизительно одинаковые, на youtube_channel_reklama в два раза ниже\n",
    "\n",
    "Проанализировав влияние событий на совершение целевого события, можно сказать следующее:\n",
    "- Пользователи закончившие игру через проект, строят на 2-3 строения больше чем пользователи закончившие игру победой над врагом.\n",
    "- Пользователи, закончившие проект, тратят на прохождение игры на 2-3 дня больше, чем пользователи закончившие игру победой над другими игроками.\n",
    "\n",
    "Предложены улучшения для планируемой модели монетизации:\n",
    "Согласно исследованием получится, что пользователь за день игры строит одно +-1 здание в игре, для PvP пользователей это значение чуть ниже для PvE чуть выше.  Для повышения лояльности пользователей я бы по рекомендовал отказаться от показа рекламы при строительстве research_center, на общую прибыль это не сильно повлияет, по при этом, я считаю, что стоит увеличить длительность рекламных роликов, с целью увеличения прибыли. На мой взгляд, просмотр один раз в день минутного ролика, не сильно напряжет игроков, будь они PvP или PvE, с учетом, что оставшееся время в течении дня они могут спокойно проводить в игре не напрягаясь из за рекламы.\n",
    "\n",
    "Проверены гипотезы:\n",
    "\n",
    "**Гипотиза 1:**\n",
    "\n",
    "Между пользователями, которые заканчивают уровень через реализацию проекта, и пользователями, которые заканчивают уровень победой над другим игроком, существуют статестические различия по времени прохождения уровня\n",
    "\n",
    "**Гипотиза 2:**\n",
    "\n",
    "Между пользователями, которые заканчивают уровень через реализацию проекта, и пользователями, которые заканчивают уровень победой над другим игроком, существуют статестические различия по кол-ву построенных зданий"
   ]
  }
 ],
 "metadata": {
  "ExecuteTimeLog": [
   {
    "duration": 1564,
    "start_time": "2023-03-23T09:45:12.564Z"
   },
   {
    "duration": 142,
    "start_time": "2023-03-23T09:45:14.132Z"
   },
   {
    "duration": 86,
    "start_time": "2023-03-23T09:45:14.276Z"
   },
   {
    "duration": 390,
    "start_time": "2023-03-23T09:45:14.364Z"
   },
   {
    "duration": 1423,
    "start_time": "2023-03-23T09:45:21.528Z"
   },
   {
    "duration": 110,
    "start_time": "2023-03-23T09:45:22.954Z"
   },
   {
    "duration": 66,
    "start_time": "2023-03-23T09:45:23.066Z"
   },
   {
    "duration": 279,
    "start_time": "2023-03-23T09:45:23.134Z"
   },
   {
    "duration": 4,
    "start_time": "2023-03-23T09:45:23.415Z"
   },
   {
    "duration": 28,
    "start_time": "2023-03-23T09:45:23.422Z"
   },
   {
    "duration": 43,
    "start_time": "2023-03-23T09:45:23.452Z"
   },
   {
    "duration": 45,
    "start_time": "2023-03-23T09:45:23.499Z"
   },
   {
    "duration": 15,
    "start_time": "2023-03-23T09:45:23.546Z"
   },
   {
    "duration": 17,
    "start_time": "2023-03-23T09:45:23.563Z"
   },
   {
    "duration": 12,
    "start_time": "2023-03-23T09:45:23.582Z"
   },
   {
    "duration": 58,
    "start_time": "2023-03-23T09:45:23.595Z"
   },
   {
    "duration": 31,
    "start_time": "2023-03-23T09:45:23.654Z"
   },
   {
    "duration": 70,
    "start_time": "2023-03-23T09:45:23.688Z"
   },
   {
    "duration": 7,
    "start_time": "2023-03-23T09:45:23.760Z"
   },
   {
    "duration": 60,
    "start_time": "2023-03-23T09:45:23.769Z"
   },
   {
    "duration": 24,
    "start_time": "2023-03-23T09:45:23.832Z"
   },
   {
    "duration": 26,
    "start_time": "2023-03-23T09:45:23.858Z"
   },
   {
    "duration": 86,
    "start_time": "2023-03-23T09:45:23.885Z"
   },
   {
    "duration": 6,
    "start_time": "2023-03-23T09:45:23.972Z"
   },
   {
    "duration": 33,
    "start_time": "2023-03-23T09:45:23.981Z"
   },
   {
    "duration": 195,
    "start_time": "2023-03-23T09:45:24.019Z"
   },
   {
    "duration": 19,
    "start_time": "2023-03-23T09:45:24.222Z"
   },
   {
    "duration": 45,
    "start_time": "2023-03-23T09:45:24.243Z"
   },
   {
    "duration": 71,
    "start_time": "2023-03-23T09:45:24.290Z"
   },
   {
    "duration": 10,
    "start_time": "2023-03-23T09:45:24.363Z"
   },
   {
    "duration": 49,
    "start_time": "2023-03-23T09:45:24.375Z"
   },
   {
    "duration": 15,
    "start_time": "2023-03-23T09:45:24.426Z"
   },
   {
    "duration": 28207,
    "start_time": "2023-03-23T09:45:24.443Z"
   },
   {
    "duration": 14,
    "start_time": "2023-03-23T09:45:52.653Z"
   },
   {
    "duration": 21,
    "start_time": "2023-03-23T09:45:52.670Z"
   },
   {
    "duration": 44,
    "start_time": "2023-03-23T09:45:52.697Z"
   },
   {
    "duration": 63,
    "start_time": "2023-03-23T09:45:52.743Z"
   },
   {
    "duration": 52,
    "start_time": "2023-03-23T09:45:52.808Z"
   },
   {
    "duration": 80,
    "start_time": "2023-03-23T09:45:52.863Z"
   },
   {
    "duration": 8,
    "start_time": "2023-03-23T09:45:52.945Z"
   },
   {
    "duration": 10,
    "start_time": "2023-03-23T09:45:52.955Z"
   },
   {
    "duration": 17,
    "start_time": "2023-03-23T09:45:52.966Z"
   },
   {
    "duration": 47,
    "start_time": "2023-03-23T09:45:52.985Z"
   },
   {
    "duration": 13,
    "start_time": "2023-03-23T09:45:53.034Z"
   },
   {
    "duration": 6,
    "start_time": "2023-03-23T09:45:53.051Z"
   },
   {
    "duration": 38,
    "start_time": "2023-03-23T09:45:53.059Z"
   },
   {
    "duration": 178,
    "start_time": "2023-03-23T09:45:53.108Z"
   },
   {
    "duration": 62,
    "start_time": "2023-03-23T09:45:53.288Z"
   },
   {
    "duration": 234,
    "start_time": "2023-03-23T09:45:53.352Z"
   },
   {
    "duration": 18,
    "start_time": "2023-03-23T09:45:53.588Z"
   },
   {
    "duration": 45,
    "start_time": "2023-03-23T09:45:53.614Z"
   },
   {
    "duration": 11,
    "start_time": "2023-03-23T09:45:53.661Z"
   },
   {
    "duration": 24,
    "start_time": "2023-03-23T09:45:53.675Z"
   },
   {
    "duration": 49,
    "start_time": "2023-03-23T09:45:53.701Z"
   },
   {
    "duration": 227,
    "start_time": "2023-03-23T09:45:53.753Z"
   },
   {
    "duration": 25,
    "start_time": "2023-03-23T09:45:53.982Z"
   },
   {
    "duration": 229,
    "start_time": "2023-03-23T09:45:54.009Z"
   },
   {
    "duration": 86,
    "start_time": "2023-03-23T09:45:54.240Z"
   },
   {
    "duration": 324,
    "start_time": "2023-03-23T09:45:54.327Z"
   },
   {
    "duration": 281,
    "start_time": "2023-03-23T09:45:54.653Z"
   },
   {
    "duration": 362,
    "start_time": "2023-03-23T09:45:54.936Z"
   },
   {
    "duration": 153,
    "start_time": "2023-03-23T09:45:55.302Z"
   },
   {
    "duration": 474,
    "start_time": "2023-03-23T09:45:55.458Z"
   },
   {
    "duration": 398,
    "start_time": "2023-03-23T09:45:55.934Z"
   },
   {
    "duration": 464,
    "start_time": "2023-03-23T09:45:56.335Z"
   },
   {
    "duration": 13,
    "start_time": "2023-03-23T09:45:56.803Z"
   },
   {
    "duration": 44,
    "start_time": "2023-03-23T09:45:56.818Z"
   },
   {
    "duration": 23,
    "start_time": "2023-03-23T09:45:56.864Z"
   },
   {
    "duration": 75,
    "start_time": "2023-03-23T09:45:56.889Z"
   },
   {
    "duration": 29,
    "start_time": "2023-03-23T09:45:56.966Z"
   },
   {
    "duration": 35,
    "start_time": "2023-03-23T09:45:56.999Z"
   },
   {
    "duration": 43,
    "start_time": "2023-03-23T09:45:57.036Z"
   },
   {
    "duration": 82,
    "start_time": "2023-03-23T09:45:57.080Z"
   },
   {
    "duration": 129,
    "start_time": "2023-03-23T09:45:57.165Z"
   },
   {
    "duration": 114,
    "start_time": "2023-03-23T09:45:57.296Z"
   },
   {
    "duration": 25,
    "start_time": "2023-03-23T09:45:57.412Z"
   },
   {
    "duration": 46,
    "start_time": "2023-03-23T09:45:57.439Z"
   },
   {
    "duration": 45,
    "start_time": "2023-03-23T09:45:57.487Z"
   },
   {
    "duration": 28,
    "start_time": "2023-03-23T09:45:57.535Z"
   },
   {
    "duration": 38,
    "start_time": "2023-03-23T09:45:57.565Z"
   },
   {
    "duration": 99,
    "start_time": "2023-03-23T09:45:57.605Z"
   },
   {
    "duration": 97,
    "start_time": "2023-03-23T09:45:57.707Z"
   },
   {
    "duration": 44,
    "start_time": "2023-03-23T09:45:57.806Z"
   },
   {
    "duration": 2607,
    "start_time": "2023-03-23T09:45:57.852Z"
   },
   {
    "duration": 21,
    "start_time": "2023-03-23T10:13:00.262Z"
   },
   {
    "duration": 24,
    "start_time": "2023-03-23T10:13:05.288Z"
   },
   {
    "duration": 425,
    "start_time": "2023-03-23T10:14:07.524Z"
   },
   {
    "duration": 1805,
    "start_time": "2023-03-26T13:49:59.972Z"
   },
   {
    "duration": 178,
    "start_time": "2023-03-26T13:50:01.779Z"
   },
   {
    "duration": 110,
    "start_time": "2023-03-26T13:50:01.963Z"
   },
   {
    "duration": 422,
    "start_time": "2023-03-26T13:50:02.075Z"
   },
   {
    "duration": 5,
    "start_time": "2023-03-26T13:50:02.500Z"
   },
   {
    "duration": 51,
    "start_time": "2023-03-26T13:50:02.506Z"
   },
   {
    "duration": 72,
    "start_time": "2023-03-26T13:50:02.565Z"
   },
   {
    "duration": 27,
    "start_time": "2023-03-26T13:50:02.645Z"
   },
   {
    "duration": 19,
    "start_time": "2023-03-26T13:50:02.674Z"
   },
   {
    "duration": 17,
    "start_time": "2023-03-26T13:50:02.695Z"
   },
   {
    "duration": 9,
    "start_time": "2023-03-26T13:50:02.714Z"
   },
   {
    "duration": 11,
    "start_time": "2023-03-26T13:50:02.725Z"
   },
   {
    "duration": 30,
    "start_time": "2023-03-26T13:50:02.740Z"
   },
   {
    "duration": 47,
    "start_time": "2023-03-26T13:50:02.778Z"
   },
   {
    "duration": 7,
    "start_time": "2023-03-26T13:50:02.828Z"
   },
   {
    "duration": 70,
    "start_time": "2023-03-26T13:50:02.836Z"
   },
   {
    "duration": 8,
    "start_time": "2023-03-26T13:50:02.908Z"
   },
   {
    "duration": 9,
    "start_time": "2023-03-26T13:50:02.918Z"
   },
   {
    "duration": 60,
    "start_time": "2023-03-26T13:50:02.930Z"
   },
   {
    "duration": 10,
    "start_time": "2023-03-26T13:50:02.993Z"
   },
   {
    "duration": 7,
    "start_time": "2023-03-26T13:50:03.009Z"
   },
   {
    "duration": 15,
    "start_time": "2023-03-26T13:50:03.020Z"
   },
   {
    "duration": 21,
    "start_time": "2023-03-26T13:50:03.037Z"
   },
   {
    "duration": 5,
    "start_time": "2023-03-26T13:50:03.059Z"
   },
   {
    "duration": 72,
    "start_time": "2023-03-26T13:50:03.065Z"
   },
   {
    "duration": 13,
    "start_time": "2023-03-26T13:50:03.144Z"
   },
   {
    "duration": 23,
    "start_time": "2023-03-26T13:50:03.162Z"
   },
   {
    "duration": 148,
    "start_time": "2023-03-26T13:50:03.190Z"
   },
   {
    "duration": 46,
    "start_time": "2023-03-26T13:50:03.339Z"
   },
   {
    "duration": 29,
    "start_time": "2023-03-26T13:50:03.387Z"
   },
   {
    "duration": 8,
    "start_time": "2023-03-26T13:50:03.418Z"
   },
   {
    "duration": 7,
    "start_time": "2023-03-26T13:50:03.427Z"
   },
   {
    "duration": 29,
    "start_time": "2023-03-26T13:50:03.436Z"
   },
   {
    "duration": 8,
    "start_time": "2023-03-26T13:50:03.466Z"
   },
   {
    "duration": 35838,
    "start_time": "2023-03-26T13:50:03.476Z"
   },
   {
    "duration": 14,
    "start_time": "2023-03-26T13:50:39.316Z"
   },
   {
    "duration": 15,
    "start_time": "2023-03-26T13:50:39.354Z"
   },
   {
    "duration": 8,
    "start_time": "2023-03-26T13:50:39.381Z"
   },
   {
    "duration": 21,
    "start_time": "2023-03-26T13:50:39.391Z"
   },
   {
    "duration": 3,
    "start_time": "2023-03-26T13:50:39.414Z"
   },
   {
    "duration": 79,
    "start_time": "2023-03-26T13:50:39.422Z"
   },
   {
    "duration": 7,
    "start_time": "2023-03-26T13:50:39.502Z"
   },
   {
    "duration": 4,
    "start_time": "2023-03-26T13:50:39.510Z"
   },
   {
    "duration": 7,
    "start_time": "2023-03-26T13:50:39.516Z"
   },
   {
    "duration": 5,
    "start_time": "2023-03-26T13:50:39.525Z"
   },
   {
    "duration": 23,
    "start_time": "2023-03-26T13:50:39.532Z"
   },
   {
    "duration": 7,
    "start_time": "2023-03-26T13:50:39.558Z"
   },
   {
    "duration": 17,
    "start_time": "2023-03-26T13:50:39.566Z"
   },
   {
    "duration": 200,
    "start_time": "2023-03-26T13:50:39.585Z"
   },
   {
    "duration": 44,
    "start_time": "2023-03-26T13:50:39.787Z"
   },
   {
    "duration": 231,
    "start_time": "2023-03-26T13:50:39.833Z"
   },
   {
    "duration": 4,
    "start_time": "2023-03-26T13:50:40.074Z"
   },
   {
    "duration": 28,
    "start_time": "2023-03-26T13:50:40.082Z"
   },
   {
    "duration": 4,
    "start_time": "2023-03-26T13:50:40.111Z"
   },
   {
    "duration": 5,
    "start_time": "2023-03-26T13:50:40.117Z"
   },
   {
    "duration": 15,
    "start_time": "2023-03-26T13:50:40.124Z"
   },
   {
    "duration": 246,
    "start_time": "2023-03-26T13:50:40.158Z"
   },
   {
    "duration": 19,
    "start_time": "2023-03-26T13:50:40.407Z"
   },
   {
    "duration": 232,
    "start_time": "2023-03-26T13:50:40.428Z"
   },
   {
    "duration": 71,
    "start_time": "2023-03-26T13:50:40.662Z"
   },
   {
    "duration": 351,
    "start_time": "2023-03-26T13:50:40.734Z"
   },
   {
    "duration": 248,
    "start_time": "2023-03-26T13:50:41.094Z"
   },
   {
    "duration": 305,
    "start_time": "2023-03-26T13:50:41.344Z"
   },
   {
    "duration": 160,
    "start_time": "2023-03-26T13:50:41.650Z"
   },
   {
    "duration": 389,
    "start_time": "2023-03-26T13:50:41.812Z"
   },
   {
    "duration": 453,
    "start_time": "2023-03-26T13:50:42.203Z"
   },
   {
    "duration": 536,
    "start_time": "2023-03-26T13:50:42.661Z"
   },
   {
    "duration": 5,
    "start_time": "2023-03-26T13:50:43.203Z"
   },
   {
    "duration": 8,
    "start_time": "2023-03-26T13:50:43.210Z"
   },
   {
    "duration": 4,
    "start_time": "2023-03-26T13:50:43.220Z"
   },
   {
    "duration": 38,
    "start_time": "2023-03-26T13:50:43.246Z"
   },
   {
    "duration": 5,
    "start_time": "2023-03-26T13:50:43.292Z"
   },
   {
    "duration": 8,
    "start_time": "2023-03-26T13:50:43.299Z"
   },
   {
    "duration": 5,
    "start_time": "2023-03-26T13:50:43.309Z"
   },
   {
    "duration": 49,
    "start_time": "2023-03-26T13:50:43.316Z"
   },
   {
    "duration": 42,
    "start_time": "2023-03-26T13:50:43.367Z"
   },
   {
    "duration": 7,
    "start_time": "2023-03-26T13:50:43.412Z"
   },
   {
    "duration": 15,
    "start_time": "2023-03-26T13:50:43.421Z"
   },
   {
    "duration": 19,
    "start_time": "2023-03-26T13:50:43.438Z"
   },
   {
    "duration": 12,
    "start_time": "2023-03-26T13:50:43.461Z"
   },
   {
    "duration": 98,
    "start_time": "2023-03-26T13:50:43.479Z"
   },
   {
    "duration": 28,
    "start_time": "2023-03-26T13:50:43.583Z"
   },
   {
    "duration": 25,
    "start_time": "2023-03-26T13:50:43.613Z"
   },
   {
    "duration": 27,
    "start_time": "2023-03-26T13:50:43.654Z"
   },
   {
    "duration": 5,
    "start_time": "2023-03-26T13:50:43.693Z"
   },
   {
    "duration": 11,
    "start_time": "2023-03-26T13:50:43.701Z"
   },
   {
    "duration": 8,
    "start_time": "2023-03-26T13:50:43.714Z"
   },
   {
    "duration": 69,
    "start_time": "2023-03-26T13:50:43.724Z"
   },
   {
    "duration": 16,
    "start_time": "2023-03-26T13:50:43.794Z"
   },
   {
    "duration": 2099,
    "start_time": "2023-03-26T13:50:43.813Z"
   }
  ],
  "kernelspec": {
   "display_name": "Python 3 (ipykernel)",
   "language": "python",
   "name": "python3"
  },
  "language_info": {
   "codemirror_mode": {
    "name": "ipython",
    "version": 3
   },
   "file_extension": ".py",
   "mimetype": "text/x-python",
   "name": "python",
   "nbconvert_exporter": "python",
   "pygments_lexer": "ipython3",
   "version": "3.9.13"
  },
  "toc": {
   "base_numbering": 1,
   "nav_menu": {},
   "number_sections": true,
   "sideBar": true,
   "skip_h1_title": true,
   "title_cell": "Table of Contents",
   "title_sidebar": "Contents",
   "toc_cell": false,
   "toc_position": {
    "height": "calc(100% - 180px)",
    "left": "10px",
    "top": "150px",
    "width": "354.774px"
   },
   "toc_section_display": true,
   "toc_window_display": true
  },
  "varInspector": {
   "cols": {
    "lenName": 16,
    "lenType": 16,
    "lenVar": 40
   },
   "kernels_config": {
    "python": {
     "delete_cmd_postfix": "",
     "delete_cmd_prefix": "del ",
     "library": "var_list.py",
     "varRefreshCmd": "print(var_dic_list())"
    },
    "r": {
     "delete_cmd_postfix": ") ",
     "delete_cmd_prefix": "rm(",
     "library": "var_list.r",
     "varRefreshCmd": "cat(var_dic_list()) "
    }
   },
   "types_to_exclude": [
    "module",
    "function",
    "builtin_function_or_method",
    "instance",
    "_Feature"
   ],
   "window_display": false
  }
 },
 "nbformat": 4,
 "nbformat_minor": 2
}
